{
 "cells": [
  {
   "cell_type": "code",
   "execution_count": 1,
   "id": "451ea387-88ff-47b0-9bc7-85dbeca68b05",
   "metadata": {},
   "outputs": [],
   "source": [
    "# Predicting Batsman Runs in ODI Cricket Matches Using Machine Learning\n",
    "\n",
    "import pandas as pd\n",
    "import numpy as np\n",
    "from sklearn.model_selection import train_test_split\n",
    "from sklearn.metrics import mean_absolute_error, mean_squared_error, r2_score\n",
    "from lightgbm import LGBMRegressor\n",
    "import time"
   ]
  },
  {
   "cell_type": "code",
   "execution_count": 2,
   "id": "cb5333fe-2344-4adf-9c0a-83c5f064bec7",
   "metadata": {},
   "outputs": [],
   "source": [
    "# 1. Load Data\n",
    "match_data_path = r\"C:\\\\Users\\\\revan\\\\Desktop\\\\Assignments\\\\Trimester 6\\\\Sports Analytics\\\\ODI Men's Cricket Match Data (2002–2023) data\\\\ODI_Match_Data.csv\"\n",
    "match_info_path = r\"C:\\\\Users\\\\revan\\\\Desktop\\\\Assignments\\\\Trimester 6\\\\Sports Analytics\\\\ODI Men's Cricket Match Data (2002–2023) data\\\\ODI_Match_info.csv\"\n",
    "\n",
    "match_data = pd.read_csv(match_data_path, low_memory=False)\n",
    "match_info = pd.read_csv(match_info_path, low_memory=False)"
   ]
  },
  {
   "cell_type": "code",
   "execution_count": 3,
   "id": "ef4f1d30-53fd-4c0b-9ffe-0f677bc1430b",
   "metadata": {},
   "outputs": [],
   "source": [
    "# 2. Merge Data\n",
    "merged_df = pd.merge(match_data, match_info, left_on='match_id', right_on='id', how='left')\n",
    "merged_df.drop(columns=['season_y', 'venue_y', 'id'], inplace=True)\n",
    "merged_df.rename(columns={'season_x': 'season', 'venue_x': 'venue'}, inplace=True)"
   ]
  },
  {
   "cell_type": "code",
   "execution_count": 4,
   "id": "e479c266-7b97-4512-b690-93d5e606ccd6",
   "metadata": {},
   "outputs": [],
   "source": [
    "# 3. Total Runs per Batsman per Match\n",
    "batsman_match_df = (\n",
    "    merged_df.groupby(['match_id', 'striker'])['runs_off_bat']\n",
    "    .sum()\n",
    "    .reset_index()\n",
    "    .rename(columns={'striker': 'batsman', 'runs_off_bat': 'total_runs'})\n",
    ")"
   ]
  },
  {
   "cell_type": "code",
   "execution_count": 5,
   "id": "1f57a3f1-90bf-4fe7-9d3f-1550fb4bebf4",
   "metadata": {},
   "outputs": [],
   "source": [
    "# 4. Match Context Merge\n",
    "match_context = merged_df.drop_duplicates(subset='match_id')[\n",
    "    ['match_id', 'season', 'city', 'venue', 'date', 'batting_team', 'bowling_team',\n",
    "     'team1', 'team2', 'toss_winner', 'toss_decision', 'result', 'dl_applied']\n",
    "]\n",
    "\n",
    "batsman_full_df = pd.merge(batsman_match_df, match_context, on='match_id', how='left')"
   ]
  },
  {
   "cell_type": "code",
   "execution_count": 6,
   "id": "b8be3a70-00c4-4d64-b350-66e4ab0891c3",
   "metadata": {},
   "outputs": [],
   "source": [
    "# 5. Add Form Features\n",
    "match_dates = merged_df[['match_id', 'date']].drop_duplicates()\n",
    "batsman_match_df = pd.merge(batsman_match_df, match_dates, on='match_id', how='left')\n",
    "batsman_match_df['date'] = pd.to_datetime(batsman_match_df['date'])\n",
    "batsman_match_df = batsman_match_df.sort_values(by=['batsman', 'date'])\n",
    "\n",
    "batsman_match_df['form_avg_3'] = batsman_match_df.groupby('batsman')['total_runs'].shift(1).rolling(window=3).mean()\n",
    "batsman_match_df['form_avg_5'] = batsman_match_df.groupby('batsman')['total_runs'].shift(1).rolling(window=5).mean()\n",
    "\n",
    "batsman_full_df = pd.merge(\n",
    "    batsman_full_df,\n",
    "    batsman_match_df[['match_id', 'batsman', 'form_avg_3', 'form_avg_5']],\n",
    "    on=['match_id', 'batsman'],\n",
    "    how='left'\n",
    ")"
   ]
  },
  {
   "cell_type": "code",
   "execution_count": 7,
   "id": "7dd68a03-b5d6-4f44-ae84-fdbbb4105c7c",
   "metadata": {},
   "outputs": [],
   "source": [
    "# 6. Add Batting Position\n",
    "batting_orders = merged_df.groupby(['match_id', 'batting_team', 'striker']).first().reset_index()\n",
    "batting_orders['batting_position'] = batting_orders.groupby(['match_id', 'batting_team']).cumcount() + 1\n",
    "\n",
    "batsman_full_df = pd.merge(\n",
    "    batsman_full_df,\n",
    "    batting_orders[['match_id', 'striker', 'batting_position']],\n",
    "    left_on=['match_id', 'batsman'],\n",
    "    right_on=['match_id', 'striker'],\n",
    "    how='left'\n",
    ")\n",
    "batsman_full_df.drop(columns='striker', inplace=True)"
   ]
  },
  {
   "cell_type": "code",
   "execution_count": 8,
   "id": "04d6108a-b866-479e-a788-1390215ee46d",
   "metadata": {},
   "outputs": [],
   "source": [
    "# 7. Add Innings Number\n",
    "innings_df = merged_df[['match_id', 'striker', 'innings']].drop_duplicates()\n",
    "batsman_full_df = pd.merge(\n",
    "    batsman_full_df,\n",
    "    innings_df,\n",
    "    left_on=['match_id', 'batsman'],\n",
    "    right_on=['match_id', 'striker'],\n",
    "    how='left'\n",
    ")\n",
    "batsman_full_df.drop(columns='striker', inplace=True)"
   ]
  },
  {
   "cell_type": "code",
   "execution_count": 9,
   "id": "56b367ab-9795-4507-9342-b1c4191821cf",
   "metadata": {},
   "outputs": [],
   "source": [
    "# 8. Add Match Pressure\n",
    "match_targets = merged_df[merged_df['innings'] == 1].groupby('match_id')['runs_off_bat'].sum().reset_index()\n",
    "match_targets.rename(columns={'runs_off_bat': '1st_innings_total'}, inplace=True)\n",
    "batsman_full_df = pd.merge(batsman_full_df, match_targets, on='match_id', how='left')\n",
    "batsman_full_df['chasing'] = (batsman_full_df['innings'] == 2).astype(int)\n",
    "batsman_full_df['pressure_score'] = batsman_full_df['chasing'] * batsman_full_df['1st_innings_total']"
   ]
  },
  {
   "cell_type": "code",
   "execution_count": 10,
   "id": "0a8227d1-0666-4a91-bf3b-4d45443f1199",
   "metadata": {},
   "outputs": [],
   "source": [
    "# 9. Encode + Prepare Features\n",
    "categorical_cols = [\n",
    "    'batsman', 'batting_team', 'bowling_team', 'venue', 'city', 'toss_winner', 'toss_decision'\n",
    "]\n",
    "\n",
    "encoded_df = pd.get_dummies(batsman_full_df, columns=categorical_cols, drop_first=True)\n",
    "\n",
    "encoded_df['season'] = batsman_full_df['season']\n",
    "encoded_df['form_avg_3'] = batsman_full_df['form_avg_3']\n",
    "encoded_df['form_avg_5'] = batsman_full_df['form_avg_5']\n",
    "encoded_df['batting_position'] = batsman_full_df['batting_position']\n",
    "encoded_df['innings'] = batsman_full_df['innings']\n",
    "encoded_df['pressure_score'] = batsman_full_df['pressure_score']"
   ]
  },
  {
   "cell_type": "code",
   "execution_count": 11,
   "id": "f32f278c-24df-468f-8c1d-c51366ede1d6",
   "metadata": {},
   "outputs": [],
   "source": [
    "# 10. Train-Test Split\n",
    "X = encoded_df.drop(columns=['total_runs', 'match_id', 'date', 'team1', 'team2', 'result'])\n",
    "y = encoded_df['total_runs']\n",
    "\n",
    "X = X.dropna()\n",
    "y = y.loc[X.index]\n",
    "\n",
    "X_train, X_test, y_train, y_test = train_test_split(X, y, test_size=0.2, random_state=42)\n",
    "\n",
    "# Sanitize + Deduplicate Columns\n",
    "X_train.columns = X_train.columns.str.replace('[^A-Za-z0-9_]+', '_', regex=True)\n",
    "X_test.columns = X_test.columns.str.replace('[^A-Za-z0-9_]+', '_', regex=True)\n",
    "X_train = X_train.loc[:, ~X_train.columns.duplicated()]\n",
    "X_test = X_test.loc[:, ~X_test.columns.duplicated()]"
   ]
  },
  {
   "cell_type": "code",
   "execution_count": 12,
   "id": "4eaa2773-103a-48a8-bf7e-2772f05125b9",
   "metadata": {},
   "outputs": [
    {
     "name": "stdout",
     "output_type": "stream",
     "text": [
      "[LightGBM] [Info] Auto-choosing row-wise multi-threading, the overhead of testing was 0.011515 seconds.\n",
      "You can set `force_row_wise=true` to remove the overhead.\n",
      "And if memory is not enough, you can set `force_col_wise=true`.\n",
      "[LightGBM] [Info] Total Bins 2680\n",
      "[LightGBM] [Info] Number of data points in the train set: 27520, number of used features: 823\n",
      "[LightGBM] [Info] Start training from score 25.642260\n"
     ]
    }
   ],
   "source": [
    "# 11. Train LightGBM Model\n",
    "# Ensure all columns are float, int, or bool — fix 'season' in-place\n",
    "X_train['season'] = X_train['season'].astype(str).str.extract(r'(\\d{4})').astype(float)\n",
    "X_test['season'] = X_test['season'].astype(str).str.extract(r'(\\d{4})').astype(float)\n",
    "\n",
    "start = time.time()\n",
    "model = LGBMRegressor(n_estimators=100, random_state=42)\n",
    "model.fit(X_train, y_train)\n",
    "end = time.time()"
   ]
  },
  {
   "cell_type": "code",
   "execution_count": 13,
   "id": "67b4c597-4a1f-41c1-bb5b-e67b6430030a",
   "metadata": {},
   "outputs": [
    {
     "name": "stdout",
     "output_type": "stream",
     "text": [
      "\n",
      "📊 MAE: 19.45\n",
      "📉 RMSE: 26.41\n",
      "📈 R² Score: 0.16\n",
      "⏱️ Training time: 1.11 seconds\n"
     ]
    },
    {
     "name": "stderr",
     "output_type": "stream",
     "text": [
      "C:\\Users\\revan\\anaconda3\\Lib\\site-packages\\sklearn\\metrics\\_regression.py:483: FutureWarning: 'squared' is deprecated in version 1.4 and will be removed in 1.6. To calculate the root mean squared error, use the function'root_mean_squared_error'.\n",
      "  warnings.warn(\n"
     ]
    }
   ],
   "source": [
    "# 12. Evaluate Model\n",
    "y_pred = model.predict(X_test)\n",
    "mae = mean_absolute_error(y_test, y_pred)\n",
    "rmse = mean_squared_error(y_test, y_pred, squared=False)\n",
    "r2 = r2_score(y_test, y_pred)\n",
    "\n",
    "print(f\"\\n📊 MAE: {mae:.2f}\")\n",
    "print(f\"📉 RMSE: {rmse:.2f}\")\n",
    "print(f\"📈 R² Score: {r2:.2f}\")\n",
    "print(f\"⏱️ Training time: {end - start:.2f} seconds\")"
   ]
  },
  {
   "cell_type": "code",
   "execution_count": 14,
   "id": "06240ed1-ec79-4416-805f-679c5f548eb8",
   "metadata": {},
   "outputs": [
    {
     "data": {
      "text/plain": [
       "['model_metadata.pkl']"
      ]
     },
     "execution_count": 14,
     "metadata": {},
     "output_type": "execute_result"
    }
   ],
   "source": [
    "import joblib\n",
    "\n",
    "# Save trained model\n",
    "joblib.dump(model, \"batsman_run_predictor.pkl\")\n",
    "\n",
    "# Pull metadata from the original dataframe BEFORE encoding\n",
    "model_metadata = {\n",
    "    \"batsman_list\": sorted(batsman_full_df['batsman'].unique().tolist()),\n",
    "    \"team_list\": sorted(set(batsman_full_df['batting_team'].unique()).union(set(batsman_full_df['bowling_team'].unique()))),\n",
    "    \"venue_list\": sorted(batsman_full_df['venue'].dropna().unique().tolist()),\n",
    "    \"city_list\": sorted(batsman_full_df['city'].dropna().unique().tolist()),\n",
    "    \"categorical_features\": ['batsman', 'batting_team', 'bowling_team', 'venue', 'city', 'toss_winner', 'toss_decision'],\n",
    "    \"feature_columns\": X_train.columns.tolist()\n",
    "}\n",
    "\n",
    "joblib.dump(model_metadata, \"model_metadata.pkl\")\n"
   ]
  },
  {
   "cell_type": "code",
   "execution_count": null,
   "id": "cb6e806b-0c72-4efd-8f08-b7189bafd580",
   "metadata": {},
   "outputs": [],
   "source": []
  },
  {
   "cell_type": "code",
   "execution_count": null,
   "id": "83ad5b9b-3675-4f91-9c41-7d47ea04827e",
   "metadata": {},
   "outputs": [],
   "source": []
  },
  {
   "cell_type": "code",
   "execution_count": null,
   "id": "a631dd0f-1c41-4389-9c32-088f49835ca1",
   "metadata": {},
   "outputs": [],
   "source": []
  }
 ],
 "metadata": {
  "kernelspec": {
   "display_name": "Python 3 (ipykernel)",
   "language": "python",
   "name": "python3"
  },
  "language_info": {
   "codemirror_mode": {
    "name": "ipython",
    "version": 3
   },
   "file_extension": ".py",
   "mimetype": "text/x-python",
   "name": "python",
   "nbconvert_exporter": "python",
   "pygments_lexer": "ipython3",
   "version": "3.12.4"
  }
 },
 "nbformat": 4,
 "nbformat_minor": 5
}
