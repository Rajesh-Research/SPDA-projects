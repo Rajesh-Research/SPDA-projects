{
 "cells": [
  {
   "cell_type": "code",
   "execution_count": 1,
   "id": "f278106c-c569-4dfd-98fe-fe78efb214ed",
   "metadata": {},
   "outputs": [],
   "source": [
    "import pandas as pd\n",
    "import numpy as np\n",
    "\n",
    "from sklearn.model_selection import train_test_split\n",
    "from sklearn.ensemble import RandomForestRegressor\n",
    "from sklearn.metrics import mean_absolute_error, mean_squared_error, r2_score\n"
   ]
  },
  {
   "cell_type": "code",
   "execution_count": 2,
   "id": "1e50b509-16f8-463f-8ba0-d41ed8e44954",
   "metadata": {},
   "outputs": [
    {
     "name": "stdout",
     "output_type": "stream",
     "text": [
      "Match Data: (1265103, 23)\n",
      "Match Info: (2379, 18)\n"
     ]
    }
   ],
   "source": [
    "# Use raw string (r\"\") to avoid issues with backslashes\n",
    "match_data_path = r\"C:\\Users\\revan\\Desktop\\Assignments\\Trimester 6\\Sports Analytics\\ODI Men's Cricket Match Data (2002–2023) data\\ODI_Match_Data.csv\"\n",
    "match_info_path = r\"C:\\Users\\revan\\Desktop\\Assignments\\Trimester 6\\Sports Analytics\\ODI Men's Cricket Match Data (2002–2023) data\\ODI_Match_info.csv\"\n",
    "\n",
    "# Load the CSV files\n",
    "match_data = pd.read_csv(match_data_path, low_memory=False)\n",
    "match_info = pd.read_csv(match_info_path, low_memory=False)\n",
    "\n",
    "# Preview the data\n",
    "print(\"Match Data:\", match_data.shape)\n",
    "print(\"Match Info:\", match_info.shape)\n"
   ]
  },
  {
   "cell_type": "code",
   "execution_count": 3,
   "id": "df2d5f45-45c8-4576-9c55-49536ac75a8d",
   "metadata": {},
   "outputs": [
    {
     "name": "stdout",
     "output_type": "stream",
     "text": [
      "Match Data Columns:\n",
      "['match_id', 'season', 'start_date', 'venue', 'innings', 'ball', 'batting_team', 'bowling_team', 'striker', 'non_striker', 'bowler', 'runs_off_bat', 'extras', 'wides', 'noballs', 'byes', 'legbyes', 'penalty', 'wicket_type', 'player_dismissed', 'other_wicket_type', 'other_player_dismissed', 'cricsheet_id']\n"
     ]
    }
   ],
   "source": [
    "print(\"Match Data Columns:\")\n",
    "print(match_data.columns.tolist())"
   ]
  },
  {
   "cell_type": "code",
   "execution_count": 4,
   "id": "a9544e41-63e4-44c9-b43a-0b67def0007e",
   "metadata": {},
   "outputs": [
    {
     "name": "stdout",
     "output_type": "stream",
     "text": [
      "\n",
      "Match Info Columns:\n",
      "['id', 'season', 'city', 'date', 'team1', 'team2', 'toss_winner', 'toss_decision', 'result', 'dl_applied', 'winner', 'win_by_runs', 'win_by_wickets', 'player_of_match', 'venue', 'umpire1', 'umpire2', 'umpire3']\n"
     ]
    }
   ],
   "source": [
    "print(\"\\nMatch Info Columns:\")\n",
    "print(match_info.columns.tolist())"
   ]
  },
  {
   "cell_type": "code",
   "execution_count": 5,
   "id": "6c25bb8a-65e1-4bb3-a6e2-e6636618f487",
   "metadata": {},
   "outputs": [
    {
     "name": "stdout",
     "output_type": "stream",
     "text": [
      "(1265103, 38)\n"
     ]
    },
    {
     "data": {
      "text/html": [
       "<div>\n",
       "<style scoped>\n",
       "    .dataframe tbody tr th:only-of-type {\n",
       "        vertical-align: middle;\n",
       "    }\n",
       "\n",
       "    .dataframe tbody tr th {\n",
       "        vertical-align: top;\n",
       "    }\n",
       "\n",
       "    .dataframe thead th {\n",
       "        text-align: right;\n",
       "    }\n",
       "</style>\n",
       "<table border=\"1\" class=\"dataframe\">\n",
       "  <thead>\n",
       "    <tr style=\"text-align: right;\">\n",
       "      <th></th>\n",
       "      <th>match_id</th>\n",
       "      <th>season</th>\n",
       "      <th>start_date</th>\n",
       "      <th>venue</th>\n",
       "      <th>innings</th>\n",
       "      <th>ball</th>\n",
       "      <th>batting_team</th>\n",
       "      <th>bowling_team</th>\n",
       "      <th>striker</th>\n",
       "      <th>non_striker</th>\n",
       "      <th>...</th>\n",
       "      <th>toss_decision</th>\n",
       "      <th>result</th>\n",
       "      <th>dl_applied</th>\n",
       "      <th>winner</th>\n",
       "      <th>win_by_runs</th>\n",
       "      <th>win_by_wickets</th>\n",
       "      <th>player_of_match</th>\n",
       "      <th>umpire1</th>\n",
       "      <th>umpire2</th>\n",
       "      <th>umpire3</th>\n",
       "    </tr>\n",
       "  </thead>\n",
       "  <tbody>\n",
       "    <tr>\n",
       "      <th>0</th>\n",
       "      <td>1389389</td>\n",
       "      <td>2023/24</td>\n",
       "      <td>2023-09-24</td>\n",
       "      <td>Holkar Cricket Stadium, Indore</td>\n",
       "      <td>1</td>\n",
       "      <td>0.1</td>\n",
       "      <td>India</td>\n",
       "      <td>Australia</td>\n",
       "      <td>RD Gaikwad</td>\n",
       "      <td>Shubman Gill</td>\n",
       "      <td>...</td>\n",
       "      <td>field</td>\n",
       "      <td>D/L</td>\n",
       "      <td>1</td>\n",
       "      <td>India</td>\n",
       "      <td>99</td>\n",
       "      <td>0</td>\n",
       "      <td>SS Iyer</td>\n",
       "      <td>J Madanagopal</td>\n",
       "      <td>HDPK Dharmasena</td>\n",
       "      <td>KN Ananthapadmanabhan</td>\n",
       "    </tr>\n",
       "    <tr>\n",
       "      <th>1</th>\n",
       "      <td>1389389</td>\n",
       "      <td>2023/24</td>\n",
       "      <td>2023-09-24</td>\n",
       "      <td>Holkar Cricket Stadium, Indore</td>\n",
       "      <td>1</td>\n",
       "      <td>0.2</td>\n",
       "      <td>India</td>\n",
       "      <td>Australia</td>\n",
       "      <td>RD Gaikwad</td>\n",
       "      <td>Shubman Gill</td>\n",
       "      <td>...</td>\n",
       "      <td>field</td>\n",
       "      <td>D/L</td>\n",
       "      <td>1</td>\n",
       "      <td>India</td>\n",
       "      <td>99</td>\n",
       "      <td>0</td>\n",
       "      <td>SS Iyer</td>\n",
       "      <td>J Madanagopal</td>\n",
       "      <td>HDPK Dharmasena</td>\n",
       "      <td>KN Ananthapadmanabhan</td>\n",
       "    </tr>\n",
       "    <tr>\n",
       "      <th>2</th>\n",
       "      <td>1389389</td>\n",
       "      <td>2023/24</td>\n",
       "      <td>2023-09-24</td>\n",
       "      <td>Holkar Cricket Stadium, Indore</td>\n",
       "      <td>1</td>\n",
       "      <td>0.3</td>\n",
       "      <td>India</td>\n",
       "      <td>Australia</td>\n",
       "      <td>RD Gaikwad</td>\n",
       "      <td>Shubman Gill</td>\n",
       "      <td>...</td>\n",
       "      <td>field</td>\n",
       "      <td>D/L</td>\n",
       "      <td>1</td>\n",
       "      <td>India</td>\n",
       "      <td>99</td>\n",
       "      <td>0</td>\n",
       "      <td>SS Iyer</td>\n",
       "      <td>J Madanagopal</td>\n",
       "      <td>HDPK Dharmasena</td>\n",
       "      <td>KN Ananthapadmanabhan</td>\n",
       "    </tr>\n",
       "    <tr>\n",
       "      <th>3</th>\n",
       "      <td>1389389</td>\n",
       "      <td>2023/24</td>\n",
       "      <td>2023-09-24</td>\n",
       "      <td>Holkar Cricket Stadium, Indore</td>\n",
       "      <td>1</td>\n",
       "      <td>0.4</td>\n",
       "      <td>India</td>\n",
       "      <td>Australia</td>\n",
       "      <td>RD Gaikwad</td>\n",
       "      <td>Shubman Gill</td>\n",
       "      <td>...</td>\n",
       "      <td>field</td>\n",
       "      <td>D/L</td>\n",
       "      <td>1</td>\n",
       "      <td>India</td>\n",
       "      <td>99</td>\n",
       "      <td>0</td>\n",
       "      <td>SS Iyer</td>\n",
       "      <td>J Madanagopal</td>\n",
       "      <td>HDPK Dharmasena</td>\n",
       "      <td>KN Ananthapadmanabhan</td>\n",
       "    </tr>\n",
       "    <tr>\n",
       "      <th>4</th>\n",
       "      <td>1389389</td>\n",
       "      <td>2023/24</td>\n",
       "      <td>2023-09-24</td>\n",
       "      <td>Holkar Cricket Stadium, Indore</td>\n",
       "      <td>1</td>\n",
       "      <td>0.5</td>\n",
       "      <td>India</td>\n",
       "      <td>Australia</td>\n",
       "      <td>RD Gaikwad</td>\n",
       "      <td>Shubman Gill</td>\n",
       "      <td>...</td>\n",
       "      <td>field</td>\n",
       "      <td>D/L</td>\n",
       "      <td>1</td>\n",
       "      <td>India</td>\n",
       "      <td>99</td>\n",
       "      <td>0</td>\n",
       "      <td>SS Iyer</td>\n",
       "      <td>J Madanagopal</td>\n",
       "      <td>HDPK Dharmasena</td>\n",
       "      <td>KN Ananthapadmanabhan</td>\n",
       "    </tr>\n",
       "  </tbody>\n",
       "</table>\n",
       "<p>5 rows × 38 columns</p>\n",
       "</div>"
      ],
      "text/plain": [
       "   match_id   season  start_date                           venue  innings  \\\n",
       "0   1389389  2023/24  2023-09-24  Holkar Cricket Stadium, Indore        1   \n",
       "1   1389389  2023/24  2023-09-24  Holkar Cricket Stadium, Indore        1   \n",
       "2   1389389  2023/24  2023-09-24  Holkar Cricket Stadium, Indore        1   \n",
       "3   1389389  2023/24  2023-09-24  Holkar Cricket Stadium, Indore        1   \n",
       "4   1389389  2023/24  2023-09-24  Holkar Cricket Stadium, Indore        1   \n",
       "\n",
       "   ball batting_team bowling_team     striker   non_striker  ...  \\\n",
       "0   0.1        India    Australia  RD Gaikwad  Shubman Gill  ...   \n",
       "1   0.2        India    Australia  RD Gaikwad  Shubman Gill  ...   \n",
       "2   0.3        India    Australia  RD Gaikwad  Shubman Gill  ...   \n",
       "3   0.4        India    Australia  RD Gaikwad  Shubman Gill  ...   \n",
       "4   0.5        India    Australia  RD Gaikwad  Shubman Gill  ...   \n",
       "\n",
       "  toss_decision  result  dl_applied  winner  win_by_runs  win_by_wickets  \\\n",
       "0         field     D/L           1   India           99               0   \n",
       "1         field     D/L           1   India           99               0   \n",
       "2         field     D/L           1   India           99               0   \n",
       "3         field     D/L           1   India           99               0   \n",
       "4         field     D/L           1   India           99               0   \n",
       "\n",
       "   player_of_match        umpire1          umpire2                umpire3  \n",
       "0          SS Iyer  J Madanagopal  HDPK Dharmasena  KN Ananthapadmanabhan  \n",
       "1          SS Iyer  J Madanagopal  HDPK Dharmasena  KN Ananthapadmanabhan  \n",
       "2          SS Iyer  J Madanagopal  HDPK Dharmasena  KN Ananthapadmanabhan  \n",
       "3          SS Iyer  J Madanagopal  HDPK Dharmasena  KN Ananthapadmanabhan  \n",
       "4          SS Iyer  J Madanagopal  HDPK Dharmasena  KN Ananthapadmanabhan  \n",
       "\n",
       "[5 rows x 38 columns]"
      ]
     },
     "execution_count": 5,
     "metadata": {},
     "output_type": "execute_result"
    }
   ],
   "source": [
    "# Merge datasets\n",
    "merged_df = pd.merge(match_data, match_info, left_on='match_id', right_on='id', how='left')\n",
    "\n",
    "# Drop duplicate/conflicting columns\n",
    "merged_df.drop(columns=['season_y', 'venue_y', 'id'], inplace=True)\n",
    "\n",
    "# Optional: Rename for clarity\n",
    "merged_df.rename(columns={'season_x': 'season', 'venue_x': 'venue'}, inplace=True)\n",
    "\n",
    "# Sanity check\n",
    "print(merged_df.shape)\n",
    "merged_df.head()\n"
   ]
  },
  {
   "cell_type": "code",
   "execution_count": 6,
   "id": "9894447f-b8b5-4b7b-a626-2c184d6c93ca",
   "metadata": {},
   "outputs": [
    {
     "name": "stdout",
     "output_type": "stream",
     "text": [
      "['match_id', 'season', 'start_date', 'venue', 'innings', 'ball', 'batting_team', 'bowling_team', 'striker', 'non_striker', 'bowler', 'runs_off_bat', 'extras', 'wides', 'noballs', 'byes', 'legbyes', 'penalty', 'wicket_type', 'player_dismissed', 'other_wicket_type', 'other_player_dismissed', 'cricsheet_id', 'city', 'date', 'team1', 'team2', 'toss_winner', 'toss_decision', 'result', 'dl_applied', 'winner', 'win_by_runs', 'win_by_wickets', 'player_of_match', 'umpire1', 'umpire2', 'umpire3']\n"
     ]
    }
   ],
   "source": [
    "print(merged_df.columns.tolist())\n"
   ]
  },
  {
   "cell_type": "markdown",
   "id": "205a7522-aacf-44ee-80de-6f54e18312f4",
   "metadata": {},
   "source": [
    "### Batsman Form"
   ]
  },
  {
   "cell_type": "code",
   "execution_count": 7,
   "id": "40e6834b-bc1a-4431-9b27-e5f1377dec7b",
   "metadata": {},
   "outputs": [],
   "source": [
    "# Step 1: Create batsman-match dataset\n",
    "batsman_match_df = (\n",
    "    merged_df.groupby(['match_id', 'striker'])['runs_off_bat']\n",
    "    .sum()\n",
    "    .reset_index()\n",
    "    .rename(columns={'striker': 'batsman', 'runs_off_bat': 'total_runs'})\n",
    ")\n"
   ]
  },
  {
   "cell_type": "code",
   "execution_count": 8,
   "id": "eef4c7f2-7b7f-4568-a534-961271e7f42f",
   "metadata": {},
   "outputs": [],
   "source": [
    "# Step 2: Extract one row per match (match-level features)\n",
    "match_context = merged_df.drop_duplicates(subset='match_id')[\n",
    "    ['match_id', 'season', 'city', 'venue', 'date', 'batting_team', 'bowling_team', \n",
    "     'team1', 'team2', 'toss_winner', 'toss_decision', 'result', 'dl_applied']\n",
    "]\n"
   ]
  },
  {
   "cell_type": "code",
   "execution_count": 9,
   "id": "3c6ff0b7-3507-462a-9f40-121cc51c723b",
   "metadata": {},
   "outputs": [],
   "source": [
    "# Step 3: Merge aggregated batsman performance with match context\n",
    "batsman_full_df = pd.merge(batsman_match_df, match_context, on='match_id', how='left')"
   ]
  },
  {
   "cell_type": "code",
   "execution_count": 10,
   "id": "54b0b26a-1017-4345-a177-25dd92b0567f",
   "metadata": {},
   "outputs": [
    {
     "name": "stdout",
     "output_type": "stream",
     "text": [
      "['match_id', 'batsman', 'total_runs', 'season', 'city', 'venue', 'date', 'batting_team', 'bowling_team', 'team1', 'team2', 'toss_winner', 'toss_decision', 'result', 'dl_applied']\n"
     ]
    }
   ],
   "source": [
    "print(batsman_full_df.columns.tolist())"
   ]
  },
  {
   "cell_type": "code",
   "execution_count": 34,
   "id": "0d6e7f44-6cd9-4b6b-b94e-c4d44d2bdd8e",
   "metadata": {},
   "outputs": [],
   "source": [
    "# Attach match date\n",
    "match_dates = merged_df[['match_id', 'date']].drop_duplicates()\n",
    "batsman_match_df = pd.merge(batsman_match_df, match_dates, on='match_id', how='left')\n",
    "\n",
    "# Ensure date is datetime\n",
    "batsman_match_df['date'] = pd.to_datetime(batsman_match_df['date'])\n"
   ]
  },
  {
   "cell_type": "code",
   "execution_count": 36,
   "id": "0d56ed20-421c-4c5f-984c-ee310c2cbbd8",
   "metadata": {},
   "outputs": [],
   "source": [
    "# Sort by batsman and date\n",
    "batsman_match_df = batsman_match_df.sort_values(by=['batsman', 'date'])\n",
    "\n",
    "# Rolling averages (form over last 3 and 5 matches)\n",
    "batsman_match_df['form_avg_3'] = (\n",
    "    batsman_match_df.groupby('batsman')['total_runs']\n",
    "    .shift(1)  # exclude current match\n",
    "    .rolling(window=3)\n",
    "    .mean()\n",
    ")\n",
    "\n",
    "batsman_match_df['form_avg_5'] = (\n",
    "    batsman_match_df.groupby('batsman')['total_runs']\n",
    "    .shift(1)\n",
    "    .rolling(window=5)\n",
    "    .mean()\n",
    ")\n"
   ]
  },
  {
   "cell_type": "code",
   "execution_count": 38,
   "id": "2fc7e000-e6cf-4b64-8695-69936448027f",
   "metadata": {},
   "outputs": [],
   "source": [
    "# Merge by match_id + batsman\n",
    "batsman_full_df = pd.merge(\n",
    "    batsman_full_df,\n",
    "    batsman_match_df[['match_id', 'batsman', 'form_avg_3', 'form_avg_5']],\n",
    "    on=['match_id', 'batsman'],\n",
    "    how='left'\n",
    ")\n"
   ]
  },
  {
   "cell_type": "code",
   "execution_count": 40,
   "id": "3f965d55-fa61-4d21-8ff7-a26cfd214025",
   "metadata": {},
   "outputs": [
    {
     "name": "stdout",
     "output_type": "stream",
     "text": [
      "['match_id', 'batsman', 'total_runs', 'season', 'city', 'venue', 'date', 'batting_team', 'bowling_team', 'team1', 'team2', 'toss_winner', 'toss_decision', 'result', 'dl_applied', 'form_avg_3', 'form_avg_5']\n"
     ]
    }
   ],
   "source": [
    "print(batsman_full_df.columns.tolist())"
   ]
  },
  {
   "cell_type": "markdown",
   "id": "439a937a-599b-4c56-85fd-d60139e65384",
   "metadata": {},
   "source": [
    "### 🔧 Feature Engineering: Categorical Encoding"
   ]
  },
  {
   "cell_type": "code",
   "execution_count": 12,
   "id": "afee497d-5c81-476e-b091-58dd788d50ee",
   "metadata": {},
   "outputs": [],
   "source": [
    "# Convert season like '2018/19' → 2018 (numeric)\n",
    "batsman_full_df['season'] = batsman_full_df['season'].apply(lambda x: str(x).split('/')[0]).astype(int)\n"
   ]
  },
  {
   "cell_type": "code",
   "execution_count": 42,
   "id": "c3f2c25f-bfd9-4dd1-8dca-26f8730fe010",
   "metadata": {},
   "outputs": [],
   "source": [
    "categorical_cols = [\n",
    "    'batsman',\n",
    "    'batting_team',\n",
    "    'bowling_team',\n",
    "    'venue',\n",
    "    'city',\n",
    "    'toss_winner',\n",
    "    'toss_decision'\n",
    "]"
   ]
  },
  {
   "cell_type": "code",
   "execution_count": 44,
   "id": "fdc587cc-9a63-4060-8b93-e37707b081c2",
   "metadata": {},
   "outputs": [],
   "source": [
    "# Encode\n",
    "encoded_df = pd.get_dummies(batsman_full_df, columns=categorical_cols, drop_first=True)\n",
    "\n",
    "# Add back numerical columns\n",
    "encoded_df['season'] = batsman_full_df['season']\n",
    "encoded_df['form_avg_3'] = batsman_full_df['form_avg_3']\n",
    "encoded_df['form_avg_5'] = batsman_full_df['form_avg_5']"
   ]
  },
  {
   "cell_type": "markdown",
   "id": "902c7b9e-28ca-4689-b33b-a654dc12a6cb",
   "metadata": {},
   "source": [
    "### 📊 Model Training: Predicting Batsman Runs (Random Forest Regressor)"
   ]
  },
  {
   "cell_type": "code",
   "execution_count": 54,
   "id": "07f9c2ef-7b0e-4a6c-8743-434aa4eb0a6e",
   "metadata": {},
   "outputs": [
    {
     "name": "stdout",
     "output_type": "stream",
     "text": [
      "Collecting lightgbm\n",
      "  Downloading lightgbm-4.6.0-py3-none-win_amd64.whl.metadata (17 kB)\n",
      "Requirement already satisfied: numpy>=1.17.0 in c:\\users\\revan\\anaconda3\\lib\\site-packages (from lightgbm) (1.26.4)\n",
      "Requirement already satisfied: scipy in c:\\users\\revan\\anaconda3\\lib\\site-packages (from lightgbm) (1.13.1)\n",
      "Downloading lightgbm-4.6.0-py3-none-win_amd64.whl (1.5 MB)\n",
      "   ---------------------------------------- 0.0/1.5 MB ? eta -:--:--\n",
      "    --------------------------------------- 0.0/1.5 MB ? eta -:--:--\n",
      "   -- ------------------------------------- 0.1/1.5 MB 1.5 MB/s eta 0:00:01\n",
      "   ----- ---------------------------------- 0.2/1.5 MB 1.9 MB/s eta 0:00:01\n",
      "   -------- ------------------------------- 0.3/1.5 MB 2.5 MB/s eta 0:00:01\n",
      "   --------------- ------------------------ 0.6/1.5 MB 3.2 MB/s eta 0:00:01\n",
      "   ----------------------- ---------------- 0.9/1.5 MB 3.9 MB/s eta 0:00:01\n",
      "   -------------------------------- ------- 1.2/1.5 MB 4.4 MB/s eta 0:00:01\n",
      "   ---------------------------------------- 1.5/1.5 MB 4.6 MB/s eta 0:00:00\n",
      "Installing collected packages: lightgbm\n",
      "Successfully installed lightgbm-4.6.0\n"
     ]
    }
   ],
   "source": [
    "!pip install lightgbm\n"
   ]
  },
  {
   "cell_type": "code",
   "execution_count": 46,
   "id": "fb44021d-44c1-4c43-8238-86233607259a",
   "metadata": {},
   "outputs": [],
   "source": [
    "# Drop irrelevant or ID-based columns\n",
    "X = encoded_df.drop(columns=['total_runs', 'match_id', 'date', 'team1', 'team2', 'result'])\n",
    "y = encoded_df['total_runs']\n",
    "\n",
    "# Drop rows with missing form data (only first few matches per batsman will have NaNs)\n",
    "X = X.dropna()\n",
    "y = y.loc[X.index]\n",
    "\n"
   ]
  },
  {
   "cell_type": "code",
   "execution_count": 48,
   "id": "d8720c02-6ffd-473e-aa82-0af9bcf548e0",
   "metadata": {},
   "outputs": [],
   "source": [
    "from sklearn.model_selection import train_test_split\n",
    "from sklearn.ensemble import RandomForestRegressor\n",
    "from sklearn.metrics import mean_absolute_error, mean_squared_error, r2_score\n",
    "\n",
    "# Train-test split\n",
    "X_train, X_test, y_train, y_test = train_test_split(X, y, test_size=0.2, random_state=42)\n",
    "\n",
    "# Train the model\n",
    "model = RandomForestRegressor(n_estimators=100, random_state=42, n_jobs=-1)\n",
    "model.fit(X_train, y_train)\n",
    "\n",
    "# Predict\n",
    "y_pred = model.predict(X_test)\n"
   ]
  },
  {
   "cell_type": "code",
   "execution_count": 49,
   "id": "c73b853b-c37d-4769-839a-cd1949098eca",
   "metadata": {
    "scrolled": true
   },
   "outputs": [
    {
     "name": "stdout",
     "output_type": "stream",
     "text": [
      "📊 MAE: 19.77\n",
      "📉 RMSE: 27.98\n",
      "📈 R² Score: 0.04\n"
     ]
    },
    {
     "name": "stderr",
     "output_type": "stream",
     "text": [
      "C:\\Users\\revan\\anaconda3\\Lib\\site-packages\\sklearn\\metrics\\_regression.py:483: FutureWarning: 'squared' is deprecated in version 1.4 and will be removed in 1.6. To calculate the root mean squared error, use the function'root_mean_squared_error'.\n",
      "  warnings.warn(\n"
     ]
    }
   ],
   "source": [
    "# Evaluate\n",
    "mae = mean_absolute_error(y_test, y_pred)\n",
    "rmse = mean_squared_error(y_test, y_pred, squared=False)\n",
    "r2 = r2_score(y_test, y_pred)\n",
    "\n",
    "print(f\"📊 MAE: {mae:.2f}\")\n",
    "print(f\"📉 RMSE: {rmse:.2f}\")\n",
    "print(f\"📈 R² Score: {r2:.2f}\")"
   ]
  },
  {
   "cell_type": "code",
   "execution_count": 60,
   "id": "3aa467e8-07d5-4c60-b57a-54e1598880a0",
   "metadata": {},
   "outputs": [
    {
     "name": "stdout",
     "output_type": "stream",
     "text": [
      "[LightGBM] [Info] Auto-choosing row-wise multi-threading, the overhead of testing was 0.010367 seconds.\n",
      "You can set `force_row_wise=true` to remove the overhead.\n",
      "And if memory is not enough, you can set `force_col_wise=true`.\n",
      "[LightGBM] [Info] Total Bins 2163\n",
      "[LightGBM] [Info] Number of data points in the train set: 27511, number of used features: 818\n",
      "[LightGBM] [Info] Start training from score 25.707753\n",
      "📊 MAE: 20.07\n",
      "📉 RMSE: 27.22\n",
      "📈 R² Score: 0.09\n",
      "⏱️ Training time: 0.88 seconds\n"
     ]
    },
    {
     "name": "stderr",
     "output_type": "stream",
     "text": [
      "C:\\Users\\revan\\anaconda3\\Lib\\site-packages\\sklearn\\metrics\\_regression.py:483: FutureWarning: 'squared' is deprecated in version 1.4 and will be removed in 1.6. To calculate the root mean squared error, use the function'root_mean_squared_error'.\n",
      "  warnings.warn(\n"
     ]
    }
   ],
   "source": [
    "from lightgbm import LGBMRegressor\n",
    "from sklearn.metrics import mean_absolute_error, mean_squared_error, r2_score\n",
    "import time\n",
    "\n",
    "# ✅ Step 1: Sanitize column names\n",
    "X_train.columns = X_train.columns.str.replace('[^A-Za-z0-9_]+', '_', regex=True)\n",
    "X_test.columns = X_test.columns.str.replace('[^A-Za-z0-9_]+', '_', regex=True)\n",
    "\n",
    "# ✅ Step 2: Remove duplicated columns (core fix)\n",
    "X_train = X_train.loc[:, ~X_train.columns.duplicated()]\n",
    "X_test = X_test.loc[:, ~X_test.columns.duplicated()]\n",
    "\n",
    "# ✅ Step 3: Train the model\n",
    "start = time.time()\n",
    "\n",
    "model = LGBMRegressor(n_estimators=100, random_state=42)\n",
    "model.fit(X_train, y_train)\n",
    "\n",
    "end = time.time()\n",
    "\n",
    "# ✅ Step 4: Predict and evaluate\n",
    "y_pred = model.predict(X_test)\n",
    "\n",
    "mae = mean_absolute_error(y_test, y_pred)\n",
    "rmse = mean_squared_error(y_test, y_pred, squared=False)\n",
    "r2 = r2_score(y_test, y_pred)\n",
    "\n",
    "print(f\"📊 MAE: {mae:.2f}\")\n",
    "print(f\"📉 RMSE: {rmse:.2f}\")\n",
    "print(f\"📈 R² Score: {r2:.2f}\")\n",
    "print(f\"⏱️ Training time: {end - start:.2f} seconds\")\n"
   ]
  }
 ],
 "metadata": {
  "kernelspec": {
   "display_name": "Python 3 (ipykernel)",
   "language": "python",
   "name": "python3"
  },
  "language_info": {
   "codemirror_mode": {
    "name": "ipython",
    "version": 3
   },
   "file_extension": ".py",
   "mimetype": "text/x-python",
   "name": "python",
   "nbconvert_exporter": "python",
   "pygments_lexer": "ipython3",
   "version": "3.12.4"
  }
 },
 "nbformat": 4,
 "nbformat_minor": 5
}
