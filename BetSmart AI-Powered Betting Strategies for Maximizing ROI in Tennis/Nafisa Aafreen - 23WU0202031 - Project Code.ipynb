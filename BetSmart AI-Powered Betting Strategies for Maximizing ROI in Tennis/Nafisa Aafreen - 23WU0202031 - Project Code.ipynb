{
 "cells": [
  {
   "cell_type": "markdown",
   "id": "8b1de9ae-e3e2-4a6b-93dd-f08d4475342c",
   "metadata": {},
   "source": [
    "*Name: Nafisa Aafreen*\n",
    "\n",
    "*Course: MBA Business Analytics (2023 - 2025)*\n",
    "\n",
    "*Student Id: 23WU0202031*\n",
    "\n",
    "*Subject: Sport Data Analytics*"
   ]
  },
  {
   "cell_type": "markdown",
   "id": "419a5070-4667-40df-9e7d-2cda49699486",
   "metadata": {},
   "source": [
    "# \"BetSmart: AI-Powered Betting Strategies for Maximizing ROI in Tennis\""
   ]
  },
  {
   "cell_type": "markdown",
   "id": "6844e146-487b-4c38-b163-e2dc94796c95",
   "metadata": {},
   "source": [
    "The objective of this project is to leverage machine learning to analyze historical tennis betting odds and predict profitable betting opportunities. By utilizing data-driven strategies, we aim to enhance decision-making in sports betting, maximizing Return on Investment (ROI) while minimizing risk. The project will include an interactive Streamlit dashboard for real-time predictions, bet simulations, and strategy optimization."
   ]
  },
  {
   "cell_type": "code",
   "execution_count": 4,
   "id": "0c738a90-e53c-4418-b6bd-3573d597c1cb",
   "metadata": {},
   "outputs": [
    {
     "name": "stdout",
     "output_type": "stream",
     "text": [
      "Requirement already satisfied: seaborn in c:\\users\\aafre\\appdata\\local\\programs\\orange\\lib\\site-packages (0.13.2)\n",
      "Requirement already satisfied: numpy!=1.24.0,>=1.20 in c:\\users\\aafre\\appdata\\local\\programs\\orange\\lib\\site-packages (from seaborn) (1.24.3)\n",
      "Requirement already satisfied: pandas>=1.2 in c:\\users\\aafre\\appdata\\local\\programs\\orange\\lib\\site-packages (from seaborn) (1.5.3)\n",
      "Requirement already satisfied: matplotlib!=3.6.1,>=3.4 in c:\\users\\aafre\\appdata\\local\\programs\\orange\\lib\\site-packages (from seaborn) (3.7.1)\n",
      "Requirement already satisfied: contourpy>=1.0.1 in c:\\users\\aafre\\appdata\\local\\programs\\orange\\lib\\site-packages (from matplotlib!=3.6.1,>=3.4->seaborn) (1.0.7)\n",
      "Requirement already satisfied: cycler>=0.10 in c:\\users\\aafre\\appdata\\local\\programs\\orange\\lib\\site-packages (from matplotlib!=3.6.1,>=3.4->seaborn) (0.11.0)\n",
      "Requirement already satisfied: fonttools>=4.22.0 in c:\\users\\aafre\\appdata\\local\\programs\\orange\\lib\\site-packages (from matplotlib!=3.6.1,>=3.4->seaborn) (4.39.3)\n",
      "Requirement already satisfied: kiwisolver>=1.0.1 in c:\\users\\aafre\\appdata\\local\\programs\\orange\\lib\\site-packages (from matplotlib!=3.6.1,>=3.4->seaborn) (1.4.4)\n",
      "Requirement already satisfied: packaging>=20.0 in c:\\users\\aafre\\appdata\\local\\programs\\orange\\lib\\site-packages (from matplotlib!=3.6.1,>=3.4->seaborn) (23.1)\n",
      "Requirement already satisfied: pillow>=6.2.0 in c:\\users\\aafre\\appdata\\local\\programs\\orange\\lib\\site-packages (from matplotlib!=3.6.1,>=3.4->seaborn) (9.5.0)\n",
      "Requirement already satisfied: pyparsing>=2.3.1 in c:\\users\\aafre\\appdata\\local\\programs\\orange\\lib\\site-packages (from matplotlib!=3.6.1,>=3.4->seaborn) (3.0.9)\n",
      "Requirement already satisfied: python-dateutil>=2.7 in c:\\users\\aafre\\appdata\\local\\programs\\orange\\lib\\site-packages (from matplotlib!=3.6.1,>=3.4->seaborn) (2.8.2)\n",
      "Requirement already satisfied: importlib-resources>=3.2.0 in c:\\users\\aafre\\appdata\\local\\programs\\orange\\lib\\site-packages (from matplotlib!=3.6.1,>=3.4->seaborn) (5.12.0)\n",
      "Requirement already satisfied: pytz>=2020.1 in c:\\users\\aafre\\appdata\\local\\programs\\orange\\lib\\site-packages (from pandas>=1.2->seaborn) (2023.3)\n",
      "Requirement already satisfied: zipp>=3.1.0 in c:\\users\\aafre\\appdata\\local\\programs\\orange\\lib\\site-packages (from importlib-resources>=3.2.0->matplotlib!=3.6.1,>=3.4->seaborn) (3.15.0)\n",
      "Requirement already satisfied: six>=1.5 in c:\\users\\aafre\\appdata\\local\\programs\\orange\\lib\\site-packages (from python-dateutil>=2.7->matplotlib!=3.6.1,>=3.4->seaborn) (1.16.0)\n"
     ]
    }
   ],
   "source": [
    "!pip install seaborn"
   ]
  },
  {
   "cell_type": "code",
   "execution_count": 5,
   "id": "dc28cd65-935d-40cc-8e95-e7a2f3b41a82",
   "metadata": {},
   "outputs": [],
   "source": [
    "import pandas as pd\n",
    "import numpy as np\n",
    "from datetime import datetime,timedelta\n",
    "import matplotlib.pyplot as plt\n",
    "import seaborn as sns\n",
    "sns.set_style(\"darkgrid\")\n",
    "\n",
    "data=pd.read_csv(\"C:/Users/aafre/OneDrive/Desktop/atp_data.csv\",low_memory=False)\n",
    "data.Date = data.Date.apply(lambda x:datetime.strptime(x, '%Y-%m-%d'))"
   ]
  },
  {
   "cell_type": "markdown",
   "id": "c1f56137-849f-43d3-889e-826547138821",
   "metadata": {},
   "source": [
    "The dataset \"atp_data.csv\" is directly built from the data you can find on http://tennis-data.co.uk/data.php. I selected the columns that will be useful for the betting model, and added the elo rankings of the players at the beginning of each match.\n",
    "\n",
    "We have all the matches played on the ATP World Tour from January 2000 to March 2018.\n",
    "\n",
    "One row per match. And we have some information about each match:"
   ]
  },
  {
   "cell_type": "code",
   "execution_count": 7,
   "id": "19b17cfe-5a18-4aa9-9de4-cde8d637723f",
   "metadata": {},
   "outputs": [
    {
     "name": "stdout",
     "output_type": "stream",
     "text": [
      "Total number of matches : 44708\n"
     ]
    }
   ],
   "source": [
    "print(\"Total number of matches : \"+str(len(data)))"
   ]
  },
  {
   "cell_type": "code",
   "execution_count": 8,
   "id": "4034a476-bedf-4333-8929-0cf6b988969d",
   "metadata": {},
   "outputs": [
    {
     "name": "stdout",
     "output_type": "stream",
     "text": [
      "['ATP', 'Location', 'Tournament', 'Date', 'Series', 'Court', 'Surface', 'Round', 'Best of', 'Winner', 'Loser', 'WRank', 'LRank', 'Wsets', 'Lsets', 'Comment', 'PSW', 'PSL', 'B365W', 'B365L', 'elo_winner', 'elo_loser', 'proba_elo']\n"
     ]
    }
   ],
   "source": [
    "print(list(data.columns))"
   ]
  },
  {
   "cell_type": "raw",
   "id": "fa06926c-986d-4514-a9c2-e90ae7eacc91",
   "metadata": {},
   "source": [
    "For each of the matches, you have the Tournament, Date, match winner, match loser, surface, tournament round, the ATP rankings of the winner and the loser... These informations will be useful to build features for the model.\n",
    "\n",
    "And very important : the odds of 2 bookmakers, Pinnacle and Bet365 (odds at the beginning of the match)\n",
    "\n",
    "With this information we can estimate the ROI of any betting strategy.\n",
    "\n",
    "Now let's begin by assessing the ROI of simple strategies..."
   ]
  },
  {
   "cell_type": "markdown",
   "id": "e08ea0c2-71bf-4643-8f86-e9f7fac1a821",
   "metadata": {},
   "source": [
    "**Assessment of some basic strategies**"
   ]
  },
  {
   "cell_type": "code",
   "execution_count": 10,
   "id": "ddbf4a8d-2613-4f1c-857f-cbd4b489fbfb",
   "metadata": {},
   "outputs": [],
   "source": [
    "def basic_horizontal_barplot(values,labels,xaxis_label,title,xlim=None,figsize=None):\n",
    "    \"\"\"\n",
    "    Please provide the labels corresponding to the values, the plot title, and the xaxis label.\n",
    "    \"\"\"\n",
    "    # Possible colors to use - if not enough, colors are reused\n",
    "    cs=[\"coral\",\"tomato\",\"peachpuff\",\"orange\",\"gold\",\"firebrick\",\"peru\",\"khaki\",\"chocolate\"]\n",
    "    cs=cs*(len(values)//len(cs)+1)\n",
    "    # The figure\n",
    "    if figsize==None:\n",
    "        fig=plt.figure(figsize=(4,3))\n",
    "    else:\n",
    "        fig=plt.figure(figsize=figsize,dpi=100)\n",
    "    ax = fig.add_axes([0,0,1,0.9])\n",
    "    color=cs[:len(values)]\n",
    "    ax.barh(range(len(values)),values,color=color)\n",
    "    ax.set_yticks(range(len(values)))\n",
    "    ax.set_yticklabels(labels)\n",
    "    if xlim!=None:\n",
    "        ax.set_xlim(xlim)\n",
    "    plt.suptitle(title)\n",
    "    ax.set_xlabel(xaxis_label)\n",
    "    plt.show()"
   ]
  },
  {
   "cell_type": "markdown",
   "id": "dec4c207-fa1e-44ee-a640-b72d5f681cb1",
   "metadata": {},
   "source": [
    "**Betting on all matches**\n",
    "\n",
    "Let's say we decide to bet on all matches between January 2011 and march 2018."
   ]
  },
  {
   "cell_type": "code",
   "execution_count": 12,
   "id": "2ae3ba95-7ac8-4f82-a0fb-a935eafa15ed",
   "metadata": {},
   "outputs": [
    {
     "name": "stdout",
     "output_type": "stream",
     "text": [
      "Number of matches during this period : 16412\n"
     ]
    }
   ],
   "source": [
    "beg=datetime(2011,1,1) \n",
    "end=data.Date.iloc[-1]\n",
    "indices=data[(data.Date>beg)&(data.Date<=end)].index\n",
    "data_sel=data[[\"B365W\",\"B365L\",\"PSW\",\"PSL\",\"WRank\",\"LRank\"]]\n",
    "data_sel=data.iloc[indices,:]\n",
    "print(\"Number of matches during this period : \"+str(len(data_sel)))"
   ]
  },
  {
   "cell_type": "markdown",
   "id": "1db8d207-3a50-43f0-ace9-e02dbef98ac4",
   "metadata": {},
   "source": [
    "(with such a number of matches the confidence intervals will be very small)\n",
    "\n",
    "3 possible strategies are :\n",
    "\n",
    "- always betting on the player with the smallest odd\n",
    "- always betting on the player with the best ATP ranking\n",
    "- betting completely at random for each match : \"head or tail betting\"\n",
    "In the following graph we compare these 3 strategies for the 2 bookmakers.\n",
    "\n",
    "Precision : we bet the same amount of money on each match."
   ]
  },
  {
   "cell_type": "code",
   "execution_count": 14,
   "id": "f7f1029e-6d38-4c06-ad1f-26db906bb3fa",
   "metadata": {},
   "outputs": [
    {
     "data": {
      "image/png": "[encoded data removed]",
      "text/plain": [
       "<Figure size 500x300 with 1 Axes>"
      ]
     },
     "metadata": {},
     "output_type": "display_data"
    }
   ],
   "source": [
    "## Comparison of some basic strategies\n",
    "roi_smallest_odd_ps=100*(data_sel.PSW[data_sel.PSW<data_sel.PSL].sum()-len(data_sel))/len(data_sel)\n",
    "roi_best_ranking_ps=100*(data_sel.PSW[data_sel.WRank<data_sel.LRank].sum()-len(data_sel))/len(data_sel)\n",
    "roi_random_ps=100*(data_sel.sample(int(len(data_sel)/2)).PSW.sum()-len(data_sel))/len(data_sel)\n",
    "roi_smallest_odd_365=100*(data_sel.B365W[data_sel.B365W<data_sel.B365L].sum()-len(data_sel))/len(data_sel)\n",
    "roi_best_ranking_365=100*(data_sel.B365W[data_sel.WRank<data_sel.LRank].sum()-len(data_sel))/len(data_sel)\n",
    "roi_random_365=100*(data_sel.sample(int(len(data_sel)/2)).PSW.sum()-len(data_sel))/len(data_sel)\n",
    "values=[roi_smallest_odd_ps,roi_best_ranking_ps,roi_random_ps,\n",
    "        roi_smallest_odd_365,roi_best_ranking_365,roi_random_365]\n",
    "labels=[\"Pinnacle\\nsmallest odds strategy\",\"Pinnacle\\nbest ranking strategy\",\"Pinnacle\\nhead or tail betting\",\n",
    "       \"Bet365\\nsmallest odds strategy\",\"Best365\\nbest ranking strategy\",\"Bet365\\nhead or tail betting\"]\n",
    "xaxis_label=\"Return on investment (ROI) in %\"\n",
    "title=\"Betting on all ATP matches since 2011\"\n",
    "basic_horizontal_barplot(values,labels,xaxis_label,title,[0,-8],(5,3))"
   ]
  },
  {
   "cell_type": "markdown",
   "id": "23e79a2f-5cae-4e8b-9767-970f65a31816",
   "metadata": {},
   "source": [
    "(it means for example that if during 1000 matches we bet 1€ on the best ranked player on Pinnacle, we can expect to loose approximately 26€ in the end)\n",
    "\n",
    "Pinnacle has a reputation of having the best odds. It seems to deserve well its reputation. A global loss of ~2% is very low. On the contrary Bet365 seems to take a much higher commission than Pinnacle.\n",
    "\n",
    "Considering the ROI of the random strategy, it is the best strategy on Bet365 and the worse on Pinnacle. One possible explanantion is that Bet365 is intended to more unexperienced gamblers. They might have noticed that their gamblers tend to overbet on the best ranked player, so to mitigate the risk they decrease the odds of the best ranked players. But we'll go back to these bookmakers techniques later...\n",
    "\n",
    "Now let's imagine we know in advance the result of each match. So we always bet on the winner of the match.\n",
    "\n",
    "What is the ROI we can expect ?"
   ]
  },
  {
   "cell_type": "code",
   "execution_count": 16,
   "id": "1e2ea6da-7af1-48c7-b1f9-6765c4fd7e13",
   "metadata": {},
   "outputs": [
    {
     "data": {
      "image/png": "[encoded data removed]",
      "text/plain": [
       "<Figure size 400x250 with 1 Axes>"
      ]
     },
     "metadata": {},
     "output_type": "display_data"
    }
   ],
   "source": [
    "## Maximum possible ROI\n",
    "max_roi_ps=100*(data_sel.PSW.sum()-len(data_sel))/len(data_sel)\n",
    "max_roi_365=100*(data_sel.B365W.sum()-len(data_sel))/len(data_sel)\n",
    "values=[max_roi_ps,max_roi_365]\n",
    "labels=[\"Pinnacle\\ngood prediction for all matches\",\"Bet365\\ngood prediction for all matches\"]\n",
    "xaxis_label=\"Return on investment (ROI) in %\"\n",
    "title=\"Betting on all ATP matches since 2011\"\n",
    "basic_horizontal_barplot(values,labels,xaxis_label,title,[0,100],(4,2.5))"
   ]
  },
  {
   "cell_type": "markdown",
   "id": "5aa4aca0-99f9-4872-a06d-43531aa36056",
   "metadata": {},
   "source": [
    "Therefore if we bet on all matches we can't expect a ROI above 92%.\n",
    "\n",
    "Once again it appears that Pinnacle is much more friendly than Bet365.\n",
    "\n",
    "In the following we'll focus on Pinnacle only.\n",
    "\n",
    "**Betting on a selection of matches**\n",
    "\n",
    "Idea : instead of betting on all matches, we could focus on some matches where we are especially confident.\n",
    "\n",
    "In the following, every betting strategy will output a \"confidence dataset\". For each match it will contain the confidence in each player. From this dataset, we can set a threshold and bet only on the matches where our confidence is beyond a certain threshold.\n",
    "\n",
    "As an example, we begin with a simple hypothetical strategy. We can say that our confidence is the odd itself. Therefore the greater the odd of a player the greater our will to bet on him. Let's imagine we know the winner of each match in advance and we bet only on the X% of players with the highest odds. This would be the perfect strategy in a world where we are omniscient.\n",
    "\n",
    "What would be our ROI ?"
   ]
  },
  {
   "cell_type": "code",
   "execution_count": 18,
   "id": "2c8f7eb7-f1b2-4f40-b67b-20f8422474e2",
   "metadata": {},
   "outputs": [],
   "source": [
    "def profitComputation(percentage_matchs,conf,model_name=\"0\"):\n",
    "    \"\"\"\n",
    "    Given a confidence dataset and a percentage of matches, computes the ROI \n",
    "    if we bet only on the percentage of matches we have the most confidence in\n",
    "    (same amount for each match).\n",
    "    \"\"\"\n",
    "    coeff=percentage_matchs/100\n",
    "    lim=int(coeff*len(conf))\n",
    "    conf=conf.sort_values(\"confidence\"+model_name,ascending=False)\n",
    "    conf=conf.iloc[:lim,:]\n",
    "    profit=100*(conf.PSW[conf[\"win\"+model_name]==1].sum()-len(conf))/len(conf)\n",
    "    return profit\n",
    "\n",
    "def plotProfits(conf,title=\"\"):\n",
    "    \"\"\"\n",
    "    Given a confidence dataset, plots the ROI according to the percentage of matches\n",
    "    we bet on. \n",
    "    \"\"\"\n",
    "    profits=[]\n",
    "    ticks=range(5,101)\n",
    "    for i in ticks:\n",
    "        p=profitComputation(i,conf)\n",
    "        profits.append(p)\n",
    "    fig=plt.figure(figsize=(7,4),dpi=100)\n",
    "    plt.plot(ticks,profits)\n",
    "    plt.xticks(range(0,101,5))\n",
    "    plt.xlabel(\"% of matches we bet on\")\n",
    "    plt.ylabel(\"Return on investment (%)\")\n",
    "    plt.suptitle(title)\n",
    "    plt.show()"
   ]
  },
  {
   "cell_type": "code",
   "execution_count": 19,
   "id": "b5d1d483-0e7d-4c53-bb65-34953bd8ec61",
   "metadata": {},
   "outputs": [
    {
     "name": "stderr",
     "output_type": "stream",
     "text": [
      "C:\\Users\\aafre\\AppData\\Local\\Temp\\ipykernel_25440\\1226578841.py:1: FutureWarning: In a future version of pandas all arguments of concat except for the argument 'objs' will be keyword-only.\n",
      "  perfect_conf=pd.concat([data_sel[[\"Date\",\"PSW\",\"PSL\"]]],1)\n"
     ]
    },
    {
     "data": {
      "image/png": "[encoded data removed]",
      "text/plain": [
       "<Figure size 700x400 with 1 Axes>"
      ]
     },
     "metadata": {},
     "output_type": "display_data"
    }
   ],
   "source": [
    "perfect_conf=pd.concat([data_sel[[\"Date\",\"PSW\",\"PSL\"]]],1)\n",
    "perfect_conf[\"win0\"]=[1]*len(perfect_conf)\n",
    "perfect_conf[\"confidence0\"]=perfect_conf.PSW\n",
    "perfect_conf=perfect_conf.rename(columns={\"Date\":\"date\"})\n",
    "plotProfits(perfect_conf,\"Good prediction for all matches (Pinnacle)\")"
   ]
  },
  {
   "cell_type": "markdown",
   "id": "1fd41464-e17c-4ade-bd03-32a80f234da6",
   "metadata": {},
   "source": [
    "As we can see if we bet on 100% of the matches, and we are right each time, we find again the ROI we found above (92%).\n",
    "\n",
    "But if we bet only on the matches we are the most confident in (in our ideal case the match with the highest odds) our ROI is much higher.\n",
    "\n",
    "Betting on a subset of matches is in general a good strategy. It is hard to get a good ROI by betting on ALL matches, but it is feasible with a subset. The only limit being the percentage of matches we bet on. If it is too small, the number of matches we bet on is low and the ROI has a high variability.\n",
    "\n",
    "**The proposed strategy**\n",
    "\n",
    "XGBoost will predict a probability for the 2 possible outcomes of each match (player A wins / player B wins).\n",
    "\n",
    "Our confidence in an outcome will be : the predicted probability divided by the probability implied by the bookmaker.\n",
    "\n",
    "(The probability implied by the bookmaker is the inverse of the odd.)\n",
    "\n",
    "Then we bet only on the outcomes with the highest confidence. (what threshold for the confidence ? we'll see it later...)\n",
    "\n",
    "Example:\n",
    "- There is an odd of 2.5 on the victory of Zverev against Nadal\n",
    "- This odd tells us it is unlikely to happen\n",
    "- More precisely the probability implied by the bookmaker is 1/2.5 = 0.4\n",
    "- But our model tells us the real probability is 0.8, so Zverev is the favourite\n",
    "- It might be because Nadal is overpriced (because he is Nadal)\n",
    "- But we won't be fooled\n",
    "- Our confidence is here 0.8/0.4 = 2\n",
    "- It's a high confidence, we can bet on this match !"
   ]
  },
  {
   "cell_type": "markdown",
   "id": "c6989978-8150-4588-8a09-5137992f0b2e",
   "metadata": {},
   "source": [
    "**Confidence computation**\n",
    "To test this whole betting strategy, we'll take time into account.\n",
    "\n",
    "We train a model to predict the outcome of each match given the last 10700. Out of the 10700, 300 are devoted to validation - the 300 consecutive matches right before the match we want to predict.\n",
    "\n",
    "To make the process quicker, and as it doesn't harm the ROI, instead of training a new model to predict each match, we make the same model predict 2000 matches at a time.\n",
    "\n",
    "The features used are various. we can cite:\n",
    "- The Pinnacle odds\n",
    "- For each player the percentage of matches won during the last X days\n",
    "- For each player the number of matches played during the last X days\n",
    "- For each player the number of recent wounds\n",
    "- The Elo rankings of the players\n",
    "... I also directly one-hot encoded the players with the most matches.\n",
    "  \n",
    "As the code to build the training set is a little bit too long for this kernel, you can find it in this github repo:\n",
    "\n",
    "https://github.com/edouardthom/ATPBetting.git. The result of some computation is in the github in the folder \"Generated Data\". This is where you can find the dataframe used in the 2nd part.\n",
    "\n",
    "We'll import the dataset with the prediction (and the confidence level) for each match, and study it."
   ]
  },
  {
   "cell_type": "code",
   "execution_count": 22,
   "id": "cb02b9de-923b-47f0-afc7-98ac68bb22ce",
   "metadata": {},
   "outputs": [
    {
     "name": "stdout",
     "output_type": "stream",
     "text": [
      "Total number of matches predicted : 2963\n"
     ]
    }
   ],
   "source": [
    "import pandas as pd\n",
    "\n",
    "# Our predictions + confidence level + if we were right or not\n",
    "conf = pd.read_csv(\"C:/Users/aafre/OneDrive/Desktop/2000 - 2018.csv\")\n",
    "print(\"Total number of matches predicted : \" + str(len(conf)))"
   ]
  },
  {
   "cell_type": "code",
   "execution_count": 23,
   "id": "a60d7246-d559-4d02-9971-cf1c20d7ffcc",
   "metadata": {},
   "outputs": [
    {
     "data": {
      "text/html": [
       "<div>\n",
       "<style scoped>\n",
       "    .dataframe tbody tr th:only-of-type {\n",
       "        vertical-align: middle;\n",
       "    }\n",
       "\n",
       "    .dataframe tbody tr th {\n",
       "        vertical-align: top;\n",
       "    }\n",
       "\n",
       "    .dataframe thead th {\n",
       "        text-align: right;\n",
       "    }\n",
       "</style>\n",
       "<table border=\"1\" class=\"dataframe\">\n",
       "  <thead>\n",
       "    <tr style=\"text-align: right;\">\n",
       "      <th></th>\n",
       "      <th>ATP</th>\n",
       "      <th>Location</th>\n",
       "      <th>Tournament</th>\n",
       "      <th>Date</th>\n",
       "      <th>Series</th>\n",
       "      <th>Court</th>\n",
       "      <th>Surface</th>\n",
       "      <th>Round</th>\n",
       "      <th>Best of</th>\n",
       "      <th>Winner</th>\n",
       "      <th>...</th>\n",
       "      <th>L2</th>\n",
       "      <th>W3</th>\n",
       "      <th>L3</th>\n",
       "      <th>W4</th>\n",
       "      <th>L4</th>\n",
       "      <th>W5</th>\n",
       "      <th>L5</th>\n",
       "      <th>Wsets</th>\n",
       "      <th>Lsets</th>\n",
       "      <th>Comment</th>\n",
       "    </tr>\n",
       "  </thead>\n",
       "  <tbody>\n",
       "    <tr>\n",
       "      <th>0</th>\n",
       "      <td>1</td>\n",
       "      <td>Adelaide</td>\n",
       "      <td>Australian Hardcourt Championships</td>\n",
       "      <td>01-03-2000</td>\n",
       "      <td>International</td>\n",
       "      <td>Outdoor</td>\n",
       "      <td>Hard</td>\n",
       "      <td>1st Round</td>\n",
       "      <td>3</td>\n",
       "      <td>Dosedel S.</td>\n",
       "      <td>...</td>\n",
       "      <td>2.0</td>\n",
       "      <td>NaN</td>\n",
       "      <td>NaN</td>\n",
       "      <td>NaN</td>\n",
       "      <td>NaN</td>\n",
       "      <td>NaN</td>\n",
       "      <td>NaN</td>\n",
       "      <td>2</td>\n",
       "      <td>0</td>\n",
       "      <td>Completed</td>\n",
       "    </tr>\n",
       "    <tr>\n",
       "      <th>1</th>\n",
       "      <td>1</td>\n",
       "      <td>Adelaide</td>\n",
       "      <td>Australian Hardcourt Championships</td>\n",
       "      <td>01-03-2000</td>\n",
       "      <td>International</td>\n",
       "      <td>Outdoor</td>\n",
       "      <td>Hard</td>\n",
       "      <td>1st Round</td>\n",
       "      <td>3</td>\n",
       "      <td>Enqvist T.</td>\n",
       "      <td>...</td>\n",
       "      <td>3.0</td>\n",
       "      <td>NaN</td>\n",
       "      <td>NaN</td>\n",
       "      <td>NaN</td>\n",
       "      <td>NaN</td>\n",
       "      <td>NaN</td>\n",
       "      <td>NaN</td>\n",
       "      <td>2</td>\n",
       "      <td>0</td>\n",
       "      <td>Completed</td>\n",
       "    </tr>\n",
       "    <tr>\n",
       "      <th>2</th>\n",
       "      <td>1</td>\n",
       "      <td>Adelaide</td>\n",
       "      <td>Australian Hardcourt Championships</td>\n",
       "      <td>01-03-2000</td>\n",
       "      <td>International</td>\n",
       "      <td>Outdoor</td>\n",
       "      <td>Hard</td>\n",
       "      <td>1st Round</td>\n",
       "      <td>3</td>\n",
       "      <td>Escude N.</td>\n",
       "      <td>...</td>\n",
       "      <td>5.0</td>\n",
       "      <td>6.0</td>\n",
       "      <td>3.0</td>\n",
       "      <td>NaN</td>\n",
       "      <td>NaN</td>\n",
       "      <td>NaN</td>\n",
       "      <td>NaN</td>\n",
       "      <td>2</td>\n",
       "      <td>1</td>\n",
       "      <td>Completed</td>\n",
       "    </tr>\n",
       "    <tr>\n",
       "      <th>3</th>\n",
       "      <td>1</td>\n",
       "      <td>Adelaide</td>\n",
       "      <td>Australian Hardcourt Championships</td>\n",
       "      <td>01-03-2000</td>\n",
       "      <td>International</td>\n",
       "      <td>Outdoor</td>\n",
       "      <td>Hard</td>\n",
       "      <td>1st Round</td>\n",
       "      <td>3</td>\n",
       "      <td>Federer R.</td>\n",
       "      <td>...</td>\n",
       "      <td>4.0</td>\n",
       "      <td>NaN</td>\n",
       "      <td>NaN</td>\n",
       "      <td>NaN</td>\n",
       "      <td>NaN</td>\n",
       "      <td>NaN</td>\n",
       "      <td>NaN</td>\n",
       "      <td>2</td>\n",
       "      <td>0</td>\n",
       "      <td>Completed</td>\n",
       "    </tr>\n",
       "    <tr>\n",
       "      <th>4</th>\n",
       "      <td>1</td>\n",
       "      <td>Adelaide</td>\n",
       "      <td>Australian Hardcourt Championships</td>\n",
       "      <td>01-03-2000</td>\n",
       "      <td>International</td>\n",
       "      <td>Outdoor</td>\n",
       "      <td>Hard</td>\n",
       "      <td>1st Round</td>\n",
       "      <td>3</td>\n",
       "      <td>Fromberg R.</td>\n",
       "      <td>...</td>\n",
       "      <td>7.0</td>\n",
       "      <td>6.0</td>\n",
       "      <td>4.0</td>\n",
       "      <td>NaN</td>\n",
       "      <td>NaN</td>\n",
       "      <td>NaN</td>\n",
       "      <td>NaN</td>\n",
       "      <td>2</td>\n",
       "      <td>1</td>\n",
       "      <td>Completed</td>\n",
       "    </tr>\n",
       "    <tr>\n",
       "      <th>5</th>\n",
       "      <td>1</td>\n",
       "      <td>Adelaide</td>\n",
       "      <td>Australian Hardcourt Championships</td>\n",
       "      <td>01-03-2000</td>\n",
       "      <td>International</td>\n",
       "      <td>Outdoor</td>\n",
       "      <td>Hard</td>\n",
       "      <td>1st Round</td>\n",
       "      <td>3</td>\n",
       "      <td>Gambill J.M.</td>\n",
       "      <td>...</td>\n",
       "      <td>6.0</td>\n",
       "      <td>6.0</td>\n",
       "      <td>4.0</td>\n",
       "      <td>NaN</td>\n",
       "      <td>NaN</td>\n",
       "      <td>NaN</td>\n",
       "      <td>NaN</td>\n",
       "      <td>2</td>\n",
       "      <td>1</td>\n",
       "      <td>Completed</td>\n",
       "    </tr>\n",
       "  </tbody>\n",
       "</table>\n",
       "<p>6 rows × 26 columns</p>\n",
       "</div>"
      ],
      "text/plain": [
       "   ATP  Location                          Tournament        Date  \\\n",
       "0    1  Adelaide  Australian Hardcourt Championships  01-03-2000   \n",
       "1    1  Adelaide  Australian Hardcourt Championships  01-03-2000   \n",
       "2    1  Adelaide  Australian Hardcourt Championships  01-03-2000   \n",
       "3    1  Adelaide  Australian Hardcourt Championships  01-03-2000   \n",
       "4    1  Adelaide  Australian Hardcourt Championships  01-03-2000   \n",
       "5    1  Adelaide  Australian Hardcourt Championships  01-03-2000   \n",
       "\n",
       "          Series    Court Surface      Round  Best of        Winner  ...   L2  \\\n",
       "0  International  Outdoor    Hard  1st Round        3    Dosedel S.  ...  2.0   \n",
       "1  International  Outdoor    Hard  1st Round        3    Enqvist T.  ...  3.0   \n",
       "2  International  Outdoor    Hard  1st Round        3     Escude N.  ...  5.0   \n",
       "3  International  Outdoor    Hard  1st Round        3    Federer R.  ...  4.0   \n",
       "4  International  Outdoor    Hard  1st Round        3   Fromberg R.  ...  7.0   \n",
       "5  International  Outdoor    Hard  1st Round        3  Gambill J.M.  ...  6.0   \n",
       "\n",
       "    W3   L3  W4  L4  W5  L5  Wsets  Lsets    Comment  \n",
       "0  NaN  NaN NaN NaN NaN NaN      2      0  Completed  \n",
       "1  NaN  NaN NaN NaN NaN NaN      2      0  Completed  \n",
       "2  6.0  3.0 NaN NaN NaN NaN      2      1  Completed  \n",
       "3  NaN  NaN NaN NaN NaN NaN      2      0  Completed  \n",
       "4  6.0  4.0 NaN NaN NaN NaN      2      1  Completed  \n",
       "5  6.0  4.0 NaN NaN NaN NaN      2      1  Completed  \n",
       "\n",
       "[6 rows x 26 columns]"
      ]
     },
     "execution_count": 23,
     "metadata": {},
     "output_type": "execute_result"
    }
   ],
   "source": [
    "conf.iloc[:6,:]"
   ]
  },
  {
   "cell_type": "markdown",
   "id": "8e28089e-7286-44ad-b860-8c4b25555b46",
   "metadata": {},
   "source": [
    "You can see that for each of the matches we have :\n",
    "\n",
    "- its date\n",
    "- our confidence in the outcome we chose\n",
    "- if the outcome we chose is the right one (ie. if we bet on the winner of the match)\n",
    "- the odds corresponding to the outcome we chose\n",
    "\n",
    "# Performance of the prediction\n",
    "What is the percentage of matches we predicted right ?"
   ]
  },
  {
   "cell_type": "code",
   "execution_count": 25,
   "id": "8e2343dc-3029-4db1-86ad-d98bd7925aed",
   "metadata": {},
   "outputs": [
    {
     "name": "stdout",
     "output_type": "stream",
     "text": [
      "Index(['ATP', 'Location', 'Tournament', 'Date', 'Series', 'Court', 'Surface',\n",
      "       'Round', 'Best of', 'Winner', 'Loser', 'WRank', 'LRank', 'W1', 'L1',\n",
      "       'W2', 'L2', 'W3', 'L3', 'W4', 'L4', 'W5', 'L5', 'Wsets', 'Lsets',\n",
      "       'Comment'],\n",
      "      dtype='object')\n"
     ]
    }
   ],
   "source": [
    "print(conf.columns)"
   ]
  },
  {
   "cell_type": "code",
   "execution_count": 26,
   "id": "4cd6b9d7-ac45-47c8-b655-b565b591486e",
   "metadata": {},
   "outputs": [
    {
     "name": "stdout",
     "output_type": "stream",
     "text": [
      "'Winner' and 'Loser' columns found\n",
      "Elo: nan\n",
      "ATP: None\n"
     ]
    },
    {
     "name": "stderr",
     "output_type": "stream",
     "text": [
      "C:\\Users\\aafre\\AppData\\Local\\Temp\\ipykernel_25440\\2436273411.py:26: RuntimeWarning: invalid value encountered in scalar divide\n",
      "  elo = 100 * (test['Winner'] > test['Loser']).sum() / len(indices)\n"
     ]
    }
   ],
   "source": [
    "import pandas as pd\n",
    "\n",
    "# Step 1: Read the CSV file and parse the 'Date' column\n",
    "data = pd.read_csv(\"C:/Users/aafre/OneDrive/Desktop/2000 - 2018.csv\", parse_dates=['Date'])\n",
    "\n",
    "# Step 2: Convert the 'Date' column to datetime with dayfirst=True\n",
    "data['Date'] = pd.to_datetime(data['Date'], errors='coerce', dayfirst=True)\n",
    "\n",
    "# Step 3: Drop rows where 'Date' is NaT (Not a Time)\n",
    "data.dropna(subset=['Date'], inplace=True)\n",
    "\n",
    "# Step 4: Strip any extra spaces from column names\n",
    "data.columns = data.columns.str.strip()\n",
    "\n",
    "# Step 5: Check for 'Winner' and 'Loser' columns\n",
    "if 'Winner' not in data.columns or 'Loser' not in data.columns:\n",
    "    print(\"Error: 'Winner' or 'Loser' column is missing!\")\n",
    "else:\n",
    "    print(\"'Winner' and 'Loser' columns found\")\n",
    "\n",
    "# Step 6: Filter the dataset based on the date range (assuming `beg` and `end` are defined)\n",
    "indices = data[(data['Date'] >= beg) & (data['Date'] <= end)].index\n",
    "test = data.loc[indices, [\"WRank\", \"LRank\", \"Winner\", \"Loser\"]]  # Ensure relevant columns are present\n",
    "\n",
    "# Step 7: Calculate Elo ranking (assuming you compare the 'Winner' vs. 'Loser' columns for Elo)\n",
    "elo = 100 * (test['Winner'] > test['Loser']).sum() / len(indices)\n",
    "\n",
    "# Step 8: Calculate ATP ranking\n",
    "if len(test) > 0:\n",
    "    atp = 100 * (test['LRank'] > test['WRank']).sum() / len(test)\n",
    "else:\n",
    "    atp = None\n",
    "\n",
    "# Step 9: Print results\n",
    "print(f\"Elo: {elo}\")\n",
    "print(f\"ATP: {atp}\")"
   ]
  },
  {
   "cell_type": "markdown",
   "id": "a97b5457-bd35-4e7c-b5ab-d4e4d2c8f48f",
   "metadata": {},
   "source": [
    "We can remark that our prediction is not especially incredible.\n",
    "\n",
    "We predicted 68.7% of matches right.\n",
    "\n",
    "But this is not the final objective, we want the best ROI.\n",
    "\n",
    "If we are often wrong but right only on the matches with high odds, it's ok !\n",
    "\n",
    "In fact all the hyperparameters of the models were chosen to maximize the ROI, and not the prediction accuracy.\n",
    "\n",
    "# Final ROI\n",
    "With our predictions and their associated confidence levels, we can now see what would have happened if we had bet only on the X% matches we are the most confident in the outcome.\n",
    "\n",
    "Reminder : we bet the same amount of money per match"
   ]
  },
  {
   "cell_type": "code",
   "execution_count": 31,
   "id": "eda8389a-a622-4cc5-b345-549b63f17f2f",
   "metadata": {},
   "outputs": [
    {
     "data": {
      "image/png": "[encoded data removed]",
      "text/plain": [
       "<Figure size 1200x720 with 1 Axes>"
      ]
     },
     "metadata": {},
     "output_type": "display_data"
    }
   ],
   "source": [
    "import matplotlib.pyplot as plt\n",
    "import pandas as pd\n",
    "\n",
    "# Example: Let's assume you want to calculate profits based on some column logic\n",
    "# For simplicity, let's say profits are derived from the match scores or outcomes:\n",
    "# Let's assume you have columns 'Winner' and 'Loser' which can indicate the outcome.\n",
    "# (You may need to adjust this part based on your actual strategy.)\n",
    "\n",
    "def calculateProfits(conf):\n",
    "    # Example logic: Assuming you calculate profits based on W1 and L1\n",
    "    # This can vary depending on your strategy\n",
    "    profits = (conf['W1'] - conf['L1'])  # Just an example, adjust logic as needed\n",
    "    return profits\n",
    "\n",
    "def plotProfits(conf, title=\"Our Strategy\"):\n",
    "    # Calculate the profits using the strategy\n",
    "    profits = calculateProfits(conf)\n",
    "    \n",
    "    # Plotting the profits\n",
    "    fig = plt.figure(figsize=(10, 6), dpi=120)\n",
    "    ax = fig.add_axes([0, 0, 1, 0.9])\n",
    "    \n",
    "    # If profits are cumulative, you can plot them as a cumulative sum\n",
    "    ax.plot(profits.cumsum(), linewidth=2, marker=\"o\")\n",
    "    \n",
    "    # Setting titles and labels\n",
    "    plt.suptitle(title)\n",
    "    ax.set_xlabel(\"Matches\")\n",
    "    ax.set_ylabel(\"Cumulative Profits\")\n",
    "    \n",
    "    # Display the plot\n",
    "    plt.show()\n",
    "\n",
    "# Example usage\n",
    "plotProfits(conf, title=\"Our strategy that uses XGBoost - 11,054 matches\")"
   ]
  },
  {
   "cell_type": "markdown",
   "id": "d76a90f8-1f41-4174-96b7-c0cb7af0aa92",
   "metadata": {},
   "source": [
    "If we bet on ALL the matches, we loose money :(\n",
    "\n",
    "But if we bet on 5% of the matches, we get a ROI of 70% !\n",
    "\n",
    "Now this study would be incomplete if we didn't study the variance and stationarity of the ROI.\n",
    "\n",
    "# ROI variability study\n",
    "Compared to other sports, the number of matches in tennis is rather low (~2200/year).\n",
    "\n",
    "If we choose to bet only on 1% of matches, you see the problem...\n",
    "\n",
    "We don't want to wait too long to guarantee our ROI.\n",
    "\n",
    "Let's say in general we are willing to wait 117 consecutive matches. And we'll bet on a part of these 117 matches.\n",
    "\n",
    "(in a grand slam there are 117 matches, occurring in 2 weeks)"
   ]
  },
  {
   "cell_type": "code",
   "execution_count": null,
   "id": "4a020089-11ba-4d83-b0e9-d92703b569aa",
   "metadata": {},
   "outputs": [],
   "source": [
    "def profitsAlongTime(conf,matches_delta):\n",
    "    span_matches=span_matches=conf.match.max()-conf.match.min()-1\n",
    "    N=int(span_matches/matches_delta)+1\n",
    "    milestones=np.array([conf.match.min()+matches_delta*i for i in range(N)])\n",
    "    profits=[]\n",
    "    lens=[]\n",
    "    for i in range(N-1):\n",
    "        beg=milestones[i]\n",
    "        end=milestones[i+1]-1\n",
    "        conf_sel=confconf[(conf.match>=beg)&(conf.match<=end)]\n",
    "        l=len(conf_sel)\n",
    "        lens.append(l)\n",
    "        if l==0:\n",
    "            profits.append(0)\n",
    "        else:    \n",
    "            p=profitComputation(100,conf_sel)\n",
    "            profits.append(p)\n",
    "    profits=np.array(profits)\n",
    "    return profits,lens"
   ]
  },
  {
   "cell_type": "markdown",
   "id": "a1a374f2-3227-4a9d-a766-6648a06d8d47",
   "metadata": {},
   "source": [
    "According to the curve above, betting on 10% of the matches leads to an average ROI of 58%.\n",
    "\n",
    "We decide to bet on 10% of the matches : the 10% with the highest confidence between 2013 and 2018 (~1100 matches).\n",
    "\n",
    "We have to check first that these matches are well spread between 2013 and 2018."
   ]
  },
  {
   "cell_type": "code",
   "execution_count": null,
   "id": "7f4de282-670d-4d85-bd32-587c6f0f38c1",
   "metadata": {},
   "outputs": [],
   "source": [
    "import matplotlib.pyplot as plt\n",
    "\n",
    "# Assuming profitsAlongTime is defined to calculate based on 'Date' and match sections\n",
    "# Define the profitsAlongTime function (if not already defined)\n",
    "def profitsAlongTime(conf, matches_delta):\n",
    "    # Ensure the 'Date' column is in datetime format (if not already)\n",
    "    conf['Date'] = pd.to_datetime(conf['Date'], errors='coerce', dayfirst=True)\n",
    "    \n",
    "    # Sort the data by Date (assuming matches happen over time)\n",
    "    conf = conf.sort_values(by='Date')\n",
    "    \n",
    "    # Calculate the span of matches (e.g., number of total matches)\n",
    "    span_matches = len(conf)\n",
    "    \n",
    "    # Calculate the number of sections based on the provided matches_delta (117 in your case)\n",
    "    N = int(span_matches / matches_delta)\n",
    "    \n",
    "    # Create a list of milestones (sections) based on match sections\n",
    "    milestones = [matches_delta * i for i in range(1, N + 1)]\n",
    "    \n",
    "    profits = []  # Placeholder for profit calculation\n",
    "    lens = []     # Placeholder for lens\n",
    "    \n",
    "    # Calculate profit and lens based on milestones\n",
    "    for milestone in milestones:\n",
    "        section = conf.iloc[:milestone]\n",
    "        profits.append(section['Wsets'].sum() - section['Lsets'].sum())  # Example profit calculation\n",
    "        lens.append(len(section))\n",
    "    \n",
    "    return profits, lens\n",
    "\n",
    "# Step 1: Create confconf by taking a 10% sample of the conf DataFrame\n",
    "confconf = conf.iloc[:int(0.1 * len(conf)), :]\n",
    "\n",
    "# Step 2: Call the profitsAlongTime function with confconf and 117 matches delta\n",
    "profits, lens = profitsAlongTime(confconf, 117)\n",
    "\n",
    "# Step 3: Plot the results\n",
    "fig = plt.figure(figsize=(5.5, 3), dpi=120)\n",
    "ax = fig.add_axes([0, 0, 1, 0.9])\n",
    "\n",
    "# Step 4: Plot lens (number of matches bet on) with specified line style\n",
    "ax.plot(lens, linewidth=2, marker=\"o\")\n",
    "\n",
    "# Step 5: Set the title and labels for the plot\n",
    "plt.suptitle(\"Betting on sections of 117 matches\")\n",
    "ax.set_xlabel(\"From 2013 to 2018\")\n",
    "ax.set_ylabel(\"For each section, number of matches we bet on\")\n",
    "\n",
    "# Step 6: Display the plot\n",
    "plt.show()\n"
   ]
  },
  {
   "cell_type": "markdown",
   "id": "80ed1e61-7f0c-4ddf-8cc4-f04176d51ce4",
   "metadata": {},
   "source": [
    "confconf=conf.iloc[:int(0.1*len(conf)),:]\n",
    "profits,lens=profitsAlongTime(confconf,117)\n",
    "fig=plt.figure(figsize=(5.5,3),dpi=120)\n",
    "ax = fig.add_axes([0,0,1,0.9])  \n",
    "ax.plot(lens,linewidth=2,marker=\"o\")\n",
    "plt.suptitle(\"Betting on sections of 117 matches\")\n",
    "ax.set_xlabel(\"From 2013 to 2018\")\n",
    "ax.set_ylabel(\"For each section, number of matches we bet on\")\n",
    "plt.show()"
   ]
  },
  {
   "cell_type": "markdown",
   "id": "9a790481-22f8-4cba-bae6-e1a4b0f51f8a",
   "metadata": {},
   "source": [
    "The matches we are the most confident in are well spread accross the study period.\n",
    "\n",
    "That indicates a certain stability in the betting market.\n",
    "\n",
    "Now let's see our ROI for the consecutive sections of 100 matches between 2013 and 2018."
   ]
  },
  {
   "cell_type": "code",
   "execution_count": null,
   "id": "33eb9ded-4d6a-4a57-883e-8ace4c2fcec7",
   "metadata": {},
   "outputs": [],
   "source": [
    "conf10=conf.iloc[:int(0.1*len(conf)),:]\n",
    "profits,lens=profitsAlongTime(conf10,117)\n",
    "fig=plt.figure(figsize=(5.5,3),dpi=120)\n",
    "plt.plot(profits,linewidth=2,marker=\"o\")\n",
    "plt.suptitle(\"Betting on sections of 117 matches\")\n",
    "plt.xlabel(\"From 2013 to 2018\")\n",
    "plt.ylabel(\"ROI\")\n",
    "plt.show()"
   ]
  },
  {
   "cell_type": "markdown",
   "id": "0fc81422-175e-4f16-b41f-b827fee85966",
   "metadata": {},
   "source": [
    "There is a great variability but the process seems quite stationary.\n",
    "\n",
    "To sum up, a strategy that gives a good ROI in 2013 still gives a good ROI in 2018, which is quite reassuring.\n",
    "\n",
    "But such a variability would force us to wait much more that 117 matches to guarantee the 58% ROI...\n",
    "\n",
    "Now let's bet on 35% of the matches (~3850 matches). The average ROI over our study period in 20%."
   ]
  },
  {
   "cell_type": "code",
   "execution_count": null,
   "id": "9e9a065d-2168-4df2-925c-a2b3b0a04493",
   "metadata": {},
   "outputs": [],
   "source": [
    "confconf=conf.iloc[:int(0.35*len(conf)),:]\n",
    "profits,lens=profitsAlongTime(confconf,117)\n",
    "fig=plt.figure(figsize=(5.5,3),dpi=120)\n",
    "plt.plot(profits,linewidth=2,marker=\"o\")\n",
    "plt.suptitle(\"Betting on sections of 117 matches\")\n",
    "plt.xlabel(\"From 2013 to 2018\")\n",
    "plt.ylabel(\"ROI\")\n",
    "plt.show()"
   ]
  },
  {
   "cell_type": "code",
   "execution_count": null,
   "id": "e7d0d895-7f83-46c5-a2e5-b7a44ba58019",
   "metadata": {},
   "outputs": [],
   "source": [
    "import numpy as np\n",
    "\n",
    "# Calculate the standard deviation using NumPy\n",
    "print(\"Standard deviation: \" + str(round(np.std(profits), 1)))\n"
   ]
  },
  {
   "cell_type": "markdown",
   "id": "177c284a-65b6-46dc-9d7b-4e157ab7a5ce",
   "metadata": {},
   "source": [
    "# By betting on 35% of the matches, by sections of 117 consecutive matches, we almost never loose money !"
   ]
  },
  {
   "cell_type": "markdown",
   "id": "11569a1c-34ba-4825-adbc-85e1ee5c1da7",
   "metadata": {},
   "source": [
    "# Conclusion\n",
    "A comfortable observation is that the betting market seems quite stationary, which is a condition for powerful and secure betting strategies.\n",
    "\n",
    "It also appears that making steady money with tennis betting is possible. The technique above gives a ROI of 20% by betting on 35% of the matches (on Pinnacle). And there seems to be a lot of techniques and improvements to explore to make it bigger.\n",
    "\n",
    "Don't hesitate to tell me if you see any mistake, especially any leak.\n",
    "\n",
    "I hope you liked this kernel ! :)"
   ]
  }
 ],
 "metadata": {
  "kernelspec": {
   "display_name": "Python [conda env:Orange]",
   "language": "python",
   "name": "conda-env-Orange-py"
  },
  "language_info": {
   "codemirror_mode": {
    "name": "ipython",
    "version": 3
   },
   "file_extension": ".py",
   "mimetype": "text/x-python",
   "name": "python",
   "nbconvert_exporter": "python",
   "pygments_lexer": "ipython3",
   "version": "3.9.12"
  }
 },
 "nbformat": 4,
 "nbformat_minor": 5
}
