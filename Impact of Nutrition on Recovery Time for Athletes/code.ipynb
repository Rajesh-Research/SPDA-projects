{
  "nbformat": 4,
  "nbformat_minor": 0,
  "metadata": {
    "colab": {
      "provenance": []
    },
    "kernelspec": {
      "name": "python3",
      "display_name": "Python 3"
    },
    "language_info": {
      "name": "python"
    }
  },
  "cells": [
    {
      "cell_type": "code",
      "execution_count": null,
      "metadata": {
        "id": "5iqSxS5QB2ym"
      },
      "outputs": [],
      "source": [
        "# Install dependencies as needed:\n",
        "# pip install kagglehub[pandas-datasets]\n",
        "import kagglehub\n",
        "from kagglehub import KaggleDatasetAdapter\n",
        "\n",
        "# Set the path to the file you'd like to load\n",
        "file_path = \"\"\n",
        "\n",
        "# Load the latest version\n",
        "df = kagglehub.load_dataset(\n",
        "  KaggleDatasetAdapter.PANDAS,\n",
        "  \"wyattowalsh/basketball\",\n",
        "  file_path,\n",
        "  # Provide any additional arguments like\n",
        "  # sql_query or pandas_kwargs. See the\n",
        "  # documenation for more information:\n",
        "  # https://github.com/Kaggle/kagglehub/blob/main/README.md#kaggledatasetadapterpandas\n",
        ")\n",
        "\n",
        "print(\"First 5 records:\", df.head())"
      ]
    },
    {
      "cell_type": "code",
      "source": [
        "# Install dependencies as needed:\n",
        "# pip install kagglehub[hf-datasets]\n",
        "import kagglehub\n",
        "from kagglehub import KaggleDatasetAdapter\n",
        "\n",
        "# Set the path to the file you'd like to load\n",
        "file_path = \"\"\n",
        "\n",
        "# Load the latest version\n",
        "hf_dataset = kagglehub.load_dataset(\n",
        "  KaggleDatasetAdapter.HUGGING_FACE,\n",
        "  \"wyattowalsh/basketball\",\n",
        "  file_path,\n",
        "  # Provide any additional arguments like\n",
        "  # sql_query, hf_kwargs, or pandas_kwargs. See\n",
        "  # the documenation for more information:\n",
        "  # https://github.com/Kaggle/kagglehub/blob/main/README.md#kaggledatasetadapterhugging_face\n",
        ")\n",
        "\n",
        "print(\"Hugging Face Dataset:\", hf_dataset)"
      ],
      "metadata": {
        "id": "vB8dMVd1B_On"
      },
      "execution_count": null,
      "outputs": []
    },
    {
      "cell_type": "code",
      "source": [
        "import mlcroissant as mlc\n",
        "import itertools\n",
        "\n",
        "# Fetch the Croissant JSON-LD\n",
        "croissant_dataset = mlc.Dataset('https://www.kaggle.com/datasets/wyattowalsh/basketball/croissant/download')\n",
        "\n",
        "# Check what record sets are in the dataset\n",
        "record_sets = croissant_dataset.metadata.record_sets\n",
        "print(record_sets)\n",
        "\n",
        "# Set the path to the file you'd like to load\n",
        "file_path = \"\"\n",
        "\n",
        "# Fetch the records\n",
        "record_set = croissant_dataset.records(record_set=file_path)\n",
        "print(\"First 5 records:\",\n",
        "  list(itertools.islice(record_set, 5))\n",
        ")\n"
      ],
      "metadata": {
        "id": "ie50GoVHCCt8"
      },
      "execution_count": null,
      "outputs": []
    }
  ]
}