{
 "cells": [
  {
   "cell_type": "code",
   "execution_count": 1,
   "id": "517f64c4-9bb0-4e1f-bad1-94cb7d3c80a5",
   "metadata": {},
   "outputs": [],
   "source": [
    "import numpy as np\n",
    "import pandas as pd\n",
    "import matplotlib.pyplot as plt\n",
    "import seaborn as sns"
   ]
  },
  {
   "cell_type": "code",
   "execution_count": 3,
   "id": "c08a91de-d5db-46bb-b8da-e3816947cd39",
   "metadata": {},
   "outputs": [],
   "source": [
    "df = pd.read_csv(r\"C:\\Users\\deepa\\Downloads\\SA Proj Fi\\dataset\\bwf_ranking.csv\")"
   ]
  },
  {
   "cell_type": "code",
   "execution_count": 4,
   "id": "11c30182-fe6d-4f48-a176-3df7cc8bd5ad",
   "metadata": {},
   "outputs": [
    {
     "data": {
      "text/html": [
       "<div>\n",
       "<style scoped>\n",
       "    .dataframe tbody tr th:only-of-type {\n",
       "        vertical-align: middle;\n",
       "    }\n",
       "\n",
       "    .dataframe tbody tr th {\n",
       "        vertical-align: top;\n",
       "    }\n",
       "\n",
       "    .dataframe thead th {\n",
       "        text-align: right;\n",
       "    }\n",
       "</style>\n",
       "<table border=\"1\" class=\"dataframe\">\n",
       "  <thead>\n",
       "    <tr style=\"text-align: right;\">\n",
       "      <th></th>\n",
       "      <th>rank</th>\n",
       "      <th>country_code</th>\n",
       "      <th>player</th>\n",
       "      <th>points</th>\n",
       "      <th>tournaments</th>\n",
       "      <th>confederation</th>\n",
       "      <th>country</th>\n",
       "    </tr>\n",
       "  </thead>\n",
       "  <tbody>\n",
       "    <tr>\n",
       "      <th>0</th>\n",
       "      <td>1</td>\n",
       "      <td>DEN</td>\n",
       "      <td>Viktor Axelsen</td>\n",
       "      <td>108056</td>\n",
       "      <td>14</td>\n",
       "      <td>Europe</td>\n",
       "      <td>Denmark</td>\n",
       "    </tr>\n",
       "    <tr>\n",
       "      <th>1</th>\n",
       "      <td>2</td>\n",
       "      <td>MAS</td>\n",
       "      <td>Lee Zii Jia</td>\n",
       "      <td>79468</td>\n",
       "      <td>15</td>\n",
       "      <td>Asia</td>\n",
       "      <td>Malaysia</td>\n",
       "    </tr>\n",
       "    <tr>\n",
       "      <th>2</th>\n",
       "      <td>3</td>\n",
       "      <td>SGP</td>\n",
       "      <td>Loh Kean Yew</td>\n",
       "      <td>77394</td>\n",
       "      <td>18</td>\n",
       "      <td>Asia</td>\n",
       "      <td>Singapore</td>\n",
       "    </tr>\n",
       "    <tr>\n",
       "      <th>3</th>\n",
       "      <td>4</td>\n",
       "      <td>INA</td>\n",
       "      <td>Jonatan Christie</td>\n",
       "      <td>75812</td>\n",
       "      <td>17</td>\n",
       "      <td>Asia</td>\n",
       "      <td>Indonesia</td>\n",
       "    </tr>\n",
       "    <tr>\n",
       "      <th>4</th>\n",
       "      <td>5</td>\n",
       "      <td>INA</td>\n",
       "      <td>Anthony Sinisuka Ginting</td>\n",
       "      <td>75749</td>\n",
       "      <td>16</td>\n",
       "      <td>Asia</td>\n",
       "      <td>Indonesia</td>\n",
       "    </tr>\n",
       "    <tr>\n",
       "      <th>...</th>\n",
       "      <td>...</td>\n",
       "      <td>...</td>\n",
       "      <td>...</td>\n",
       "      <td>...</td>\n",
       "      <td>...</td>\n",
       "      <td>...</td>\n",
       "      <td>...</td>\n",
       "    </tr>\n",
       "    <tr>\n",
       "      <th>1690</th>\n",
       "      <td>1673</td>\n",
       "      <td>NED</td>\n",
       "      <td>Pjotr Odijk</td>\n",
       "      <td>10</td>\n",
       "      <td>1</td>\n",
       "      <td>Europe</td>\n",
       "      <td>Netherlands</td>\n",
       "    </tr>\n",
       "    <tr>\n",
       "      <th>1691</th>\n",
       "      <td>1673</td>\n",
       "      <td>SRB</td>\n",
       "      <td>Djordje Stepanovic</td>\n",
       "      <td>10</td>\n",
       "      <td>1</td>\n",
       "      <td>Europe</td>\n",
       "      <td>Serbia</td>\n",
       "    </tr>\n",
       "    <tr>\n",
       "      <th>1692</th>\n",
       "      <td>1673</td>\n",
       "      <td>DEN</td>\n",
       "      <td>Sune Juul Ørskov</td>\n",
       "      <td>10</td>\n",
       "      <td>1</td>\n",
       "      <td>Europe</td>\n",
       "      <td>Denmark</td>\n",
       "    </tr>\n",
       "    <tr>\n",
       "      <th>1693</th>\n",
       "      <td>1673</td>\n",
       "      <td>FRO</td>\n",
       "      <td>Rúni Øster</td>\n",
       "      <td>10</td>\n",
       "      <td>1</td>\n",
       "      <td>Europe</td>\n",
       "      <td>Faroe Islands</td>\n",
       "    </tr>\n",
       "    <tr>\n",
       "      <th>1694</th>\n",
       "      <td>1695</td>\n",
       "      <td>MRI</td>\n",
       "      <td>Khemtish Nundah</td>\n",
       "      <td>2</td>\n",
       "      <td>1</td>\n",
       "      <td>Africa</td>\n",
       "      <td>Mauritius</td>\n",
       "    </tr>\n",
       "  </tbody>\n",
       "</table>\n",
       "<p>1695 rows × 7 columns</p>\n",
       "</div>"
      ],
      "text/plain": [
       "      rank country_code                    player  points  tournaments  \\\n",
       "0        1          DEN            Viktor Axelsen  108056           14   \n",
       "1        2          MAS               Lee Zii Jia   79468           15   \n",
       "2        3          SGP              Loh Kean Yew   77394           18   \n",
       "3        4          INA          Jonatan Christie   75812           17   \n",
       "4        5          INA  Anthony Sinisuka Ginting   75749           16   \n",
       "...    ...          ...                       ...     ...          ...   \n",
       "1690  1673          NED               Pjotr Odijk      10            1   \n",
       "1691  1673          SRB        Djordje Stepanovic      10            1   \n",
       "1692  1673          DEN          Sune Juul Ørskov      10            1   \n",
       "1693  1673          FRO                Rúni Øster      10            1   \n",
       "1694  1695          MRI           Khemtish Nundah       2            1   \n",
       "\n",
       "     confederation        country  \n",
       "0           Europe        Denmark  \n",
       "1             Asia       Malaysia  \n",
       "2             Asia      Singapore  \n",
       "3             Asia      Indonesia  \n",
       "4             Asia      Indonesia  \n",
       "...            ...            ...  \n",
       "1690        Europe    Netherlands  \n",
       "1691        Europe         Serbia  \n",
       "1692        Europe        Denmark  \n",
       "1693        Europe  Faroe Islands  \n",
       "1694        Africa      Mauritius  \n",
       "\n",
       "[1695 rows x 7 columns]"
      ]
     },
     "execution_count": 4,
     "metadata": {},
     "output_type": "execute_result"
    }
   ],
   "source": [
    "df"
   ]
  },
  {
   "cell_type": "code",
   "execution_count": 5,
   "id": "bf28a3d4-9f75-4e2b-b81b-2f596c75a0e1",
   "metadata": {},
   "outputs": [
    {
     "data": {
      "text/html": [
       "<div>\n",
       "<style scoped>\n",
       "    .dataframe tbody tr th:only-of-type {\n",
       "        vertical-align: middle;\n",
       "    }\n",
       "\n",
       "    .dataframe tbody tr th {\n",
       "        vertical-align: top;\n",
       "    }\n",
       "\n",
       "    .dataframe thead th {\n",
       "        text-align: right;\n",
       "    }\n",
       "</style>\n",
       "<table border=\"1\" class=\"dataframe\">\n",
       "  <thead>\n",
       "    <tr style=\"text-align: right;\">\n",
       "      <th></th>\n",
       "      <th>rank</th>\n",
       "      <th>country_code</th>\n",
       "      <th>player</th>\n",
       "      <th>points</th>\n",
       "      <th>tournaments</th>\n",
       "      <th>confederation</th>\n",
       "      <th>country</th>\n",
       "    </tr>\n",
       "  </thead>\n",
       "  <tbody>\n",
       "    <tr>\n",
       "      <th>0</th>\n",
       "      <td>1</td>\n",
       "      <td>DEN</td>\n",
       "      <td>Viktor Axelsen</td>\n",
       "      <td>108056</td>\n",
       "      <td>14</td>\n",
       "      <td>Europe</td>\n",
       "      <td>Denmark</td>\n",
       "    </tr>\n",
       "    <tr>\n",
       "      <th>1</th>\n",
       "      <td>2</td>\n",
       "      <td>MAS</td>\n",
       "      <td>Lee Zii Jia</td>\n",
       "      <td>79468</td>\n",
       "      <td>15</td>\n",
       "      <td>Asia</td>\n",
       "      <td>Malaysia</td>\n",
       "    </tr>\n",
       "    <tr>\n",
       "      <th>2</th>\n",
       "      <td>3</td>\n",
       "      <td>SGP</td>\n",
       "      <td>Loh Kean Yew</td>\n",
       "      <td>77394</td>\n",
       "      <td>18</td>\n",
       "      <td>Asia</td>\n",
       "      <td>Singapore</td>\n",
       "    </tr>\n",
       "    <tr>\n",
       "      <th>3</th>\n",
       "      <td>4</td>\n",
       "      <td>INA</td>\n",
       "      <td>Jonatan Christie</td>\n",
       "      <td>75812</td>\n",
       "      <td>17</td>\n",
       "      <td>Asia</td>\n",
       "      <td>Indonesia</td>\n",
       "    </tr>\n",
       "    <tr>\n",
       "      <th>4</th>\n",
       "      <td>5</td>\n",
       "      <td>INA</td>\n",
       "      <td>Anthony Sinisuka Ginting</td>\n",
       "      <td>75749</td>\n",
       "      <td>16</td>\n",
       "      <td>Asia</td>\n",
       "      <td>Indonesia</td>\n",
       "    </tr>\n",
       "  </tbody>\n",
       "</table>\n",
       "</div>"
      ],
      "text/plain": [
       "   rank country_code                    player  points  tournaments  \\\n",
       "0     1          DEN            Viktor Axelsen  108056           14   \n",
       "1     2          MAS               Lee Zii Jia   79468           15   \n",
       "2     3          SGP              Loh Kean Yew   77394           18   \n",
       "3     4          INA          Jonatan Christie   75812           17   \n",
       "4     5          INA  Anthony Sinisuka Ginting   75749           16   \n",
       "\n",
       "  confederation    country  \n",
       "0        Europe    Denmark  \n",
       "1          Asia   Malaysia  \n",
       "2          Asia  Singapore  \n",
       "3          Asia  Indonesia  \n",
       "4          Asia  Indonesia  "
      ]
     },
     "execution_count": 5,
     "metadata": {},
     "output_type": "execute_result"
    }
   ],
   "source": [
    "df.head()"
   ]
  },
  {
   "cell_type": "code",
   "execution_count": 6,
   "id": "3cd1c923-2b7c-4b60-b7e3-6c7fbfab0303",
   "metadata": {},
   "outputs": [
    {
     "data": {
      "text/html": [
       "<div>\n",
       "<style scoped>\n",
       "    .dataframe tbody tr th:only-of-type {\n",
       "        vertical-align: middle;\n",
       "    }\n",
       "\n",
       "    .dataframe tbody tr th {\n",
       "        vertical-align: top;\n",
       "    }\n",
       "\n",
       "    .dataframe thead th {\n",
       "        text-align: right;\n",
       "    }\n",
       "</style>\n",
       "<table border=\"1\" class=\"dataframe\">\n",
       "  <thead>\n",
       "    <tr style=\"text-align: right;\">\n",
       "      <th></th>\n",
       "      <th>rank</th>\n",
       "      <th>country_code</th>\n",
       "      <th>player</th>\n",
       "      <th>points</th>\n",
       "      <th>tournaments</th>\n",
       "      <th>confederation</th>\n",
       "      <th>country</th>\n",
       "    </tr>\n",
       "  </thead>\n",
       "  <tbody>\n",
       "    <tr>\n",
       "      <th>1690</th>\n",
       "      <td>1673</td>\n",
       "      <td>NED</td>\n",
       "      <td>Pjotr Odijk</td>\n",
       "      <td>10</td>\n",
       "      <td>1</td>\n",
       "      <td>Europe</td>\n",
       "      <td>Netherlands</td>\n",
       "    </tr>\n",
       "    <tr>\n",
       "      <th>1691</th>\n",
       "      <td>1673</td>\n",
       "      <td>SRB</td>\n",
       "      <td>Djordje Stepanovic</td>\n",
       "      <td>10</td>\n",
       "      <td>1</td>\n",
       "      <td>Europe</td>\n",
       "      <td>Serbia</td>\n",
       "    </tr>\n",
       "    <tr>\n",
       "      <th>1692</th>\n",
       "      <td>1673</td>\n",
       "      <td>DEN</td>\n",
       "      <td>Sune Juul Ørskov</td>\n",
       "      <td>10</td>\n",
       "      <td>1</td>\n",
       "      <td>Europe</td>\n",
       "      <td>Denmark</td>\n",
       "    </tr>\n",
       "    <tr>\n",
       "      <th>1693</th>\n",
       "      <td>1673</td>\n",
       "      <td>FRO</td>\n",
       "      <td>Rúni Øster</td>\n",
       "      <td>10</td>\n",
       "      <td>1</td>\n",
       "      <td>Europe</td>\n",
       "      <td>Faroe Islands</td>\n",
       "    </tr>\n",
       "    <tr>\n",
       "      <th>1694</th>\n",
       "      <td>1695</td>\n",
       "      <td>MRI</td>\n",
       "      <td>Khemtish Nundah</td>\n",
       "      <td>2</td>\n",
       "      <td>1</td>\n",
       "      <td>Africa</td>\n",
       "      <td>Mauritius</td>\n",
       "    </tr>\n",
       "  </tbody>\n",
       "</table>\n",
       "</div>"
      ],
      "text/plain": [
       "      rank country_code              player  points  tournaments  \\\n",
       "1690  1673          NED         Pjotr Odijk      10            1   \n",
       "1691  1673          SRB  Djordje Stepanovic      10            1   \n",
       "1692  1673          DEN    Sune Juul Ørskov      10            1   \n",
       "1693  1673          FRO          Rúni Øster      10            1   \n",
       "1694  1695          MRI     Khemtish Nundah       2            1   \n",
       "\n",
       "     confederation        country  \n",
       "1690        Europe    Netherlands  \n",
       "1691        Europe         Serbia  \n",
       "1692        Europe        Denmark  \n",
       "1693        Europe  Faroe Islands  \n",
       "1694        Africa      Mauritius  "
      ]
     },
     "execution_count": 6,
     "metadata": {},
     "output_type": "execute_result"
    }
   ],
   "source": [
    "df.tail()"
   ]
  },
  {
   "cell_type": "code",
   "execution_count": 7,
   "id": "649b86bf-06d1-49eb-aac5-1c571a75e108",
   "metadata": {},
   "outputs": [
    {
     "data": {
      "text/plain": [
       "rank             0\n",
       "country_code     0\n",
       "player           0\n",
       "points           0\n",
       "tournaments      0\n",
       "confederation    0\n",
       "country          0\n",
       "dtype: int64"
      ]
     },
     "execution_count": 7,
     "metadata": {},
     "output_type": "execute_result"
    }
   ],
   "source": [
    "df.isnull().sum()"
   ]
  },
  {
   "cell_type": "code",
   "execution_count": 8,
   "id": "51aae290-766e-4110-9fb4-04f6f156c9c6",
   "metadata": {},
   "outputs": [
    {
     "name": "stdout",
     "output_type": "stream",
     "text": [
      "Duplicate rows: 0\n"
     ]
    }
   ],
   "source": [
    "# Check and drop duplicate rows (if any)\n",
    "print(\"Duplicate rows:\", df.duplicated().sum())\n",
    "df = df.drop_duplicates()"
   ]
  },
  {
   "cell_type": "code",
   "execution_count": 9,
   "id": "a3856daa-feca-408b-9948-cdddbd18596b",
   "metadata": {},
   "outputs": [],
   "source": [
    "#Exploratory Data Analysis (EDA)"
   ]
  },
  {
   "cell_type": "code",
   "execution_count": 10,
   "id": "268f568b-db97-4c39-b444-4073eef46e93",
   "metadata": {},
   "outputs": [
    {
     "name": "stdout",
     "output_type": "stream",
     "text": [
      "<class 'pandas.core.frame.DataFrame'>\n",
      "Int64Index: 1695 entries, 0 to 1694\n",
      "Data columns (total 7 columns):\n",
      " #   Column         Non-Null Count  Dtype \n",
      "---  ------         --------------  ----- \n",
      " 0   rank           1695 non-null   int64 \n",
      " 1   country_code   1695 non-null   object\n",
      " 2   player         1695 non-null   object\n",
      " 3   points         1695 non-null   int64 \n",
      " 4   tournaments    1695 non-null   int64 \n",
      " 5   confederation  1695 non-null   object\n",
      " 6   country        1695 non-null   object\n",
      "dtypes: int64(3), object(4)\n",
      "memory usage: 105.9+ KB\n"
     ]
    }
   ],
   "source": [
    "df.info()"
   ]
  },
  {
   "cell_type": "code",
   "execution_count": 13,
   "id": "dd40735b-2198-45c8-84fe-cc7e9620bf45",
   "metadata": {},
   "outputs": [
    {
     "data": {
      "text/html": [
       "<div>\n",
       "<style scoped>\n",
       "    .dataframe tbody tr th:only-of-type {\n",
       "        vertical-align: middle;\n",
       "    }\n",
       "\n",
       "    .dataframe tbody tr th {\n",
       "        vertical-align: top;\n",
       "    }\n",
       "\n",
       "    .dataframe thead th {\n",
       "        text-align: right;\n",
       "    }\n",
       "</style>\n",
       "<table border=\"1\" class=\"dataframe\">\n",
       "  <thead>\n",
       "    <tr style=\"text-align: right;\">\n",
       "      <th></th>\n",
       "      <th>rank</th>\n",
       "      <th>points</th>\n",
       "      <th>tournaments</th>\n",
       "    </tr>\n",
       "  </thead>\n",
       "  <tbody>\n",
       "    <tr>\n",
       "      <th>count</th>\n",
       "      <td>1695.000000</td>\n",
       "      <td>1695.000000</td>\n",
       "      <td>1695.000000</td>\n",
       "    </tr>\n",
       "    <tr>\n",
       "      <th>mean</th>\n",
       "      <td>836.380531</td>\n",
       "      <td>3535.443658</td>\n",
       "      <td>3.842478</td>\n",
       "    </tr>\n",
       "    <tr>\n",
       "      <th>std</th>\n",
       "      <td>479.578187</td>\n",
       "      <td>9159.811535</td>\n",
       "      <td>4.071450</td>\n",
       "    </tr>\n",
       "    <tr>\n",
       "      <th>min</th>\n",
       "      <td>1.000000</td>\n",
       "      <td>2.000000</td>\n",
       "      <td>1.000000</td>\n",
       "    </tr>\n",
       "    <tr>\n",
       "      <th>25%</th>\n",
       "      <td>424.000000</td>\n",
       "      <td>130.000000</td>\n",
       "      <td>1.000000</td>\n",
       "    </tr>\n",
       "    <tr>\n",
       "      <th>50%</th>\n",
       "      <td>829.000000</td>\n",
       "      <td>550.000000</td>\n",
       "      <td>2.000000</td>\n",
       "    </tr>\n",
       "    <tr>\n",
       "      <th>75%</th>\n",
       "      <td>1250.000000</td>\n",
       "      <td>2215.000000</td>\n",
       "      <td>5.000000</td>\n",
       "    </tr>\n",
       "    <tr>\n",
       "      <th>max</th>\n",
       "      <td>1695.000000</td>\n",
       "      <td>108056.000000</td>\n",
       "      <td>20.000000</td>\n",
       "    </tr>\n",
       "  </tbody>\n",
       "</table>\n",
       "</div>"
      ],
      "text/plain": [
       "              rank         points  tournaments\n",
       "count  1695.000000    1695.000000  1695.000000\n",
       "mean    836.380531    3535.443658     3.842478\n",
       "std     479.578187    9159.811535     4.071450\n",
       "min       1.000000       2.000000     1.000000\n",
       "25%     424.000000     130.000000     1.000000\n",
       "50%     829.000000     550.000000     2.000000\n",
       "75%    1250.000000    2215.000000     5.000000\n",
       "max    1695.000000  108056.000000    20.000000"
      ]
     },
     "execution_count": 13,
     "metadata": {},
     "output_type": "execute_result"
    }
   ],
   "source": [
    "df.describe()"
   ]
  },
  {
   "cell_type": "code",
   "execution_count": 14,
   "id": "84e68fcc-7e12-43d7-9885-795c94c08b46",
   "metadata": {},
   "outputs": [],
   "source": [
    "#Target Variable Distribution"
   ]
  },
  {
   "cell_type": "code",
   "execution_count": 15,
   "id": "789b91d2-5d27-4664-97e4-8513c349bb91",
   "metadata": {},
   "outputs": [
    {
     "data": {
      "image/png": "[encoded data removed]",
      "text/plain": [
       "<Figure size 1000x400 with 1 Axes>"
      ]
     },
     "metadata": {},
     "output_type": "display_data"
    }
   ],
   "source": [
    "plt.figure(figsize=(10, 4))\n",
    "sns.histplot(df['rank'], bins=30, kde=True)\n",
    "plt.title('Distribution of Player Ranks')\n",
    "plt.xlabel('Rank')\n",
    "plt.ylabel('Count')\n",
    "plt.show()"
   ]
  },
  {
   "cell_type": "code",
   "execution_count": 18,
   "id": "b37cc3f0-34d9-4e0d-99f6-170caced8e48",
   "metadata": {},
   "outputs": [],
   "source": [
    "#Feature Engineering"
   ]
  },
  {
   "cell_type": "code",
   "execution_count": 19,
   "id": "d665f8b8-fef4-4c7f-b938-08727a9f56cc",
   "metadata": {},
   "outputs": [],
   "source": [
    "#Add points_per_tournament"
   ]
  },
  {
   "cell_type": "code",
   "execution_count": 20,
   "id": "b45b0b02-5bda-418d-b581-4054c2258468",
   "metadata": {},
   "outputs": [
    {
     "data": {
      "text/html": [
       "<div>\n",
       "<style scoped>\n",
       "    .dataframe tbody tr th:only-of-type {\n",
       "        vertical-align: middle;\n",
       "    }\n",
       "\n",
       "    .dataframe tbody tr th {\n",
       "        vertical-align: top;\n",
       "    }\n",
       "\n",
       "    .dataframe thead th {\n",
       "        text-align: right;\n",
       "    }\n",
       "</style>\n",
       "<table border=\"1\" class=\"dataframe\">\n",
       "  <thead>\n",
       "    <tr style=\"text-align: right;\">\n",
       "      <th></th>\n",
       "      <th>rank</th>\n",
       "      <th>country_code</th>\n",
       "      <th>player</th>\n",
       "      <th>points</th>\n",
       "      <th>tournaments</th>\n",
       "      <th>confederation</th>\n",
       "      <th>country</th>\n",
       "      <th>points_per_tournament</th>\n",
       "    </tr>\n",
       "  </thead>\n",
       "  <tbody>\n",
       "    <tr>\n",
       "      <th>0</th>\n",
       "      <td>1</td>\n",
       "      <td>DEN</td>\n",
       "      <td>Viktor Axelsen</td>\n",
       "      <td>108056</td>\n",
       "      <td>14</td>\n",
       "      <td>Europe</td>\n",
       "      <td>Denmark</td>\n",
       "      <td>7718.285714</td>\n",
       "    </tr>\n",
       "    <tr>\n",
       "      <th>1</th>\n",
       "      <td>2</td>\n",
       "      <td>MAS</td>\n",
       "      <td>Lee Zii Jia</td>\n",
       "      <td>79468</td>\n",
       "      <td>15</td>\n",
       "      <td>Asia</td>\n",
       "      <td>Malaysia</td>\n",
       "      <td>5297.866667</td>\n",
       "    </tr>\n",
       "    <tr>\n",
       "      <th>2</th>\n",
       "      <td>3</td>\n",
       "      <td>SGP</td>\n",
       "      <td>Loh Kean Yew</td>\n",
       "      <td>77394</td>\n",
       "      <td>18</td>\n",
       "      <td>Asia</td>\n",
       "      <td>Singapore</td>\n",
       "      <td>4299.666667</td>\n",
       "    </tr>\n",
       "    <tr>\n",
       "      <th>3</th>\n",
       "      <td>4</td>\n",
       "      <td>INA</td>\n",
       "      <td>Jonatan Christie</td>\n",
       "      <td>75812</td>\n",
       "      <td>17</td>\n",
       "      <td>Asia</td>\n",
       "      <td>Indonesia</td>\n",
       "      <td>4459.529412</td>\n",
       "    </tr>\n",
       "    <tr>\n",
       "      <th>4</th>\n",
       "      <td>5</td>\n",
       "      <td>INA</td>\n",
       "      <td>Anthony Sinisuka Ginting</td>\n",
       "      <td>75749</td>\n",
       "      <td>16</td>\n",
       "      <td>Asia</td>\n",
       "      <td>Indonesia</td>\n",
       "      <td>4734.312500</td>\n",
       "    </tr>\n",
       "  </tbody>\n",
       "</table>\n",
       "</div>"
      ],
      "text/plain": [
       "   rank country_code                    player  points  tournaments  \\\n",
       "0     1          DEN            Viktor Axelsen  108056           14   \n",
       "1     2          MAS               Lee Zii Jia   79468           15   \n",
       "2     3          SGP              Loh Kean Yew   77394           18   \n",
       "3     4          INA          Jonatan Christie   75812           17   \n",
       "4     5          INA  Anthony Sinisuka Ginting   75749           16   \n",
       "\n",
       "  confederation    country  points_per_tournament  \n",
       "0        Europe    Denmark            7718.285714  \n",
       "1          Asia   Malaysia            5297.866667  \n",
       "2          Asia  Singapore            4299.666667  \n",
       "3          Asia  Indonesia            4459.529412  \n",
       "4          Asia  Indonesia            4734.312500  "
      ]
     },
     "execution_count": 20,
     "metadata": {},
     "output_type": "execute_result"
    }
   ],
   "source": [
    "df['points_per_tournament'] = df['points'] / df['tournaments']\n",
    "df.head()"
   ]
  },
  {
   "cell_type": "code",
   "execution_count": 21,
   "id": "45567961-3e1a-446d-b6a1-5e9e5477a82c",
   "metadata": {},
   "outputs": [
    {
     "data": {
      "text/html": [
       "<div>\n",
       "<style scoped>\n",
       "    .dataframe tbody tr th:only-of-type {\n",
       "        vertical-align: middle;\n",
       "    }\n",
       "\n",
       "    .dataframe tbody tr th {\n",
       "        vertical-align: top;\n",
       "    }\n",
       "\n",
       "    .dataframe thead th {\n",
       "        text-align: right;\n",
       "    }\n",
       "</style>\n",
       "<table border=\"1\" class=\"dataframe\">\n",
       "  <thead>\n",
       "    <tr style=\"text-align: right;\">\n",
       "      <th></th>\n",
       "      <th>rank</th>\n",
       "      <th>country_code</th>\n",
       "      <th>player</th>\n",
       "      <th>points</th>\n",
       "      <th>tournaments</th>\n",
       "      <th>confederation</th>\n",
       "      <th>country</th>\n",
       "      <th>points_per_tournament</th>\n",
       "    </tr>\n",
       "  </thead>\n",
       "  <tbody>\n",
       "    <tr>\n",
       "      <th>1690</th>\n",
       "      <td>1673</td>\n",
       "      <td>NED</td>\n",
       "      <td>Pjotr Odijk</td>\n",
       "      <td>10</td>\n",
       "      <td>1</td>\n",
       "      <td>Europe</td>\n",
       "      <td>Netherlands</td>\n",
       "      <td>10.0</td>\n",
       "    </tr>\n",
       "    <tr>\n",
       "      <th>1691</th>\n",
       "      <td>1673</td>\n",
       "      <td>SRB</td>\n",
       "      <td>Djordje Stepanovic</td>\n",
       "      <td>10</td>\n",
       "      <td>1</td>\n",
       "      <td>Europe</td>\n",
       "      <td>Serbia</td>\n",
       "      <td>10.0</td>\n",
       "    </tr>\n",
       "    <tr>\n",
       "      <th>1692</th>\n",
       "      <td>1673</td>\n",
       "      <td>DEN</td>\n",
       "      <td>Sune Juul Ørskov</td>\n",
       "      <td>10</td>\n",
       "      <td>1</td>\n",
       "      <td>Europe</td>\n",
       "      <td>Denmark</td>\n",
       "      <td>10.0</td>\n",
       "    </tr>\n",
       "    <tr>\n",
       "      <th>1693</th>\n",
       "      <td>1673</td>\n",
       "      <td>FRO</td>\n",
       "      <td>Rúni Øster</td>\n",
       "      <td>10</td>\n",
       "      <td>1</td>\n",
       "      <td>Europe</td>\n",
       "      <td>Faroe Islands</td>\n",
       "      <td>10.0</td>\n",
       "    </tr>\n",
       "    <tr>\n",
       "      <th>1694</th>\n",
       "      <td>1695</td>\n",
       "      <td>MRI</td>\n",
       "      <td>Khemtish Nundah</td>\n",
       "      <td>2</td>\n",
       "      <td>1</td>\n",
       "      <td>Africa</td>\n",
       "      <td>Mauritius</td>\n",
       "      <td>2.0</td>\n",
       "    </tr>\n",
       "  </tbody>\n",
       "</table>\n",
       "</div>"
      ],
      "text/plain": [
       "      rank country_code              player  points  tournaments  \\\n",
       "1690  1673          NED         Pjotr Odijk      10            1   \n",
       "1691  1673          SRB  Djordje Stepanovic      10            1   \n",
       "1692  1673          DEN    Sune Juul Ørskov      10            1   \n",
       "1693  1673          FRO          Rúni Øster      10            1   \n",
       "1694  1695          MRI     Khemtish Nundah       2            1   \n",
       "\n",
       "     confederation        country  points_per_tournament  \n",
       "1690        Europe    Netherlands                   10.0  \n",
       "1691        Europe         Serbia                   10.0  \n",
       "1692        Europe        Denmark                   10.0  \n",
       "1693        Europe  Faroe Islands                   10.0  \n",
       "1694        Africa      Mauritius                    2.0  "
      ]
     },
     "execution_count": 21,
     "metadata": {},
     "output_type": "execute_result"
    }
   ],
   "source": [
    "df.tail()"
   ]
  },
  {
   "cell_type": "code",
   "execution_count": 22,
   "id": "4c86d1a9-40ef-4575-a74b-2c473dcdbffb",
   "metadata": {},
   "outputs": [],
   "source": [
    "#Correlation between new feature and rank"
   ]
  },
  {
   "cell_type": "code",
   "execution_count": 23,
   "id": "b98e66fb-6a4e-479f-8f2a-643998e8c99d",
   "metadata": {},
   "outputs": [
    {
     "data": {
      "image/png": "[encoded data removed]",
      "text/plain": [
       "<Figure size 640x480 with 1 Axes>"
      ]
     },
     "metadata": {},
     "output_type": "display_data"
    }
   ],
   "source": [
    "sns.scatterplot(x='points_per_tournament', y='rank', data=df)\n",
    "plt.title('Points per Tournament vs Rank')\n",
    "plt.show()"
   ]
  },
  {
   "cell_type": "code",
   "execution_count": 24,
   "id": "8e00e6f9-221b-4154-920d-c57a55b99547",
   "metadata": {},
   "outputs": [],
   "source": [
    "df.to_csv(r\"C:\\Users\\deepa\\Downloads\\SA Proj Fi\\dataset\\bwf_ranking_updated.csv\", index=False)"
   ]
  },
  {
   "cell_type": "code",
   "execution_count": 25,
   "id": "cb52ec0b-1412-41ef-b42d-f304bd1f2f04",
   "metadata": {},
   "outputs": [
    {
     "data": {
      "text/html": [
       "<div>\n",
       "<style scoped>\n",
       "    .dataframe tbody tr th:only-of-type {\n",
       "        vertical-align: middle;\n",
       "    }\n",
       "\n",
       "    .dataframe tbody tr th {\n",
       "        vertical-align: top;\n",
       "    }\n",
       "\n",
       "    .dataframe thead th {\n",
       "        text-align: right;\n",
       "    }\n",
       "</style>\n",
       "<table border=\"1\" class=\"dataframe\">\n",
       "  <thead>\n",
       "    <tr style=\"text-align: right;\">\n",
       "      <th></th>\n",
       "      <th>rank</th>\n",
       "      <th>country_code</th>\n",
       "      <th>player</th>\n",
       "      <th>points</th>\n",
       "      <th>tournaments</th>\n",
       "      <th>confederation</th>\n",
       "      <th>country</th>\n",
       "      <th>points_per_tournament</th>\n",
       "    </tr>\n",
       "  </thead>\n",
       "  <tbody>\n",
       "    <tr>\n",
       "      <th>0</th>\n",
       "      <td>1</td>\n",
       "      <td>DEN</td>\n",
       "      <td>Viktor Axelsen</td>\n",
       "      <td>108056</td>\n",
       "      <td>14</td>\n",
       "      <td>Europe</td>\n",
       "      <td>Denmark</td>\n",
       "      <td>7718.285714</td>\n",
       "    </tr>\n",
       "    <tr>\n",
       "      <th>1</th>\n",
       "      <td>2</td>\n",
       "      <td>MAS</td>\n",
       "      <td>Lee Zii Jia</td>\n",
       "      <td>79468</td>\n",
       "      <td>15</td>\n",
       "      <td>Asia</td>\n",
       "      <td>Malaysia</td>\n",
       "      <td>5297.866667</td>\n",
       "    </tr>\n",
       "    <tr>\n",
       "      <th>2</th>\n",
       "      <td>3</td>\n",
       "      <td>SGP</td>\n",
       "      <td>Loh Kean Yew</td>\n",
       "      <td>77394</td>\n",
       "      <td>18</td>\n",
       "      <td>Asia</td>\n",
       "      <td>Singapore</td>\n",
       "      <td>4299.666667</td>\n",
       "    </tr>\n",
       "    <tr>\n",
       "      <th>3</th>\n",
       "      <td>4</td>\n",
       "      <td>INA</td>\n",
       "      <td>Jonatan Christie</td>\n",
       "      <td>75812</td>\n",
       "      <td>17</td>\n",
       "      <td>Asia</td>\n",
       "      <td>Indonesia</td>\n",
       "      <td>4459.529412</td>\n",
       "    </tr>\n",
       "    <tr>\n",
       "      <th>4</th>\n",
       "      <td>5</td>\n",
       "      <td>INA</td>\n",
       "      <td>Anthony Sinisuka Ginting</td>\n",
       "      <td>75749</td>\n",
       "      <td>16</td>\n",
       "      <td>Asia</td>\n",
       "      <td>Indonesia</td>\n",
       "      <td>4734.312500</td>\n",
       "    </tr>\n",
       "  </tbody>\n",
       "</table>\n",
       "</div>"
      ],
      "text/plain": [
       "   rank country_code                    player  points  tournaments  \\\n",
       "0     1          DEN            Viktor Axelsen  108056           14   \n",
       "1     2          MAS               Lee Zii Jia   79468           15   \n",
       "2     3          SGP              Loh Kean Yew   77394           18   \n",
       "3     4          INA          Jonatan Christie   75812           17   \n",
       "4     5          INA  Anthony Sinisuka Ginting   75749           16   \n",
       "\n",
       "  confederation    country  points_per_tournament  \n",
       "0        Europe    Denmark            7718.285714  \n",
       "1          Asia   Malaysia            5297.866667  \n",
       "2          Asia  Singapore            4299.666667  \n",
       "3          Asia  Indonesia            4459.529412  \n",
       "4          Asia  Indonesia            4734.312500  "
      ]
     },
     "execution_count": 25,
     "metadata": {},
     "output_type": "execute_result"
    }
   ],
   "source": [
    "df.head()"
   ]
  },
  {
   "cell_type": "code",
   "execution_count": 26,
   "id": "8b5e2976-5356-45a7-92ee-ec91c6390792",
   "metadata": {},
   "outputs": [],
   "source": [
    "#Label Encoding"
   ]
  },
  {
   "cell_type": "code",
   "execution_count": 27,
   "id": "24c0413b-993b-4310-97a1-de74bece1759",
   "metadata": {},
   "outputs": [
    {
     "name": "stdout",
     "output_type": "stream",
     "text": [
      "{'Africa': 0, 'Asia': 1, 'Europe': 2, 'Oceania': 3, 'Pan America': 4}\n"
     ]
    }
   ],
   "source": [
    "from sklearn.preprocessing import LabelEncoder\n",
    "\n",
    "# Initialize encoder\n",
    "le = LabelEncoder()\n",
    "\n",
    "# Fit on the confederation column\n",
    "df['confederation_encoded'] = le.fit_transform(df['confederation'])\n",
    "\n",
    "# Optional: check mapping\n",
    "confed_mapping = dict(zip(le.classes_, le.transform(le.classes_)))\n",
    "print(confed_mapping)"
   ]
  },
  {
   "cell_type": "code",
   "execution_count": 28,
   "id": "c6ea48d0-c6de-408e-af3f-21a80eb987b4",
   "metadata": {},
   "outputs": [
    {
     "data": {
      "text/html": [
       "<div>\n",
       "<style scoped>\n",
       "    .dataframe tbody tr th:only-of-type {\n",
       "        vertical-align: middle;\n",
       "    }\n",
       "\n",
       "    .dataframe tbody tr th {\n",
       "        vertical-align: top;\n",
       "    }\n",
       "\n",
       "    .dataframe thead th {\n",
       "        text-align: right;\n",
       "    }\n",
       "</style>\n",
       "<table border=\"1\" class=\"dataframe\">\n",
       "  <thead>\n",
       "    <tr style=\"text-align: right;\">\n",
       "      <th></th>\n",
       "      <th>rank</th>\n",
       "      <th>country_code</th>\n",
       "      <th>player</th>\n",
       "      <th>points</th>\n",
       "      <th>tournaments</th>\n",
       "      <th>confederation</th>\n",
       "      <th>country</th>\n",
       "      <th>points_per_tournament</th>\n",
       "      <th>confederation_encoded</th>\n",
       "    </tr>\n",
       "  </thead>\n",
       "  <tbody>\n",
       "    <tr>\n",
       "      <th>0</th>\n",
       "      <td>1</td>\n",
       "      <td>DEN</td>\n",
       "      <td>Viktor Axelsen</td>\n",
       "      <td>108056</td>\n",
       "      <td>14</td>\n",
       "      <td>Europe</td>\n",
       "      <td>Denmark</td>\n",
       "      <td>7718.285714</td>\n",
       "      <td>2</td>\n",
       "    </tr>\n",
       "    <tr>\n",
       "      <th>1</th>\n",
       "      <td>2</td>\n",
       "      <td>MAS</td>\n",
       "      <td>Lee Zii Jia</td>\n",
       "      <td>79468</td>\n",
       "      <td>15</td>\n",
       "      <td>Asia</td>\n",
       "      <td>Malaysia</td>\n",
       "      <td>5297.866667</td>\n",
       "      <td>1</td>\n",
       "    </tr>\n",
       "    <tr>\n",
       "      <th>2</th>\n",
       "      <td>3</td>\n",
       "      <td>SGP</td>\n",
       "      <td>Loh Kean Yew</td>\n",
       "      <td>77394</td>\n",
       "      <td>18</td>\n",
       "      <td>Asia</td>\n",
       "      <td>Singapore</td>\n",
       "      <td>4299.666667</td>\n",
       "      <td>1</td>\n",
       "    </tr>\n",
       "    <tr>\n",
       "      <th>3</th>\n",
       "      <td>4</td>\n",
       "      <td>INA</td>\n",
       "      <td>Jonatan Christie</td>\n",
       "      <td>75812</td>\n",
       "      <td>17</td>\n",
       "      <td>Asia</td>\n",
       "      <td>Indonesia</td>\n",
       "      <td>4459.529412</td>\n",
       "      <td>1</td>\n",
       "    </tr>\n",
       "    <tr>\n",
       "      <th>4</th>\n",
       "      <td>5</td>\n",
       "      <td>INA</td>\n",
       "      <td>Anthony Sinisuka Ginting</td>\n",
       "      <td>75749</td>\n",
       "      <td>16</td>\n",
       "      <td>Asia</td>\n",
       "      <td>Indonesia</td>\n",
       "      <td>4734.312500</td>\n",
       "      <td>1</td>\n",
       "    </tr>\n",
       "  </tbody>\n",
       "</table>\n",
       "</div>"
      ],
      "text/plain": [
       "   rank country_code                    player  points  tournaments  \\\n",
       "0     1          DEN            Viktor Axelsen  108056           14   \n",
       "1     2          MAS               Lee Zii Jia   79468           15   \n",
       "2     3          SGP              Loh Kean Yew   77394           18   \n",
       "3     4          INA          Jonatan Christie   75812           17   \n",
       "4     5          INA  Anthony Sinisuka Ginting   75749           16   \n",
       "\n",
       "  confederation    country  points_per_tournament  confederation_encoded  \n",
       "0        Europe    Denmark            7718.285714                      2  \n",
       "1          Asia   Malaysia            5297.866667                      1  \n",
       "2          Asia  Singapore            4299.666667                      1  \n",
       "3          Asia  Indonesia            4459.529412                      1  \n",
       "4          Asia  Indonesia            4734.312500                      1  "
      ]
     },
     "execution_count": 28,
     "metadata": {},
     "output_type": "execute_result"
    }
   ],
   "source": [
    "df.head()"
   ]
  },
  {
   "cell_type": "code",
   "execution_count": 29,
   "id": "325fdeb1-87ab-4a88-ab8f-f505a9013cab",
   "metadata": {},
   "outputs": [],
   "source": [
    "#Input features and target variable"
   ]
  },
  {
   "cell_type": "code",
   "execution_count": 30,
   "id": "8e4b9252-9888-4b02-9940-0acf1247ef6b",
   "metadata": {},
   "outputs": [],
   "source": [
    "X = df[['points', 'tournaments', 'points_per_tournament', 'confederation_encoded']]\n",
    "y = df['rank']"
   ]
  },
  {
   "cell_type": "code",
   "execution_count": 31,
   "id": "21b3ce3a-24e7-46eb-87c5-1c1f1a472a6e",
   "metadata": {},
   "outputs": [],
   "source": [
    "#Train-Test Split"
   ]
  },
  {
   "cell_type": "code",
   "execution_count": 32,
   "id": "7df8e536-1e71-4d5c-9074-24556b1872c7",
   "metadata": {},
   "outputs": [],
   "source": [
    "from sklearn.model_selection import train_test_split\n",
    "\n",
    "X_train, X_test, y_train, y_test = train_test_split(X, y, test_size=0.2, random_state=42)"
   ]
  },
  {
   "cell_type": "code",
   "execution_count": 33,
   "id": "e657905a-095a-4700-9962-4fa443f9e8a1",
   "metadata": {},
   "outputs": [],
   "source": [
    "#Model Building"
   ]
  },
  {
   "cell_type": "code",
   "execution_count": 34,
   "id": "da869e18-f425-4423-b1da-089828e733f5",
   "metadata": {},
   "outputs": [],
   "source": [
    "from sklearn.ensemble import RandomForestRegressor\n",
    "from sklearn.metrics import mean_absolute_error, mean_squared_error, r2_score\n",
    "import joblib"
   ]
  },
  {
   "cell_type": "code",
   "execution_count": 35,
   "id": "dc274a59-9a41-4f2f-9cb8-9f0913c93be8",
   "metadata": {},
   "outputs": [],
   "source": [
    "#Train the RandomForestRegressor"
   ]
  },
  {
   "cell_type": "code",
   "execution_count": 36,
   "id": "72b9dea1-7062-4426-98e0-5d0b50ef7ce3",
   "metadata": {},
   "outputs": [
    {
     "name": "stdout",
     "output_type": "stream",
     "text": [
      "MAE: 0.6279351032448353\n",
      "MSE: 1.47144690265487\n",
      "R²: 0.9999935610234516\n"
     ]
    }
   ],
   "source": [
    "# Initialize the model\n",
    "rf_model = RandomForestRegressor(n_estimators=100, random_state=42)\n",
    "\n",
    "# Train the model\n",
    "rf_model.fit(X_train, y_train)\n",
    "\n",
    "# Predictions on the test set\n",
    "y_pred = rf_model.predict(X_test)\n",
    "\n",
    "# Evaluate the model\n",
    "mae = mean_absolute_error(y_test, y_pred)\n",
    "mse = mean_squared_error(y_test, y_pred)\n",
    "r2 = r2_score(y_test, y_pred)\n",
    "\n",
    "# Print evaluation metrics\n",
    "print(f\"MAE: {mae}\")\n",
    "print(f\"MSE: {mse}\")\n",
    "print(f\"R²: {r2}\")"
   ]
  },
  {
   "cell_type": "code",
   "execution_count": 38,
   "id": "e934abcd-f32a-4c03-a6db-6e1ecf46396e",
   "metadata": {},
   "outputs": [
    {
     "name": "stdout",
     "output_type": "stream",
     "text": [
      "Predicted Rank for Player 1: 541.5\n",
      "Predicted Rank for Player 2: 542.36\n"
     ]
    },
    {
     "name": "stderr",
     "output_type": "stream",
     "text": [
      "C:\\Users\\deepa\\anaconda3\\envs\\vnl_env\\lib\\site-packages\\sklearn\\utils\\validation.py:2739: UserWarning: X does not have valid feature names, but RandomForestRegressor was fitted with feature names\n",
      "  warnings.warn(\n",
      "C:\\Users\\deepa\\anaconda3\\envs\\vnl_env\\lib\\site-packages\\sklearn\\utils\\validation.py:2739: UserWarning: X does not have valid feature names, but RandomForestRegressor was fitted with feature names\n",
      "  warnings.warn(\n"
     ]
    }
   ],
   "source": [
    "# Sample input\n",
    "points_player_1 = 1400\n",
    "tournaments_player_1 = 10\n",
    "confederation = 'Asia'  # Assuming 'Asia' as the confederation for both players\n",
    "\n",
    "points_player_2 = 1400\n",
    "tournaments_player_2 = 1\n",
    "\n",
    "# Calculate points per tournament\n",
    "points_per_tournament_1 = points_player_1 / tournaments_player_1\n",
    "points_per_tournament_2 = points_player_2 / tournaments_player_2\n",
    "\n",
    "# Encode the confederation\n",
    "confederation_encoded = le.transform([confederation])[0]\n",
    "\n",
    "# Prepare input data for both players\n",
    "input_data_player_1 = np.array([[points_player_1, tournaments_player_1, points_per_tournament_1, confederation_encoded]])\n",
    "input_data_player_2 = np.array([[points_player_2, tournaments_player_2, points_per_tournament_2, confederation_encoded]])\n",
    "\n",
    "# Predict the rank for both players\n",
    "predicted_rank_player_1 = rf_model.predict(input_data_player_1)\n",
    "predicted_rank_player_2 = rf_model.predict(input_data_player_2)\n",
    "\n",
    "# Output the predicted ranks\n",
    "print(f\"Predicted Rank for Player 1: {predicted_rank_player_1[0]}\")\n",
    "print(f\"Predicted Rank for Player 2: {predicted_rank_player_2[0]}\")"
   ]
  },
  {
   "cell_type": "code",
   "execution_count": 39,
   "id": "388c594b-d6b8-416f-b730-0fd4e8f4d207",
   "metadata": {},
   "outputs": [
    {
     "name": "stdout",
     "output_type": "stream",
     "text": [
      "Predicted Rank for Player 1: 542\n",
      "Predicted Rank for Player 2: 542\n"
     ]
    },
    {
     "name": "stderr",
     "output_type": "stream",
     "text": [
      "C:\\Users\\deepa\\anaconda3\\envs\\vnl_env\\lib\\site-packages\\sklearn\\utils\\validation.py:2739: UserWarning: X does not have valid feature names, but RandomForestRegressor was fitted with feature names\n",
      "  warnings.warn(\n",
      "C:\\Users\\deepa\\anaconda3\\envs\\vnl_env\\lib\\site-packages\\sklearn\\utils\\validation.py:2739: UserWarning: X does not have valid feature names, but RandomForestRegressor was fitted with feature names\n",
      "  warnings.warn(\n"
     ]
    }
   ],
   "source": [
    "# Predict the rank for both players (keep the result as integers for ranks)\n",
    "predicted_rank_player_1 = round(rf_model.predict(input_data_player_1)[0])\n",
    "predicted_rank_player_2 = round(rf_model.predict(input_data_player_2)[0])\n",
    "\n",
    "# Output the predicted ranks\n",
    "print(f\"Predicted Rank for Player 1: {predicted_rank_player_1}\")\n",
    "print(f\"Predicted Rank for Player 2: {predicted_rank_player_2}\")"
   ]
  },
  {
   "cell_type": "code",
   "execution_count": 40,
   "id": "30b12ee9-219d-4b16-b59e-6e3183e08404",
   "metadata": {},
   "outputs": [],
   "source": [
    "#Training the Model with points_per_tournament"
   ]
  },
  {
   "cell_type": "code",
   "execution_count": 41,
   "id": "bca543c5-3f7d-42a9-af8d-052f9007b7cd",
   "metadata": {},
   "outputs": [],
   "source": [
    "# Create X using only points_per_tournament\n",
    "X = df[['points_per_tournament']]  # Now using just points_per_tournament\n",
    "y = df['rank']  # Target variable is still the rank"
   ]
  },
  {
   "cell_type": "code",
   "execution_count": 42,
   "id": "3cf5e648-4520-4701-ad6b-b53fee146e38",
   "metadata": {},
   "outputs": [],
   "source": [
    "# Model Training (RandomForestRegressor)"
   ]
  },
  {
   "cell_type": "code",
   "execution_count": 43,
   "id": "9cb3d3d6-984c-44ec-badb-8ab478307611",
   "metadata": {},
   "outputs": [],
   "source": [
    "from sklearn.ensemble import RandomForestRegressor\n",
    "from sklearn.model_selection import train_test_split\n",
    "\n",
    "# Split the data\n",
    "X_train, X_test, y_train, y_test = train_test_split(X, y, test_size=0.2, random_state=42)\n",
    "\n",
    "# Train the model\n",
    "rf_model = RandomForestRegressor(n_estimators=100, random_state=42)\n",
    "rf_model.fit(X_train, y_train)\n",
    "\n",
    "# Evaluate the model\n",
    "y_pred = rf_model.predict(X_test)"
   ]
  },
  {
   "cell_type": "code",
   "execution_count": 57,
   "id": "57652cc8-c46e-4379-967c-b55ac28ca321",
   "metadata": {},
   "outputs": [
    {
     "name": "stdout",
     "output_type": "stream",
     "text": [
      "Predicted Rank for Player 1: 71.99\n",
      "Predicted Rank for Player 2: 56.01\n"
     ]
    },
    {
     "name": "stderr",
     "output_type": "stream",
     "text": [
      "C:\\Users\\deepa\\anaconda3\\envs\\vnl_env\\lib\\site-packages\\sklearn\\utils\\validation.py:2739: UserWarning: X does not have valid feature names, but RandomForestRegressor was fitted with feature names\n",
      "  warnings.warn(\n",
      "C:\\Users\\deepa\\anaconda3\\envs\\vnl_env\\lib\\site-packages\\sklearn\\utils\\validation.py:2739: UserWarning: X does not have valid feature names, but RandomForestRegressor was fitted with feature names\n",
      "  warnings.warn(\n"
     ]
    }
   ],
   "source": [
    "import numpy as np\n",
    "\n",
    "# Sample input for two players\n",
    "points_player_1 = 28169\n",
    "tournaments_player_1 = 14\n",
    "\n",
    "points_player_2 = 28169\n",
    "tournaments_player_2 = 10\n",
    "\n",
    "# Calculate points per tournament for both players\n",
    "points_per_tournament_1 = points_player_1 / tournaments_player_1\n",
    "points_per_tournament_2 = points_player_2 / tournaments_player_2\n",
    "\n",
    "# Prepare input data for both players\n",
    "input_data_player_1 = np.array([[points_per_tournament_1]])\n",
    "input_data_player_2 = np.array([[points_per_tournament_2]])\n",
    "\n",
    "# Predict the rank for both players\n",
    "predicted_rank_player_1 = rf_model.predict(input_data_player_1)\n",
    "predicted_rank_player_2 = rf_model.predict(input_data_player_2)\n",
    "\n",
    "# Output the predicted ranks\n",
    "print(f\"Predicted Rank for Player 1: {predicted_rank_player_1[0]}\")\n",
    "print(f\"Predicted Rank for Player 2: {predicted_rank_player_2[0]}\")"
   ]
  },
  {
   "cell_type": "code",
   "execution_count": 58,
   "id": "847e68b0-a7bd-4a42-aa25-8b29d0aacfee",
   "metadata": {},
   "outputs": [],
   "source": [
    "#expanding the project into regional rankings"
   ]
  },
  {
   "cell_type": "code",
   "execution_count": 59,
   "id": "99366e1d-d7ee-47bf-b320-30c1aa24994b",
   "metadata": {},
   "outputs": [],
   "source": [
    "# Step 1: Add rank within each confederation\n",
    "df['confederation_rank'] = df.groupby('confederation')['points_per_tournament'] \\\n",
    "                              .rank(ascending=False, method='min')"
   ]
  },
  {
   "cell_type": "code",
   "execution_count": 62,
   "id": "a61d1853-b160-45ec-86a6-a08755350521",
   "metadata": {},
   "outputs": [
    {
     "name": "stdout",
     "output_type": "stream",
     "text": [
      "🌍 Predicted World Rank: 25\n",
      "🌐 Predicted Asia Rank: 21\n"
     ]
    },
    {
     "name": "stderr",
     "output_type": "stream",
     "text": [
      "C:\\Users\\deepa\\anaconda3\\envs\\vnl_env\\lib\\site-packages\\sklearn\\utils\\validation.py:2739: UserWarning: X does not have valid feature names, but RandomForestRegressor was fitted with feature names\n",
      "  warnings.warn(\n",
      "C:\\Users\\deepa\\AppData\\Local\\Temp\\ipykernel_23860\\1298789769.py:16: FutureWarning: The frame.append method is deprecated and will be removed from pandas in a future version. Use pandas.concat instead.\n",
      "  temp_df = temp_df.append({\n"
     ]
    }
   ],
   "source": [
    "# User input\n",
    "points = 16180\n",
    "tournaments = 5\n",
    "confederation = \"Asia\"\n",
    "\n",
    "# Calculate points per tournament\n",
    "points_per_tournament = points / tournaments\n",
    "\n",
    "# Predict world rank using trained model\n",
    "input_data = np.array([[points_per_tournament]])\n",
    "predicted_world_rank = rf_model.predict(input_data)[0]\n",
    "\n",
    "# Determine confederation rank manually (non-ML)\n",
    "# Append a temp row to dataset\n",
    "temp_df = df.copy()\n",
    "temp_df = temp_df.append({\n",
    "    'points_per_tournament': points_per_tournament,\n",
    "    'confederation': confederation\n",
    "}, ignore_index=True)\n",
    "\n",
    "# Rank within confederation\n",
    "temp_df['confed_rank'] = temp_df[temp_df['confederation'] == confederation]['points_per_tournament'] \\\n",
    "                            .rank(ascending=False, method='min')\n",
    "\n",
    "# Get the last added row’s confed rank\n",
    "predicted_confed_rank = temp_df.iloc[-1]['confed_rank']\n",
    "\n",
    "# Output both ranks\n",
    "print(f\"🌍 Predicted World Rank: {round(predicted_world_rank)}\")\n",
    "print(f\"🌐 Predicted {confederation} Rank: {int(predicted_confed_rank)}\")"
   ]
  },
  {
   "cell_type": "code",
   "execution_count": 63,
   "id": "e1d413a2-657d-4645-8781-041ab88b5f98",
   "metadata": {},
   "outputs": [
    {
     "data": {
      "text/plain": [
       "['rank_prediction_model.pkl']"
      ]
     },
     "execution_count": 63,
     "metadata": {},
     "output_type": "execute_result"
    }
   ],
   "source": [
    "import joblib\n",
    "\n",
    "# Save the model\n",
    "joblib.dump(rf_model, \"rank_prediction_model.pkl\")\n",
    "\n",
    "# Optional: save LabelEncoder if used earlier\n",
    "# joblib.dump(le, \"confederation_encoder.pkl\")"
   ]
  },
  {
   "cell_type": "code",
   "execution_count": 65,
   "id": "7a842753-f8e1-471e-ac28-bbaeb45c179d",
   "metadata": {},
   "outputs": [],
   "source": [
    "#Logic for Similar Players"
   ]
  },
  {
   "cell_type": "code",
   "execution_count": 66,
   "id": "00ea61ad-0a9f-4f8c-b452-c048f573b9b2",
   "metadata": {},
   "outputs": [
    {
     "name": "stdout",
     "output_type": "stream",
     "text": [
      "    rank                  player  points  tournaments confederation  \\\n",
      "10    11             Lu Guang Zu   59110           18          Asia   \n",
      "13    14           Lee Cheuk Yiu   51531           16          Asia   \n",
      "21    22             Li Shi Feng   44353           14          Asia   \n",
      "23    24  Chico Aura Dwi Wardoyo   44118           14          Asia   \n",
      "40    41            Kevin Cordon   32787           10   Pan America   \n",
      "\n",
      "            country  \n",
      "10            China  \n",
      "13  Hong Kong China  \n",
      "21            China  \n",
      "23        Indonesia  \n",
      "40        Guatemala  \n"
     ]
    }
   ],
   "source": [
    "# Example: Find similar players (within ±5% range of points_per_tournament)\n",
    "similar_range = 0.05  # 5% margin\n",
    "\n",
    "lower_bound = points_per_tournament * (1 - similar_range)\n",
    "upper_bound = points_per_tournament * (1 + similar_range)\n",
    "\n",
    "similar_players = df[(df['points_per_tournament'] >= lower_bound) &\n",
    "                     (df['points_per_tournament'] <= upper_bound)]\n",
    "\n",
    "# Show relevant columns\n",
    "similar_players = similar_players[['rank', 'player', 'points', 'tournaments', 'confederation', 'country']]\n",
    "print(similar_players.head())"
   ]
  },
  {
   "cell_type": "code",
   "execution_count": null,
   "id": "482f7856-16e0-4316-b8f5-0ca44a9da8aa",
   "metadata": {},
   "outputs": [],
   "source": []
  }
 ],
 "metadata": {
  "kernelspec": {
   "display_name": "Python 3 (ipykernel)",
   "language": "python",
   "name": "python3"
  },
  "language_info": {
   "codemirror_mode": {
    "name": "ipython",
    "version": 3
   },
   "file_extension": ".py",
   "mimetype": "text/x-python",
   "name": "python",
   "nbconvert_exporter": "python",
   "pygments_lexer": "ipython3",
   "version": "3.9.21"
  }
 },
 "nbformat": 4,
 "nbformat_minor": 5
}
