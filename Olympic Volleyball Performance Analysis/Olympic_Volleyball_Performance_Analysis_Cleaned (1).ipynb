{
 "cells": [
  {
   "cell_type": "markdown",
   "metadata": {},
   "source": [
    "#  Olympic Volleyball Performance Analysis\n",
    "### Objective:\n",
    "Analyze historical Olympic volleyball data to identify performance trends, key success factors, and the evolution of the sport over time."
   ]
  },
  {
   "cell_type": "code",
   "execution_count": null,
   "metadata": {},
   "outputs": [],
   "source": [
    "import pandas as pd\n",
    "import matplotlib.pyplot as plt\n",
    "import seaborn as sns\n",
    "\n",
    "# Load dataset\n",
    "df = pd.read_csv('/kaggle/input/olympic-history/OlympicHistory.csv')\n",
    "df.head()"
   ]
  },
  {
   "cell_type": "markdown",
   "metadata": {},
   "source": [
    "## 🧹 Data Filtering and Cleaning"
   ]
  },
  {
   "cell_type": "code",
   "execution_count": null,
   "metadata": {},
   "outputs": [],
   "source": [
    "# Filter for Volleyball data only\n",
    "volleyball_df = df[df['Sport'] == 'Volleyball']\n",
    "\n",
    "# Drop unnecessary columns\n",
    "volleyball_df = volleyball_df[['Year', 'Team', 'Event', 'Medal']]\n",
    "\n",
    "# Remove duplicates\n",
    "volleyball_df = volleyball_df.drop_duplicates()\n",
    "volleyball_df.head()"
   ]
  },
  {
   "cell_type": "markdown",
   "metadata": {},
   "source": [
    "##  Trend of Participation Over the Years"
   ]
  },
  {
   "cell_type": "code",
   "execution_count": null,
   "metadata": {},
   "outputs": [],
   "source": [
    "participation = volleyball_df.groupby('Year')['Team'].nunique().reset_index()\n",
    "participation.columns = ['Year', 'Number_of_Teams']\n",
    "\n",
    "plt.figure(figsize=(10,6))\n",
    "sns.lineplot(data=participation, x='Year', y='Number_of_Teams', marker='o')\n",
    "plt.title('Number of Participating Volleyball Teams Over the Years')\n",
    "plt.xlabel('Year')\n",
    "plt.ylabel('Number of Teams')\n",
    "plt.grid(True)\n",
    "plt.show()"
   ]
  },
  {
   "cell_type": "markdown",
   "metadata": {},
   "source": [
    "## 🥇 Medal Count by Country"
   ]
  },
  {
   "cell_type": "code",
   "execution_count": null,
   "metadata": {},
   "outputs": [],
   "source": [
    "medal_count = volleyball_df.dropna().groupby('Team')['Medal'].count().sort_values(ascending=False).head(10)\n",
    "\n",
    "plt.figure(figsize=(12,6))\n",
    "medal_count.plot(kind='bar', color='gold')\n",
    "plt.title('Top 10 Countries by Total Volleyball Medals')\n",
    "plt.xlabel('Country')\n",
    "plt.ylabel('Total Medals')\n",
    "plt.show()"
   ]
  },
  {
   "cell_type": "markdown",
   "metadata": {},
   "source": [
    "##  Evolution of Events"
   ]
  },
  {
   "cell_type": "code",
   "execution_count": null,
   "metadata": {},
   "outputs": [],
   "source": [
    "event_trend = volleyball_df.groupby(['Year', 'Event']).size().reset_index(name='Count')\n",
    "\n",
    "plt.figure(figsize=(12,6))\n",
    "sns.lineplot(data=event_trend, x='Year', y='Count', hue='Event')\n",
    "plt.title('Evolution of Volleyball Events in Olympics')\n",
    "plt.xlabel('Year')\n",
    "plt.ylabel('Event Count')\n",
    "plt.legend(loc='upper left')\n",
    "plt.show()"
   ]
  }
 ],
 "metadata": {
  "kernelspec": {
   "display_name": "Python 3 (ipykernel)",
   "language": "python",
   "name": "python3"
  },
  "language_info": {
   "codemirror_mode": {
    "name": "ipython",
    "version": 3
   },
   "file_extension": ".py",
   "mimetype": "text/x-python",
   "name": "python",
   "nbconvert_exporter": "python",
   "pygments_lexer": "ipython3",
   "version": "3.11.3"
  }
 },
 "nbformat": 4,
 "nbformat_minor": 2
}
