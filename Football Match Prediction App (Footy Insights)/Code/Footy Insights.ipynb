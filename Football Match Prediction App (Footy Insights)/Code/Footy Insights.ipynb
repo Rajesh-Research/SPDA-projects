{
  "nbformat": 4,
  "nbformat_minor": 0,
  "metadata": {
    "colab": {
      "provenance": []
    },
    "kernelspec": {
      "name": "python3",
      "display_name": "Python 3"
    },
    "language_info": {
      "name": "python"
    }
  },
  "cells": [
    {
      "cell_type": "code",
      "execution_count": 1,
      "metadata": {
        "colab": {
          "base_uri": "https://localhost:8080/"
        },
        "id": "EpgW5XPSkdrP",
        "outputId": "bb6fcec7-63b2-4556-884f-b1b1744e06ae"
      },
      "outputs": [
        {
          "output_type": "stream",
          "name": "stdout",
          "text": [
            "Requirement already satisfied: pandas in /usr/local/lib/python3.11/dist-packages (2.2.2)\n",
            "Requirement already satisfied: numpy in /usr/local/lib/python3.11/dist-packages (2.0.2)\n",
            "Requirement already satisfied: scikit-learn in /usr/local/lib/python3.11/dist-packages (1.6.1)\n",
            "Requirement already satisfied: joblib in /usr/local/lib/python3.11/dist-packages (1.4.2)\n",
            "Requirement already satisfied: python-dateutil>=2.8.2 in /usr/local/lib/python3.11/dist-packages (from pandas) (2.8.2)\n",
            "Requirement already satisfied: pytz>=2020.1 in /usr/local/lib/python3.11/dist-packages (from pandas) (2025.2)\n",
            "Requirement already satisfied: tzdata>=2022.7 in /usr/local/lib/python3.11/dist-packages (from pandas) (2025.2)\n",
            "Requirement already satisfied: scipy>=1.6.0 in /usr/local/lib/python3.11/dist-packages (from scikit-learn) (1.14.1)\n",
            "Requirement already satisfied: threadpoolctl>=3.1.0 in /usr/local/lib/python3.11/dist-packages (from scikit-learn) (3.6.0)\n",
            "Requirement already satisfied: six>=1.5 in /usr/local/lib/python3.11/dist-packages (from python-dateutil>=2.8.2->pandas) (1.17.0)\n"
          ]
        }
      ],
      "source": [
        "# Install required libraries\n",
        "!pip install pandas numpy scikit-learn joblib"
      ]
    },
    {
      "cell_type": "code",
      "source": [
        "# Import libraries\n",
        "import pandas as pd\n",
        "import numpy as np\n",
        "from sklearn.model_selection import train_test_split\n",
        "from sklearn.ensemble import RandomForestClassifier\n",
        "from sklearn.preprocessing import LabelEncoder, StandardScaler\n",
        "from sklearn.metrics import accuracy_score, classification_report\n",
        "import joblib\n",
        "from google.colab import files"
      ],
      "metadata": {
        "id": "TuTadMIzlvaq"
      },
      "execution_count": 2,
      "outputs": []
    },
    {
      "cell_type": "code",
      "source": [
        "# Upload the four CSV files\n",
        "uploaded = files.upload()"
      ],
      "metadata": {
        "colab": {
          "base_uri": "https://localhost:8080/",
          "height": 177
        },
        "id": "lLxVbRtFmD8V",
        "outputId": "ca748e91-c0e4-404a-eb27-010d2d7814fb"
      },
      "execution_count": 3,
      "outputs": [
        {
          "output_type": "display_data",
          "data": {
            "text/plain": [
              "<IPython.core.display.HTML object>"
            ],
            "text/html": [
              "\n",
              "     <input type=\"file\" id=\"files-69294558-5a1c-4ac4-97ea-b600c018d265\" name=\"files[]\" multiple disabled\n",
              "        style=\"border:none\" />\n",
              "     <output id=\"result-69294558-5a1c-4ac4-97ea-b600c018d265\">\n",
              "      Upload widget is only available when the cell has been executed in the\n",
              "      current browser session. Please rerun this cell to enable.\n",
              "      </output>\n",
              "      <script>// Copyright 2017 Google LLC\n",
              "//\n",
              "// Licensed under the Apache License, Version 2.0 (the \"License\");\n",
              "// you may not use this file except in compliance with the License.\n",
              "// You may obtain a copy of the License at\n",
              "//\n",
              "//      http://www.apache.org/licenses/LICENSE-2.0\n",
              "//\n",
              "// Unless required by applicable law or agreed to in writing, software\n",
              "// distributed under the License is distributed on an \"AS IS\" BASIS,\n",
              "// WITHOUT WARRANTIES OR CONDITIONS OF ANY KIND, either express or implied.\n",
              "// See the License for the specific language governing permissions and\n",
              "// limitations under the License.\n",
              "\n",
              "/**\n",
              " * @fileoverview Helpers for google.colab Python module.\n",
              " */\n",
              "(function(scope) {\n",
              "function span(text, styleAttributes = {}) {\n",
              "  const element = document.createElement('span');\n",
              "  element.textContent = text;\n",
              "  for (const key of Object.keys(styleAttributes)) {\n",
              "    element.style[key] = styleAttributes[key];\n",
              "  }\n",
              "  return element;\n",
              "}\n",
              "\n",
              "// Max number of bytes which will be uploaded at a time.\n",
              "const MAX_PAYLOAD_SIZE = 100 * 1024;\n",
              "\n",
              "function _uploadFiles(inputId, outputId) {\n",
              "  const steps = uploadFilesStep(inputId, outputId);\n",
              "  const outputElement = document.getElementById(outputId);\n",
              "  // Cache steps on the outputElement to make it available for the next call\n",
              "  // to uploadFilesContinue from Python.\n",
              "  outputElement.steps = steps;\n",
              "\n",
              "  return _uploadFilesContinue(outputId);\n",
              "}\n",
              "\n",
              "// This is roughly an async generator (not supported in the browser yet),\n",
              "// where there are multiple asynchronous steps and the Python side is going\n",
              "// to poll for completion of each step.\n",
              "// This uses a Promise to block the python side on completion of each step,\n",
              "// then passes the result of the previous step as the input to the next step.\n",
              "function _uploadFilesContinue(outputId) {\n",
              "  const outputElement = document.getElementById(outputId);\n",
              "  const steps = outputElement.steps;\n",
              "\n",
              "  const next = steps.next(outputElement.lastPromiseValue);\n",
              "  return Promise.resolve(next.value.promise).then((value) => {\n",
              "    // Cache the last promise value to make it available to the next\n",
              "    // step of the generator.\n",
              "    outputElement.lastPromiseValue = value;\n",
              "    return next.value.response;\n",
              "  });\n",
              "}\n",
              "\n",
              "/**\n",
              " * Generator function which is called between each async step of the upload\n",
              " * process.\n",
              " * @param {string} inputId Element ID of the input file picker element.\n",
              " * @param {string} outputId Element ID of the output display.\n",
              " * @return {!Iterable<!Object>} Iterable of next steps.\n",
              " */\n",
              "function* uploadFilesStep(inputId, outputId) {\n",
              "  const inputElement = document.getElementById(inputId);\n",
              "  inputElement.disabled = false;\n",
              "\n",
              "  const outputElement = document.getElementById(outputId);\n",
              "  outputElement.innerHTML = '';\n",
              "\n",
              "  const pickedPromise = new Promise((resolve) => {\n",
              "    inputElement.addEventListener('change', (e) => {\n",
              "      resolve(e.target.files);\n",
              "    });\n",
              "  });\n",
              "\n",
              "  const cancel = document.createElement('button');\n",
              "  inputElement.parentElement.appendChild(cancel);\n",
              "  cancel.textContent = 'Cancel upload';\n",
              "  const cancelPromise = new Promise((resolve) => {\n",
              "    cancel.onclick = () => {\n",
              "      resolve(null);\n",
              "    };\n",
              "  });\n",
              "\n",
              "  // Wait for the user to pick the files.\n",
              "  const files = yield {\n",
              "    promise: Promise.race([pickedPromise, cancelPromise]),\n",
              "    response: {\n",
              "      action: 'starting',\n",
              "    }\n",
              "  };\n",
              "\n",
              "  cancel.remove();\n",
              "\n",
              "  // Disable the input element since further picks are not allowed.\n",
              "  inputElement.disabled = true;\n",
              "\n",
              "  if (!files) {\n",
              "    return {\n",
              "      response: {\n",
              "        action: 'complete',\n",
              "      }\n",
              "    };\n",
              "  }\n",
              "\n",
              "  for (const file of files) {\n",
              "    const li = document.createElement('li');\n",
              "    li.append(span(file.name, {fontWeight: 'bold'}));\n",
              "    li.append(span(\n",
              "        `(${file.type || 'n/a'}) - ${file.size} bytes, ` +\n",
              "        `last modified: ${\n",
              "            file.lastModifiedDate ? file.lastModifiedDate.toLocaleDateString() :\n",
              "                                    'n/a'} - `));\n",
              "    const percent = span('0% done');\n",
              "    li.appendChild(percent);\n",
              "\n",
              "    outputElement.appendChild(li);\n",
              "\n",
              "    const fileDataPromise = new Promise((resolve) => {\n",
              "      const reader = new FileReader();\n",
              "      reader.onload = (e) => {\n",
              "        resolve(e.target.result);\n",
              "      };\n",
              "      reader.readAsArrayBuffer(file);\n",
              "    });\n",
              "    // Wait for the data to be ready.\n",
              "    let fileData = yield {\n",
              "      promise: fileDataPromise,\n",
              "      response: {\n",
              "        action: 'continue',\n",
              "      }\n",
              "    };\n",
              "\n",
              "    // Use a chunked sending to avoid message size limits. See b/62115660.\n",
              "    let position = 0;\n",
              "    do {\n",
              "      const length = Math.min(fileData.byteLength - position, MAX_PAYLOAD_SIZE);\n",
              "      const chunk = new Uint8Array(fileData, position, length);\n",
              "      position += length;\n",
              "\n",
              "      const base64 = btoa(String.fromCharCode.apply(null, chunk));\n",
              "      yield {\n",
              "        response: {\n",
              "          action: 'append',\n",
              "          file: file.name,\n",
              "          data: base64,\n",
              "        },\n",
              "      };\n",
              "\n",
              "      let percentDone = fileData.byteLength === 0 ?\n",
              "          100 :\n",
              "          Math.round((position / fileData.byteLength) * 100);\n",
              "      percent.textContent = `${percentDone}% done`;\n",
              "\n",
              "    } while (position < fileData.byteLength);\n",
              "  }\n",
              "\n",
              "  // All done.\n",
              "  yield {\n",
              "    response: {\n",
              "      action: 'complete',\n",
              "    }\n",
              "  };\n",
              "}\n",
              "\n",
              "scope.google = scope.google || {};\n",
              "scope.google.colab = scope.google.colab || {};\n",
              "scope.google.colab._files = {\n",
              "  _uploadFiles,\n",
              "  _uploadFilesContinue,\n",
              "};\n",
              "})(self);\n",
              "</script> "
            ]
          },
          "metadata": {}
        },
        {
          "output_type": "stream",
          "name": "stdout",
          "text": [
            "Saving former_names.csv to former_names.csv\n",
            "Saving goalscorers.csv to goalscorers.csv\n",
            "Saving results.csv to results.csv\n",
            "Saving shootouts.csv to shootouts.csv\n"
          ]
        }
      ]
    },
    {
      "cell_type": "code",
      "source": [
        "# Load the datasets\n",
        "results_df = pd.read_csv('results.csv')\n",
        "shootouts_df = pd.read_csv('shootouts.csv')\n",
        "former_names_df = pd.read_csv('former_names.csv')\n",
        "goalscorers_df = pd.read_csv('goalscorers.csv')\n",
        "\n",
        "# Display shapes and column names to verify\n",
        "print(\"Results Shape:\", results_df.shape, \"\\nColumns:\", results_df.columns.tolist())\n",
        "print(\"Shootouts Shape:\", shootouts_df.shape, \"\\nColumns:\", shootouts_df.columns.tolist())\n",
        "print(\"Former Names Shape:\", former_names_df.shape, \"\\nColumns:\", former_names_df.columns.tolist())\n",
        "print(\"Goalscorers Shape:\", goalscorers_df.shape, \"\\nColumns:\", goalscorers_df.columns.tolist())"
      ],
      "metadata": {
        "colab": {
          "base_uri": "https://localhost:8080/"
        },
        "id": "6OpHXrAgmGdu",
        "outputId": "ba0ee3e6-cf20-4763-a917-641243a30b47"
      },
      "execution_count": 6,
      "outputs": [
        {
          "output_type": "stream",
          "name": "stdout",
          "text": [
            "Results Shape: (48207, 9) \n",
            "Columns: ['date', 'home_team', 'away_team', 'home_score', 'away_score', 'tournament', 'city', 'country', 'neutral']\n",
            "Shootouts Shape: (645, 5) \n",
            "Columns: ['date', 'home_team', 'away_team', 'winner', 'first_shooter']\n",
            "Former Names Shape: (34, 4) \n",
            "Columns: ['current', 'former', 'start_date', 'end_date']\n",
            "Goalscorers Shape: (44362, 8) \n",
            "Columns: ['date', 'home_team', 'away_team', 'team', 'scorer', 'minute', 'own_goal', 'penalty']\n"
          ]
        }
      ]
    },
    {
      "cell_type": "code",
      "source": [
        "# Create mapping dictionary from former_names.csv using 'former' and 'current'\n",
        "name_mapping = dict(zip(former_names_df['former'], former_names_df['current']))\n",
        "\n",
        "# Function to replace former names with current names\n",
        "def standardize_team_name(team):\n",
        "    return name_mapping.get(team, team)\n",
        "\n",
        "# Apply standardization to all relevant columns\n",
        "for df in [results_df, shootouts_df, goalscorers_df]:\n",
        "    for col in ['home_team', 'away_team']:\n",
        "        df[col] = df[col].apply(standardize_team_name)\n",
        "    if 'team' in df.columns:\n",
        "        df['team'] = df['team'].apply(standardize_team_name)\n",
        "    if 'winner' in df.columns:\n",
        "        df['winner'] = df['winner'].apply(standardize_team_name)\n",
        "\n",
        "# Verify a few rows\n",
        "print(\"Standardized Results Head:\\n\", results_df.head())\n",
        "print(\"Standardized Shootouts Head:\\n\", shootouts_df.head())\n",
        "print(\"Standardized Goalscorers Head:\\n\", goalscorers_df.head())"
      ],
      "metadata": {
        "colab": {
          "base_uri": "https://localhost:8080/"
        },
        "id": "X7sbU-TxmTQW",
        "outputId": "782498b9-964f-4de0-b363-658966ad34d1"
      },
      "execution_count": 7,
      "outputs": [
        {
          "output_type": "stream",
          "name": "stdout",
          "text": [
            "Standardized Results Head:\n",
            "          date home_team away_team  home_score  away_score tournament     city  \\\n",
            "0  1872-11-30  Scotland   England           0           0   Friendly  Glasgow   \n",
            "1  1873-03-08   England  Scotland           4           2   Friendly   London   \n",
            "2  1874-03-07  Scotland   England           2           1   Friendly  Glasgow   \n",
            "3  1875-03-06   England  Scotland           2           2   Friendly   London   \n",
            "4  1876-03-04  Scotland   England           3           0   Friendly  Glasgow   \n",
            "\n",
            "    country  neutral  \n",
            "0  Scotland    False  \n",
            "1   England    False  \n",
            "2  Scotland    False  \n",
            "3   England    False  \n",
            "4  Scotland    False  \n",
            "Standardized Shootouts Head:\n",
            "          date    home_team         away_team       winner first_shooter\n",
            "0  1967-08-22        India            Taiwan       Taiwan           NaN\n",
            "1  1971-11-14  South Korea  Vietnam Republic  South Korea           NaN\n",
            "2  1972-05-07  South Korea              Iraq         Iraq           NaN\n",
            "3  1972-05-17     Thailand       South Korea  South Korea           NaN\n",
            "4  1972-05-19     Thailand          Cambodia     Thailand           NaN\n",
            "Standardized Goalscorers Head:\n",
            "          date  home_team away_team       team            scorer  minute  \\\n",
            "0  1916-07-02      Chile   Uruguay    Uruguay   José Piendibene    44.0   \n",
            "1  1916-07-02      Chile   Uruguay    Uruguay  Isabelino Gradín    55.0   \n",
            "2  1916-07-02      Chile   Uruguay    Uruguay  Isabelino Gradín    70.0   \n",
            "3  1916-07-02      Chile   Uruguay    Uruguay   José Piendibene    75.0   \n",
            "4  1916-07-06  Argentina     Chile  Argentina     Alberto Ohaco     2.0   \n",
            "\n",
            "   own_goal  penalty  \n",
            "0     False    False  \n",
            "1     False    False  \n",
            "2     False    False  \n",
            "3     False    False  \n",
            "4     False    False  \n"
          ]
        }
      ]
    },
    {
      "cell_type": "code",
      "source": [
        "# Merge results_df with shootouts_df (drop 'first_shooter' as it’s not needed for prediction)\n",
        "combined_df = results_df.merge(shootouts_df.drop(columns=['first_shooter']),\n",
        "                              on=['date', 'home_team', 'away_team'], how='left')\n",
        "\n",
        "# Add outcome column\n",
        "combined_df['outcome'] = np.where(combined_df['home_score'] > combined_df['away_score'], 1,\n",
        "                                  np.where(combined_df['home_score'] < combined_df['away_score'], 2, 0))\n",
        "\n",
        "# Adjust outcome for shootouts\n",
        "combined_df.loc[combined_df['winner'].notna() & (combined_df['outcome'] == 0), 'outcome'] = \\\n",
        "    combined_df.apply(lambda row: 1 if row['winner'] == row['home_team'] else 2, axis=1)\n",
        "\n",
        "# Drop unnecessary columns\n",
        "combined_df = combined_df.drop(columns=['winner'])\n",
        "\n",
        "# Merge with goalscorers_df\n",
        "combined_df = combined_df.merge(goalscorers_df, on=['date', 'home_team', 'away_team'], how='left')\n",
        "\n",
        "# Fill NaN in goal-related columns\n",
        "combined_df[['team', 'scorer', 'minute', 'own_goal', 'penalty']] = combined_df[\n",
        "    ['team', 'scorer', 'minute', 'own_goal', 'penalty']].fillna({'team': '', 'scorer': '', 'minute': 0,\n",
        "                                                                 'own_goal': False, 'penalty': False})\n",
        "\n",
        "# Convert date to datetime\n",
        "combined_df['date'] = pd.to_datetime(combined_df['date'])\n",
        "\n",
        "# Save combined dataset (optional)\n",
        "combined_df.to_csv('combined_dataset.csv', index=False)\n",
        "files.download('combined_dataset.csv')\n",
        "\n",
        "# Display shape and head\n",
        "(\"Combined Shape:\", combined_df.shape)\n",
        "\"Combined Head:\\n\", combined_df.head()"
      ],
      "metadata": {
        "colab": {
          "base_uri": "https://localhost:8080/",
          "height": 315
        },
        "id": "wN_dePhOmW6J",
        "outputId": "c4d7a114-627a-4024-9f19-504c001dbb68"
      },
      "execution_count": 8,
      "outputs": [
        {
          "output_type": "stream",
          "name": "stderr",
          "text": [
            "<ipython-input-8-269c45cef895>:21: FutureWarning: Downcasting object dtype arrays on .fillna, .ffill, .bfill is deprecated and will change in a future version. Call result.infer_objects(copy=False) instead. To opt-in to the future behavior, set `pd.set_option('future.no_silent_downcasting', True)`\n",
            "  ['team', 'scorer', 'minute', 'own_goal', 'penalty']].fillna({'team': '', 'scorer': '', 'minute': 0,\n"
          ]
        },
        {
          "output_type": "display_data",
          "data": {
            "text/plain": [
              "<IPython.core.display.Javascript object>"
            ],
            "application/javascript": [
              "\n",
              "    async function download(id, filename, size) {\n",
              "      if (!google.colab.kernel.accessAllowed) {\n",
              "        return;\n",
              "      }\n",
              "      const div = document.createElement('div');\n",
              "      const label = document.createElement('label');\n",
              "      label.textContent = `Downloading \"${filename}\": `;\n",
              "      div.appendChild(label);\n",
              "      const progress = document.createElement('progress');\n",
              "      progress.max = size;\n",
              "      div.appendChild(progress);\n",
              "      document.body.appendChild(div);\n",
              "\n",
              "      const buffers = [];\n",
              "      let downloaded = 0;\n",
              "\n",
              "      const channel = await google.colab.kernel.comms.open(id);\n",
              "      // Send a message to notify the kernel that we're ready.\n",
              "      channel.send({})\n",
              "\n",
              "      for await (const message of channel.messages) {\n",
              "        // Send a message to notify the kernel that we're ready.\n",
              "        channel.send({})\n",
              "        if (message.buffers) {\n",
              "          for (const buffer of message.buffers) {\n",
              "            buffers.push(buffer);\n",
              "            downloaded += buffer.byteLength;\n",
              "            progress.value = downloaded;\n",
              "          }\n",
              "        }\n",
              "      }\n",
              "      const blob = new Blob(buffers, {type: 'application/binary'});\n",
              "      const a = document.createElement('a');\n",
              "      a.href = window.URL.createObjectURL(blob);\n",
              "      a.download = filename;\n",
              "      div.appendChild(a);\n",
              "      a.click();\n",
              "      div.remove();\n",
              "    }\n",
              "  "
            ]
          },
          "metadata": {}
        },
        {
          "output_type": "display_data",
          "data": {
            "text/plain": [
              "<IPython.core.display.Javascript object>"
            ],
            "application/javascript": [
              "download(\"download_76bcd8ac-44b6-4a45-b62a-827ff67da572\", \"combined_dataset.csv\", 8654206)"
            ]
          },
          "metadata": {}
        },
        {
          "output_type": "execute_result",
          "data": {
            "text/plain": [
              "('Combined Head:\\n',\n",
              "         date home_team away_team  home_score  away_score tournament     city  \\\n",
              " 0 1872-11-30  Scotland   England           0           0   Friendly  Glasgow   \n",
              " 1 1873-03-08   England  Scotland           4           2   Friendly   London   \n",
              " 2 1874-03-07  Scotland   England           2           1   Friendly  Glasgow   \n",
              " 3 1875-03-06   England  Scotland           2           2   Friendly   London   \n",
              " 4 1876-03-04  Scotland   England           3           0   Friendly  Glasgow   \n",
              " \n",
              "     country  neutral  outcome team scorer  minute  own_goal  penalty  \n",
              " 0  Scotland    False        0                 0.0     False    False  \n",
              " 1   England    False        1                 0.0     False    False  \n",
              " 2  Scotland    False        1                 0.0     False    False  \n",
              " 3   England    False        0                 0.0     False    False  \n",
              " 4  Scotland    False        1                 0.0     False    False  )"
            ]
          },
          "metadata": {},
          "execution_count": 8
        }
      ]
    },
    {
      "cell_type": "code",
      "source": [
        "# Calculate team statistics\n",
        "team_stats = {}\n",
        "for team in set(combined_df['home_team']).union(combined_df['away_team']):\n",
        "    home_matches = combined_df[combined_df['home_team'] == team]\n",
        "    away_matches = combined_df[combined_df['away_team'] == team]\n",
        "    total_matches = len(home_matches) + len(away_matches)\n",
        "    wins = len(home_matches[home_matches['outcome'] == 1]) + len(away_matches[away_matches['outcome'] == 2])\n",
        "    goals_scored = home_matches['home_score'].sum() + away_matches['away_score'].sum()\n",
        "    goals_conceded = home_matches['away_score'].sum() + away_matches['home_score'].sum()\n",
        "\n",
        "    team_stats[team] = {\n",
        "        'win_rate': wins / total_matches if total_matches > 0 else 0,\n",
        "        'avg_goals_scored': goals_scored / total_matches if total_matches > 0 else 0,\n",
        "        'avg_goals_conceded': goals_conceded / total_matches if total_matches > 0 else 0\n",
        "    }\n",
        "\n",
        "# Add team stat features to combined_df\n",
        "combined_df['home_win_rate'] = combined_df['home_team'].map(lambda x: team_stats[x]['win_rate'])\n",
        "combined_df['away_win_rate'] = combined_df['away_team'].map(lambda x: team_stats[x]['win_rate'])\n",
        "combined_df['home_avg_goals_scored'] = combined_df['home_team'].map(lambda x: team_stats[x]['avg_goals_scored'])\n",
        "combined_df['away_avg_goals_scored'] = combined_df['away_team'].map(lambda x: team_stats[x]['avg_goals_scored'])\n",
        "combined_df['home_avg_goals_conceded'] = combined_df['home_team'].map(lambda x: team_stats[x]['avg_goals_conceded'])\n",
        "combined_df['away_avg_goals_conceded'] = combined_df['away_team'].map(lambda x: team_stats[x]['avg_goals_conceded'])\n",
        "\n",
        "# Calculate goal counts separately and merge back\n",
        "goal_counts = combined_df.groupby(['date', 'home_team', 'away_team', 'team'])['minute'].count().reset_index(name='goal_count')\n",
        "\n",
        "# Home goals: filter where team is home_team\n",
        "home_goals = goal_counts[goal_counts['team'] == goal_counts['home_team']].groupby(\n",
        "    ['date', 'home_team', 'away_team'])['goal_count'].sum().reset_index(name='home_goals_count')\n",
        "\n",
        "# Away goals: filter where team is away_team\n",
        "away_goals = goal_counts[goal_counts['team'] == goal_counts['away_team']].groupby(\n",
        "    ['date', 'home_team', 'away_team'])['goal_count'].sum().reset_index(name='away_goals_count')\n",
        "\n",
        "# Merge goal counts back into combined_df\n",
        "combined_df = combined_df.merge(home_goals[['date', 'home_team', 'away_team', 'home_goals_count']],\n",
        "                               on=['date', 'home_team', 'away_team'], how='left')\n",
        "combined_df = combined_df.merge(away_goals[['date', 'home_team', 'away_team', 'away_goals_count']],\n",
        "                               on=['date', 'home_team', 'away_team'], how='left')\n",
        "\n",
        "# Fill NaN goal counts with 0 (for matches with no goals recorded in goalscorers_df)\n",
        "combined_df['home_goals_count'] = combined_df['home_goals_count'].fillna(0)\n",
        "combined_df['away_goals_count'] = combined_df['away_goals_count'].fillna(0)\n",
        "\n",
        "# Display sample features\n",
        "print(\"Features Sample:\\n\", combined_df[['home_team', 'away_team', 'home_win_rate', 'away_win_rate',\n",
        "                                         'home_avg_goals_scored', 'away_avg_goals_scored',\n",
        "                                         'home_goals_count', 'away_goals_count']].head())"
      ],
      "metadata": {
        "colab": {
          "base_uri": "https://localhost:8080/"
        },
        "id": "FqKuUYPpnfzE",
        "outputId": "46a5a103-07f2-4e97-a268-4d8a0b80d9ef"
      },
      "execution_count": 10,
      "outputs": [
        {
          "output_type": "stream",
          "name": "stdout",
          "text": [
            "Features Sample:\n",
            "   home_team away_team  home_win_rate  away_win_rate  home_avg_goals_scored  \\\n",
            "0  Scotland   England       0.494561       0.639152               1.964467   \n",
            "1   England  Scotland       0.639152       0.494561               2.759621   \n",
            "2  Scotland   England       0.494561       0.639152               1.964467   \n",
            "3   England  Scotland       0.639152       0.494561               2.759621   \n",
            "4  Scotland   England       0.494561       0.639152               1.964467   \n",
            "\n",
            "   away_avg_goals_scored  home_goals_count  away_goals_count  \n",
            "0               2.759621               0.0               0.0  \n",
            "1               1.964467               0.0               0.0  \n",
            "2               2.759621               0.0               0.0  \n",
            "3               1.964467               0.0               0.0  \n",
            "4               2.759621               0.0               0.0  \n"
          ]
        }
      ]
    },
    {
      "cell_type": "code",
      "source": [
        "# Label encode categorical columns\n",
        "le_home = LabelEncoder()\n",
        "le_away = LabelEncoder()\n",
        "combined_df['home_team_encoded'] = le_home.fit_transform(combined_df['home_team'])\n",
        "combined_df['away_team_encoded'] = le_away.fit_transform(combined_df['away_team'])\n",
        "\n",
        "# Save label encoders\n",
        "joblib.dump(le_home, 'le_home.pkl')\n",
        "joblib.dump(le_away, 'le_away.pkl')\n",
        "files.download('le_home.pkl')\n",
        "files.download('le_away.pkl')\n",
        "\n",
        "# Select features for the model\n",
        "features = ['home_team_encoded', 'away_team_encoded', 'home_win_rate', 'away_win_rate',\n",
        "            'home_avg_goals_scored', 'away_avg_goals_scored', 'home_avg_goals_conceded',\n",
        "            'away_avg_goals_conceded', 'neutral']\n",
        "X = combined_df[features]\n",
        "y = combined_df['outcome']\n",
        "\n",
        "# Scale numerical features\n",
        "scaler = StandardScaler()\n",
        "X_scaled = X.copy()\n",
        "numerical_cols = ['home_win_rate', 'away_win_rate', 'home_avg_goals_scored', 'away_avg_goals_scored',\n",
        "                  'home_avg_goals_conceded', 'away_avg_goals_conceded']\n",
        "X_scaled[numerical_cols] = scaler.fit_transform(X[numerical_cols])\n",
        "\n",
        "# Save scaler\n",
        "joblib.dump(scaler, 'scaler.pkl')\n",
        "files.download('scaler.pkl')\n",
        "\n",
        "# Display scaled features\n",
        "print(\"Scaled Features Sample:\\n\", X_scaled.head())"
      ],
      "metadata": {
        "colab": {
          "base_uri": "https://localhost:8080/",
          "height": 382
        },
        "id": "mkLMH9eqn89B",
        "outputId": "35038fcb-953b-4c61-da40-74ecaa4d9ed8"
      },
      "execution_count": 11,
      "outputs": [
        {
          "output_type": "display_data",
          "data": {
            "text/plain": [
              "<IPython.core.display.Javascript object>"
            ],
            "application/javascript": [
              "\n",
              "    async function download(id, filename, size) {\n",
              "      if (!google.colab.kernel.accessAllowed) {\n",
              "        return;\n",
              "      }\n",
              "      const div = document.createElement('div');\n",
              "      const label = document.createElement('label');\n",
              "      label.textContent = `Downloading \"${filename}\": `;\n",
              "      div.appendChild(label);\n",
              "      const progress = document.createElement('progress');\n",
              "      progress.max = size;\n",
              "      div.appendChild(progress);\n",
              "      document.body.appendChild(div);\n",
              "\n",
              "      const buffers = [];\n",
              "      let downloaded = 0;\n",
              "\n",
              "      const channel = await google.colab.kernel.comms.open(id);\n",
              "      // Send a message to notify the kernel that we're ready.\n",
              "      channel.send({})\n",
              "\n",
              "      for await (const message of channel.messages) {\n",
              "        // Send a message to notify the kernel that we're ready.\n",
              "        channel.send({})\n",
              "        if (message.buffers) {\n",
              "          for (const buffer of message.buffers) {\n",
              "            buffers.push(buffer);\n",
              "            downloaded += buffer.byteLength;\n",
              "            progress.value = downloaded;\n",
              "          }\n",
              "        }\n",
              "      }\n",
              "      const blob = new Blob(buffers, {type: 'application/binary'});\n",
              "      const a = document.createElement('a');\n",
              "      a.href = window.URL.createObjectURL(blob);\n",
              "      a.download = filename;\n",
              "      div.appendChild(a);\n",
              "      a.click();\n",
              "      div.remove();\n",
              "    }\n",
              "  "
            ]
          },
          "metadata": {}
        },
        {
          "output_type": "display_data",
          "data": {
            "text/plain": [
              "<IPython.core.display.Javascript object>"
            ],
            "application/javascript": [
              "download(\"download_ee949507-dac1-478e-8db0-635cbd84c917\", \"le_home.pkl\", 6038)"
            ]
          },
          "metadata": {}
        },
        {
          "output_type": "display_data",
          "data": {
            "text/plain": [
              "<IPython.core.display.Javascript object>"
            ],
            "application/javascript": [
              "\n",
              "    async function download(id, filename, size) {\n",
              "      if (!google.colab.kernel.accessAllowed) {\n",
              "        return;\n",
              "      }\n",
              "      const div = document.createElement('div');\n",
              "      const label = document.createElement('label');\n",
              "      label.textContent = `Downloading \"${filename}\": `;\n",
              "      div.appendChild(label);\n",
              "      const progress = document.createElement('progress');\n",
              "      progress.max = size;\n",
              "      div.appendChild(progress);\n",
              "      document.body.appendChild(div);\n",
              "\n",
              "      const buffers = [];\n",
              "      let downloaded = 0;\n",
              "\n",
              "      const channel = await google.colab.kernel.comms.open(id);\n",
              "      // Send a message to notify the kernel that we're ready.\n",
              "      channel.send({})\n",
              "\n",
              "      for await (const message of channel.messages) {\n",
              "        // Send a message to notify the kernel that we're ready.\n",
              "        channel.send({})\n",
              "        if (message.buffers) {\n",
              "          for (const buffer of message.buffers) {\n",
              "            buffers.push(buffer);\n",
              "            downloaded += buffer.byteLength;\n",
              "            progress.value = downloaded;\n",
              "          }\n",
              "        }\n",
              "      }\n",
              "      const blob = new Blob(buffers, {type: 'application/binary'});\n",
              "      const a = document.createElement('a');\n",
              "      a.href = window.URL.createObjectURL(blob);\n",
              "      a.download = filename;\n",
              "      div.appendChild(a);\n",
              "      a.click();\n",
              "      div.remove();\n",
              "    }\n",
              "  "
            ]
          },
          "metadata": {}
        },
        {
          "output_type": "display_data",
          "data": {
            "text/plain": [
              "<IPython.core.display.Javascript object>"
            ],
            "application/javascript": [
              "download(\"download_cec94c5b-4ec9-4884-a4b4-033e263675e7\", \"le_away.pkl\", 5895)"
            ]
          },
          "metadata": {}
        },
        {
          "output_type": "display_data",
          "data": {
            "text/plain": [
              "<IPython.core.display.Javascript object>"
            ],
            "application/javascript": [
              "\n",
              "    async function download(id, filename, size) {\n",
              "      if (!google.colab.kernel.accessAllowed) {\n",
              "        return;\n",
              "      }\n",
              "      const div = document.createElement('div');\n",
              "      const label = document.createElement('label');\n",
              "      label.textContent = `Downloading \"${filename}\": `;\n",
              "      div.appendChild(label);\n",
              "      const progress = document.createElement('progress');\n",
              "      progress.max = size;\n",
              "      div.appendChild(progress);\n",
              "      document.body.appendChild(div);\n",
              "\n",
              "      const buffers = [];\n",
              "      let downloaded = 0;\n",
              "\n",
              "      const channel = await google.colab.kernel.comms.open(id);\n",
              "      // Send a message to notify the kernel that we're ready.\n",
              "      channel.send({})\n",
              "\n",
              "      for await (const message of channel.messages) {\n",
              "        // Send a message to notify the kernel that we're ready.\n",
              "        channel.send({})\n",
              "        if (message.buffers) {\n",
              "          for (const buffer of message.buffers) {\n",
              "            buffers.push(buffer);\n",
              "            downloaded += buffer.byteLength;\n",
              "            progress.value = downloaded;\n",
              "          }\n",
              "        }\n",
              "      }\n",
              "      const blob = new Blob(buffers, {type: 'application/binary'});\n",
              "      const a = document.createElement('a');\n",
              "      a.href = window.URL.createObjectURL(blob);\n",
              "      a.download = filename;\n",
              "      div.appendChild(a);\n",
              "      a.click();\n",
              "      div.remove();\n",
              "    }\n",
              "  "
            ]
          },
          "metadata": {}
        },
        {
          "output_type": "display_data",
          "data": {
            "text/plain": [
              "<IPython.core.display.Javascript object>"
            ],
            "application/javascript": [
              "download(\"download_5c428330-80ea-43a4-a8ec-9362f544f562\", \"scaler.pkl\", 1207)"
            ]
          },
          "metadata": {}
        },
        {
          "output_type": "stream",
          "name": "stdout",
          "text": [
            "Scaled Features Sample:\n",
            "    home_team_encoded  away_team_encoded  home_win_rate  away_win_rate  \\\n",
            "0                247                 87       0.472074       1.575067   \n",
            "1                 86                241       1.432469       0.619721   \n",
            "2                247                 87       0.472074       1.575067   \n",
            "3                 86                241       1.432469       0.619721   \n",
            "4                247                 87       0.472074       1.575067   \n",
            "\n",
            "   home_avg_goals_scored  away_avg_goals_scored  home_avg_goals_conceded  \\\n",
            "0               0.159161               1.561127                -0.384908   \n",
            "1               1.377888               0.305369                -0.915780   \n",
            "2               0.159161               1.561127                -0.384908   \n",
            "3               1.377888               0.305369                -0.915780   \n",
            "4               0.159161               1.561127                -0.384908   \n",
            "\n",
            "   away_avg_goals_conceded  neutral  \n",
            "0                -0.914305    False  \n",
            "1                -0.451985    False  \n",
            "2                -0.914305    False  \n",
            "3                -0.451985    False  \n",
            "4                -0.914305    False  \n"
          ]
        }
      ]
    },
    {
      "cell_type": "code",
      "source": [
        "# Split data (train on data up to 2023, test on 2024)\n",
        "train_df = combined_df[combined_df['date'].dt.year < 2024]\n",
        "test_df = combined_df[combined_df['date'].dt.year >= 2024]\n",
        "\n",
        "X_train = X_scaled.loc[train_df.index]\n",
        "y_train = y.loc[train_df.index]\n",
        "X_test = X_scaled.loc[test_df.index]\n",
        "y_test = y.loc[test_df.index]\n",
        "\n",
        "# Initialize and train Random Forest Classifier\n",
        "rf_model = RandomForestClassifier(n_estimators=100, random_state=42)\n",
        "rf_model.fit(X_train, y_train)\n",
        "\n",
        "# Save the model\n",
        "joblib.dump(rf_model, 'rf_model.pkl')\n",
        "files.download('rf_model.pkl')\n",
        "\n",
        "# Confirm training\n",
        "print(\"Model trained. Train shape:\", X_train.shape, \"Test shape:\", X_test.shape)"
      ],
      "metadata": {
        "colab": {
          "base_uri": "https://localhost:8080/",
          "height": 34
        },
        "id": "du00YJz2oCcb",
        "outputId": "006f309f-ae28-4123-a87e-feafb1522f4b"
      },
      "execution_count": 12,
      "outputs": [
        {
          "output_type": "display_data",
          "data": {
            "text/plain": [
              "<IPython.core.display.Javascript object>"
            ],
            "application/javascript": [
              "\n",
              "    async function download(id, filename, size) {\n",
              "      if (!google.colab.kernel.accessAllowed) {\n",
              "        return;\n",
              "      }\n",
              "      const div = document.createElement('div');\n",
              "      const label = document.createElement('label');\n",
              "      label.textContent = `Downloading \"${filename}\": `;\n",
              "      div.appendChild(label);\n",
              "      const progress = document.createElement('progress');\n",
              "      progress.max = size;\n",
              "      div.appendChild(progress);\n",
              "      document.body.appendChild(div);\n",
              "\n",
              "      const buffers = [];\n",
              "      let downloaded = 0;\n",
              "\n",
              "      const channel = await google.colab.kernel.comms.open(id);\n",
              "      // Send a message to notify the kernel that we're ready.\n",
              "      channel.send({})\n",
              "\n",
              "      for await (const message of channel.messages) {\n",
              "        // Send a message to notify the kernel that we're ready.\n",
              "        channel.send({})\n",
              "        if (message.buffers) {\n",
              "          for (const buffer of message.buffers) {\n",
              "            buffers.push(buffer);\n",
              "            downloaded += buffer.byteLength;\n",
              "            progress.value = downloaded;\n",
              "          }\n",
              "        }\n",
              "      }\n",
              "      const blob = new Blob(buffers, {type: 'application/binary'});\n",
              "      const a = document.createElement('a');\n",
              "      a.href = window.URL.createObjectURL(blob);\n",
              "      a.download = filename;\n",
              "      div.appendChild(a);\n",
              "      a.click();\n",
              "      div.remove();\n",
              "    }\n",
              "  "
            ]
          },
          "metadata": {}
        },
        {
          "output_type": "display_data",
          "data": {
            "text/plain": [
              "<IPython.core.display.Javascript object>"
            ],
            "application/javascript": [
              "download(\"download_b206a7e0-5bc9-482e-a8c5-6e560abb86cc\", \"rf_model.pkl\", 166122529)"
            ]
          },
          "metadata": {}
        },
        {
          "output_type": "stream",
          "name": "stdout",
          "text": [
            "Model trained. Train shape: (76473, 9) Test shape: (1703, 9)\n"
          ]
        }
      ]
    },
    {
      "cell_type": "code",
      "source": [
        "# Make predictions\n",
        "y_pred = rf_model.predict(X_test)\n",
        "\n",
        "# Evaluate the model\n",
        "accuracy = accuracy_score(y_test, y_pred)\n",
        "report = classification_report(y_test, y_pred, target_names=['Draw', 'Home Win', 'Away Win'])\n",
        "\n",
        "# Print results\n",
        "print(\"Accuracy:\", accuracy)\n",
        "print(\"Classification Report:\\n\", report)"
      ],
      "metadata": {
        "colab": {
          "base_uri": "https://localhost:8080/"
        },
        "id": "ODXYZHbuoLZ8",
        "outputId": "06fc41ee-10dd-44a0-ab7f-92d12e866b07"
      },
      "execution_count": 13,
      "outputs": [
        {
          "output_type": "stream",
          "name": "stdout",
          "text": [
            "Accuracy: 0.5372871403405755\n",
            "Classification Report:\n",
            "               precision    recall  f1-score   support\n",
            "\n",
            "        Draw       0.25      0.14      0.18       353\n",
            "    Home Win       0.63      0.73      0.67       853\n",
            "    Away Win       0.48      0.49      0.48       497\n",
            "\n",
            "    accuracy                           0.54      1703\n",
            "   macro avg       0.45      0.45      0.45      1703\n",
            "weighted avg       0.51      0.54      0.52      1703\n",
            "\n"
          ]
        }
      ]
    },
    {
      "cell_type": "code",
      "source": [],
      "metadata": {
        "id": "2hD34G8DomE1"
      },
      "execution_count": null,
      "outputs": []
    }
  ]
}