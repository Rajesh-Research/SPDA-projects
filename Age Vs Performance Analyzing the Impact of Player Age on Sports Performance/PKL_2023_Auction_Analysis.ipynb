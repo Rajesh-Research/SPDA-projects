{
 "cells": [
  {
   "cell_type": "markdown",
   "id": "1d695f5b",
   "metadata": {},
   "source": [
    "\n",
    "# Pro Kabaddi League 2023 Auction Analysis 🏉\n",
    "\n",
    "**Dataset:** [Pro Kabaddi Auction 2023 - Kaggle](https://www.kaggle.com/datasets/rutiksul1/pro-kabbadi-league-2023-aunction-dataset)  \n",
    "**Date:** April 21, 2025  \n",
    "**Objective:** Analyze team spending, player acquisition, and role distribution in the 2023 auction using Python.\n",
    "\n",
    "---\n"
   ]
  },
  {
   "cell_type": "code",
   "execution_count": null,
   "id": "49c97425",
   "metadata": {},
   "outputs": [],
   "source": [
    "\n",
    "import pandas as pd\n",
    "import matplotlib.pyplot as plt\n",
    "import seaborn as sns\n",
    "\n",
    "# Set style for plots\n",
    "sns.set(style=\"whitegrid\")\n"
   ]
  },
  {
   "cell_type": "code",
   "execution_count": null,
   "id": "948b4cac",
   "metadata": {},
   "outputs": [],
   "source": [
    "\n",
    "# Load the dataset (update path if necessary)\n",
    "df = pd.read_csv(\"Pro Kabaddi Auction 2023.csv\")\n",
    "\n",
    "# Display first few rows\n",
    "df.head()\n"
   ]
  },
  {
   "cell_type": "code",
   "execution_count": null,
   "id": "f35282f0",
   "metadata": {},
   "outputs": [],
   "source": [
    "\n",
    "# Dataset Info\n",
    "df.info()\n",
    "\n",
    "# Check for missing values\n",
    "df.isnull().sum()\n"
   ]
  },
  {
   "cell_type": "code",
   "execution_count": null,
   "id": "08a917d4",
   "metadata": {},
   "outputs": [],
   "source": [
    "\n",
    "# Top 10 most expensive players\n",
    "top_paid = df.sort_values(by=\"Price\", ascending=False).head(10)\n",
    "top_paid[[\"Player\", \"Team\", \"Category\", \"Price\"]]\n"
   ]
  },
  {
   "cell_type": "code",
   "execution_count": null,
   "id": "4f7fc11c",
   "metadata": {},
   "outputs": [],
   "source": [
    "\n",
    "plt.figure(figsize=(10,6))\n",
    "sns.barplot(data=top_paid, x=\"Price\", y=\"Player\", hue=\"Team\", dodge=False)\n",
    "plt.title(\"Top 10 Most Expensive Players\")\n",
    "plt.xlabel(\"Price (INR)\")\n",
    "plt.ylabel(\"Player\")\n",
    "plt.tight_layout()\n",
    "plt.show()\n"
   ]
  },
  {
   "cell_type": "code",
   "execution_count": null,
   "id": "87beedd1",
   "metadata": {},
   "outputs": [],
   "source": [
    "\n",
    "team_summary = df.groupby(\"Team\")[\"Price\"].sum().sort_values(ascending=False)\n",
    "\n",
    "plt.figure(figsize=(12,6))\n",
    "sns.barplot(x=team_summary.values, y=team_summary.index, palette=\"coolwarm\")\n",
    "plt.title(\"Total Spending by Team\")\n",
    "plt.xlabel(\"Total Price (INR)\")\n",
    "plt.ylabel(\"Team\")\n",
    "plt.tight_layout()\n",
    "plt.show()\n"
   ]
  },
  {
   "cell_type": "code",
   "execution_count": null,
   "id": "7f626471",
   "metadata": {},
   "outputs": [],
   "source": [
    "\n",
    "plt.figure(figsize=(8,6))\n",
    "sns.countplot(data=df, y=\"Category\", order=df[\"Category\"].value_counts().index, palette=\"Set2\")\n",
    "plt.title(\"Distribution of Player Roles\")\n",
    "plt.xlabel(\"Count\")\n",
    "plt.ylabel(\"Category\")\n",
    "plt.tight_layout()\n",
    "plt.show()\n"
   ]
  },
  {
   "cell_type": "markdown",
   "id": "567a7d5a",
   "metadata": {},
   "source": [
    "\n",
    "## Conclusion 📌\n",
    "\n",
    "- The most expensive player in the auction was shown in the top 10 analysis.\n",
    "- Teams like XYZ invested heavily, while some focused on role-specific strategies.\n",
    "- All-rounders or Raiders seemed to be in high demand based on role distribution.\n",
    "  \n",
    "This notebook provides a base for strategic analysis of player acquisition in PKL 2023. Future work can include predictive modeling and performance tracking across seasons.\n"
   ]
  }
 ],
 "metadata": {},
 "nbformat": 4,
 "nbformat_minor": 5
}