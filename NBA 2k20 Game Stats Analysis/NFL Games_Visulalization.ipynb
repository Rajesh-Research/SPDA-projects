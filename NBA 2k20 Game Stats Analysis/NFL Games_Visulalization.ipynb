{
 "cells": [
  {
   "cell_type": "markdown",
   "id": "65ceec0a",
   "metadata": {
    "papermill": {
     "duration": 0.070286,
     "end_time": "2021-07-15T14:55:18.502890",
     "exception": false,
     "start_time": "2021-07-15T14:55:18.432604",
     "status": "completed"
    },
    "tags": []
   },
   "source": [
    "# 1. Analyzing the National Football League(NFL) games"
   ]
  },
  {
   "cell_type": "markdown",
   "id": "2189ac28",
   "metadata": {
    "papermill": {
     "duration": 0.066504,
     "end_time": "2021-07-15T14:55:18.793293",
     "exception": false,
     "start_time": "2021-07-15T14:55:18.726789",
     "status": "completed"
    },
    "tags": []
   },
   "source": [
    "**Let us start by importing the necessary libraries,**"
   ]
  },
  {
   "cell_type": "code",
   "execution_count": 1,
   "id": "ef2c71e7",
   "metadata": {
    "execution": {
     "iopub.execute_input": "2021-07-15T14:55:18.941184Z",
     "iopub.status.busy": "2021-07-15T14:55:18.940528Z",
     "iopub.status.idle": "2021-07-15T14:55:18.943870Z",
     "shell.execute_reply": "2021-07-15T14:55:18.943219Z",
     "shell.execute_reply.started": "2021-07-15T14:34:49.044866Z"
    },
    "papermill": {
     "duration": 0.082396,
     "end_time": "2021-07-15T14:55:18.944045",
     "exception": false,
     "start_time": "2021-07-15T14:55:18.861649",
     "status": "completed"
    },
    "tags": []
   },
   "outputs": [],
   "source": [
    "import pandas as pd\n",
    "import matplotlib.pyplot as plt\n",
    "import datetime\n",
    "\n",
    "%matplotlib inline"
   ]
  },
  {
   "cell_type": "markdown",
   "id": "239317c6",
   "metadata": {
    "papermill": {
     "duration": 0.068561,
     "end_time": "2021-07-15T14:55:19.079996",
     "exception": false,
     "start_time": "2021-07-15T14:55:19.011435",
     "status": "completed"
    },
    "tags": []
   },
   "source": [
    "**Next, importing the CSV file called `games.csv` which contains information about the games.**"
   ]
  },
  {
   "cell_type": "code",
   "execution_count": 2,
   "id": "c3c1545a",
   "metadata": {
    "execution": {
     "iopub.execute_input": "2021-07-15T14:55:19.225570Z",
     "iopub.status.busy": "2021-07-15T14:55:19.224745Z",
     "iopub.status.idle": "2021-07-15T14:55:19.348997Z",
     "shell.execute_reply": "2021-07-15T14:55:19.348426Z",
     "shell.execute_reply.started": "2021-07-15T14:34:49.052229Z"
    },
    "papermill": {
     "duration": 0.198607,
     "end_time": "2021-07-15T14:55:19.349175",
     "exception": false,
     "start_time": "2021-07-15T14:55:19.150568",
     "status": "completed"
    },
    "tags": []
   },
   "outputs": [],
   "source": [
    "games_df = pd.read_csv(\"C:/Users/DELL/OneDrive/Desktop/Sports Analytics/games.csv\")"
   ]
  },
  {
   "cell_type": "code",
   "execution_count": 3,
   "id": "718b6a1c",
   "metadata": {
    "execution": {
     "iopub.execute_input": "2021-07-15T14:55:19.496159Z",
     "iopub.status.busy": "2021-07-15T14:55:19.495490Z",
     "iopub.status.idle": "2021-07-15T14:55:19.514476Z",
     "shell.execute_reply": "2021-07-15T14:55:19.514958Z",
     "shell.execute_reply.started": "2021-07-15T14:34:49.190553Z"
    },
    "papermill": {
     "duration": 0.096863,
     "end_time": "2021-07-15T14:55:19.515155",
     "exception": false,
     "start_time": "2021-07-15T14:55:19.418292",
     "status": "completed"
    },
    "tags": []
   },
   "outputs": [
    {
     "data": {
      "text/html": [
       "<div>\n",
       "<style scoped>\n",
       "    .dataframe tbody tr th:only-of-type {\n",
       "        vertical-align: middle;\n",
       "    }\n",
       "\n",
       "    .dataframe tbody tr th {\n",
       "        vertical-align: top;\n",
       "    }\n",
       "\n",
       "    .dataframe thead th {\n",
       "        text-align: right;\n",
       "    }\n",
       "</style>\n",
       "<table border=\"1\" class=\"dataframe\">\n",
       "  <thead>\n",
       "    <tr style=\"text-align: right;\">\n",
       "      <th></th>\n",
       "      <th>gameId</th>\n",
       "      <th>gameDate</th>\n",
       "      <th>gameTimeEastern</th>\n",
       "      <th>homeTeamAbbr</th>\n",
       "      <th>visitorTeamAbbr</th>\n",
       "      <th>week</th>\n",
       "    </tr>\n",
       "  </thead>\n",
       "  <tbody>\n",
       "    <tr>\n",
       "      <th>0</th>\n",
       "      <td>2018090600</td>\n",
       "      <td>09/06/2018</td>\n",
       "      <td>20:20:00</td>\n",
       "      <td>PHI</td>\n",
       "      <td>ATL</td>\n",
       "      <td>1</td>\n",
       "    </tr>\n",
       "    <tr>\n",
       "      <th>1</th>\n",
       "      <td>2018090901</td>\n",
       "      <td>09/09/2018</td>\n",
       "      <td>13:00:00</td>\n",
       "      <td>CLE</td>\n",
       "      <td>PIT</td>\n",
       "      <td>1</td>\n",
       "    </tr>\n",
       "    <tr>\n",
       "      <th>2</th>\n",
       "      <td>2018090902</td>\n",
       "      <td>09/09/2018</td>\n",
       "      <td>13:00:00</td>\n",
       "      <td>IND</td>\n",
       "      <td>CIN</td>\n",
       "      <td>1</td>\n",
       "    </tr>\n",
       "    <tr>\n",
       "      <th>3</th>\n",
       "      <td>2018090903</td>\n",
       "      <td>09/09/2018</td>\n",
       "      <td>13:00:00</td>\n",
       "      <td>MIA</td>\n",
       "      <td>TEN</td>\n",
       "      <td>1</td>\n",
       "    </tr>\n",
       "    <tr>\n",
       "      <th>4</th>\n",
       "      <td>2018090900</td>\n",
       "      <td>09/09/2018</td>\n",
       "      <td>13:00:00</td>\n",
       "      <td>BAL</td>\n",
       "      <td>BUF</td>\n",
       "      <td>1</td>\n",
       "    </tr>\n",
       "  </tbody>\n",
       "</table>\n",
       "</div>"
      ],
      "text/plain": [
       "       gameId    gameDate gameTimeEastern homeTeamAbbr visitorTeamAbbr  week\n",
       "0  2018090600  09/06/2018        20:20:00          PHI             ATL     1\n",
       "1  2018090901  09/09/2018        13:00:00          CLE             PIT     1\n",
       "2  2018090902  09/09/2018        13:00:00          IND             CIN     1\n",
       "3  2018090903  09/09/2018        13:00:00          MIA             TEN     1\n",
       "4  2018090900  09/09/2018        13:00:00          BAL             BUF     1"
      ]
     },
     "execution_count": 3,
     "metadata": {},
     "output_type": "execute_result"
    }
   ],
   "source": [
    "games_df.head()"
   ]
  },
  {
   "cell_type": "markdown",
   "id": "56b4d8b8",
   "metadata": {
    "papermill": {
     "duration": 0.068935,
     "end_time": "2021-07-15T14:55:19.652611",
     "exception": false,
     "start_time": "2021-07-15T14:55:19.583676",
     "status": "completed"
    },
    "tags": []
   },
   "source": [
    "**Let us look at the shape of the DataFrame to determine how many games were played out in the 2018 NFL season.**"
   ]
  },
  {
   "cell_type": "code",
   "execution_count": 4,
   "id": "a91a816e",
   "metadata": {
    "execution": {
     "iopub.execute_input": "2021-07-15T14:55:19.796224Z",
     "iopub.status.busy": "2021-07-15T14:55:19.795544Z",
     "iopub.status.idle": "2021-07-15T14:55:19.799055Z",
     "shell.execute_reply": "2021-07-15T14:55:19.799621Z",
     "shell.execute_reply.started": "2021-07-15T14:34:49.221544Z"
    },
    "papermill": {
     "duration": 0.077586,
     "end_time": "2021-07-15T14:55:19.799805",
     "exception": false,
     "start_time": "2021-07-15T14:55:19.722219",
     "status": "completed"
    },
    "tags": []
   },
   "outputs": [
    {
     "data": {
      "text/plain": [
       "(253, 6)"
      ]
     },
     "execution_count": 4,
     "metadata": {},
     "output_type": "execute_result"
    }
   ],
   "source": [
    "games_df.shape"
   ]
  },
  {
   "cell_type": "markdown",
   "id": "308a6798",
   "metadata": {
    "papermill": {
     "duration": 0.066947,
     "end_time": "2021-07-15T14:55:19.935881",
     "exception": false,
     "start_time": "2021-07-15T14:55:19.868934",
     "status": "completed"
    },
    "tags": []
   },
   "source": [
    "**Before we begin our analysis, let us convert the date and time columns to Pandas datetime values.** \n",
    "\n",
    "**This will help to standarize such data across the multiple datasets that we work with and it will also help us use ready-made functions.**"
   ]
  },
  {
   "cell_type": "code",
   "execution_count": 5,
   "id": "7c79a027",
   "metadata": {
    "execution": {
     "iopub.execute_input": "2021-07-15T14:55:20.094744Z",
     "iopub.status.busy": "2021-07-15T14:55:20.090229Z",
     "iopub.status.idle": "2021-07-15T14:55:20.100086Z",
     "shell.execute_reply": "2021-07-15T14:55:20.100583Z",
     "shell.execute_reply.started": "2021-07-15T14:34:49.229932Z"
    },
    "papermill": {
     "duration": 0.097249,
     "end_time": "2021-07-15T14:55:20.100769",
     "exception": false,
     "start_time": "2021-07-15T14:55:20.003520",
     "status": "completed"
    },
    "tags": []
   },
   "outputs": [
    {
     "data": {
      "text/html": [
       "<div>\n",
       "<style scoped>\n",
       "    .dataframe tbody tr th:only-of-type {\n",
       "        vertical-align: middle;\n",
       "    }\n",
       "\n",
       "    .dataframe tbody tr th {\n",
       "        vertical-align: top;\n",
       "    }\n",
       "\n",
       "    .dataframe thead th {\n",
       "        text-align: right;\n",
       "    }\n",
       "</style>\n",
       "<table border=\"1\" class=\"dataframe\">\n",
       "  <thead>\n",
       "    <tr style=\"text-align: right;\">\n",
       "      <th></th>\n",
       "      <th>gameId</th>\n",
       "      <th>gameDate</th>\n",
       "      <th>gameTimeEastern</th>\n",
       "      <th>homeTeamAbbr</th>\n",
       "      <th>visitorTeamAbbr</th>\n",
       "      <th>week</th>\n",
       "    </tr>\n",
       "  </thead>\n",
       "  <tbody>\n",
       "    <tr>\n",
       "      <th>0</th>\n",
       "      <td>2018090600</td>\n",
       "      <td>2018-09-06</td>\n",
       "      <td>20:20:00</td>\n",
       "      <td>PHI</td>\n",
       "      <td>ATL</td>\n",
       "      <td>1</td>\n",
       "    </tr>\n",
       "    <tr>\n",
       "      <th>1</th>\n",
       "      <td>2018090901</td>\n",
       "      <td>2018-09-09</td>\n",
       "      <td>13:00:00</td>\n",
       "      <td>CLE</td>\n",
       "      <td>PIT</td>\n",
       "      <td>1</td>\n",
       "    </tr>\n",
       "    <tr>\n",
       "      <th>2</th>\n",
       "      <td>2018090902</td>\n",
       "      <td>2018-09-09</td>\n",
       "      <td>13:00:00</td>\n",
       "      <td>IND</td>\n",
       "      <td>CIN</td>\n",
       "      <td>1</td>\n",
       "    </tr>\n",
       "    <tr>\n",
       "      <th>3</th>\n",
       "      <td>2018090903</td>\n",
       "      <td>2018-09-09</td>\n",
       "      <td>13:00:00</td>\n",
       "      <td>MIA</td>\n",
       "      <td>TEN</td>\n",
       "      <td>1</td>\n",
       "    </tr>\n",
       "    <tr>\n",
       "      <th>4</th>\n",
       "      <td>2018090900</td>\n",
       "      <td>2018-09-09</td>\n",
       "      <td>13:00:00</td>\n",
       "      <td>BAL</td>\n",
       "      <td>BUF</td>\n",
       "      <td>1</td>\n",
       "    </tr>\n",
       "  </tbody>\n",
       "</table>\n",
       "</div>"
      ],
      "text/plain": [
       "       gameId    gameDate gameTimeEastern homeTeamAbbr visitorTeamAbbr  week\n",
       "0  2018090600  2018-09-06        20:20:00          PHI             ATL     1\n",
       "1  2018090901  2018-09-09        13:00:00          CLE             PIT     1\n",
       "2  2018090902  2018-09-09        13:00:00          IND             CIN     1\n",
       "3  2018090903  2018-09-09        13:00:00          MIA             TEN     1\n",
       "4  2018090900  2018-09-09        13:00:00          BAL             BUF     1"
      ]
     },
     "execution_count": 5,
     "metadata": {},
     "output_type": "execute_result"
    }
   ],
   "source": [
    "games_df['gameDate'] = pd.to_datetime(games_df['gameDate']).dt.date\n",
    "games_df['gameTimeEastern'] = pd.to_datetime(games_df['gameTimeEastern']).dt.time\n",
    "games_df.head()"
   ]
  },
  {
   "cell_type": "markdown",
   "id": "ea8549ca",
   "metadata": {
    "papermill": {
     "duration": 0.06732,
     "end_time": "2021-07-15T14:55:20.236518",
     "exception": false,
     "start_time": "2021-07-15T14:55:20.169198",
     "status": "completed"
    },
    "tags": []
   },
   "source": [
    "**Now, let us understand how the games are distributed in accordance to the date, time, day and the week**\n",
    "\n",
    "**Starting the analysis by looking at the distribution of games in relation to the game dates.**"
   ]
  },
  {
   "cell_type": "code",
   "execution_count": 6,
   "id": "0d311b57",
   "metadata": {
    "execution": {
     "iopub.execute_input": "2021-07-15T14:55:20.391755Z",
     "iopub.status.busy": "2021-07-15T14:55:20.391090Z",
     "iopub.status.idle": "2021-07-15T14:55:20.395172Z",
     "shell.execute_reply": "2021-07-15T14:55:20.394632Z",
     "shell.execute_reply.started": "2021-07-15T14:34:49.262913Z"
    },
    "papermill": {
     "duration": 0.090135,
     "end_time": "2021-07-15T14:55:20.395318",
     "exception": false,
     "start_time": "2021-07-15T14:55:20.305183",
     "status": "completed"
    },
    "tags": []
   },
   "outputs": [
    {
     "data": {
      "text/html": [
       "<div>\n",
       "<style scoped>\n",
       "    .dataframe tbody tr th:only-of-type {\n",
       "        vertical-align: middle;\n",
       "    }\n",
       "\n",
       "    .dataframe tbody tr th {\n",
       "        vertical-align: top;\n",
       "    }\n",
       "\n",
       "    .dataframe thead th {\n",
       "        text-align: right;\n",
       "    }\n",
       "</style>\n",
       "<table border=\"1\" class=\"dataframe\">\n",
       "  <thead>\n",
       "    <tr style=\"text-align: right;\">\n",
       "      <th></th>\n",
       "      <th>index</th>\n",
       "      <th>gameDate</th>\n",
       "    </tr>\n",
       "  </thead>\n",
       "  <tbody>\n",
       "    <tr>\n",
       "      <th>0</th>\n",
       "      <td>2018-12-30</td>\n",
       "      <td>16</td>\n",
       "    </tr>\n",
       "    <tr>\n",
       "      <th>1</th>\n",
       "      <td>2018-09-16</td>\n",
       "      <td>14</td>\n",
       "    </tr>\n",
       "    <tr>\n",
       "      <th>2</th>\n",
       "      <td>2018-12-09</td>\n",
       "      <td>14</td>\n",
       "    </tr>\n",
       "    <tr>\n",
       "      <th>3</th>\n",
       "      <td>2018-09-23</td>\n",
       "      <td>14</td>\n",
       "    </tr>\n",
       "    <tr>\n",
       "      <th>4</th>\n",
       "      <td>2018-12-02</td>\n",
       "      <td>14</td>\n",
       "    </tr>\n",
       "    <tr>\n",
       "      <th>5</th>\n",
       "      <td>2018-09-30</td>\n",
       "      <td>13</td>\n",
       "    </tr>\n",
       "    <tr>\n",
       "      <th>6</th>\n",
       "      <td>2018-10-14</td>\n",
       "      <td>13</td>\n",
       "    </tr>\n",
       "    <tr>\n",
       "      <th>7</th>\n",
       "      <td>2018-12-23</td>\n",
       "      <td>13</td>\n",
       "    </tr>\n",
       "    <tr>\n",
       "      <th>8</th>\n",
       "      <td>2018-10-07</td>\n",
       "      <td>13</td>\n",
       "    </tr>\n",
       "    <tr>\n",
       "      <th>9</th>\n",
       "      <td>2018-12-16</td>\n",
       "      <td>12</td>\n",
       "    </tr>\n",
       "    <tr>\n",
       "      <th>10</th>\n",
       "      <td>2018-11-11</td>\n",
       "      <td>12</td>\n",
       "    </tr>\n",
       "    <tr>\n",
       "      <th>11</th>\n",
       "      <td>2018-10-28</td>\n",
       "      <td>12</td>\n",
       "    </tr>\n",
       "    <tr>\n",
       "      <th>12</th>\n",
       "      <td>2018-10-21</td>\n",
       "      <td>12</td>\n",
       "    </tr>\n",
       "    <tr>\n",
       "      <th>13</th>\n",
       "      <td>2018-11-04</td>\n",
       "      <td>11</td>\n",
       "    </tr>\n",
       "    <tr>\n",
       "      <th>14</th>\n",
       "      <td>2018-11-18</td>\n",
       "      <td>11</td>\n",
       "    </tr>\n",
       "    <tr>\n",
       "      <th>15</th>\n",
       "      <td>2018-11-25</td>\n",
       "      <td>11</td>\n",
       "    </tr>\n",
       "    <tr>\n",
       "      <th>16</th>\n",
       "      <td>2018-09-09</td>\n",
       "      <td>10</td>\n",
       "    </tr>\n",
       "    <tr>\n",
       "      <th>17</th>\n",
       "      <td>2018-11-22</td>\n",
       "      <td>3</td>\n",
       "    </tr>\n",
       "    <tr>\n",
       "      <th>18</th>\n",
       "      <td>2018-09-10</td>\n",
       "      <td>2</td>\n",
       "    </tr>\n",
       "    <tr>\n",
       "      <th>19</th>\n",
       "      <td>2018-12-15</td>\n",
       "      <td>2</td>\n",
       "    </tr>\n",
       "    <tr>\n",
       "      <th>20</th>\n",
       "      <td>2018-12-22</td>\n",
       "      <td>2</td>\n",
       "    </tr>\n",
       "    <tr>\n",
       "      <th>21</th>\n",
       "      <td>2018-09-24</td>\n",
       "      <td>1</td>\n",
       "    </tr>\n",
       "    <tr>\n",
       "      <th>22</th>\n",
       "      <td>2018-09-20</td>\n",
       "      <td>1</td>\n",
       "    </tr>\n",
       "    <tr>\n",
       "      <th>23</th>\n",
       "      <td>2018-10-29</td>\n",
       "      <td>1</td>\n",
       "    </tr>\n",
       "    <tr>\n",
       "      <th>24</th>\n",
       "      <td>2018-10-22</td>\n",
       "      <td>1</td>\n",
       "    </tr>\n",
       "    <tr>\n",
       "      <th>25</th>\n",
       "      <td>2018-09-27</td>\n",
       "      <td>1</td>\n",
       "    </tr>\n",
       "    <tr>\n",
       "      <th>26</th>\n",
       "      <td>2018-10-08</td>\n",
       "      <td>1</td>\n",
       "    </tr>\n",
       "    <tr>\n",
       "      <th>27</th>\n",
       "      <td>2018-12-06</td>\n",
       "      <td>1</td>\n",
       "    </tr>\n",
       "    <tr>\n",
       "      <th>28</th>\n",
       "      <td>2018-11-08</td>\n",
       "      <td>1</td>\n",
       "    </tr>\n",
       "    <tr>\n",
       "      <th>29</th>\n",
       "      <td>2018-12-03</td>\n",
       "      <td>1</td>\n",
       "    </tr>\n",
       "    <tr>\n",
       "      <th>30</th>\n",
       "      <td>2018-09-17</td>\n",
       "      <td>1</td>\n",
       "    </tr>\n",
       "    <tr>\n",
       "      <th>31</th>\n",
       "      <td>2018-10-11</td>\n",
       "      <td>1</td>\n",
       "    </tr>\n",
       "    <tr>\n",
       "      <th>32</th>\n",
       "      <td>2018-11-26</td>\n",
       "      <td>1</td>\n",
       "    </tr>\n",
       "    <tr>\n",
       "      <th>33</th>\n",
       "      <td>2018-12-10</td>\n",
       "      <td>1</td>\n",
       "    </tr>\n",
       "    <tr>\n",
       "      <th>34</th>\n",
       "      <td>2018-11-15</td>\n",
       "      <td>1</td>\n",
       "    </tr>\n",
       "    <tr>\n",
       "      <th>35</th>\n",
       "      <td>2018-11-12</td>\n",
       "      <td>1</td>\n",
       "    </tr>\n",
       "    <tr>\n",
       "      <th>36</th>\n",
       "      <td>2018-10-04</td>\n",
       "      <td>1</td>\n",
       "    </tr>\n",
       "    <tr>\n",
       "      <th>37</th>\n",
       "      <td>2018-11-01</td>\n",
       "      <td>1</td>\n",
       "    </tr>\n",
       "    <tr>\n",
       "      <th>38</th>\n",
       "      <td>2018-10-25</td>\n",
       "      <td>1</td>\n",
       "    </tr>\n",
       "    <tr>\n",
       "      <th>39</th>\n",
       "      <td>2018-11-05</td>\n",
       "      <td>1</td>\n",
       "    </tr>\n",
       "    <tr>\n",
       "      <th>40</th>\n",
       "      <td>2018-09-06</td>\n",
       "      <td>1</td>\n",
       "    </tr>\n",
       "    <tr>\n",
       "      <th>41</th>\n",
       "      <td>2018-10-15</td>\n",
       "      <td>1</td>\n",
       "    </tr>\n",
       "    <tr>\n",
       "      <th>42</th>\n",
       "      <td>2018-11-19</td>\n",
       "      <td>1</td>\n",
       "    </tr>\n",
       "    <tr>\n",
       "      <th>43</th>\n",
       "      <td>2018-10-01</td>\n",
       "      <td>1</td>\n",
       "    </tr>\n",
       "    <tr>\n",
       "      <th>44</th>\n",
       "      <td>2018-12-13</td>\n",
       "      <td>1</td>\n",
       "    </tr>\n",
       "    <tr>\n",
       "      <th>45</th>\n",
       "      <td>2018-11-29</td>\n",
       "      <td>1</td>\n",
       "    </tr>\n",
       "    <tr>\n",
       "      <th>46</th>\n",
       "      <td>2018-10-18</td>\n",
       "      <td>1</td>\n",
       "    </tr>\n",
       "    <tr>\n",
       "      <th>47</th>\n",
       "      <td>2018-12-17</td>\n",
       "      <td>1</td>\n",
       "    </tr>\n",
       "    <tr>\n",
       "      <th>48</th>\n",
       "      <td>2018-12-24</td>\n",
       "      <td>1</td>\n",
       "    </tr>\n",
       "    <tr>\n",
       "      <th>49</th>\n",
       "      <td>2018-09-13</td>\n",
       "      <td>1</td>\n",
       "    </tr>\n",
       "  </tbody>\n",
       "</table>\n",
       "</div>"
      ],
      "text/plain": [
       "         index  gameDate\n",
       "0   2018-12-30        16\n",
       "1   2018-09-16        14\n",
       "2   2018-12-09        14\n",
       "3   2018-09-23        14\n",
       "4   2018-12-02        14\n",
       "5   2018-09-30        13\n",
       "6   2018-10-14        13\n",
       "7   2018-12-23        13\n",
       "8   2018-10-07        13\n",
       "9   2018-12-16        12\n",
       "10  2018-11-11        12\n",
       "11  2018-10-28        12\n",
       "12  2018-10-21        12\n",
       "13  2018-11-04        11\n",
       "14  2018-11-18        11\n",
       "15  2018-11-25        11\n",
       "16  2018-09-09        10\n",
       "17  2018-11-22         3\n",
       "18  2018-09-10         2\n",
       "19  2018-12-15         2\n",
       "20  2018-12-22         2\n",
       "21  2018-09-24         1\n",
       "22  2018-09-20         1\n",
       "23  2018-10-29         1\n",
       "24  2018-10-22         1\n",
       "25  2018-09-27         1\n",
       "26  2018-10-08         1\n",
       "27  2018-12-06         1\n",
       "28  2018-11-08         1\n",
       "29  2018-12-03         1\n",
       "30  2018-09-17         1\n",
       "31  2018-10-11         1\n",
       "32  2018-11-26         1\n",
       "33  2018-12-10         1\n",
       "34  2018-11-15         1\n",
       "35  2018-11-12         1\n",
       "36  2018-10-04         1\n",
       "37  2018-11-01         1\n",
       "38  2018-10-25         1\n",
       "39  2018-11-05         1\n",
       "40  2018-09-06         1\n",
       "41  2018-10-15         1\n",
       "42  2018-11-19         1\n",
       "43  2018-10-01         1\n",
       "44  2018-12-13         1\n",
       "45  2018-11-29         1\n",
       "46  2018-10-18         1\n",
       "47  2018-12-17         1\n",
       "48  2018-12-24         1\n",
       "49  2018-09-13         1"
      ]
     },
     "execution_count": 6,
     "metadata": {},
     "output_type": "execute_result"
    }
   ],
   "source": [
    "games_df['gameDate'].value_counts().reset_index()"
   ]
  },
  {
   "cell_type": "markdown",
   "id": "ff76cf56",
   "metadata": {
    "papermill": {
     "duration": 0.068598,
     "end_time": "2021-07-15T14:55:20.532706",
     "exception": false,
     "start_time": "2021-07-15T14:55:20.464108",
     "status": "completed"
    },
    "tags": []
   },
   "source": [
    "**There were a total of 50 different game dates.**"
   ]
  },
  {
   "cell_type": "code",
   "execution_count": 7,
   "id": "e792ede2",
   "metadata": {
    "execution": {
     "iopub.execute_input": "2021-07-15T14:55:20.683810Z",
     "iopub.status.busy": "2021-07-15T14:55:20.683152Z",
     "iopub.status.idle": "2021-07-15T14:55:20.685793Z",
     "shell.execute_reply": "2021-07-15T14:55:20.686378Z",
     "shell.execute_reply.started": "2021-07-15T14:34:49.283360Z"
    },
    "papermill": {
     "duration": 0.084286,
     "end_time": "2021-07-15T14:55:20.686561",
     "exception": false,
     "start_time": "2021-07-15T14:55:20.602275",
     "status": "completed"
    },
    "tags": []
   },
   "outputs": [
    {
     "data": {
      "text/html": [
       "<div>\n",
       "<style scoped>\n",
       "    .dataframe tbody tr th:only-of-type {\n",
       "        vertical-align: middle;\n",
       "    }\n",
       "\n",
       "    .dataframe tbody tr th {\n",
       "        vertical-align: top;\n",
       "    }\n",
       "\n",
       "    .dataframe thead th {\n",
       "        text-align: right;\n",
       "    }\n",
       "</style>\n",
       "<table border=\"1\" class=\"dataframe\">\n",
       "  <thead>\n",
       "    <tr style=\"text-align: right;\">\n",
       "      <th></th>\n",
       "      <th>date</th>\n",
       "      <th>frequency</th>\n",
       "    </tr>\n",
       "  </thead>\n",
       "  <tbody>\n",
       "    <tr>\n",
       "      <th>0</th>\n",
       "      <td>2018-12-30</td>\n",
       "      <td>16</td>\n",
       "    </tr>\n",
       "    <tr>\n",
       "      <th>1</th>\n",
       "      <td>2018-09-16</td>\n",
       "      <td>14</td>\n",
       "    </tr>\n",
       "    <tr>\n",
       "      <th>2</th>\n",
       "      <td>2018-12-09</td>\n",
       "      <td>14</td>\n",
       "    </tr>\n",
       "    <tr>\n",
       "      <th>3</th>\n",
       "      <td>2018-09-23</td>\n",
       "      <td>14</td>\n",
       "    </tr>\n",
       "    <tr>\n",
       "      <th>4</th>\n",
       "      <td>2018-12-02</td>\n",
       "      <td>14</td>\n",
       "    </tr>\n",
       "  </tbody>\n",
       "</table>\n",
       "</div>"
      ],
      "text/plain": [
       "         date  frequency\n",
       "0  2018-12-30         16\n",
       "1  2018-09-16         14\n",
       "2  2018-12-09         14\n",
       "3  2018-09-23         14\n",
       "4  2018-12-02         14"
      ]
     },
     "execution_count": 7,
     "metadata": {},
     "output_type": "execute_result"
    }
   ],
   "source": [
    "date_dist = games_df['gameDate'].value_counts().reset_index()\n",
    "date_dist.columns = ['date', 'frequency']\n",
    "date_dist.head()"
   ]
  },
  {
   "cell_type": "markdown",
   "id": "bce3dc79",
   "metadata": {
    "papermill": {
     "duration": 0.070398,
     "end_time": "2021-07-15T14:55:20.826274",
     "exception": false,
     "start_time": "2021-07-15T14:55:20.755876",
     "status": "completed"
    },
    "tags": []
   },
   "source": [
    "**Next, sorting the data based on the date and setting the index as the date.**"
   ]
  },
  {
   "cell_type": "code",
   "execution_count": 8,
   "id": "a8aa12e7",
   "metadata": {
    "execution": {
     "iopub.execute_input": "2021-07-15T14:55:20.968334Z",
     "iopub.status.busy": "2021-07-15T14:55:20.967668Z",
     "iopub.status.idle": "2021-07-15T14:55:20.979239Z",
     "shell.execute_reply": "2021-07-15T14:55:20.979781Z",
     "shell.execute_reply.started": "2021-07-15T14:34:49.305279Z"
    },
    "papermill": {
     "duration": 0.084951,
     "end_time": "2021-07-15T14:55:20.979954",
     "exception": false,
     "start_time": "2021-07-15T14:55:20.895003",
     "status": "completed"
    },
    "tags": []
   },
   "outputs": [
    {
     "data": {
      "text/html": [
       "<div>\n",
       "<style scoped>\n",
       "    .dataframe tbody tr th:only-of-type {\n",
       "        vertical-align: middle;\n",
       "    }\n",
       "\n",
       "    .dataframe tbody tr th {\n",
       "        vertical-align: top;\n",
       "    }\n",
       "\n",
       "    .dataframe thead th {\n",
       "        text-align: right;\n",
       "    }\n",
       "</style>\n",
       "<table border=\"1\" class=\"dataframe\">\n",
       "  <thead>\n",
       "    <tr style=\"text-align: right;\">\n",
       "      <th></th>\n",
       "      <th>frequency</th>\n",
       "    </tr>\n",
       "    <tr>\n",
       "      <th>date</th>\n",
       "      <th></th>\n",
       "    </tr>\n",
       "  </thead>\n",
       "  <tbody>\n",
       "    <tr>\n",
       "      <th>2018-09-06</th>\n",
       "      <td>1</td>\n",
       "    </tr>\n",
       "    <tr>\n",
       "      <th>2018-09-09</th>\n",
       "      <td>10</td>\n",
       "    </tr>\n",
       "    <tr>\n",
       "      <th>2018-09-10</th>\n",
       "      <td>2</td>\n",
       "    </tr>\n",
       "    <tr>\n",
       "      <th>2018-09-13</th>\n",
       "      <td>1</td>\n",
       "    </tr>\n",
       "    <tr>\n",
       "      <th>2018-09-16</th>\n",
       "      <td>14</td>\n",
       "    </tr>\n",
       "  </tbody>\n",
       "</table>\n",
       "</div>"
      ],
      "text/plain": [
       "            frequency\n",
       "date                 \n",
       "2018-09-06          1\n",
       "2018-09-09         10\n",
       "2018-09-10          2\n",
       "2018-09-13          1\n",
       "2018-09-16         14"
      ]
     },
     "execution_count": 8,
     "metadata": {},
     "output_type": "execute_result"
    }
   ],
   "source": [
    "sorted_date_dist = date_dist.sort_values('date').set_index('date')\n",
    "sorted_date_dist.head()"
   ]
  },
  {
   "cell_type": "markdown",
   "id": "012e2735",
   "metadata": {
    "papermill": {
     "duration": 0.070202,
     "end_time": "2021-07-15T14:55:21.119027",
     "exception": false,
     "start_time": "2021-07-15T14:55:21.048825",
     "status": "completed"
    },
    "tags": []
   },
   "source": [
    "**Let us plot the distribution using a bar plot.**"
   ]
  },
  {
   "cell_type": "code",
   "execution_count": 9,
   "id": "e42ae249",
   "metadata": {
    "execution": {
     "iopub.execute_input": "2021-07-15T14:55:21.262041Z",
     "iopub.status.busy": "2021-07-15T14:55:21.261429Z",
     "iopub.status.idle": "2021-07-15T14:55:22.076740Z",
     "shell.execute_reply": "2021-07-15T14:55:22.076245Z",
     "shell.execute_reply.started": "2021-07-15T14:34:49.321524Z"
    },
    "papermill": {
     "duration": 0.888591,
     "end_time": "2021-07-15T14:55:22.076881",
     "exception": false,
     "start_time": "2021-07-15T14:55:21.188290",
     "status": "completed"
    },
    "tags": []
   },
   "outputs": [
    {
     "data": {
      "text/plain": [
       "<AxesSubplot:xlabel='date'>"
      ]
     },
     "execution_count": 9,
     "metadata": {},
     "output_type": "execute_result"
    },
    {
     "data": {
      "image/png": "[encoded data removed]",
      "text/plain": [
       "<Figure size 1440x288 with 1 Axes>"
      ]
     },
     "metadata": {
      "needs_background": "light"
     },
     "output_type": "display_data"
    }
   ],
   "source": [
    "sorted_date_dist.plot(kind='bar', figsize=(20,4))"
   ]
  },
  {
   "cell_type": "markdown",
   "id": "76c11582",
   "metadata": {
    "papermill": {
     "duration": 0.071638,
     "end_time": "2021-07-15T14:55:22.220245",
     "exception": false,
     "start_time": "2021-07-15T14:55:22.148607",
     "status": "completed"
    },
    "tags": []
   },
   "source": [
    "**We can do the same analysis for the time, day and week as well. So, let us convert our code to a Python function.**"
   ]
  },
  {
   "cell_type": "code",
   "execution_count": 10,
   "id": "3926f4db",
   "metadata": {
    "execution": {
     "iopub.execute_input": "2021-07-15T14:55:22.393967Z",
     "iopub.status.busy": "2021-07-15T14:55:22.386736Z",
     "iopub.status.idle": "2021-07-15T14:55:23.146906Z",
     "shell.execute_reply": "2021-07-15T14:55:23.146379Z",
     "shell.execute_reply.started": "2021-07-15T14:34:50.136950Z"
    },
    "papermill": {
     "duration": 0.855758,
     "end_time": "2021-07-15T14:55:23.147046",
     "exception": false,
     "start_time": "2021-07-15T14:55:22.291288",
     "status": "completed"
    },
    "tags": []
   },
   "outputs": [
    {
     "data": {
      "text/plain": [
       "True"
      ]
     },
     "execution_count": 10,
     "metadata": {},
     "output_type": "execute_result"
    },
    {
     "data": {
      "image/png": "[encoded data removed]",
      "text/plain": [
       "<Figure size 1440x288 with 1 Axes>"
      ]
     },
     "metadata": {
      "needs_background": "light"
     },
     "output_type": "display_data"
    }
   ],
   "source": [
    "def find_dist(df, col_name):\n",
    "    dist = df[col_name].value_counts().reset_index()\n",
    "    dist.columns = [col_name, 'frequency']\n",
    "    sorted_dist = dist.sort_values(col_name, ascending=True).set_index(col_name)\n",
    "    sorted_dist.plot(kind='bar', figsize=(20,4))\n",
    "    return True\n",
    "find_dist(games_df, 'gameDate')"
   ]
  },
  {
   "cell_type": "markdown",
   "id": "08756268",
   "metadata": {
    "papermill": {
     "duration": 0.07253,
     "end_time": "2021-07-15T14:55:23.292650",
     "exception": false,
     "start_time": "2021-07-15T14:55:23.220120",
     "status": "completed"
    },
    "tags": []
   },
   "source": [
    "**Let us visualize the frequency distribution of games in relation to time and week number.**"
   ]
  },
  {
   "cell_type": "code",
   "execution_count": 11,
   "id": "44e74d80",
   "metadata": {
    "execution": {
     "iopub.execute_input": "2021-07-15T14:55:23.453331Z",
     "iopub.status.busy": "2021-07-15T14:55:23.452397Z",
     "iopub.status.idle": "2021-07-15T14:55:23.456988Z",
     "shell.execute_reply": "2021-07-15T14:55:23.456453Z",
     "shell.execute_reply.started": "2021-07-15T14:34:50.938620Z"
    },
    "papermill": {
     "duration": 0.090829,
     "end_time": "2021-07-15T14:55:23.457155",
     "exception": false,
     "start_time": "2021-07-15T14:55:23.366326",
     "status": "completed"
    },
    "tags": []
   },
   "outputs": [
    {
     "data": {
      "text/html": [
       "<div>\n",
       "<style scoped>\n",
       "    .dataframe tbody tr th:only-of-type {\n",
       "        vertical-align: middle;\n",
       "    }\n",
       "\n",
       "    .dataframe tbody tr th {\n",
       "        vertical-align: top;\n",
       "    }\n",
       "\n",
       "    .dataframe thead th {\n",
       "        text-align: right;\n",
       "    }\n",
       "</style>\n",
       "<table border=\"1\" class=\"dataframe\">\n",
       "  <thead>\n",
       "    <tr style=\"text-align: right;\">\n",
       "      <th></th>\n",
       "      <th>gameId</th>\n",
       "      <th>gameDate</th>\n",
       "      <th>gameTimeEastern</th>\n",
       "      <th>homeTeamAbbr</th>\n",
       "      <th>visitorTeamAbbr</th>\n",
       "      <th>week</th>\n",
       "    </tr>\n",
       "  </thead>\n",
       "  <tbody>\n",
       "    <tr>\n",
       "      <th>0</th>\n",
       "      <td>2018090600</td>\n",
       "      <td>2018-09-06</td>\n",
       "      <td>20:20:00</td>\n",
       "      <td>PHI</td>\n",
       "      <td>ATL</td>\n",
       "      <td>1</td>\n",
       "    </tr>\n",
       "    <tr>\n",
       "      <th>1</th>\n",
       "      <td>2018090901</td>\n",
       "      <td>2018-09-09</td>\n",
       "      <td>13:00:00</td>\n",
       "      <td>CLE</td>\n",
       "      <td>PIT</td>\n",
       "      <td>1</td>\n",
       "    </tr>\n",
       "    <tr>\n",
       "      <th>2</th>\n",
       "      <td>2018090902</td>\n",
       "      <td>2018-09-09</td>\n",
       "      <td>13:00:00</td>\n",
       "      <td>IND</td>\n",
       "      <td>CIN</td>\n",
       "      <td>1</td>\n",
       "    </tr>\n",
       "    <tr>\n",
       "      <th>3</th>\n",
       "      <td>2018090903</td>\n",
       "      <td>2018-09-09</td>\n",
       "      <td>13:00:00</td>\n",
       "      <td>MIA</td>\n",
       "      <td>TEN</td>\n",
       "      <td>1</td>\n",
       "    </tr>\n",
       "    <tr>\n",
       "      <th>4</th>\n",
       "      <td>2018090900</td>\n",
       "      <td>2018-09-09</td>\n",
       "      <td>13:00:00</td>\n",
       "      <td>BAL</td>\n",
       "      <td>BUF</td>\n",
       "      <td>1</td>\n",
       "    </tr>\n",
       "  </tbody>\n",
       "</table>\n",
       "</div>"
      ],
      "text/plain": [
       "       gameId    gameDate gameTimeEastern homeTeamAbbr visitorTeamAbbr  week\n",
       "0  2018090600  2018-09-06        20:20:00          PHI             ATL     1\n",
       "1  2018090901  2018-09-09        13:00:00          CLE             PIT     1\n",
       "2  2018090902  2018-09-09        13:00:00          IND             CIN     1\n",
       "3  2018090903  2018-09-09        13:00:00          MIA             TEN     1\n",
       "4  2018090900  2018-09-09        13:00:00          BAL             BUF     1"
      ]
     },
     "execution_count": 11,
     "metadata": {},
     "output_type": "execute_result"
    }
   ],
   "source": [
    "games_df.head()"
   ]
  },
  {
   "cell_type": "code",
   "execution_count": 12,
   "id": "270a21df",
   "metadata": {
    "execution": {
     "iopub.execute_input": "2021-07-15T14:55:23.639470Z",
     "iopub.status.busy": "2021-07-15T14:55:23.638571Z",
     "iopub.status.idle": "2021-07-15T14:55:23.853586Z",
     "shell.execute_reply": "2021-07-15T14:55:23.852632Z",
     "shell.execute_reply.started": "2021-07-15T14:34:50.953239Z"
    },
    "papermill": {
     "duration": 0.324338,
     "end_time": "2021-07-15T14:55:23.853740",
     "exception": false,
     "start_time": "2021-07-15T14:55:23.529402",
     "status": "completed"
    },
    "tags": []
   },
   "outputs": [
    {
     "data": {
      "text/plain": [
       "True"
      ]
     },
     "execution_count": 12,
     "metadata": {},
     "output_type": "execute_result"
    },
    {
     "data": {
      "image/png": "[encoded data removed]",
      "text/plain": [
       "<Figure size 1440x288 with 1 Axes>"
      ]
     },
     "metadata": {
      "needs_background": "light"
     },
     "output_type": "display_data"
    }
   ],
   "source": [
    "find_dist(games_df, 'gameTimeEastern')"
   ]
  },
  {
   "cell_type": "code",
   "execution_count": 13,
   "id": "0d7f3c4a",
   "metadata": {
    "execution": {
     "iopub.execute_input": "2021-07-15T14:55:24.040367Z",
     "iopub.status.busy": "2021-07-15T14:55:24.038818Z",
     "iopub.status.idle": "2021-07-15T14:55:24.299907Z",
     "shell.execute_reply": "2021-07-15T14:55:24.299374Z",
     "shell.execute_reply.started": "2021-07-15T14:34:51.214183Z"
    },
    "papermill": {
     "duration": 0.37271,
     "end_time": "2021-07-15T14:55:24.300054",
     "exception": false,
     "start_time": "2021-07-15T14:55:23.927344",
     "status": "completed"
    },
    "tags": []
   },
   "outputs": [
    {
     "data": {
      "text/plain": [
       "True"
      ]
     },
     "execution_count": 13,
     "metadata": {},
     "output_type": "execute_result"
    },
    {
     "data": {
      "image/png": "[encoded data removed]",
      "text/plain": [
       "<Figure size 1440x288 with 1 Axes>"
      ]
     },
     "metadata": {
      "needs_background": "light"
     },
     "output_type": "display_data"
    }
   ],
   "source": [
    "find_dist(games_df, 'week')"
   ]
  },
  {
   "cell_type": "markdown",
   "id": "de5f1eca",
   "metadata": {
    "papermill": {
     "duration": 0.074441,
     "end_time": "2021-07-15T14:55:24.449489",
     "exception": false,
     "start_time": "2021-07-15T14:55:24.375048",
     "status": "completed"
    },
    "tags": []
   },
   "source": [
    "**Finally, let us look at how the games are distributed in relation to the game days. For this, we will have to convert the dates to which day they fall in the week.**"
   ]
  },
  {
   "cell_type": "code",
   "execution_count": 14,
   "id": "6785d556",
   "metadata": {
    "execution": {
     "iopub.execute_input": "2021-07-15T14:55:24.611626Z",
     "iopub.status.busy": "2021-07-15T14:55:24.607353Z",
     "iopub.status.idle": "2021-07-15T14:55:24.616385Z",
     "shell.execute_reply": "2021-07-15T14:55:24.615841Z",
     "shell.execute_reply.started": "2021-07-15T14:34:51.518091Z"
    },
    "papermill": {
     "duration": 0.09166,
     "end_time": "2021-07-15T14:55:24.616541",
     "exception": false,
     "start_time": "2021-07-15T14:55:24.524881",
     "status": "completed"
    },
    "tags": []
   },
   "outputs": [
    {
     "data": {
      "text/html": [
       "<div>\n",
       "<style scoped>\n",
       "    .dataframe tbody tr th:only-of-type {\n",
       "        vertical-align: middle;\n",
       "    }\n",
       "\n",
       "    .dataframe tbody tr th {\n",
       "        vertical-align: top;\n",
       "    }\n",
       "\n",
       "    .dataframe thead th {\n",
       "        text-align: right;\n",
       "    }\n",
       "</style>\n",
       "<table border=\"1\" class=\"dataframe\">\n",
       "  <thead>\n",
       "    <tr style=\"text-align: right;\">\n",
       "      <th></th>\n",
       "      <th>gameId</th>\n",
       "      <th>gameDate</th>\n",
       "      <th>gameTimeEastern</th>\n",
       "      <th>homeTeamAbbr</th>\n",
       "      <th>visitorTeamAbbr</th>\n",
       "      <th>week</th>\n",
       "    </tr>\n",
       "  </thead>\n",
       "  <tbody>\n",
       "    <tr>\n",
       "      <th>0</th>\n",
       "      <td>2018090600</td>\n",
       "      <td>2018-09-06</td>\n",
       "      <td>20:20:00</td>\n",
       "      <td>PHI</td>\n",
       "      <td>ATL</td>\n",
       "      <td>1</td>\n",
       "    </tr>\n",
       "    <tr>\n",
       "      <th>1</th>\n",
       "      <td>2018090901</td>\n",
       "      <td>2018-09-09</td>\n",
       "      <td>13:00:00</td>\n",
       "      <td>CLE</td>\n",
       "      <td>PIT</td>\n",
       "      <td>1</td>\n",
       "    </tr>\n",
       "    <tr>\n",
       "      <th>2</th>\n",
       "      <td>2018090902</td>\n",
       "      <td>2018-09-09</td>\n",
       "      <td>13:00:00</td>\n",
       "      <td>IND</td>\n",
       "      <td>CIN</td>\n",
       "      <td>1</td>\n",
       "    </tr>\n",
       "    <tr>\n",
       "      <th>3</th>\n",
       "      <td>2018090903</td>\n",
       "      <td>2018-09-09</td>\n",
       "      <td>13:00:00</td>\n",
       "      <td>MIA</td>\n",
       "      <td>TEN</td>\n",
       "      <td>1</td>\n",
       "    </tr>\n",
       "    <tr>\n",
       "      <th>4</th>\n",
       "      <td>2018090900</td>\n",
       "      <td>2018-09-09</td>\n",
       "      <td>13:00:00</td>\n",
       "      <td>BAL</td>\n",
       "      <td>BUF</td>\n",
       "      <td>1</td>\n",
       "    </tr>\n",
       "  </tbody>\n",
       "</table>\n",
       "</div>"
      ],
      "text/plain": [
       "       gameId    gameDate gameTimeEastern homeTeamAbbr visitorTeamAbbr  week\n",
       "0  2018090600  2018-09-06        20:20:00          PHI             ATL     1\n",
       "1  2018090901  2018-09-09        13:00:00          CLE             PIT     1\n",
       "2  2018090902  2018-09-09        13:00:00          IND             CIN     1\n",
       "3  2018090903  2018-09-09        13:00:00          MIA             TEN     1\n",
       "4  2018090900  2018-09-09        13:00:00          BAL             BUF     1"
      ]
     },
     "execution_count": 14,
     "metadata": {},
     "output_type": "execute_result"
    }
   ],
   "source": [
    "games_df.head()"
   ]
  },
  {
   "cell_type": "code",
   "execution_count": 15,
   "id": "483c3bda",
   "metadata": {
    "execution": {
     "iopub.execute_input": "2021-07-15T14:55:24.783552Z",
     "iopub.status.busy": "2021-07-15T14:55:24.782617Z",
     "iopub.status.idle": "2021-07-15T14:55:24.786557Z",
     "shell.execute_reply": "2021-07-15T14:55:24.787115Z",
     "shell.execute_reply.started": "2021-07-15T14:34:51.532043Z"
    },
    "papermill": {
     "duration": 0.095125,
     "end_time": "2021-07-15T14:55:24.787318",
     "exception": false,
     "start_time": "2021-07-15T14:55:24.692193",
     "status": "completed"
    },
    "tags": []
   },
   "outputs": [
    {
     "data": {
      "text/html": [
       "<div>\n",
       "<style scoped>\n",
       "    .dataframe tbody tr th:only-of-type {\n",
       "        vertical-align: middle;\n",
       "    }\n",
       "\n",
       "    .dataframe tbody tr th {\n",
       "        vertical-align: top;\n",
       "    }\n",
       "\n",
       "    .dataframe thead th {\n",
       "        text-align: right;\n",
       "    }\n",
       "</style>\n",
       "<table border=\"1\" class=\"dataframe\">\n",
       "  <thead>\n",
       "    <tr style=\"text-align: right;\">\n",
       "      <th></th>\n",
       "      <th>gameId</th>\n",
       "      <th>gameDate</th>\n",
       "      <th>gameTimeEastern</th>\n",
       "      <th>homeTeamAbbr</th>\n",
       "      <th>visitorTeamAbbr</th>\n",
       "      <th>week</th>\n",
       "      <th>gameDay</th>\n",
       "    </tr>\n",
       "  </thead>\n",
       "  <tbody>\n",
       "    <tr>\n",
       "      <th>0</th>\n",
       "      <td>2018090600</td>\n",
       "      <td>2018-09-06</td>\n",
       "      <td>20:20:00</td>\n",
       "      <td>PHI</td>\n",
       "      <td>ATL</td>\n",
       "      <td>1</td>\n",
       "      <td>Thursday</td>\n",
       "    </tr>\n",
       "    <tr>\n",
       "      <th>1</th>\n",
       "      <td>2018090901</td>\n",
       "      <td>2018-09-09</td>\n",
       "      <td>13:00:00</td>\n",
       "      <td>CLE</td>\n",
       "      <td>PIT</td>\n",
       "      <td>1</td>\n",
       "      <td>Sunday</td>\n",
       "    </tr>\n",
       "    <tr>\n",
       "      <th>2</th>\n",
       "      <td>2018090902</td>\n",
       "      <td>2018-09-09</td>\n",
       "      <td>13:00:00</td>\n",
       "      <td>IND</td>\n",
       "      <td>CIN</td>\n",
       "      <td>1</td>\n",
       "      <td>Sunday</td>\n",
       "    </tr>\n",
       "    <tr>\n",
       "      <th>3</th>\n",
       "      <td>2018090903</td>\n",
       "      <td>2018-09-09</td>\n",
       "      <td>13:00:00</td>\n",
       "      <td>MIA</td>\n",
       "      <td>TEN</td>\n",
       "      <td>1</td>\n",
       "      <td>Sunday</td>\n",
       "    </tr>\n",
       "    <tr>\n",
       "      <th>4</th>\n",
       "      <td>2018090900</td>\n",
       "      <td>2018-09-09</td>\n",
       "      <td>13:00:00</td>\n",
       "      <td>BAL</td>\n",
       "      <td>BUF</td>\n",
       "      <td>1</td>\n",
       "      <td>Sunday</td>\n",
       "    </tr>\n",
       "  </tbody>\n",
       "</table>\n",
       "</div>"
      ],
      "text/plain": [
       "       gameId    gameDate gameTimeEastern homeTeamAbbr visitorTeamAbbr  week  \\\n",
       "0  2018090600  2018-09-06        20:20:00          PHI             ATL     1   \n",
       "1  2018090901  2018-09-09        13:00:00          CLE             PIT     1   \n",
       "2  2018090902  2018-09-09        13:00:00          IND             CIN     1   \n",
       "3  2018090903  2018-09-09        13:00:00          MIA             TEN     1   \n",
       "4  2018090900  2018-09-09        13:00:00          BAL             BUF     1   \n",
       "\n",
       "    gameDay  \n",
       "0  Thursday  \n",
       "1    Sunday  \n",
       "2    Sunday  \n",
       "3    Sunday  \n",
       "4    Sunday  "
      ]
     },
     "execution_count": 15,
     "metadata": {},
     "output_type": "execute_result"
    }
   ],
   "source": [
    "games_df['gameDay'] = games_df['gameDate'].apply(lambda x: x.strftime('%A'))\n",
    "games_df.head()"
   ]
  },
  {
   "cell_type": "markdown",
   "id": "cf24d8b3",
   "metadata": {
    "papermill": {
     "duration": 0.07532,
     "end_time": "2021-07-15T14:55:24.938552",
     "exception": false,
     "start_time": "2021-07-15T14:55:24.863232",
     "status": "completed"
    },
    "tags": []
   },
   "source": [
    "**Visualizing the game distribution in relation to the game day.**"
   ]
  },
  {
   "cell_type": "code",
   "execution_count": 16,
   "id": "78582683",
   "metadata": {
    "execution": {
     "iopub.execute_input": "2021-07-15T14:55:25.117569Z",
     "iopub.status.busy": "2021-07-15T14:55:25.116892Z",
     "iopub.status.idle": "2021-07-15T14:55:25.273004Z",
     "shell.execute_reply": "2021-07-15T14:55:25.272388Z",
     "shell.execute_reply.started": "2021-07-15T14:34:51.555997Z"
    },
    "papermill": {
     "duration": 0.259178,
     "end_time": "2021-07-15T14:55:25.273162",
     "exception": false,
     "start_time": "2021-07-15T14:55:25.013984",
     "status": "completed"
    },
    "tags": []
   },
   "outputs": [
    {
     "data": {
      "text/plain": [
       "True"
      ]
     },
     "execution_count": 16,
     "metadata": {},
     "output_type": "execute_result"
    },
    {
     "data": {
      "image/png": "[encoded data removed]",
      "text/plain": [
       "<Figure size 1440x288 with 1 Axes>"
      ]
     },
     "metadata": {
      "needs_background": "light"
     },
     "output_type": "display_data"
    }
   ],
   "source": [
    "find_dist(games_df, 'gameDay')"
   ]
  },
  {
   "cell_type": "markdown",
   "id": "62781403",
   "metadata": {
    "papermill": {
     "duration": 0.076371,
     "end_time": "2021-07-15T14:55:25.426208",
     "exception": false,
     "start_time": "2021-07-15T14:55:25.349837",
     "status": "completed"
    },
    "tags": []
   },
   "source": [
    "# NFL players"
   ]
  },
  {
   "cell_type": "markdown",
   "id": "a311316c",
   "metadata": {
    "papermill": {
     "duration": 0.076239,
     "end_time": "2021-07-15T14:55:25.733897",
     "exception": false,
     "start_time": "2021-07-15T14:55:25.657658",
     "status": "completed"
    },
    "tags": []
   },
   "source": [
    "**Let us start by importing the necessary libraries**"
   ]
  },
  {
   "cell_type": "code",
   "execution_count": 17,
   "id": "eade850c",
   "metadata": {
    "execution": {
     "iopub.execute_input": "2021-07-15T14:55:25.893248Z",
     "iopub.status.busy": "2021-07-15T14:55:25.892497Z",
     "iopub.status.idle": "2021-07-15T14:55:26.883053Z",
     "shell.execute_reply": "2021-07-15T14:55:26.883622Z",
     "shell.execute_reply.started": "2021-07-15T14:34:51.741253Z"
    },
    "papermill": {
     "duration": 1.073562,
     "end_time": "2021-07-15T14:55:26.883804",
     "exception": false,
     "start_time": "2021-07-15T14:55:25.810242",
     "status": "completed"
    },
    "tags": []
   },
   "outputs": [],
   "source": [
    "import seaborn as sns\n",
    "import datetime"
   ]
  },
  {
   "cell_type": "markdown",
   "id": "0f7869a3",
   "metadata": {
    "papermill": {
     "duration": 0.077147,
     "end_time": "2021-07-15T14:55:27.038299",
     "exception": false,
     "start_time": "2021-07-15T14:55:26.961152",
     "status": "completed"
    },
    "tags": []
   },
   "source": [
    "**Next, importing the CSV file called players.csv which contains information about the NFL players.**"
   ]
  },
  {
   "cell_type": "code",
   "execution_count": 18,
   "id": "79e8370b",
   "metadata": {
    "execution": {
     "iopub.execute_input": "2021-07-15T14:55:27.195169Z",
     "iopub.status.busy": "2021-07-15T14:55:27.194220Z",
     "iopub.status.idle": "2021-07-15T14:55:27.217394Z",
     "shell.execute_reply": "2021-07-15T14:55:27.216830Z",
     "shell.execute_reply.started": "2021-07-15T14:34:52.749994Z"
    },
    "papermill": {
     "duration": 0.102567,
     "end_time": "2021-07-15T14:55:27.217568",
     "exception": false,
     "start_time": "2021-07-15T14:55:27.115001",
     "status": "completed"
    },
    "tags": []
   },
   "outputs": [],
   "source": [
    "players_df = pd.read_csv(\"C:/Users/DELL/OneDrive/Desktop/Sports Analytics/players.csv\")"
   ]
  },
  {
   "cell_type": "code",
   "execution_count": 19,
   "id": "b6068df7",
   "metadata": {
    "execution": {
     "iopub.execute_input": "2021-07-15T14:55:27.383476Z",
     "iopub.status.busy": "2021-07-15T14:55:27.382805Z",
     "iopub.status.idle": "2021-07-15T14:55:27.385629Z",
     "shell.execute_reply": "2021-07-15T14:55:27.386097Z",
     "shell.execute_reply.started": "2021-07-15T14:34:52.787197Z"
    },
    "papermill": {
     "duration": 0.091926,
     "end_time": "2021-07-15T14:55:27.386282",
     "exception": false,
     "start_time": "2021-07-15T14:55:27.294356",
     "status": "completed"
    },
    "tags": []
   },
   "outputs": [
    {
     "data": {
      "text/html": [
       "<div>\n",
       "<style scoped>\n",
       "    .dataframe tbody tr th:only-of-type {\n",
       "        vertical-align: middle;\n",
       "    }\n",
       "\n",
       "    .dataframe tbody tr th {\n",
       "        vertical-align: top;\n",
       "    }\n",
       "\n",
       "    .dataframe thead th {\n",
       "        text-align: right;\n",
       "    }\n",
       "</style>\n",
       "<table border=\"1\" class=\"dataframe\">\n",
       "  <thead>\n",
       "    <tr style=\"text-align: right;\">\n",
       "      <th></th>\n",
       "      <th>nflId</th>\n",
       "      <th>height</th>\n",
       "      <th>weight</th>\n",
       "      <th>birthDate</th>\n",
       "      <th>collegeName</th>\n",
       "      <th>position</th>\n",
       "      <th>displayName</th>\n",
       "    </tr>\n",
       "  </thead>\n",
       "  <tbody>\n",
       "    <tr>\n",
       "      <th>0</th>\n",
       "      <td>2539334</td>\n",
       "      <td>72</td>\n",
       "      <td>190</td>\n",
       "      <td>1990-09-10</td>\n",
       "      <td>Washington</td>\n",
       "      <td>CB</td>\n",
       "      <td>Desmond Trufant</td>\n",
       "    </tr>\n",
       "    <tr>\n",
       "      <th>1</th>\n",
       "      <td>2539653</td>\n",
       "      <td>70</td>\n",
       "      <td>186</td>\n",
       "      <td>1988-11-01</td>\n",
       "      <td>Southeastern Louisiana</td>\n",
       "      <td>CB</td>\n",
       "      <td>Robert Alford</td>\n",
       "    </tr>\n",
       "    <tr>\n",
       "      <th>2</th>\n",
       "      <td>2543850</td>\n",
       "      <td>69</td>\n",
       "      <td>186</td>\n",
       "      <td>1991-12-18</td>\n",
       "      <td>Purdue</td>\n",
       "      <td>SS</td>\n",
       "      <td>Ricardo Allen</td>\n",
       "    </tr>\n",
       "    <tr>\n",
       "      <th>3</th>\n",
       "      <td>2555162</td>\n",
       "      <td>73</td>\n",
       "      <td>227</td>\n",
       "      <td>1994-11-04</td>\n",
       "      <td>Louisiana State</td>\n",
       "      <td>MLB</td>\n",
       "      <td>Deion Jones</td>\n",
       "    </tr>\n",
       "    <tr>\n",
       "      <th>4</th>\n",
       "      <td>2555255</td>\n",
       "      <td>75</td>\n",
       "      <td>232</td>\n",
       "      <td>1993-07-01</td>\n",
       "      <td>Minnesota</td>\n",
       "      <td>OLB</td>\n",
       "      <td>De'Vondre Campbell</td>\n",
       "    </tr>\n",
       "  </tbody>\n",
       "</table>\n",
       "</div>"
      ],
      "text/plain": [
       "     nflId height  weight   birthDate             collegeName position  \\\n",
       "0  2539334     72     190  1990-09-10              Washington       CB   \n",
       "1  2539653     70     186  1988-11-01  Southeastern Louisiana       CB   \n",
       "2  2543850     69     186  1991-12-18                  Purdue       SS   \n",
       "3  2555162     73     227  1994-11-04         Louisiana State      MLB   \n",
       "4  2555255     75     232  1993-07-01               Minnesota      OLB   \n",
       "\n",
       "          displayName  \n",
       "0     Desmond Trufant  \n",
       "1       Robert Alford  \n",
       "2       Ricardo Allen  \n",
       "3         Deion Jones  \n",
       "4  De'Vondre Campbell  "
      ]
     },
     "execution_count": 19,
     "metadata": {},
     "output_type": "execute_result"
    }
   ],
   "source": [
    "players_df.head()"
   ]
  },
  {
   "cell_type": "markdown",
   "id": "70b07c99",
   "metadata": {
    "papermill": {
     "duration": 0.076569,
     "end_time": "2021-07-15T14:55:27.539578",
     "exception": false,
     "start_time": "2021-07-15T14:55:27.463009",
     "status": "completed"
    },
    "tags": []
   },
   "source": [
    "**Let us also view the shape of the DataFrame to know how many players are present in the dataset.**"
   ]
  },
  {
   "cell_type": "code",
   "execution_count": 20,
   "id": "32014b43",
   "metadata": {
    "execution": {
     "iopub.execute_input": "2021-07-15T14:55:27.696596Z",
     "iopub.status.busy": "2021-07-15T14:55:27.695959Z",
     "iopub.status.idle": "2021-07-15T14:55:27.701968Z",
     "shell.execute_reply": "2021-07-15T14:55:27.701435Z",
     "shell.execute_reply.started": "2021-07-15T14:34:52.804288Z"
    },
    "papermill": {
     "duration": 0.085474,
     "end_time": "2021-07-15T14:55:27.702113",
     "exception": false,
     "start_time": "2021-07-15T14:55:27.616639",
     "status": "completed"
    },
    "tags": []
   },
   "outputs": [
    {
     "data": {
      "text/plain": [
       "(1303, 7)"
      ]
     },
     "execution_count": 20,
     "metadata": {},
     "output_type": "execute_result"
    }
   ],
   "source": [
    "players_df.shape"
   ]
  },
  {
   "cell_type": "markdown",
   "id": "c5edeea2",
   "metadata": {
    "papermill": {
     "duration": 0.078321,
     "end_time": "2021-07-15T14:55:27.858972",
     "exception": false,
     "start_time": "2021-07-15T14:55:27.780651",
     "status": "completed"
    },
    "tags": []
   },
   "source": [
    "**Before we begin, let us convert the date columns to Pandas datetime values.**"
   ]
  },
  {
   "cell_type": "code",
   "execution_count": 21,
   "id": "07ccd85f",
   "metadata": {
    "execution": {
     "iopub.execute_input": "2021-07-15T14:55:28.036464Z",
     "iopub.status.busy": "2021-07-15T14:55:28.035522Z",
     "iopub.status.idle": "2021-07-15T14:55:28.039326Z",
     "shell.execute_reply": "2021-07-15T14:55:28.039758Z",
     "shell.execute_reply.started": "2021-07-15T14:34:52.817165Z"
    },
    "papermill": {
     "duration": 0.101622,
     "end_time": "2021-07-15T14:55:28.039938",
     "exception": false,
     "start_time": "2021-07-15T14:55:27.938316",
     "status": "completed"
    },
    "tags": []
   },
   "outputs": [
    {
     "data": {
      "text/html": [
       "<div>\n",
       "<style scoped>\n",
       "    .dataframe tbody tr th:only-of-type {\n",
       "        vertical-align: middle;\n",
       "    }\n",
       "\n",
       "    .dataframe tbody tr th {\n",
       "        vertical-align: top;\n",
       "    }\n",
       "\n",
       "    .dataframe thead th {\n",
       "        text-align: right;\n",
       "    }\n",
       "</style>\n",
       "<table border=\"1\" class=\"dataframe\">\n",
       "  <thead>\n",
       "    <tr style=\"text-align: right;\">\n",
       "      <th></th>\n",
       "      <th>nflId</th>\n",
       "      <th>height</th>\n",
       "      <th>weight</th>\n",
       "      <th>birthDate</th>\n",
       "      <th>collegeName</th>\n",
       "      <th>position</th>\n",
       "      <th>displayName</th>\n",
       "      <th>birthYear</th>\n",
       "    </tr>\n",
       "  </thead>\n",
       "  <tbody>\n",
       "    <tr>\n",
       "      <th>0</th>\n",
       "      <td>2539334</td>\n",
       "      <td>72</td>\n",
       "      <td>190</td>\n",
       "      <td>1990-09-10</td>\n",
       "      <td>Washington</td>\n",
       "      <td>CB</td>\n",
       "      <td>Desmond Trufant</td>\n",
       "      <td>1990</td>\n",
       "    </tr>\n",
       "    <tr>\n",
       "      <th>1</th>\n",
       "      <td>2539653</td>\n",
       "      <td>70</td>\n",
       "      <td>186</td>\n",
       "      <td>1988-11-01</td>\n",
       "      <td>Southeastern Louisiana</td>\n",
       "      <td>CB</td>\n",
       "      <td>Robert Alford</td>\n",
       "      <td>1988</td>\n",
       "    </tr>\n",
       "    <tr>\n",
       "      <th>2</th>\n",
       "      <td>2543850</td>\n",
       "      <td>69</td>\n",
       "      <td>186</td>\n",
       "      <td>1991-12-18</td>\n",
       "      <td>Purdue</td>\n",
       "      <td>SS</td>\n",
       "      <td>Ricardo Allen</td>\n",
       "      <td>1991</td>\n",
       "    </tr>\n",
       "    <tr>\n",
       "      <th>3</th>\n",
       "      <td>2555162</td>\n",
       "      <td>73</td>\n",
       "      <td>227</td>\n",
       "      <td>1994-11-04</td>\n",
       "      <td>Louisiana State</td>\n",
       "      <td>MLB</td>\n",
       "      <td>Deion Jones</td>\n",
       "      <td>1994</td>\n",
       "    </tr>\n",
       "    <tr>\n",
       "      <th>4</th>\n",
       "      <td>2555255</td>\n",
       "      <td>75</td>\n",
       "      <td>232</td>\n",
       "      <td>1993-07-01</td>\n",
       "      <td>Minnesota</td>\n",
       "      <td>OLB</td>\n",
       "      <td>De'Vondre Campbell</td>\n",
       "      <td>1993</td>\n",
       "    </tr>\n",
       "  </tbody>\n",
       "</table>\n",
       "</div>"
      ],
      "text/plain": [
       "     nflId height  weight   birthDate             collegeName position  \\\n",
       "0  2539334     72     190  1990-09-10              Washington       CB   \n",
       "1  2539653     70     186  1988-11-01  Southeastern Louisiana       CB   \n",
       "2  2543850     69     186  1991-12-18                  Purdue       SS   \n",
       "3  2555162     73     227  1994-11-04         Louisiana State      MLB   \n",
       "4  2555255     75     232  1993-07-01               Minnesota      OLB   \n",
       "\n",
       "          displayName  birthYear  \n",
       "0     Desmond Trufant       1990  \n",
       "1       Robert Alford       1988  \n",
       "2       Ricardo Allen       1991  \n",
       "3         Deion Jones       1994  \n",
       "4  De'Vondre Campbell       1993  "
      ]
     },
     "execution_count": 21,
     "metadata": {},
     "output_type": "execute_result"
    }
   ],
   "source": [
    "players_df['birthDate'] = pd.to_datetime(players_df['birthDate']).dt.date\n",
    "players_df['birthYear'] = pd.to_datetime(players_df['birthDate']).dt.year\n",
    "players_df.head()"
   ]
  },
  {
   "cell_type": "markdown",
   "id": "bf5efd21",
   "metadata": {
    "papermill": {
     "duration": 0.079662,
     "end_time": "2021-07-15T14:55:28.199257",
     "exception": false,
     "start_time": "2021-07-15T14:55:28.119595",
     "status": "completed"
    },
    "tags": []
   },
   "source": [
    "**Let us start our analysis by finding the age distribution of the NFL players. For this, we will have to find the age of the players in respect to the year 2018.**"
   ]
  },
  {
   "cell_type": "code",
   "execution_count": 22,
   "id": "fe35e87b",
   "metadata": {
    "execution": {
     "iopub.execute_input": "2021-07-15T14:55:28.360961Z",
     "iopub.status.busy": "2021-07-15T14:55:28.360313Z",
     "iopub.status.idle": "2021-07-15T14:55:28.388745Z",
     "shell.execute_reply": "2021-07-15T14:55:28.388191Z",
     "shell.execute_reply.started": "2021-07-15T14:34:52.842608Z"
    },
    "papermill": {
     "duration": 0.111491,
     "end_time": "2021-07-15T14:55:28.388908",
     "exception": false,
     "start_time": "2021-07-15T14:55:28.277417",
     "status": "completed"
    },
    "tags": []
   },
   "outputs": [
    {
     "data": {
      "text/html": [
       "<div>\n",
       "<style scoped>\n",
       "    .dataframe tbody tr th:only-of-type {\n",
       "        vertical-align: middle;\n",
       "    }\n",
       "\n",
       "    .dataframe tbody tr th {\n",
       "        vertical-align: top;\n",
       "    }\n",
       "\n",
       "    .dataframe thead th {\n",
       "        text-align: right;\n",
       "    }\n",
       "</style>\n",
       "<table border=\"1\" class=\"dataframe\">\n",
       "  <thead>\n",
       "    <tr style=\"text-align: right;\">\n",
       "      <th></th>\n",
       "      <th>nflId</th>\n",
       "      <th>height</th>\n",
       "      <th>weight</th>\n",
       "      <th>birthDate</th>\n",
       "      <th>collegeName</th>\n",
       "      <th>position</th>\n",
       "      <th>displayName</th>\n",
       "      <th>birthYear</th>\n",
       "      <th>age</th>\n",
       "    </tr>\n",
       "  </thead>\n",
       "  <tbody>\n",
       "    <tr>\n",
       "      <th>0</th>\n",
       "      <td>2539334</td>\n",
       "      <td>72</td>\n",
       "      <td>190</td>\n",
       "      <td>1990-09-10</td>\n",
       "      <td>Washington</td>\n",
       "      <td>CB</td>\n",
       "      <td>Desmond Trufant</td>\n",
       "      <td>1990</td>\n",
       "      <td>28</td>\n",
       "    </tr>\n",
       "    <tr>\n",
       "      <th>1</th>\n",
       "      <td>2539653</td>\n",
       "      <td>70</td>\n",
       "      <td>186</td>\n",
       "      <td>1988-11-01</td>\n",
       "      <td>Southeastern Louisiana</td>\n",
       "      <td>CB</td>\n",
       "      <td>Robert Alford</td>\n",
       "      <td>1988</td>\n",
       "      <td>30</td>\n",
       "    </tr>\n",
       "    <tr>\n",
       "      <th>2</th>\n",
       "      <td>2543850</td>\n",
       "      <td>69</td>\n",
       "      <td>186</td>\n",
       "      <td>1991-12-18</td>\n",
       "      <td>Purdue</td>\n",
       "      <td>SS</td>\n",
       "      <td>Ricardo Allen</td>\n",
       "      <td>1991</td>\n",
       "      <td>27</td>\n",
       "    </tr>\n",
       "    <tr>\n",
       "      <th>3</th>\n",
       "      <td>2555162</td>\n",
       "      <td>73</td>\n",
       "      <td>227</td>\n",
       "      <td>1994-11-04</td>\n",
       "      <td>Louisiana State</td>\n",
       "      <td>MLB</td>\n",
       "      <td>Deion Jones</td>\n",
       "      <td>1994</td>\n",
       "      <td>24</td>\n",
       "    </tr>\n",
       "    <tr>\n",
       "      <th>4</th>\n",
       "      <td>2555255</td>\n",
       "      <td>75</td>\n",
       "      <td>232</td>\n",
       "      <td>1993-07-01</td>\n",
       "      <td>Minnesota</td>\n",
       "      <td>OLB</td>\n",
       "      <td>De'Vondre Campbell</td>\n",
       "      <td>1993</td>\n",
       "      <td>25</td>\n",
       "    </tr>\n",
       "  </tbody>\n",
       "</table>\n",
       "</div>"
      ],
      "text/plain": [
       "     nflId height  weight   birthDate             collegeName position  \\\n",
       "0  2539334     72     190  1990-09-10              Washington       CB   \n",
       "1  2539653     70     186  1988-11-01  Southeastern Louisiana       CB   \n",
       "2  2543850     69     186  1991-12-18                  Purdue       SS   \n",
       "3  2555162     73     227  1994-11-04         Louisiana State      MLB   \n",
       "4  2555255     75     232  1993-07-01               Minnesota      OLB   \n",
       "\n",
       "          displayName  birthYear  age  \n",
       "0     Desmond Trufant       1990   28  \n",
       "1       Robert Alford       1988   30  \n",
       "2       Ricardo Allen       1991   27  \n",
       "3         Deion Jones       1994   24  \n",
       "4  De'Vondre Campbell       1993   25  "
      ]
     },
     "execution_count": 22,
     "metadata": {},
     "output_type": "execute_result"
    }
   ],
   "source": [
    "players_df['age'] = 2018 - players_df['birthYear']\n",
    "players_df.head()"
   ]
  },
  {
   "cell_type": "markdown",
   "id": "9fea5c5e",
   "metadata": {
    "papermill": {
     "duration": 0.080679,
     "end_time": "2021-07-15T14:55:28.549050",
     "exception": false,
     "start_time": "2021-07-15T14:55:28.468371",
     "status": "completed"
    },
    "tags": []
   },
   "source": [
    "**Since, we have the function we made in the previous section, we can use it to find the age distribution of the players easily.**"
   ]
  },
  {
   "cell_type": "code",
   "execution_count": 23,
   "id": "93ab442b",
   "metadata": {
    "execution": {
     "iopub.execute_input": "2021-07-15T14:55:28.712999Z",
     "iopub.status.busy": "2021-07-15T14:55:28.712340Z",
     "iopub.status.idle": "2021-07-15T14:55:28.714155Z",
     "shell.execute_reply": "2021-07-15T14:55:28.714696Z",
     "shell.execute_reply.started": "2021-07-15T14:34:52.881929Z"
    },
    "papermill": {
     "duration": 0.086933,
     "end_time": "2021-07-15T14:55:28.714863",
     "exception": false,
     "start_time": "2021-07-15T14:55:28.627930",
     "status": "completed"
    },
    "tags": []
   },
   "outputs": [],
   "source": [
    "def find_dist(df, col_name):\n",
    "    dist = df[col_name].value_counts().reset_index()\n",
    "    dist.columns = [col_name, 'frequency']\n",
    "    sorted_dist = dist.sort_values(col_name, ascending=True).set_index(col_name)\n",
    "    sorted_dist.plot(kind='bar', figsize=(20,4))\n",
    "return True"
   ]
  },
  {
   "cell_type": "code",
   "execution_count": 24,
   "id": "df72ca09",
   "metadata": {
    "execution": {
     "iopub.execute_input": "2021-07-15T14:55:28.874171Z",
     "iopub.status.busy": "2021-07-15T14:55:28.873565Z",
     "iopub.status.idle": "2021-07-15T14:55:29.187952Z",
     "shell.execute_reply": "2021-07-15T14:55:29.188480Z",
     "shell.execute_reply.started": "2021-07-15T14:34:52.889042Z"
    },
    "papermill": {
     "duration": 0.39565,
     "end_time": "2021-07-15T14:55:29.188653",
     "exception": false,
     "start_time": "2021-07-15T14:55:28.793003",
     "status": "completed"
    },
    "tags": []
   },
   "outputs": [
    {
     "data": {
      "text/plain": [
       "True"
      ]
     },
     "execution_count": 24,
     "metadata": {},
     "output_type": "execute_result"
    },
    {
     "data": {
      "image/png": "[encoded data removed]",
      "text/plain": [
       "<Figure size 1440x288 with 1 Axes>"
      ]
     },
     "metadata": {
      "needs_background": "light"
     },
     "output_type": "display_data"
    }
   ],
   "source": [
    "find_dist(players_df, 'age')"
   ]
  },
  {
   "cell_type": "markdown",
   "id": "c5fc3a0d",
   "metadata": {
    "papermill": {
     "duration": 0.079417,
     "end_time": "2021-07-15T14:55:29.347995",
     "exception": false,
     "start_time": "2021-07-15T14:55:29.268578",
     "status": "completed"
    },
    "tags": []
   },
   "source": [
    "**Next, let us also see how the players are distributed amongst different team positions.**"
   ]
  },
  {
   "cell_type": "code",
   "execution_count": 25,
   "id": "617edaa2",
   "metadata": {
    "execution": {
     "iopub.execute_input": "2021-07-15T14:55:29.518223Z",
     "iopub.status.busy": "2021-07-15T14:55:29.517147Z",
     "iopub.status.idle": "2021-07-15T14:55:29.529670Z",
     "shell.execute_reply": "2021-07-15T14:55:29.530274Z",
     "shell.execute_reply.started": "2021-07-15T14:34:53.224833Z"
    },
    "papermill": {
     "duration": 0.103101,
     "end_time": "2021-07-15T14:55:29.530506",
     "exception": false,
     "start_time": "2021-07-15T14:55:29.427405",
     "status": "completed"
    },
    "tags": []
   },
   "outputs": [
    {
     "data": {
      "text/html": [
       "<div>\n",
       "<style scoped>\n",
       "    .dataframe tbody tr th:only-of-type {\n",
       "        vertical-align: middle;\n",
       "    }\n",
       "\n",
       "    .dataframe tbody tr th {\n",
       "        vertical-align: top;\n",
       "    }\n",
       "\n",
       "    .dataframe thead th {\n",
       "        text-align: right;\n",
       "    }\n",
       "</style>\n",
       "<table border=\"1\" class=\"dataframe\">\n",
       "  <thead>\n",
       "    <tr style=\"text-align: right;\">\n",
       "      <th></th>\n",
       "      <th>nflId</th>\n",
       "      <th>height</th>\n",
       "      <th>weight</th>\n",
       "      <th>birthDate</th>\n",
       "      <th>collegeName</th>\n",
       "      <th>position</th>\n",
       "      <th>displayName</th>\n",
       "      <th>birthYear</th>\n",
       "      <th>age</th>\n",
       "    </tr>\n",
       "  </thead>\n",
       "  <tbody>\n",
       "    <tr>\n",
       "      <th>0</th>\n",
       "      <td>2539334</td>\n",
       "      <td>72</td>\n",
       "      <td>190</td>\n",
       "      <td>1990-09-10</td>\n",
       "      <td>Washington</td>\n",
       "      <td>CB</td>\n",
       "      <td>Desmond Trufant</td>\n",
       "      <td>1990</td>\n",
       "      <td>28</td>\n",
       "    </tr>\n",
       "    <tr>\n",
       "      <th>1</th>\n",
       "      <td>2539653</td>\n",
       "      <td>70</td>\n",
       "      <td>186</td>\n",
       "      <td>1988-11-01</td>\n",
       "      <td>Southeastern Louisiana</td>\n",
       "      <td>CB</td>\n",
       "      <td>Robert Alford</td>\n",
       "      <td>1988</td>\n",
       "      <td>30</td>\n",
       "    </tr>\n",
       "    <tr>\n",
       "      <th>2</th>\n",
       "      <td>2543850</td>\n",
       "      <td>69</td>\n",
       "      <td>186</td>\n",
       "      <td>1991-12-18</td>\n",
       "      <td>Purdue</td>\n",
       "      <td>SS</td>\n",
       "      <td>Ricardo Allen</td>\n",
       "      <td>1991</td>\n",
       "      <td>27</td>\n",
       "    </tr>\n",
       "    <tr>\n",
       "      <th>3</th>\n",
       "      <td>2555162</td>\n",
       "      <td>73</td>\n",
       "      <td>227</td>\n",
       "      <td>1994-11-04</td>\n",
       "      <td>Louisiana State</td>\n",
       "      <td>MLB</td>\n",
       "      <td>Deion Jones</td>\n",
       "      <td>1994</td>\n",
       "      <td>24</td>\n",
       "    </tr>\n",
       "    <tr>\n",
       "      <th>4</th>\n",
       "      <td>2555255</td>\n",
       "      <td>75</td>\n",
       "      <td>232</td>\n",
       "      <td>1993-07-01</td>\n",
       "      <td>Minnesota</td>\n",
       "      <td>OLB</td>\n",
       "      <td>De'Vondre Campbell</td>\n",
       "      <td>1993</td>\n",
       "      <td>25</td>\n",
       "    </tr>\n",
       "  </tbody>\n",
       "</table>\n",
       "</div>"
      ],
      "text/plain": [
       "     nflId height  weight   birthDate             collegeName position  \\\n",
       "0  2539334     72     190  1990-09-10              Washington       CB   \n",
       "1  2539653     70     186  1988-11-01  Southeastern Louisiana       CB   \n",
       "2  2543850     69     186  1991-12-18                  Purdue       SS   \n",
       "3  2555162     73     227  1994-11-04         Louisiana State      MLB   \n",
       "4  2555255     75     232  1993-07-01               Minnesota      OLB   \n",
       "\n",
       "          displayName  birthYear  age  \n",
       "0     Desmond Trufant       1990   28  \n",
       "1       Robert Alford       1988   30  \n",
       "2       Ricardo Allen       1991   27  \n",
       "3         Deion Jones       1994   24  \n",
       "4  De'Vondre Campbell       1993   25  "
      ]
     },
     "execution_count": 25,
     "metadata": {},
     "output_type": "execute_result"
    }
   ],
   "source": [
    "players_df.head()"
   ]
  },
  {
   "cell_type": "code",
   "execution_count": 26,
   "id": "91d45f94",
   "metadata": {
    "execution": {
     "iopub.execute_input": "2021-07-15T14:55:29.744614Z",
     "iopub.status.busy": "2021-07-15T14:55:29.743949Z",
     "iopub.status.idle": "2021-07-15T14:55:30.016166Z",
     "shell.execute_reply": "2021-07-15T14:55:30.016663Z",
     "shell.execute_reply.started": "2021-07-15T14:34:53.241172Z"
    },
    "papermill": {
     "duration": 0.388515,
     "end_time": "2021-07-15T14:55:30.016862",
     "exception": false,
     "start_time": "2021-07-15T14:55:29.628347",
     "status": "completed"
    },
    "tags": []
   },
   "outputs": [
    {
     "data": {
      "text/plain": [
       "True"
      ]
     },
     "execution_count": 26,
     "metadata": {},
     "output_type": "execute_result"
    },
    {
     "data": {
      "image/png": "[encoded data removed]",
      "text/plain": [
       "<Figure size 1440x288 with 1 Axes>"
      ]
     },
     "metadata": {
      "needs_background": "light"
     },
     "output_type": "display_data"
    }
   ],
   "source": [
    "find_dist(players_df, 'position')"
   ]
  },
  {
   "cell_type": "markdown",
   "id": "bf364805",
   "metadata": {
    "papermill": {
     "duration": 0.081663,
     "end_time": "2021-07-15T14:55:30.180490",
     "exception": false,
     "start_time": "2021-07-15T14:55:30.098827",
     "status": "completed"
    },
    "tags": []
   },
   "source": [
    "**Now, let us look at how the age distribution of players in the CB (Cornerback) and WR (Wide Receiver) positions.** \n",
    "\n",
    "**For this, we can select the data points for either of the positions and then, find their age distribution.**"
   ]
  },
  {
   "cell_type": "code",
   "execution_count": 27,
   "id": "f4bf4827",
   "metadata": {
    "execution": {
     "iopub.execute_input": "2021-07-15T14:55:30.346774Z",
     "iopub.status.busy": "2021-07-15T14:55:30.345799Z",
     "iopub.status.idle": "2021-07-15T14:55:30.370737Z",
     "shell.execute_reply": "2021-07-15T14:55:30.371200Z",
     "shell.execute_reply.started": "2021-07-15T14:34:53.558770Z"
    },
    "papermill": {
     "duration": 0.10946,
     "end_time": "2021-07-15T14:55:30.371375",
     "exception": false,
     "start_time": "2021-07-15T14:55:30.261915",
     "status": "completed"
    },
    "tags": []
   },
   "outputs": [
    {
     "data": {
      "text/html": [
       "<div>\n",
       "<style scoped>\n",
       "    .dataframe tbody tr th:only-of-type {\n",
       "        vertical-align: middle;\n",
       "    }\n",
       "\n",
       "    .dataframe tbody tr th {\n",
       "        vertical-align: top;\n",
       "    }\n",
       "\n",
       "    .dataframe thead th {\n",
       "        text-align: right;\n",
       "    }\n",
       "</style>\n",
       "<table border=\"1\" class=\"dataframe\">\n",
       "  <thead>\n",
       "    <tr style=\"text-align: right;\">\n",
       "      <th></th>\n",
       "      <th>nflId</th>\n",
       "      <th>height</th>\n",
       "      <th>weight</th>\n",
       "      <th>birthDate</th>\n",
       "      <th>collegeName</th>\n",
       "      <th>position</th>\n",
       "      <th>displayName</th>\n",
       "      <th>birthYear</th>\n",
       "      <th>age</th>\n",
       "    </tr>\n",
       "  </thead>\n",
       "  <tbody>\n",
       "    <tr>\n",
       "      <th>0</th>\n",
       "      <td>2539334</td>\n",
       "      <td>72</td>\n",
       "      <td>190</td>\n",
       "      <td>1990-09-10</td>\n",
       "      <td>Washington</td>\n",
       "      <td>CB</td>\n",
       "      <td>Desmond Trufant</td>\n",
       "      <td>1990</td>\n",
       "      <td>28</td>\n",
       "    </tr>\n",
       "    <tr>\n",
       "      <th>1</th>\n",
       "      <td>2539653</td>\n",
       "      <td>70</td>\n",
       "      <td>186</td>\n",
       "      <td>1988-11-01</td>\n",
       "      <td>Southeastern Louisiana</td>\n",
       "      <td>CB</td>\n",
       "      <td>Robert Alford</td>\n",
       "      <td>1988</td>\n",
       "      <td>30</td>\n",
       "    </tr>\n",
       "    <tr>\n",
       "      <th>6</th>\n",
       "      <td>2556445</td>\n",
       "      <td>70</td>\n",
       "      <td>211</td>\n",
       "      <td>1992-10-20</td>\n",
       "      <td>Florida</td>\n",
       "      <td>CB</td>\n",
       "      <td>Brian Poole</td>\n",
       "      <td>1992</td>\n",
       "      <td>26</td>\n",
       "    </tr>\n",
       "    <tr>\n",
       "      <th>28</th>\n",
       "      <td>2552689</td>\n",
       "      <td>71</td>\n",
       "      <td>193</td>\n",
       "      <td>1994-01-02</td>\n",
       "      <td>Florida State</td>\n",
       "      <td>CB</td>\n",
       "      <td>Ronald Darby</td>\n",
       "      <td>1994</td>\n",
       "      <td>24</td>\n",
       "    </tr>\n",
       "    <tr>\n",
       "      <th>29</th>\n",
       "      <td>2555383</td>\n",
       "      <td>72</td>\n",
       "      <td>191</td>\n",
       "      <td>1994-04-06</td>\n",
       "      <td>Louisiana State</td>\n",
       "      <td>CB</td>\n",
       "      <td>Jalen Mills</td>\n",
       "      <td>1994</td>\n",
       "      <td>24</td>\n",
       "    </tr>\n",
       "    <tr>\n",
       "      <th>...</th>\n",
       "      <td>...</td>\n",
       "      <td>...</td>\n",
       "      <td>...</td>\n",
       "      <td>...</td>\n",
       "      <td>...</td>\n",
       "      <td>...</td>\n",
       "      <td>...</td>\n",
       "      <td>...</td>\n",
       "      <td>...</td>\n",
       "    </tr>\n",
       "    <tr>\n",
       "      <th>1228</th>\n",
       "      <td>2561316</td>\n",
       "      <td>70</td>\n",
       "      <td>185</td>\n",
       "      <td>1996-02-02</td>\n",
       "      <td>Utah State</td>\n",
       "      <td>CB</td>\n",
       "      <td>Jalen Davis</td>\n",
       "      <td>1996</td>\n",
       "      <td>22</td>\n",
       "    </tr>\n",
       "    <tr>\n",
       "      <th>1241</th>\n",
       "      <td>2556371</td>\n",
       "      <td>72</td>\n",
       "      <td>200</td>\n",
       "      <td>1992-09-09</td>\n",
       "      <td>Texas A&amp;M</td>\n",
       "      <td>CB</td>\n",
       "      <td>Brandon Williams</td>\n",
       "      <td>1992</td>\n",
       "      <td>26</td>\n",
       "    </tr>\n",
       "    <tr>\n",
       "      <th>1248</th>\n",
       "      <td>2558858</td>\n",
       "      <td>5-11</td>\n",
       "      <td>195</td>\n",
       "      <td>1994-06-25</td>\n",
       "      <td>Auburn</td>\n",
       "      <td>CB</td>\n",
       "      <td>Joshua Holsey</td>\n",
       "      <td>1994</td>\n",
       "      <td>24</td>\n",
       "    </tr>\n",
       "    <tr>\n",
       "      <th>1278</th>\n",
       "      <td>2558819</td>\n",
       "      <td>6-2</td>\n",
       "      <td>188</td>\n",
       "      <td>1994-12-04</td>\n",
       "      <td>Mississippi</td>\n",
       "      <td>CB</td>\n",
       "      <td>Derrick Jones</td>\n",
       "      <td>1994</td>\n",
       "      <td>24</td>\n",
       "    </tr>\n",
       "    <tr>\n",
       "      <th>1301</th>\n",
       "      <td>2561469</td>\n",
       "      <td>69</td>\n",
       "      <td>187</td>\n",
       "      <td>1993-03-15</td>\n",
       "      <td>Alabama-Birmingham</td>\n",
       "      <td>CB</td>\n",
       "      <td>Darious Williams</td>\n",
       "      <td>1993</td>\n",
       "      <td>25</td>\n",
       "    </tr>\n",
       "  </tbody>\n",
       "</table>\n",
       "<p>195 rows × 9 columns</p>\n",
       "</div>"
      ],
      "text/plain": [
       "        nflId height  weight   birthDate             collegeName position  \\\n",
       "0     2539334     72     190  1990-09-10              Washington       CB   \n",
       "1     2539653     70     186  1988-11-01  Southeastern Louisiana       CB   \n",
       "6     2556445     70     211  1992-10-20                 Florida       CB   \n",
       "28    2552689     71     193  1994-01-02           Florida State       CB   \n",
       "29    2555383     72     191  1994-04-06         Louisiana State       CB   \n",
       "...       ...    ...     ...         ...                     ...      ...   \n",
       "1228  2561316     70     185  1996-02-02              Utah State       CB   \n",
       "1241  2556371     72     200  1992-09-09               Texas A&M       CB   \n",
       "1248  2558858   5-11     195  1994-06-25                  Auburn       CB   \n",
       "1278  2558819    6-2     188  1994-12-04             Mississippi       CB   \n",
       "1301  2561469     69     187  1993-03-15      Alabama-Birmingham       CB   \n",
       "\n",
       "           displayName  birthYear  age  \n",
       "0      Desmond Trufant       1990   28  \n",
       "1        Robert Alford       1988   30  \n",
       "6          Brian Poole       1992   26  \n",
       "28        Ronald Darby       1994   24  \n",
       "29         Jalen Mills       1994   24  \n",
       "...                ...        ...  ...  \n",
       "1228       Jalen Davis       1996   22  \n",
       "1241  Brandon Williams       1992   26  \n",
       "1248     Joshua Holsey       1994   24  \n",
       "1278     Derrick Jones       1994   24  \n",
       "1301  Darious Williams       1993   25  \n",
       "\n",
       "[195 rows x 9 columns]"
      ]
     },
     "execution_count": 27,
     "metadata": {},
     "output_type": "execute_result"
    }
   ],
   "source": [
    "players_df.query('position == \"CB\"')"
   ]
  },
  {
   "cell_type": "code",
   "execution_count": 28,
   "id": "05d4d70c",
   "metadata": {
    "execution": {
     "iopub.execute_input": "2021-07-15T14:55:30.538242Z",
     "iopub.status.busy": "2021-07-15T14:55:30.537294Z",
     "iopub.status.idle": "2021-07-15T14:55:30.814158Z",
     "shell.execute_reply": "2021-07-15T14:55:30.814669Z",
     "shell.execute_reply.started": "2021-07-15T14:34:53.587613Z"
    },
    "papermill": {
     "duration": 0.361927,
     "end_time": "2021-07-15T14:55:30.814843",
     "exception": false,
     "start_time": "2021-07-15T14:55:30.452916",
     "status": "completed"
    },
    "tags": []
   },
   "outputs": [
    {
     "data": {
      "text/plain": [
       "True"
      ]
     },
     "execution_count": 28,
     "metadata": {},
     "output_type": "execute_result"
    },
    {
     "data": {
      "image/png": "[encoded data removed]",
      "text/plain": [
       "<Figure size 1440x288 with 1 Axes>"
      ]
     },
     "metadata": {
      "needs_background": "light"
     },
     "output_type": "display_data"
    }
   ],
   "source": [
    "find_dist(players_df.query('position == \"CB\"'), 'age')"
   ]
  },
  {
   "cell_type": "code",
   "execution_count": 29,
   "id": "797ae26b",
   "metadata": {
    "execution": {
     "iopub.execute_input": "2021-07-15T14:55:30.995213Z",
     "iopub.status.busy": "2021-07-15T14:55:30.994296Z",
     "iopub.status.idle": "2021-07-15T14:55:31.288211Z",
     "shell.execute_reply": "2021-07-15T14:55:31.289049Z",
     "shell.execute_reply.started": "2021-07-15T14:34:53.853012Z"
    },
    "papermill": {
     "duration": 0.385341,
     "end_time": "2021-07-15T14:55:31.289299",
     "exception": false,
     "start_time": "2021-07-15T14:55:30.903958",
     "status": "completed"
    },
    "tags": []
   },
   "outputs": [
    {
     "data": {
      "text/plain": [
       "True"
      ]
     },
     "execution_count": 29,
     "metadata": {},
     "output_type": "execute_result"
    },
    {
     "data": {
      "image/png": "[encoded data removed]",
      "text/plain": [
       "<Figure size 1440x288 with 1 Axes>"
      ]
     },
     "metadata": {
      "needs_background": "light"
     },
     "output_type": "display_data"
    }
   ],
   "source": [
    "find_dist(players_df.query('position == \"WR\"'), 'age')"
   ]
  },
  {
   "cell_type": "markdown",
   "id": "b7bf4412",
   "metadata": {
    "papermill": {
     "duration": 0.087841,
     "end_time": "2021-07-15T14:55:31.517559",
     "exception": false,
     "start_time": "2021-07-15T14:55:31.429718",
     "status": "completed"
    },
    "tags": []
   },
   "source": [
    "**Now, let us look at the actual height and weight distribution of the players. However, their is some inconsistency in the data in the height column.**"
   ]
  },
  {
   "cell_type": "code",
   "execution_count": 30,
   "id": "2e97785b",
   "metadata": {
    "execution": {
     "iopub.execute_input": "2021-07-15T14:55:31.691883Z",
     "iopub.status.busy": "2021-07-15T14:55:31.690948Z",
     "iopub.status.idle": "2021-07-15T14:55:31.710853Z",
     "shell.execute_reply": "2021-07-15T14:55:31.711403Z",
     "shell.execute_reply.started": "2021-07-15T14:34:54.125218Z"
    },
    "papermill": {
     "duration": 0.10886,
     "end_time": "2021-07-15T14:55:31.711577",
     "exception": false,
     "start_time": "2021-07-15T14:55:31.602717",
     "status": "completed"
    },
    "tags": []
   },
   "outputs": [
    {
     "data": {
      "text/html": [
       "<div>\n",
       "<style scoped>\n",
       "    .dataframe tbody tr th:only-of-type {\n",
       "        vertical-align: middle;\n",
       "    }\n",
       "\n",
       "    .dataframe tbody tr th {\n",
       "        vertical-align: top;\n",
       "    }\n",
       "\n",
       "    .dataframe thead th {\n",
       "        text-align: right;\n",
       "    }\n",
       "</style>\n",
       "<table border=\"1\" class=\"dataframe\">\n",
       "  <thead>\n",
       "    <tr style=\"text-align: right;\">\n",
       "      <th></th>\n",
       "      <th>nflId</th>\n",
       "      <th>height</th>\n",
       "      <th>weight</th>\n",
       "      <th>birthDate</th>\n",
       "      <th>collegeName</th>\n",
       "      <th>position</th>\n",
       "      <th>displayName</th>\n",
       "      <th>birthYear</th>\n",
       "      <th>age</th>\n",
       "    </tr>\n",
       "  </thead>\n",
       "  <tbody>\n",
       "    <tr>\n",
       "      <th>0</th>\n",
       "      <td>2539334</td>\n",
       "      <td>72</td>\n",
       "      <td>190</td>\n",
       "      <td>1990-09-10</td>\n",
       "      <td>Washington</td>\n",
       "      <td>CB</td>\n",
       "      <td>Desmond Trufant</td>\n",
       "      <td>1990</td>\n",
       "      <td>28</td>\n",
       "    </tr>\n",
       "    <tr>\n",
       "      <th>1</th>\n",
       "      <td>2539653</td>\n",
       "      <td>70</td>\n",
       "      <td>186</td>\n",
       "      <td>1988-11-01</td>\n",
       "      <td>Southeastern Louisiana</td>\n",
       "      <td>CB</td>\n",
       "      <td>Robert Alford</td>\n",
       "      <td>1988</td>\n",
       "      <td>30</td>\n",
       "    </tr>\n",
       "    <tr>\n",
       "      <th>2</th>\n",
       "      <td>2543850</td>\n",
       "      <td>69</td>\n",
       "      <td>186</td>\n",
       "      <td>1991-12-18</td>\n",
       "      <td>Purdue</td>\n",
       "      <td>SS</td>\n",
       "      <td>Ricardo Allen</td>\n",
       "      <td>1991</td>\n",
       "      <td>27</td>\n",
       "    </tr>\n",
       "    <tr>\n",
       "      <th>3</th>\n",
       "      <td>2555162</td>\n",
       "      <td>73</td>\n",
       "      <td>227</td>\n",
       "      <td>1994-11-04</td>\n",
       "      <td>Louisiana State</td>\n",
       "      <td>MLB</td>\n",
       "      <td>Deion Jones</td>\n",
       "      <td>1994</td>\n",
       "      <td>24</td>\n",
       "    </tr>\n",
       "    <tr>\n",
       "      <th>4</th>\n",
       "      <td>2555255</td>\n",
       "      <td>75</td>\n",
       "      <td>232</td>\n",
       "      <td>1993-07-01</td>\n",
       "      <td>Minnesota</td>\n",
       "      <td>OLB</td>\n",
       "      <td>De'Vondre Campbell</td>\n",
       "      <td>1993</td>\n",
       "      <td>25</td>\n",
       "    </tr>\n",
       "    <tr>\n",
       "      <th>5</th>\n",
       "      <td>2555543</td>\n",
       "      <td>73</td>\n",
       "      <td>216</td>\n",
       "      <td>1995-07-26</td>\n",
       "      <td>Florida</td>\n",
       "      <td>FS</td>\n",
       "      <td>Keanu Neal</td>\n",
       "      <td>1995</td>\n",
       "      <td>23</td>\n",
       "    </tr>\n",
       "    <tr>\n",
       "      <th>6</th>\n",
       "      <td>2556445</td>\n",
       "      <td>70</td>\n",
       "      <td>211</td>\n",
       "      <td>1992-10-20</td>\n",
       "      <td>Florida</td>\n",
       "      <td>CB</td>\n",
       "      <td>Brian Poole</td>\n",
       "      <td>1992</td>\n",
       "      <td>26</td>\n",
       "    </tr>\n",
       "    <tr>\n",
       "      <th>7</th>\n",
       "      <td>2507763</td>\n",
       "      <td>6-0</td>\n",
       "      <td>200</td>\n",
       "      <td>1986-08-01</td>\n",
       "      <td>Mississippi</td>\n",
       "      <td>WR</td>\n",
       "      <td>Mike Wallace</td>\n",
       "      <td>1986</td>\n",
       "      <td>32</td>\n",
       "    </tr>\n",
       "    <tr>\n",
       "      <th>8</th>\n",
       "      <td>2532842</td>\n",
       "      <td>78</td>\n",
       "      <td>243</td>\n",
       "      <td>1989-01-20</td>\n",
       "      <td>Arizona</td>\n",
       "      <td>QB</td>\n",
       "      <td>Nick Foles</td>\n",
       "      <td>1989</td>\n",
       "      <td>29</td>\n",
       "    </tr>\n",
       "    <tr>\n",
       "      <th>9</th>\n",
       "      <td>2540158</td>\n",
       "      <td>77</td>\n",
       "      <td>250</td>\n",
       "      <td>1990-11-10</td>\n",
       "      <td>Stanford</td>\n",
       "      <td>TE</td>\n",
       "      <td>Zach Ertz</td>\n",
       "      <td>1990</td>\n",
       "      <td>28</td>\n",
       "    </tr>\n",
       "    <tr>\n",
       "      <th>10</th>\n",
       "      <td>2552582</td>\n",
       "      <td>6-0</td>\n",
       "      <td>223</td>\n",
       "      <td>1993-06-15</td>\n",
       "      <td>Boise State</td>\n",
       "      <td>RB</td>\n",
       "      <td>Jay Ajayi</td>\n",
       "      <td>1993</td>\n",
       "      <td>25</td>\n",
       "    </tr>\n",
       "    <tr>\n",
       "      <th>11</th>\n",
       "      <td>2552600</td>\n",
       "      <td>72</td>\n",
       "      <td>198</td>\n",
       "      <td>1993-05-24</td>\n",
       "      <td>Southern California</td>\n",
       "      <td>WR</td>\n",
       "      <td>Nelson Agholor</td>\n",
       "      <td>1993</td>\n",
       "      <td>25</td>\n",
       "    </tr>\n",
       "    <tr>\n",
       "      <th>12</th>\n",
       "      <td>2553502</td>\n",
       "      <td>68</td>\n",
       "      <td>190</td>\n",
       "      <td>1993-04-10</td>\n",
       "      <td>Sacramento State</td>\n",
       "      <td>WR</td>\n",
       "      <td>DeAndre Carter</td>\n",
       "      <td>1993</td>\n",
       "      <td>25</td>\n",
       "    </tr>\n",
       "    <tr>\n",
       "      <th>13</th>\n",
       "      <td>2552301</td>\n",
       "      <td>75</td>\n",
       "      <td>246</td>\n",
       "      <td>1992-07-08</td>\n",
       "      <td>Clemson</td>\n",
       "      <td>DE</td>\n",
       "      <td>Vic Beasley</td>\n",
       "      <td>1992</td>\n",
       "      <td>26</td>\n",
       "    </tr>\n",
       "    <tr>\n",
       "      <th>14</th>\n",
       "      <td>2506467</td>\n",
       "      <td>66</td>\n",
       "      <td>190</td>\n",
       "      <td>1983-06-20</td>\n",
       "      <td>Kansas State</td>\n",
       "      <td>RB</td>\n",
       "      <td>Darren Sproles</td>\n",
       "      <td>1983</td>\n",
       "      <td>35</td>\n",
       "    </tr>\n",
       "    <tr>\n",
       "      <th>15</th>\n",
       "      <td>2557967</td>\n",
       "      <td>73</td>\n",
       "      <td>230</td>\n",
       "      <td>1994-08-09</td>\n",
       "      <td>Louisiana State</td>\n",
       "      <td>OLB</td>\n",
       "      <td>Duke Riley</td>\n",
       "      <td>1994</td>\n",
       "      <td>24</td>\n",
       "    </tr>\n",
       "    <tr>\n",
       "      <th>16</th>\n",
       "      <td>2558184</td>\n",
       "      <td>71</td>\n",
       "      <td>190</td>\n",
       "      <td>1993-06-05</td>\n",
       "      <td>San Diego State</td>\n",
       "      <td>SS</td>\n",
       "      <td>Damontae Kazee</td>\n",
       "      <td>1993</td>\n",
       "      <td>25</td>\n",
       "    </tr>\n",
       "    <tr>\n",
       "      <th>17</th>\n",
       "      <td>2560995</td>\n",
       "      <td>77</td>\n",
       "      <td>256</td>\n",
       "      <td>1995-01-03</td>\n",
       "      <td>South Dakota State</td>\n",
       "      <td>TE</td>\n",
       "      <td>Dallas Goedert</td>\n",
       "      <td>1995</td>\n",
       "      <td>23</td>\n",
       "    </tr>\n",
       "    <tr>\n",
       "      <th>18</th>\n",
       "      <td>2559150</td>\n",
       "      <td>70</td>\n",
       "      <td>220</td>\n",
       "      <td>1994-11-02</td>\n",
       "      <td>Wisconsin</td>\n",
       "      <td>RB</td>\n",
       "      <td>Corey Clement</td>\n",
       "      <td>1994</td>\n",
       "      <td>24</td>\n",
       "    </tr>\n",
       "    <tr>\n",
       "      <th>19</th>\n",
       "      <td>310</td>\n",
       "      <td>76</td>\n",
       "      <td>217</td>\n",
       "      <td>1985-05-17</td>\n",
       "      <td>Boston College</td>\n",
       "      <td>QB</td>\n",
       "      <td>Matt Ryan</td>\n",
       "      <td>1985</td>\n",
       "      <td>33</td>\n",
       "    </tr>\n",
       "  </tbody>\n",
       "</table>\n",
       "</div>"
      ],
      "text/plain": [
       "      nflId height  weight   birthDate             collegeName position  \\\n",
       "0   2539334     72     190  1990-09-10              Washington       CB   \n",
       "1   2539653     70     186  1988-11-01  Southeastern Louisiana       CB   \n",
       "2   2543850     69     186  1991-12-18                  Purdue       SS   \n",
       "3   2555162     73     227  1994-11-04         Louisiana State      MLB   \n",
       "4   2555255     75     232  1993-07-01               Minnesota      OLB   \n",
       "5   2555543     73     216  1995-07-26                 Florida       FS   \n",
       "6   2556445     70     211  1992-10-20                 Florida       CB   \n",
       "7   2507763    6-0     200  1986-08-01             Mississippi       WR   \n",
       "8   2532842     78     243  1989-01-20                 Arizona       QB   \n",
       "9   2540158     77     250  1990-11-10                Stanford       TE   \n",
       "10  2552582    6-0     223  1993-06-15             Boise State       RB   \n",
       "11  2552600     72     198  1993-05-24     Southern California       WR   \n",
       "12  2553502     68     190  1993-04-10        Sacramento State       WR   \n",
       "13  2552301     75     246  1992-07-08                 Clemson       DE   \n",
       "14  2506467     66     190  1983-06-20            Kansas State       RB   \n",
       "15  2557967     73     230  1994-08-09         Louisiana State      OLB   \n",
       "16  2558184     71     190  1993-06-05         San Diego State       SS   \n",
       "17  2560995     77     256  1995-01-03      South Dakota State       TE   \n",
       "18  2559150     70     220  1994-11-02               Wisconsin       RB   \n",
       "19      310     76     217  1985-05-17          Boston College       QB   \n",
       "\n",
       "           displayName  birthYear  age  \n",
       "0      Desmond Trufant       1990   28  \n",
       "1        Robert Alford       1988   30  \n",
       "2        Ricardo Allen       1991   27  \n",
       "3          Deion Jones       1994   24  \n",
       "4   De'Vondre Campbell       1993   25  \n",
       "5           Keanu Neal       1995   23  \n",
       "6          Brian Poole       1992   26  \n",
       "7         Mike Wallace       1986   32  \n",
       "8           Nick Foles       1989   29  \n",
       "9            Zach Ertz       1990   28  \n",
       "10           Jay Ajayi       1993   25  \n",
       "11      Nelson Agholor       1993   25  \n",
       "12      DeAndre Carter       1993   25  \n",
       "13         Vic Beasley       1992   26  \n",
       "14      Darren Sproles       1983   35  \n",
       "15          Duke Riley       1994   24  \n",
       "16      Damontae Kazee       1993   25  \n",
       "17      Dallas Goedert       1995   23  \n",
       "18       Corey Clement       1994   24  \n",
       "19           Matt Ryan       1985   33  "
      ]
     },
     "execution_count": 30,
     "metadata": {},
     "output_type": "execute_result"
    }
   ],
   "source": [
    "players_df.head(20)"
   ]
  },
  {
   "cell_type": "markdown",
   "id": "87a7600c",
   "metadata": {
    "papermill": {
     "duration": 0.084531,
     "end_time": "2021-07-15T14:55:31.880574",
     "exception": false,
     "start_time": "2021-07-15T14:55:31.796043",
     "status": "completed"
    },
    "tags": []
   },
   "source": [
    "**Let us fix it by converting all datapoints to inches.**"
   ]
  },
  {
   "cell_type": "code",
   "execution_count": 31,
   "id": "14b1393e",
   "metadata": {
    "execution": {
     "iopub.execute_input": "2021-07-15T14:55:32.056009Z",
     "iopub.status.busy": "2021-07-15T14:55:32.055063Z",
     "iopub.status.idle": "2021-07-15T14:55:32.076778Z",
     "shell.execute_reply": "2021-07-15T14:55:32.077244Z",
     "shell.execute_reply.started": "2021-07-15T14:34:54.145806Z"
    },
    "papermill": {
     "duration": 0.110189,
     "end_time": "2021-07-15T14:55:32.077423",
     "exception": false,
     "start_time": "2021-07-15T14:55:31.967234",
     "status": "completed"
    },
    "tags": []
   },
   "outputs": [
    {
     "data": {
      "text/html": [
       "<div>\n",
       "<style scoped>\n",
       "    .dataframe tbody tr th:only-of-type {\n",
       "        vertical-align: middle;\n",
       "    }\n",
       "\n",
       "    .dataframe tbody tr th {\n",
       "        vertical-align: top;\n",
       "    }\n",
       "\n",
       "    .dataframe thead th {\n",
       "        text-align: right;\n",
       "    }\n",
       "</style>\n",
       "<table border=\"1\" class=\"dataframe\">\n",
       "  <thead>\n",
       "    <tr style=\"text-align: right;\">\n",
       "      <th></th>\n",
       "      <th>nflId</th>\n",
       "      <th>height</th>\n",
       "      <th>weight</th>\n",
       "      <th>birthDate</th>\n",
       "      <th>collegeName</th>\n",
       "      <th>position</th>\n",
       "      <th>displayName</th>\n",
       "      <th>birthYear</th>\n",
       "      <th>age</th>\n",
       "    </tr>\n",
       "  </thead>\n",
       "  <tbody>\n",
       "    <tr>\n",
       "      <th>0</th>\n",
       "      <td>2539334</td>\n",
       "      <td>72</td>\n",
       "      <td>190</td>\n",
       "      <td>1990-09-10</td>\n",
       "      <td>Washington</td>\n",
       "      <td>CB</td>\n",
       "      <td>Desmond Trufant</td>\n",
       "      <td>1990</td>\n",
       "      <td>28</td>\n",
       "    </tr>\n",
       "    <tr>\n",
       "      <th>1</th>\n",
       "      <td>2539653</td>\n",
       "      <td>70</td>\n",
       "      <td>186</td>\n",
       "      <td>1988-11-01</td>\n",
       "      <td>Southeastern Louisiana</td>\n",
       "      <td>CB</td>\n",
       "      <td>Robert Alford</td>\n",
       "      <td>1988</td>\n",
       "      <td>30</td>\n",
       "    </tr>\n",
       "    <tr>\n",
       "      <th>2</th>\n",
       "      <td>2543850</td>\n",
       "      <td>69</td>\n",
       "      <td>186</td>\n",
       "      <td>1991-12-18</td>\n",
       "      <td>Purdue</td>\n",
       "      <td>SS</td>\n",
       "      <td>Ricardo Allen</td>\n",
       "      <td>1991</td>\n",
       "      <td>27</td>\n",
       "    </tr>\n",
       "    <tr>\n",
       "      <th>3</th>\n",
       "      <td>2555162</td>\n",
       "      <td>73</td>\n",
       "      <td>227</td>\n",
       "      <td>1994-11-04</td>\n",
       "      <td>Louisiana State</td>\n",
       "      <td>MLB</td>\n",
       "      <td>Deion Jones</td>\n",
       "      <td>1994</td>\n",
       "      <td>24</td>\n",
       "    </tr>\n",
       "    <tr>\n",
       "      <th>4</th>\n",
       "      <td>2555255</td>\n",
       "      <td>75</td>\n",
       "      <td>232</td>\n",
       "      <td>1993-07-01</td>\n",
       "      <td>Minnesota</td>\n",
       "      <td>OLB</td>\n",
       "      <td>De'Vondre Campbell</td>\n",
       "      <td>1993</td>\n",
       "      <td>25</td>\n",
       "    </tr>\n",
       "    <tr>\n",
       "      <th>5</th>\n",
       "      <td>2555543</td>\n",
       "      <td>73</td>\n",
       "      <td>216</td>\n",
       "      <td>1995-07-26</td>\n",
       "      <td>Florida</td>\n",
       "      <td>FS</td>\n",
       "      <td>Keanu Neal</td>\n",
       "      <td>1995</td>\n",
       "      <td>23</td>\n",
       "    </tr>\n",
       "    <tr>\n",
       "      <th>6</th>\n",
       "      <td>2556445</td>\n",
       "      <td>70</td>\n",
       "      <td>211</td>\n",
       "      <td>1992-10-20</td>\n",
       "      <td>Florida</td>\n",
       "      <td>CB</td>\n",
       "      <td>Brian Poole</td>\n",
       "      <td>1992</td>\n",
       "      <td>26</td>\n",
       "    </tr>\n",
       "    <tr>\n",
       "      <th>7</th>\n",
       "      <td>2507763</td>\n",
       "      <td>72</td>\n",
       "      <td>200</td>\n",
       "      <td>1986-08-01</td>\n",
       "      <td>Mississippi</td>\n",
       "      <td>WR</td>\n",
       "      <td>Mike Wallace</td>\n",
       "      <td>1986</td>\n",
       "      <td>32</td>\n",
       "    </tr>\n",
       "    <tr>\n",
       "      <th>8</th>\n",
       "      <td>2532842</td>\n",
       "      <td>78</td>\n",
       "      <td>243</td>\n",
       "      <td>1989-01-20</td>\n",
       "      <td>Arizona</td>\n",
       "      <td>QB</td>\n",
       "      <td>Nick Foles</td>\n",
       "      <td>1989</td>\n",
       "      <td>29</td>\n",
       "    </tr>\n",
       "    <tr>\n",
       "      <th>9</th>\n",
       "      <td>2540158</td>\n",
       "      <td>77</td>\n",
       "      <td>250</td>\n",
       "      <td>1990-11-10</td>\n",
       "      <td>Stanford</td>\n",
       "      <td>TE</td>\n",
       "      <td>Zach Ertz</td>\n",
       "      <td>1990</td>\n",
       "      <td>28</td>\n",
       "    </tr>\n",
       "    <tr>\n",
       "      <th>10</th>\n",
       "      <td>2552582</td>\n",
       "      <td>72</td>\n",
       "      <td>223</td>\n",
       "      <td>1993-06-15</td>\n",
       "      <td>Boise State</td>\n",
       "      <td>RB</td>\n",
       "      <td>Jay Ajayi</td>\n",
       "      <td>1993</td>\n",
       "      <td>25</td>\n",
       "    </tr>\n",
       "    <tr>\n",
       "      <th>11</th>\n",
       "      <td>2552600</td>\n",
       "      <td>72</td>\n",
       "      <td>198</td>\n",
       "      <td>1993-05-24</td>\n",
       "      <td>Southern California</td>\n",
       "      <td>WR</td>\n",
       "      <td>Nelson Agholor</td>\n",
       "      <td>1993</td>\n",
       "      <td>25</td>\n",
       "    </tr>\n",
       "    <tr>\n",
       "      <th>12</th>\n",
       "      <td>2553502</td>\n",
       "      <td>68</td>\n",
       "      <td>190</td>\n",
       "      <td>1993-04-10</td>\n",
       "      <td>Sacramento State</td>\n",
       "      <td>WR</td>\n",
       "      <td>DeAndre Carter</td>\n",
       "      <td>1993</td>\n",
       "      <td>25</td>\n",
       "    </tr>\n",
       "    <tr>\n",
       "      <th>13</th>\n",
       "      <td>2552301</td>\n",
       "      <td>75</td>\n",
       "      <td>246</td>\n",
       "      <td>1992-07-08</td>\n",
       "      <td>Clemson</td>\n",
       "      <td>DE</td>\n",
       "      <td>Vic Beasley</td>\n",
       "      <td>1992</td>\n",
       "      <td>26</td>\n",
       "    </tr>\n",
       "    <tr>\n",
       "      <th>14</th>\n",
       "      <td>2506467</td>\n",
       "      <td>66</td>\n",
       "      <td>190</td>\n",
       "      <td>1983-06-20</td>\n",
       "      <td>Kansas State</td>\n",
       "      <td>RB</td>\n",
       "      <td>Darren Sproles</td>\n",
       "      <td>1983</td>\n",
       "      <td>35</td>\n",
       "    </tr>\n",
       "    <tr>\n",
       "      <th>15</th>\n",
       "      <td>2557967</td>\n",
       "      <td>73</td>\n",
       "      <td>230</td>\n",
       "      <td>1994-08-09</td>\n",
       "      <td>Louisiana State</td>\n",
       "      <td>OLB</td>\n",
       "      <td>Duke Riley</td>\n",
       "      <td>1994</td>\n",
       "      <td>24</td>\n",
       "    </tr>\n",
       "    <tr>\n",
       "      <th>16</th>\n",
       "      <td>2558184</td>\n",
       "      <td>71</td>\n",
       "      <td>190</td>\n",
       "      <td>1993-06-05</td>\n",
       "      <td>San Diego State</td>\n",
       "      <td>SS</td>\n",
       "      <td>Damontae Kazee</td>\n",
       "      <td>1993</td>\n",
       "      <td>25</td>\n",
       "    </tr>\n",
       "    <tr>\n",
       "      <th>17</th>\n",
       "      <td>2560995</td>\n",
       "      <td>77</td>\n",
       "      <td>256</td>\n",
       "      <td>1995-01-03</td>\n",
       "      <td>South Dakota State</td>\n",
       "      <td>TE</td>\n",
       "      <td>Dallas Goedert</td>\n",
       "      <td>1995</td>\n",
       "      <td>23</td>\n",
       "    </tr>\n",
       "    <tr>\n",
       "      <th>18</th>\n",
       "      <td>2559150</td>\n",
       "      <td>70</td>\n",
       "      <td>220</td>\n",
       "      <td>1994-11-02</td>\n",
       "      <td>Wisconsin</td>\n",
       "      <td>RB</td>\n",
       "      <td>Corey Clement</td>\n",
       "      <td>1994</td>\n",
       "      <td>24</td>\n",
       "    </tr>\n",
       "    <tr>\n",
       "      <th>19</th>\n",
       "      <td>310</td>\n",
       "      <td>76</td>\n",
       "      <td>217</td>\n",
       "      <td>1985-05-17</td>\n",
       "      <td>Boston College</td>\n",
       "      <td>QB</td>\n",
       "      <td>Matt Ryan</td>\n",
       "      <td>1985</td>\n",
       "      <td>33</td>\n",
       "    </tr>\n",
       "  </tbody>\n",
       "</table>\n",
       "</div>"
      ],
      "text/plain": [
       "      nflId  height  weight   birthDate             collegeName position  \\\n",
       "0   2539334      72     190  1990-09-10              Washington       CB   \n",
       "1   2539653      70     186  1988-11-01  Southeastern Louisiana       CB   \n",
       "2   2543850      69     186  1991-12-18                  Purdue       SS   \n",
       "3   2555162      73     227  1994-11-04         Louisiana State      MLB   \n",
       "4   2555255      75     232  1993-07-01               Minnesota      OLB   \n",
       "5   2555543      73     216  1995-07-26                 Florida       FS   \n",
       "6   2556445      70     211  1992-10-20                 Florida       CB   \n",
       "7   2507763      72     200  1986-08-01             Mississippi       WR   \n",
       "8   2532842      78     243  1989-01-20                 Arizona       QB   \n",
       "9   2540158      77     250  1990-11-10                Stanford       TE   \n",
       "10  2552582      72     223  1993-06-15             Boise State       RB   \n",
       "11  2552600      72     198  1993-05-24     Southern California       WR   \n",
       "12  2553502      68     190  1993-04-10        Sacramento State       WR   \n",
       "13  2552301      75     246  1992-07-08                 Clemson       DE   \n",
       "14  2506467      66     190  1983-06-20            Kansas State       RB   \n",
       "15  2557967      73     230  1994-08-09         Louisiana State      OLB   \n",
       "16  2558184      71     190  1993-06-05         San Diego State       SS   \n",
       "17  2560995      77     256  1995-01-03      South Dakota State       TE   \n",
       "18  2559150      70     220  1994-11-02               Wisconsin       RB   \n",
       "19      310      76     217  1985-05-17          Boston College       QB   \n",
       "\n",
       "           displayName  birthYear  age  \n",
       "0      Desmond Trufant       1990   28  \n",
       "1        Robert Alford       1988   30  \n",
       "2        Ricardo Allen       1991   27  \n",
       "3          Deion Jones       1994   24  \n",
       "4   De'Vondre Campbell       1993   25  \n",
       "5           Keanu Neal       1995   23  \n",
       "6          Brian Poole       1992   26  \n",
       "7         Mike Wallace       1986   32  \n",
       "8           Nick Foles       1989   29  \n",
       "9            Zach Ertz       1990   28  \n",
       "10           Jay Ajayi       1993   25  \n",
       "11      Nelson Agholor       1993   25  \n",
       "12      DeAndre Carter       1993   25  \n",
       "13         Vic Beasley       1992   26  \n",
       "14      Darren Sproles       1983   35  \n",
       "15          Duke Riley       1994   24  \n",
       "16      Damontae Kazee       1993   25  \n",
       "17      Dallas Goedert       1995   23  \n",
       "18       Corey Clement       1994   24  \n",
       "19           Matt Ryan       1985   33  "
      ]
     },
     "execution_count": 31,
     "metadata": {},
     "output_type": "execute_result"
    }
   ],
   "source": [
    "players_df['height'] = players_df['height'].apply(lambda x: int(x[0])*12 + int(x[2]) if '-' in x else int(x))\n",
    "players_df.head(20)"
   ]
  },
  {
   "cell_type": "markdown",
   "id": "acc737d5",
   "metadata": {
    "papermill": {
     "duration": 0.085541,
     "end_time": "2021-07-15T14:55:32.248754",
     "exception": false,
     "start_time": "2021-07-15T14:55:32.163213",
     "status": "completed"
    },
    "tags": []
   },
   "source": [
    "**Now, instead of looking at the height and weight distribution of players seperately, let us look at them together by making a joint plot.**"
   ]
  },
  {
   "cell_type": "code",
   "execution_count": 32,
   "id": "94438300",
   "metadata": {
    "execution": {
     "iopub.execute_input": "2021-07-15T14:55:32.426634Z",
     "iopub.status.busy": "2021-07-15T14:55:32.425622Z",
     "iopub.status.idle": "2021-07-15T14:55:32.431061Z",
     "shell.execute_reply": "2021-07-15T14:55:32.431574Z",
     "shell.execute_reply.started": "2021-07-15T14:34:54.174614Z"
    },
    "papermill": {
     "duration": 0.096317,
     "end_time": "2021-07-15T14:55:32.431744",
     "exception": false,
     "start_time": "2021-07-15T14:55:32.335427",
     "status": "completed"
    },
    "tags": []
   },
   "outputs": [
    {
     "data": {
      "text/plain": [
       "array([72, 70, 69, ..., 78, 69, 74])"
      ]
     },
     "execution_count": 32,
     "metadata": {},
     "output_type": "execute_result"
    }
   ],
   "source": [
    "players_df['height'].values"
   ]
  },
  {
   "cell_type": "code",
   "execution_count": 33,
   "id": "3f676de9",
   "metadata": {
    "execution": {
     "iopub.execute_input": "2021-07-15T14:55:32.608480Z",
     "iopub.status.busy": "2021-07-15T14:55:32.607856Z",
     "iopub.status.idle": "2021-07-15T14:55:32.611725Z",
     "shell.execute_reply": "2021-07-15T14:55:32.612219Z",
     "shell.execute_reply.started": "2021-07-15T14:34:54.188791Z"
    },
    "papermill": {
     "duration": 0.09412,
     "end_time": "2021-07-15T14:55:32.612387",
     "exception": false,
     "start_time": "2021-07-15T14:55:32.518267",
     "status": "completed"
    },
    "tags": []
   },
   "outputs": [],
   "source": [
    "height = players_df['height'].values\n",
    "weight = players_df['weight'].values"
   ]
  },
  {
   "cell_type": "code",
   "execution_count": 34,
   "id": "13a3eb11",
   "metadata": {
    "execution": {
     "iopub.execute_input": "2021-07-15T14:55:32.790399Z",
     "iopub.status.busy": "2021-07-15T14:55:32.789722Z",
     "iopub.status.idle": "2021-07-15T14:55:33.407017Z",
     "shell.execute_reply": "2021-07-15T14:55:33.406489Z",
     "shell.execute_reply.started": "2021-07-15T14:34:54.199532Z"
    },
    "papermill": {
     "duration": 0.70735,
     "end_time": "2021-07-15T14:55:33.407174",
     "exception": false,
     "start_time": "2021-07-15T14:55:32.699824",
     "status": "completed"
    },
    "tags": []
   },
   "outputs": [
    {
     "name": "stderr",
     "output_type": "stream",
     "text": [
      "/opt/conda/lib/python3.7/site-packages/seaborn/_decorators.py:43: FutureWarning: Pass the following variables as keyword args: x, y. From version 0.12, the only valid positional argument will be `data`, and passing other arguments without an explicit keyword will result in an error or misinterpretation.\n",
      "  FutureWarning\n"
     ]
    },
    {
     "data": {
      "text/plain": [
       "<seaborn.axisgrid.JointGrid at 0x7f9f7414d9d0>"
      ]
     },
     "execution_count": 34,
     "metadata": {},
     "output_type": "execute_result"
    },
    {
     "data": {
      "image/png": "[encoded data removed]",
      "text/plain": [
       "<Figure size 432x432 with 3 Axes>"
      ]
     },
     "metadata": {
      "needs_background": "light"
     },
     "output_type": "display_data"
    }
   ],
   "source": [
    "sns.jointplot(weight, height)"
   ]
  },
  {
   "cell_type": "markdown",
   "id": "86255fb7",
   "metadata": {
    "papermill": {
     "duration": 0.088039,
     "end_time": "2021-07-15T14:55:33.584297",
     "exception": false,
     "start_time": "2021-07-15T14:55:33.496258",
     "status": "completed"
    },
    "tags": []
   },
   "source": [
    "#  NFL plays"
   ]
  },
  {
   "cell_type": "code",
   "execution_count": 35,
   "id": "21d8fdf9",
   "metadata": {
    "execution": {
     "iopub.execute_input": "2021-07-15T14:55:34.119668Z",
     "iopub.status.busy": "2021-07-15T14:55:34.118958Z",
     "iopub.status.idle": "2021-07-15T14:55:34.337164Z",
     "shell.execute_reply": "2021-07-15T14:55:34.336612Z",
     "shell.execute_reply.started": "2021-07-15T14:35:51.544071Z"
    },
    "papermill": {
     "duration": 0.310585,
     "end_time": "2021-07-15T14:55:34.337332",
     "exception": false,
     "start_time": "2021-07-15T14:55:34.026747",
     "status": "completed"
    },
    "tags": []
   },
   "outputs": [],
   "source": [
    "plays_df = pd.read_csv(\"C:/Users/DELL/OneDrive/Desktop/Sports Analytics\\plays.csv\")"
   ]
  },
  {
   "cell_type": "code",
   "execution_count": 36,
   "id": "26108935",
   "metadata": {
    "execution": {
     "iopub.execute_input": "2021-07-15T14:55:34.542967Z",
     "iopub.status.busy": "2021-07-15T14:55:34.542312Z",
     "iopub.status.idle": "2021-07-15T14:55:34.546211Z",
     "shell.execute_reply": "2021-07-15T14:55:34.546668Z",
     "shell.execute_reply.started": "2021-07-15T14:36:01.414268Z"
    },
    "papermill": {
     "duration": 0.121619,
     "end_time": "2021-07-15T14:55:34.546845",
     "exception": false,
     "start_time": "2021-07-15T14:55:34.425226",
     "status": "completed"
    },
    "tags": []
   },
   "outputs": [
    {
     "data": {
      "text/html": [
       "<div>\n",
       "<style scoped>\n",
       "    .dataframe tbody tr th:only-of-type {\n",
       "        vertical-align: middle;\n",
       "    }\n",
       "\n",
       "    .dataframe tbody tr th {\n",
       "        vertical-align: top;\n",
       "    }\n",
       "\n",
       "    .dataframe thead th {\n",
       "        text-align: right;\n",
       "    }\n",
       "</style>\n",
       "<table border=\"1\" class=\"dataframe\">\n",
       "  <thead>\n",
       "    <tr style=\"text-align: right;\">\n",
       "      <th></th>\n",
       "      <th>gameId</th>\n",
       "      <th>playId</th>\n",
       "      <th>playDescription</th>\n",
       "      <th>quarter</th>\n",
       "      <th>down</th>\n",
       "      <th>yardsToGo</th>\n",
       "      <th>possessionTeam</th>\n",
       "      <th>playType</th>\n",
       "      <th>yardlineSide</th>\n",
       "      <th>yardlineNumber</th>\n",
       "      <th>...</th>\n",
       "      <th>preSnapHomeScore</th>\n",
       "      <th>gameClock</th>\n",
       "      <th>absoluteYardlineNumber</th>\n",
       "      <th>penaltyCodes</th>\n",
       "      <th>penaltyJerseyNumbers</th>\n",
       "      <th>passResult</th>\n",
       "      <th>offensePlayResult</th>\n",
       "      <th>playResult</th>\n",
       "      <th>epa</th>\n",
       "      <th>isDefensivePI</th>\n",
       "    </tr>\n",
       "  </thead>\n",
       "  <tbody>\n",
       "    <tr>\n",
       "      <th>0</th>\n",
       "      <td>2018090600</td>\n",
       "      <td>75</td>\n",
       "      <td>(15:00) M.Ryan pass short right to J.Jones pus...</td>\n",
       "      <td>1</td>\n",
       "      <td>1</td>\n",
       "      <td>15</td>\n",
       "      <td>ATL</td>\n",
       "      <td>play_type_pass</td>\n",
       "      <td>ATL</td>\n",
       "      <td>20</td>\n",
       "      <td>...</td>\n",
       "      <td>0.0</td>\n",
       "      <td>15:00:00</td>\n",
       "      <td>90.0</td>\n",
       "      <td>NaN</td>\n",
       "      <td>NaN</td>\n",
       "      <td>C</td>\n",
       "      <td>10</td>\n",
       "      <td>10</td>\n",
       "      <td>0.261827</td>\n",
       "      <td>False</td>\n",
       "    </tr>\n",
       "    <tr>\n",
       "      <th>1</th>\n",
       "      <td>2018090600</td>\n",
       "      <td>146</td>\n",
       "      <td>(13:10) M.Ryan pass incomplete short right to ...</td>\n",
       "      <td>1</td>\n",
       "      <td>1</td>\n",
       "      <td>10</td>\n",
       "      <td>ATL</td>\n",
       "      <td>play_type_pass</td>\n",
       "      <td>PHI</td>\n",
       "      <td>39</td>\n",
       "      <td>...</td>\n",
       "      <td>0.0</td>\n",
       "      <td>13:10:00</td>\n",
       "      <td>49.0</td>\n",
       "      <td>NaN</td>\n",
       "      <td>NaN</td>\n",
       "      <td>I</td>\n",
       "      <td>0</td>\n",
       "      <td>0</td>\n",
       "      <td>-0.372360</td>\n",
       "      <td>False</td>\n",
       "    </tr>\n",
       "    <tr>\n",
       "      <th>2</th>\n",
       "      <td>2018090600</td>\n",
       "      <td>168</td>\n",
       "      <td>(13:05) (Shotgun) M.Ryan pass incomplete short...</td>\n",
       "      <td>1</td>\n",
       "      <td>2</td>\n",
       "      <td>10</td>\n",
       "      <td>ATL</td>\n",
       "      <td>play_type_pass</td>\n",
       "      <td>PHI</td>\n",
       "      <td>39</td>\n",
       "      <td>...</td>\n",
       "      <td>0.0</td>\n",
       "      <td>13:05:00</td>\n",
       "      <td>49.0</td>\n",
       "      <td>NaN</td>\n",
       "      <td>NaN</td>\n",
       "      <td>I</td>\n",
       "      <td>0</td>\n",
       "      <td>0</td>\n",
       "      <td>-0.702779</td>\n",
       "      <td>False</td>\n",
       "    </tr>\n",
       "    <tr>\n",
       "      <th>3</th>\n",
       "      <td>2018090600</td>\n",
       "      <td>190</td>\n",
       "      <td>(13:01) (Shotgun) M.Ryan pass deep left to J.J...</td>\n",
       "      <td>1</td>\n",
       "      <td>3</td>\n",
       "      <td>10</td>\n",
       "      <td>ATL</td>\n",
       "      <td>play_type_pass</td>\n",
       "      <td>PHI</td>\n",
       "      <td>39</td>\n",
       "      <td>...</td>\n",
       "      <td>0.0</td>\n",
       "      <td>13:01:00</td>\n",
       "      <td>49.0</td>\n",
       "      <td>NaN</td>\n",
       "      <td>NaN</td>\n",
       "      <td>C</td>\n",
       "      <td>33</td>\n",
       "      <td>33</td>\n",
       "      <td>3.047530</td>\n",
       "      <td>False</td>\n",
       "    </tr>\n",
       "    <tr>\n",
       "      <th>4</th>\n",
       "      <td>2018090600</td>\n",
       "      <td>256</td>\n",
       "      <td>(10:59) (Shotgun) M.Ryan pass incomplete short...</td>\n",
       "      <td>1</td>\n",
       "      <td>3</td>\n",
       "      <td>1</td>\n",
       "      <td>ATL</td>\n",
       "      <td>play_type_pass</td>\n",
       "      <td>PHI</td>\n",
       "      <td>1</td>\n",
       "      <td>...</td>\n",
       "      <td>0.0</td>\n",
       "      <td>10:59:00</td>\n",
       "      <td>11.0</td>\n",
       "      <td>NaN</td>\n",
       "      <td>NaN</td>\n",
       "      <td>I</td>\n",
       "      <td>0</td>\n",
       "      <td>0</td>\n",
       "      <td>-0.842272</td>\n",
       "      <td>False</td>\n",
       "    </tr>\n",
       "  </tbody>\n",
       "</table>\n",
       "<p>5 rows × 27 columns</p>\n",
       "</div>"
      ],
      "text/plain": [
       "       gameId  playId                                    playDescription  \\\n",
       "0  2018090600      75  (15:00) M.Ryan pass short right to J.Jones pus...   \n",
       "1  2018090600     146  (13:10) M.Ryan pass incomplete short right to ...   \n",
       "2  2018090600     168  (13:05) (Shotgun) M.Ryan pass incomplete short...   \n",
       "3  2018090600     190  (13:01) (Shotgun) M.Ryan pass deep left to J.J...   \n",
       "4  2018090600     256  (10:59) (Shotgun) M.Ryan pass incomplete short...   \n",
       "\n",
       "   quarter  down  yardsToGo possessionTeam        playType yardlineSide  \\\n",
       "0        1     1         15            ATL  play_type_pass          ATL   \n",
       "1        1     1         10            ATL  play_type_pass          PHI   \n",
       "2        1     2         10            ATL  play_type_pass          PHI   \n",
       "3        1     3         10            ATL  play_type_pass          PHI   \n",
       "4        1     3          1            ATL  play_type_pass          PHI   \n",
       "\n",
       "   yardlineNumber  ... preSnapHomeScore gameClock  absoluteYardlineNumber  \\\n",
       "0              20  ...              0.0  15:00:00                    90.0   \n",
       "1              39  ...              0.0  13:10:00                    49.0   \n",
       "2              39  ...              0.0  13:05:00                    49.0   \n",
       "3              39  ...              0.0  13:01:00                    49.0   \n",
       "4               1  ...              0.0  10:59:00                    11.0   \n",
       "\n",
       "   penaltyCodes penaltyJerseyNumbers passResult  offensePlayResult  \\\n",
       "0           NaN                  NaN          C                 10   \n",
       "1           NaN                  NaN          I                  0   \n",
       "2           NaN                  NaN          I                  0   \n",
       "3           NaN                  NaN          C                 33   \n",
       "4           NaN                  NaN          I                  0   \n",
       "\n",
       "   playResult       epa  isDefensivePI  \n",
       "0          10  0.261827          False  \n",
       "1           0 -0.372360          False  \n",
       "2           0 -0.702779          False  \n",
       "3          33  3.047530          False  \n",
       "4           0 -0.842272          False  \n",
       "\n",
       "[5 rows x 27 columns]"
      ]
     },
     "execution_count": 36,
     "metadata": {},
     "output_type": "execute_result"
    }
   ],
   "source": [
    "plays_df.head()"
   ]
  },
  {
   "cell_type": "code",
   "execution_count": 37,
   "id": "ca98e8c7",
   "metadata": {
    "execution": {
     "iopub.execute_input": "2021-07-15T14:55:34.731280Z",
     "iopub.status.busy": "2021-07-15T14:55:34.730621Z",
     "iopub.status.idle": "2021-07-15T14:55:34.734267Z",
     "shell.execute_reply": "2021-07-15T14:55:34.734773Z",
     "shell.execute_reply.started": "2021-07-15T14:36:13.012248Z"
    },
    "papermill": {
     "duration": 0.099165,
     "end_time": "2021-07-15T14:55:34.734960",
     "exception": false,
     "start_time": "2021-07-15T14:55:34.635795",
     "status": "completed"
    },
    "tags": []
   },
   "outputs": [
    {
     "data": {
      "text/plain": [
       "(19239, 27)"
      ]
     },
     "execution_count": 37,
     "metadata": {},
     "output_type": "execute_result"
    }
   ],
   "source": [
    "plays_df.shape"
   ]
  },
  {
   "cell_type": "markdown",
   "id": "e2b74b12",
   "metadata": {
    "papermill": {
     "duration": 0.088314,
     "end_time": "2021-07-15T14:55:34.912474",
     "exception": false,
     "start_time": "2021-07-15T14:55:34.824160",
     "status": "completed"
    },
    "tags": []
   },
   "source": [
    "# 4. Visualizing the American Football Field"
   ]
  },
  {
   "cell_type": "code",
   "execution_count": 38,
   "id": "ca0652c4",
   "metadata": {
    "execution": {
     "iopub.execute_input": "2021-07-15T14:55:35.275176Z",
     "iopub.status.busy": "2021-07-15T14:55:35.274211Z",
     "iopub.status.idle": "2021-07-15T14:55:35.277166Z",
     "shell.execute_reply": "2021-07-15T14:55:35.276626Z",
     "shell.execute_reply.started": "2021-07-15T14:38:51.951050Z"
    },
    "papermill": {
     "duration": 0.0961,
     "end_time": "2021-07-15T14:55:35.277305",
     "exception": false,
     "start_time": "2021-07-15T14:55:35.181205",
     "status": "completed"
    },
    "tags": []
   },
   "outputs": [],
   "source": [
    "import matplotlib.patches as patches"
   ]
  },
  {
   "cell_type": "code",
   "execution_count": 39,
   "id": "31695d29",
   "metadata": {
    "execution": {
     "iopub.execute_input": "2021-07-15T14:55:35.457880Z",
     "iopub.status.busy": "2021-07-15T14:55:35.457274Z",
     "iopub.status.idle": "2021-07-15T14:55:35.605503Z",
     "shell.execute_reply": "2021-07-15T14:55:35.605948Z",
     "shell.execute_reply.started": "2021-07-15T14:39:05.223343Z"
    },
    "papermill": {
     "duration": 0.240086,
     "end_time": "2021-07-15T14:55:35.606142",
     "exception": false,
     "start_time": "2021-07-15T14:55:35.366056",
     "status": "completed"
    },
    "tags": []
   },
   "outputs": [
    {
     "data": {
      "text/plain": [
       "<matplotlib.patches.Rectangle at 0x7f9f64761c90>"
      ]
     },
     "execution_count": 39,
     "metadata": {},
     "output_type": "execute_result"
    },
    {
     "data": {
      "image/png": "[encoded data removed]",
      "text/plain": [
       "<Figure size 864x455.76 with 1 Axes>"
      ]
     },
     "metadata": {
      "needs_background": "light"
     },
     "output_type": "display_data"
    }
   ],
   "source": [
    "rect = patches.Rectangle((0, 0), 120, 53.3, facecolor='darkgreen', zorder=0)\n",
    "fig, ax = plt.subplots(1, figsize=(12, 6.33))\n",
    "ax.add_patch(rect)"
   ]
  },
  {
   "cell_type": "markdown",
   "id": "c7a1439e",
   "metadata": {
    "papermill": {
     "duration": 0.089161,
     "end_time": "2021-07-15T14:55:35.785694",
     "exception": false,
     "start_time": "2021-07-15T14:55:35.696533",
     "status": "completed"
    },
    "tags": []
   },
   "source": [
    "**Let us add a line plot to create some lines on the field by using the plot() method.**"
   ]
  },
  {
   "cell_type": "code",
   "execution_count": 40,
   "id": "6e965089",
   "metadata": {
    "execution": {
     "iopub.execute_input": "2021-07-15T14:55:35.968148Z",
     "iopub.status.busy": "2021-07-15T14:55:35.967508Z",
     "iopub.status.idle": "2021-07-15T14:55:36.125909Z",
     "shell.execute_reply": "2021-07-15T14:55:36.126414Z",
     "shell.execute_reply.started": "2021-07-15T14:39:34.061834Z"
    },
    "papermill": {
     "duration": 0.251434,
     "end_time": "2021-07-15T14:55:36.126614",
     "exception": false,
     "start_time": "2021-07-15T14:55:35.875180",
     "status": "completed"
    },
    "tags": []
   },
   "outputs": [
    {
     "data": {
      "text/plain": [
       "[<matplotlib.lines.Line2D at 0x7f9f65b93e90>]"
      ]
     },
     "execution_count": 40,
     "metadata": {},
     "output_type": "execute_result"
    },
    {
     "data": {
      "image/png": "[encoded data removed]",
      "text/plain": [
       "<Figure size 864x455.76 with 1 Axes>"
      ]
     },
     "metadata": {
      "needs_background": "light"
     },
     "output_type": "display_data"
    }
   ],
   "source": [
    "rect = patches.Rectangle((0, 0), 120, 53.3, facecolor='darkgreen', zorder=0)\n",
    "fig, ax = plt.subplots(1, figsize=(12, 6.33))\n",
    "ax.add_patch(rect)\n",
    "plt.plot([10, 10, 20, 20],\n",
    "         [0, 53.3, 53.3, 0],\n",
    "         color='white', zorder=0)"
   ]
  },
  {
   "cell_type": "markdown",
   "id": "e40ea93b",
   "metadata": {
    "papermill": {
     "duration": 0.091035,
     "end_time": "2021-07-15T14:55:36.310317",
     "exception": false,
     "start_time": "2021-07-15T14:55:36.219282",
     "status": "completed"
    },
    "tags": []
   },
   "source": [
    "**Now let us create all the lines on the field.**"
   ]
  },
  {
   "cell_type": "code",
   "execution_count": 41,
   "id": "78c75b16",
   "metadata": {
    "execution": {
     "iopub.execute_input": "2021-07-15T14:55:36.504914Z",
     "iopub.status.busy": "2021-07-15T14:55:36.504253Z",
     "iopub.status.idle": "2021-07-15T14:55:36.666204Z",
     "shell.execute_reply": "2021-07-15T14:55:36.666796Z",
     "shell.execute_reply.started": "2021-07-15T14:39:54.800815Z"
    },
    "papermill": {
     "duration": 0.265315,
     "end_time": "2021-07-15T14:55:36.666969",
     "exception": false,
     "start_time": "2021-07-15T14:55:36.401654",
     "status": "completed"
    },
    "tags": []
   },
   "outputs": [
    {
     "data": {
      "text/plain": [
       "[<matplotlib.lines.Line2D at 0x7f9f65b2b250>]"
      ]
     },
     "execution_count": 41,
     "metadata": {},
     "output_type": "execute_result"
    },
    {
     "data": {
      "image/png": "[encoded data removed]",
      "text/plain": [
       "<Figure size 864x455.76 with 1 Axes>"
      ]
     },
     "metadata": {
      "needs_background": "light"
     },
     "output_type": "display_data"
    }
   ],
   "source": [
    "rect = patches.Rectangle((0, 0), 120, 53.3, facecolor='darkgreen', zorder=0)\n",
    "fig, ax = plt.subplots(1, figsize=(12, 6.33))\n",
    "ax.add_patch(rect)\n",
    "plt.plot([10, 10, 20, 20, 30, 30, 40, 40, 50, 50, 60, 60, 70, 70, 80,\n",
    "          80, 90, 90, 100, 100, 110, 110, 120, 0, 0, 120, 120],\n",
    "         [0, 53.3, 53.3, 0, 0, 53.3, 53.3, 0, 0, 53.3, 53.3, 0, 0, 53.3, 53.3, \n",
    "          0, 0, 53.3, 53.3, 0, 0, 53.3, 53.3, 53.3, 0, 0, 53.3],\n",
    "         color='white', zorder = 0)"
   ]
  },
  {
   "cell_type": "markdown",
   "id": "9240fbb5",
   "metadata": {
    "papermill": {
     "duration": 0.092176,
     "end_time": "2021-07-15T14:55:36.851990",
     "exception": false,
     "start_time": "2021-07-15T14:55:36.759814",
     "status": "completed"
    },
    "tags": []
   },
   "source": [
    "**Now, let us add the endzones onto the plot.**"
   ]
  },
  {
   "cell_type": "code",
   "execution_count": 42,
   "id": "7f3d1210",
   "metadata": {
    "execution": {
     "iopub.execute_input": "2021-07-15T14:55:37.041381Z",
     "iopub.status.busy": "2021-07-15T14:55:37.040694Z",
     "iopub.status.idle": "2021-07-15T14:55:37.130650Z",
     "shell.execute_reply": "2021-07-15T14:55:37.131251Z",
     "shell.execute_reply.started": "2021-07-15T14:40:22.625919Z"
    },
    "papermill": {
     "duration": 0.186755,
     "end_time": "2021-07-15T14:55:37.131423",
     "exception": false,
     "start_time": "2021-07-15T14:55:36.944668",
     "status": "completed"
    },
    "tags": []
   },
   "outputs": [
    {
     "data": {
      "text/plain": [
       "(0.0, 120.0, -5.0, 58.3)"
      ]
     },
     "execution_count": 42,
     "metadata": {},
     "output_type": "execute_result"
    },
    {
     "data": {
      "image/png": "[encoded data removed]",
      "text/plain": [
       "<Figure size 864x455.76 with 1 Axes>"
      ]
     },
     "metadata": {
      "needs_background": "light"
     },
     "output_type": "display_data"
    }
   ],
   "source": [
    "rect = patches.Rectangle((0, 0), 120, 53.3, facecolor='darkgreen', zorder=0)\n",
    "fig, ax = plt.subplots(1, figsize=(12, 6.33))\n",
    "ax.add_patch(rect)\n",
    "plt.plot([10, 10, 20, 20, 30, 30, 40, 40, 50, 50, 60, 60, 70, 70, 80,\n",
    "          80, 90, 90, 100, 100, 110, 110, 120, 0, 0, 120, 120],\n",
    "         [0, 53.3, 53.3, 0, 0, 53.3, 53.3, 0, 0, 53.3, 53.3, 0, 0, 53.3, 53.3, \n",
    "          0, 0, 53.3, 53.3, 0, 0, 53.3, 53.3, 53.3, 0, 0, 53.3],\n",
    "         color='white', zorder = 0)\n",
    "left_end_zone = patches.Rectangle((0, 0), 10, 53.3, facecolor='blue', alpha=0.2, zorder=0)\n",
    "right_end_zone = patches.Rectangle((110, 0), 120, 53.3, facecolor='blue', alpha=0.2, zorder=0)\n",
    "ax.add_patch(left_end_zone)\n",
    "ax.add_patch(right_end_zone)\n",
    "plt.xlim(0, 120)\n",
    "plt.ylim(-5, 58.3)\n",
    "plt.axis('off')"
   ]
  },
  {
   "cell_type": "markdown",
   "id": "58d756dc",
   "metadata": {
    "papermill": {
     "duration": 0.092384,
     "end_time": "2021-07-15T14:55:37.318207",
     "exception": false,
     "start_time": "2021-07-15T14:55:37.225823",
     "status": "completed"
    },
    "tags": []
   },
   "source": [
    "**It is time for us to plot the numbers on the field.**"
   ]
  },
  {
   "cell_type": "code",
   "execution_count": 43,
   "id": "690b2f5a",
   "metadata": {
    "execution": {
     "iopub.execute_input": "2021-07-15T14:55:37.564950Z",
     "iopub.status.busy": "2021-07-15T14:55:37.553063Z",
     "iopub.status.idle": "2021-07-15T14:55:37.727536Z",
     "shell.execute_reply": "2021-07-15T14:55:37.728000Z",
     "shell.execute_reply.started": "2021-07-15T14:44:42.197992Z"
    },
    "papermill": {
     "duration": 0.317513,
     "end_time": "2021-07-15T14:55:37.728212",
     "exception": false,
     "start_time": "2021-07-15T14:55:37.410699",
     "status": "completed"
    },
    "tags": []
   },
   "outputs": [
    {
     "data": {
      "image/png": "[encoded data removed]",
      "text/plain": [
       "<Figure size 864x455.76 with 1 Axes>"
      ]
     },
     "metadata": {
      "needs_background": "light"
     },
     "output_type": "display_data"
    }
   ],
   "source": [
    "rect = patches.Rectangle((0, 0), 120, 53.3, facecolor='darkgreen', zorder=0)\n",
    "fig, ax = plt.subplots(1, figsize=(12, 6.33))\n",
    "ax.add_patch(rect)\n",
    "plt.plot([10, 10, 20, 20, 30, 30, 40, 40, 50, 50, 60, 60, 70, 70, 80,\n",
    "          80, 90, 90, 100, 100, 110, 110, 120, 0, 0, 120, 120],\n",
    "         [0, 53.3, 53.3, 0, 0, 53.3, 53.3, 0, 0, 53.3, 53.3, 0, 0, 53.3, 53.3, \n",
    "          0, 0, 53.3, 53.3, 0, 0, 53.3, 53.3, 53.3, 0, 0, 53.3],\n",
    "         color='white', zorder = 0)\n",
    "left_end_zone = patches.Rectangle((0, 0), 10, 53.3, facecolor='blue', alpha=0.2, zorder=0)\n",
    "right_end_zone = patches.Rectangle((110, 0), 120, 53.3, facecolor='blue', alpha=0.2, zorder=0)\n",
    "ax.add_patch(left_end_zone)\n",
    "ax.add_patch(right_end_zone)\n",
    "plt.xlim(0, 120)\n",
    "plt.ylim(-5, 58.3)\n",
    "for x in range(20, 110, 10):\n",
    "    number = x\n",
    "    if x > 50:\n",
    "        number = 120 - x\n",
    "    plt.text(x, 5, str(number - 10),\n",
    "             horizontalalignment='center',\n",
    "             fontsize=20,\n",
    "             color='white')\n",
    "    plt.text(x - 0.95, 53.3 - 5, str(number - 10),\n",
    "             horizontalalignment='center',\n",
    "             fontsize=20,\n",
    "             color='white',\n",
    "             rotation=180)"
   ]
  },
  {
   "cell_type": "markdown",
   "id": "dc7f26c9",
   "metadata": {
    "papermill": {
     "duration": 0.095682,
     "end_time": "2021-07-15T14:55:37.922517",
     "exception": false,
     "start_time": "2021-07-15T14:55:37.826835",
     "status": "completed"
    },
    "tags": []
   },
   "source": [
    "**Let us finally create the ground markings and complete the plot.**"
   ]
  },
  {
   "cell_type": "code",
   "execution_count": 44,
   "id": "c3a514f7",
   "metadata": {
    "execution": {
     "iopub.execute_input": "2021-07-15T14:55:38.283528Z",
     "iopub.status.busy": "2021-07-15T14:55:38.278021Z",
     "iopub.status.idle": "2021-07-15T14:55:38.943327Z",
     "shell.execute_reply": "2021-07-15T14:55:38.943850Z",
     "shell.execute_reply.started": "2021-07-15T14:45:18.029989Z"
    },
    "papermill": {
     "duration": 0.927576,
     "end_time": "2021-07-15T14:55:38.944030",
     "exception": false,
     "start_time": "2021-07-15T14:55:38.016454",
     "status": "completed"
    },
    "tags": []
   },
   "outputs": [
    {
     "data": {
      "image/png": "[encoded data removed]",
      "text/plain": [
       "<Figure size 864x455.76 with 1 Axes>"
      ]
     },
     "metadata": {
      "needs_background": "light"
     },
     "output_type": "display_data"
    }
   ],
   "source": [
    "rect = patches.Rectangle((0, 0), 120, 53.3, facecolor='darkgreen', zorder=0)\n",
    "fig, ax = plt.subplots(1, figsize=(12, 6.33))\n",
    "ax.add_patch(rect)\n",
    "plt.plot([10, 10, 20, 20, 30, 30, 40, 40, 50, 50, 60, 60, 70, 70, 80,\n",
    "          80, 90, 90, 100, 100, 110, 110, 120, 0, 0, 120, 120],\n",
    "         [0, 53.3, 53.3, 0, 0, 53.3, 53.3, 0, 0, 53.3, 53.3, 0, 0, 53.3, 53.3, \n",
    "          0, 0, 53.3, 53.3, 0, 0, 53.3, 53.3, 53.3, 0, 0, 53.3],\n",
    "         color='white', zorder = 0)\n",
    "left_end_zone = patches.Rectangle((0, 0), 10, 53.3, facecolor='blue', alpha=0.2, zorder=0)\n",
    "right_end_zone = patches.Rectangle((110, 0), 120, 53.3, facecolor='blue', alpha=0.2, zorder=0)\n",
    "ax.add_patch(left_end_zone)\n",
    "ax.add_patch(right_end_zone)\n",
    "plt.xlim(0, 120)\n",
    "plt.ylim(-5, 58.3)\n",
    "plt.axis('off')\n",
    "for x in range(20, 110, 10):\n",
    "    number = x\n",
    "    if x > 50:\n",
    "        number = 120 - x\n",
    "    plt.text(x, 5, str(number - 10),\n",
    "             horizontalalignment='center',\n",
    "             fontsize=20,\n",
    "             color='white')\n",
    "    plt.text(x - 0.95, 53.3 - 5, str(number - 10),\n",
    "             horizontalalignment='center',\n",
    "             fontsize=20,\n",
    "             color='white',\n",
    "             rotation=180)\n",
    "for x in range(11, 110):\n",
    "        ax.plot([x, x], [0.4, 0.7], color='white', zorder = 0)\n",
    "        ax.plot([x, x], [53.0, 52.5], color='white', zorder = 0)\n",
    "        ax.plot([x, x], [22.91, 23.57], color='white', zorder = 0)\n",
    "        ax.plot([x, x], [29.73, 30.39], color='white', zorder = 0)"
   ]
  },
  {
   "cell_type": "markdown",
   "id": "ae730528",
   "metadata": {
    "papermill": {
     "duration": 0.096517,
     "end_time": "2021-07-15T14:55:39.135871",
     "exception": false,
     "start_time": "2021-07-15T14:55:39.039354",
     "status": "completed"
    },
    "tags": []
   },
   "source": [
    "**Wrapping the entire code in a function for easy plotting**"
   ]
  },
  {
   "cell_type": "code",
   "execution_count": 45,
   "id": "63d7dac0",
   "metadata": {
    "execution": {
     "iopub.execute_input": "2021-07-15T14:55:39.343305Z",
     "iopub.status.busy": "2021-07-15T14:55:39.342157Z",
     "iopub.status.idle": "2021-07-15T14:55:39.344756Z",
     "shell.execute_reply": "2021-07-15T14:55:39.345234Z",
     "shell.execute_reply.started": "2021-07-15T14:45:45.904701Z"
    },
    "papermill": {
     "duration": 0.11478,
     "end_time": "2021-07-15T14:55:39.345421",
     "exception": false,
     "start_time": "2021-07-15T14:55:39.230641",
     "status": "completed"
    },
    "tags": []
   },
   "outputs": [],
   "source": [
    "def create_football_field():\n",
    "    rect = patches.Rectangle((0, 0), 120, 53.3, facecolor='darkgreen', zorder=0)\n",
    "    fig, ax = plt.subplots(1, figsize=(12, 6.33))\n",
    "    ax.add_patch(rect)\n",
    "plt.plot([10, 10, 20, 20, 30, 30, 40, 40, 50, 50, 60, 60, 70, 70, 80,\n",
    "              80, 90, 90, 100, 100, 110, 110, 120, 0, 0, 120, 120],\n",
    "             [0, 53.3, 53.3, 0, 0, 53.3, 53.3, 0, 0, 53.3, 53.3, 0, 0, 53.3, 53.3, \n",
    "              0, 0, 53.3, 53.3, 0, 0, 53.3, 53.3, 53.3, 0, 0, 53.3],\n",
    "             color='white', zorder = 0)\n",
    "    left_end_zone = patches.Rectangle((0, 0), 10, 53.3, facecolor='blue', alpha=0.2, zorder=0)\n",
    "    right_end_zone = patches.Rectangle((110, 0), 120, 53.3, facecolor='blue', alpha=0.2, zorder=0)\n",
    "    ax.add_patch(left_end_zone)\n",
    "    ax.add_patch(right_end_zone)\n",
    "    plt.xlim(0, 120)\n",
    "    plt.ylim(-5, 58.3)\n",
    "    plt.axis('off')\n",
    "    for x in range(20, 110, 10):\n",
    "        number = x\n",
    "if x > 50:\n",
    "            number = 120 - x\n",
    "        plt.text(x, 5, str(number - 10),\n",
    "                 horizontalalignment='center',\n",
    "                 fontsize=20,\n",
    "                 color='white')\n",
    "        plt.text(x - 0.95, 53.3 - 5, str(number - 10),\n",
    "                 horizontalalignment='center',\n",
    "                 fontsize=20,\n",
    "                 color='white',\n",
    "                 rotation=180)\n",
    "for x in range(11, 110):\n",
    "            ax.plot([x, x], [0.4, 0.7], color='white', zorder = 0)\n",
    "            ax.plot([x, x], [53.0, 52.5], color='white', zorder = 0)\n",
    "            ax.plot([x, x], [22.91, 23.57], color='white', zorder = 0)\n",
    "            ax.plot([x, x], [29.73, 30.39], color='white', zorder = 0)\n",
    "    return fig, ax"
   ]
  },
  {
   "cell_type": "code",
   "execution_count": 46,
   "id": "f5f828a8",
   "metadata": {
    "execution": {
     "iopub.execute_input": "2021-07-15T14:55:39.544608Z",
     "iopub.status.busy": "2021-07-15T14:55:39.543639Z",
     "iopub.status.idle": "2021-07-15T14:55:40.339575Z",
     "shell.execute_reply": "2021-07-15T14:55:40.340023Z",
     "shell.execute_reply.started": "2021-07-15T14:45:59.961547Z"
    },
    "papermill": {
     "duration": 0.898799,
     "end_time": "2021-07-15T14:55:40.340226",
     "exception": false,
     "start_time": "2021-07-15T14:55:39.441427",
     "status": "completed"
    },
    "tags": []
   },
   "outputs": [
    {
     "data": {
      "image/png": "[encoded data removed]",
      "text/plain": [
       "<Figure size 864x455.76 with 1 Axes>"
      ]
     },
     "metadata": {
      "needs_background": "light"
     },
     "output_type": "display_data"
    }
   ],
   "source": [
    "fig, ax = create_football_field()\n",
    "plt.show()"
   ]
  },
  {
   "cell_type": "markdown",
   "id": "3a51b43e",
   "metadata": {
    "papermill": {
     "duration": 0.105792,
     "end_time": "2021-07-15T14:55:40.542892",
     "exception": false,
     "start_time": "2021-07-15T14:55:40.437100",
     "status": "completed"
    },
    "tags": []
   },
   "source": [
    "# 5. Adding Players onto the Field"
   ]
  },
  {
   "cell_type": "code",
   "execution_count": 47,
   "id": "fc2f77c2",
   "metadata": {
    "execution": {
     "iopub.execute_input": "2021-07-15T14:55:40.945682Z",
     "iopub.status.busy": "2021-07-15T14:55:40.944676Z",
     "iopub.status.idle": "2021-07-15T14:55:45.636921Z",
     "shell.execute_reply": "2021-07-15T14:55:45.637446Z",
     "shell.execute_reply.started": "2021-07-15T14:47:57.959305Z"
    },
    "papermill": {
     "duration": 4.792183,
     "end_time": "2021-07-15T14:55:45.637645",
     "exception": false,
     "start_time": "2021-07-15T14:55:40.845462",
     "status": "completed"
    },
    "tags": []
   },
   "outputs": [],
   "source": [
    "df = pd.read_csv(\"C:/Users/DELL/OneDrive/Desktop/Sports Analytics/week_data.csv\")"
   ]
  },
  {
   "cell_type": "code",
   "execution_count": 48,
   "id": "88d81f3e",
   "metadata": {
    "execution": {
     "iopub.execute_input": "2021-07-15T14:55:45.858270Z",
     "iopub.status.busy": "2021-07-15T14:55:45.857265Z",
     "iopub.status.idle": "2021-07-15T14:55:45.861896Z",
     "shell.execute_reply": "2021-07-15T14:55:45.861074Z",
     "shell.execute_reply.started": "2021-07-15T14:48:05.798694Z"
    },
    "papermill": {
     "duration": 0.126105,
     "end_time": "2021-07-15T14:55:45.862060",
     "exception": false,
     "start_time": "2021-07-15T14:55:45.735955",
     "status": "completed"
    },
    "tags": []
   },
   "outputs": [
    {
     "data": {
      "text/html": [
       "<div>\n",
       "<style scoped>\n",
       "    .dataframe tbody tr th:only-of-type {\n",
       "        vertical-align: middle;\n",
       "    }\n",
       "\n",
       "    .dataframe tbody tr th {\n",
       "        vertical-align: top;\n",
       "    }\n",
       "\n",
       "    .dataframe thead th {\n",
       "        text-align: right;\n",
       "    }\n",
       "</style>\n",
       "<table border=\"1\" class=\"dataframe\">\n",
       "  <thead>\n",
       "    <tr style=\"text-align: right;\">\n",
       "      <th></th>\n",
       "      <th>time</th>\n",
       "      <th>x</th>\n",
       "      <th>y</th>\n",
       "      <th>s</th>\n",
       "      <th>a</th>\n",
       "      <th>dis</th>\n",
       "      <th>o</th>\n",
       "      <th>dir</th>\n",
       "      <th>event</th>\n",
       "      <th>nflId</th>\n",
       "      <th>displayName</th>\n",
       "      <th>jerseyNumber</th>\n",
       "      <th>position</th>\n",
       "      <th>frameId</th>\n",
       "      <th>team</th>\n",
       "      <th>gameId</th>\n",
       "      <th>playId</th>\n",
       "      <th>playDirection</th>\n",
       "      <th>route</th>\n",
       "    </tr>\n",
       "  </thead>\n",
       "  <tbody>\n",
       "    <tr>\n",
       "      <th>0</th>\n",
       "      <td>2018-11-16T01:24:15.799Z</td>\n",
       "      <td>77.97</td>\n",
       "      <td>18.61</td>\n",
       "      <td>0.00</td>\n",
       "      <td>0.00</td>\n",
       "      <td>0.00</td>\n",
       "      <td>109.88</td>\n",
       "      <td>289.98</td>\n",
       "      <td>None</td>\n",
       "      <td>497236.0</td>\n",
       "      <td>Jimmy Graham</td>\n",
       "      <td>80.0</td>\n",
       "      <td>TE</td>\n",
       "      <td>1</td>\n",
       "      <td>away</td>\n",
       "      <td>2018111500</td>\n",
       "      <td>90</td>\n",
       "      <td>right</td>\n",
       "      <td>CROSS</td>\n",
       "    </tr>\n",
       "    <tr>\n",
       "      <th>1</th>\n",
       "      <td>2018-11-16T01:24:15.799Z</td>\n",
       "      <td>79.41</td>\n",
       "      <td>23.71</td>\n",
       "      <td>0.00</td>\n",
       "      <td>0.00</td>\n",
       "      <td>0.00</td>\n",
       "      <td>90.31</td>\n",
       "      <td>159.68</td>\n",
       "      <td>None</td>\n",
       "      <td>2506363.0</td>\n",
       "      <td>Aaron Rodgers</td>\n",
       "      <td>12.0</td>\n",
       "      <td>QB</td>\n",
       "      <td>1</td>\n",
       "      <td>away</td>\n",
       "      <td>2018111500</td>\n",
       "      <td>90</td>\n",
       "      <td>right</td>\n",
       "      <td>NaN</td>\n",
       "    </tr>\n",
       "    <tr>\n",
       "      <th>2</th>\n",
       "      <td>2018-11-16T01:24:15.799Z</td>\n",
       "      <td>85.05</td>\n",
       "      <td>22.71</td>\n",
       "      <td>0.00</td>\n",
       "      <td>0.00</td>\n",
       "      <td>0.00</td>\n",
       "      <td>288.53</td>\n",
       "      <td>141.92</td>\n",
       "      <td>None</td>\n",
       "      <td>2532966.0</td>\n",
       "      <td>Bobby Wagner</td>\n",
       "      <td>54.0</td>\n",
       "      <td>MLB</td>\n",
       "      <td>1</td>\n",
       "      <td>home</td>\n",
       "      <td>2018111500</td>\n",
       "      <td>90</td>\n",
       "      <td>right</td>\n",
       "      <td>NaN</td>\n",
       "    </tr>\n",
       "    <tr>\n",
       "      <th>3</th>\n",
       "      <td>2018-11-16T01:24:15.799Z</td>\n",
       "      <td>84.81</td>\n",
       "      <td>17.84</td>\n",
       "      <td>0.01</td>\n",
       "      <td>0.01</td>\n",
       "      <td>0.01</td>\n",
       "      <td>283.13</td>\n",
       "      <td>295.48</td>\n",
       "      <td>None</td>\n",
       "      <td>2539243.0</td>\n",
       "      <td>Bradley McDougald</td>\n",
       "      <td>30.0</td>\n",
       "      <td>SS</td>\n",
       "      <td>1</td>\n",
       "      <td>home</td>\n",
       "      <td>2018111500</td>\n",
       "      <td>90</td>\n",
       "      <td>right</td>\n",
       "      <td>NaN</td>\n",
       "    </tr>\n",
       "    <tr>\n",
       "      <th>4</th>\n",
       "      <td>2018-11-16T01:24:15.799Z</td>\n",
       "      <td>85.35</td>\n",
       "      <td>27.05</td>\n",
       "      <td>0.00</td>\n",
       "      <td>0.00</td>\n",
       "      <td>0.00</td>\n",
       "      <td>251.12</td>\n",
       "      <td>350.19</td>\n",
       "      <td>None</td>\n",
       "      <td>2540140.0</td>\n",
       "      <td>Barkevious Mingo</td>\n",
       "      <td>51.0</td>\n",
       "      <td>OLB</td>\n",
       "      <td>1</td>\n",
       "      <td>home</td>\n",
       "      <td>2018111500</td>\n",
       "      <td>90</td>\n",
       "      <td>right</td>\n",
       "      <td>NaN</td>\n",
       "    </tr>\n",
       "  </tbody>\n",
       "</table>\n",
       "</div>"
      ],
      "text/plain": [
       "                       time      x      y     s     a   dis       o     dir  \\\n",
       "0  2018-11-16T01:24:15.799Z  77.97  18.61  0.00  0.00  0.00  109.88  289.98   \n",
       "1  2018-11-16T01:24:15.799Z  79.41  23.71  0.00  0.00  0.00   90.31  159.68   \n",
       "2  2018-11-16T01:24:15.799Z  85.05  22.71  0.00  0.00  0.00  288.53  141.92   \n",
       "3  2018-11-16T01:24:15.799Z  84.81  17.84  0.01  0.01  0.01  283.13  295.48   \n",
       "4  2018-11-16T01:24:15.799Z  85.35  27.05  0.00  0.00  0.00  251.12  350.19   \n",
       "\n",
       "  event      nflId        displayName  jerseyNumber position  frameId  team  \\\n",
       "0  None   497236.0       Jimmy Graham          80.0       TE        1  away   \n",
       "1  None  2506363.0      Aaron Rodgers          12.0       QB        1  away   \n",
       "2  None  2532966.0       Bobby Wagner          54.0      MLB        1  home   \n",
       "3  None  2539243.0  Bradley McDougald          30.0       SS        1  home   \n",
       "4  None  2540140.0   Barkevious Mingo          51.0      OLB        1  home   \n",
       "\n",
       "       gameId  playId playDirection  route  \n",
       "0  2018111500      90         right  CROSS  \n",
       "1  2018111500      90         right    NaN  \n",
       "2  2018111500      90         right    NaN  \n",
       "3  2018111500      90         right    NaN  \n",
       "4  2018111500      90         right    NaN  "
      ]
     },
     "execution_count": 48,
     "metadata": {},
     "output_type": "execute_result"
    }
   ],
   "source": [
    " df.head()"
   ]
  },
  {
   "cell_type": "code",
   "execution_count": 49,
   "id": "ca38b3cf",
   "metadata": {
    "execution": {
     "iopub.execute_input": "2021-07-15T14:55:46.063093Z",
     "iopub.status.busy": "2021-07-15T14:55:46.062177Z",
     "iopub.status.idle": "2021-07-15T14:55:46.066498Z",
     "shell.execute_reply": "2021-07-15T14:55:46.066947Z",
     "shell.execute_reply.started": "2021-07-15T14:48:14.447535Z"
    },
    "papermill": {
     "duration": 0.106591,
     "end_time": "2021-07-15T14:55:46.067138",
     "exception": false,
     "start_time": "2021-07-15T14:55:45.960547",
     "status": "completed"
    },
    "tags": []
   },
   "outputs": [
    {
     "data": {
      "text/plain": [
       "(932240, 19)"
      ]
     },
     "execution_count": 49,
     "metadata": {},
     "output_type": "execute_result"
    }
   ],
   "source": [
    "df.shape"
   ]
  },
  {
   "cell_type": "markdown",
   "id": "6e0dc82f",
   "metadata": {
    "papermill": {
     "duration": 0.096421,
     "end_time": "2021-07-15T14:55:46.261502",
     "exception": false,
     "start_time": "2021-07-15T14:55:46.165081",
     "status": "completed"
    },
    "tags": []
   },
   "source": [
    "**Since the time is in an improper format for analysis, let us convert it to datetime.**"
   ]
  },
  {
   "cell_type": "code",
   "execution_count": 50,
   "id": "624d700d",
   "metadata": {
    "execution": {
     "iopub.execute_input": "2021-07-15T14:55:46.516306Z",
     "iopub.status.busy": "2021-07-15T14:55:46.515510Z",
     "iopub.status.idle": "2021-07-15T14:55:47.409453Z",
     "shell.execute_reply": "2021-07-15T14:55:47.408904Z",
     "shell.execute_reply.started": "2021-07-15T14:48:34.329073Z"
    },
    "papermill": {
     "duration": 1.05206,
     "end_time": "2021-07-15T14:55:47.409606",
     "exception": false,
     "start_time": "2021-07-15T14:55:46.357546",
     "status": "completed"
    },
    "tags": []
   },
   "outputs": [
    {
     "data": {
      "text/html": [
       "<div>\n",
       "<style scoped>\n",
       "    .dataframe tbody tr th:only-of-type {\n",
       "        vertical-align: middle;\n",
       "    }\n",
       "\n",
       "    .dataframe tbody tr th {\n",
       "        vertical-align: top;\n",
       "    }\n",
       "\n",
       "    .dataframe thead th {\n",
       "        text-align: right;\n",
       "    }\n",
       "</style>\n",
       "<table border=\"1\" class=\"dataframe\">\n",
       "  <thead>\n",
       "    <tr style=\"text-align: right;\">\n",
       "      <th></th>\n",
       "      <th>time</th>\n",
       "      <th>x</th>\n",
       "      <th>y</th>\n",
       "      <th>s</th>\n",
       "      <th>a</th>\n",
       "      <th>dis</th>\n",
       "      <th>o</th>\n",
       "      <th>dir</th>\n",
       "      <th>event</th>\n",
       "      <th>nflId</th>\n",
       "      <th>displayName</th>\n",
       "      <th>jerseyNumber</th>\n",
       "      <th>position</th>\n",
       "      <th>frameId</th>\n",
       "      <th>team</th>\n",
       "      <th>gameId</th>\n",
       "      <th>playId</th>\n",
       "      <th>playDirection</th>\n",
       "      <th>route</th>\n",
       "    </tr>\n",
       "  </thead>\n",
       "  <tbody>\n",
       "    <tr>\n",
       "      <th>0</th>\n",
       "      <td>01:24:15.799000</td>\n",
       "      <td>77.97</td>\n",
       "      <td>18.61</td>\n",
       "      <td>0.00</td>\n",
       "      <td>0.00</td>\n",
       "      <td>0.00</td>\n",
       "      <td>109.88</td>\n",
       "      <td>289.98</td>\n",
       "      <td>None</td>\n",
       "      <td>497236.0</td>\n",
       "      <td>Jimmy Graham</td>\n",
       "      <td>80.0</td>\n",
       "      <td>TE</td>\n",
       "      <td>1</td>\n",
       "      <td>away</td>\n",
       "      <td>2018111500</td>\n",
       "      <td>90</td>\n",
       "      <td>right</td>\n",
       "      <td>CROSS</td>\n",
       "    </tr>\n",
       "    <tr>\n",
       "      <th>1</th>\n",
       "      <td>01:24:15.799000</td>\n",
       "      <td>79.41</td>\n",
       "      <td>23.71</td>\n",
       "      <td>0.00</td>\n",
       "      <td>0.00</td>\n",
       "      <td>0.00</td>\n",
       "      <td>90.31</td>\n",
       "      <td>159.68</td>\n",
       "      <td>None</td>\n",
       "      <td>2506363.0</td>\n",
       "      <td>Aaron Rodgers</td>\n",
       "      <td>12.0</td>\n",
       "      <td>QB</td>\n",
       "      <td>1</td>\n",
       "      <td>away</td>\n",
       "      <td>2018111500</td>\n",
       "      <td>90</td>\n",
       "      <td>right</td>\n",
       "      <td>NaN</td>\n",
       "    </tr>\n",
       "    <tr>\n",
       "      <th>2</th>\n",
       "      <td>01:24:15.799000</td>\n",
       "      <td>85.05</td>\n",
       "      <td>22.71</td>\n",
       "      <td>0.00</td>\n",
       "      <td>0.00</td>\n",
       "      <td>0.00</td>\n",
       "      <td>288.53</td>\n",
       "      <td>141.92</td>\n",
       "      <td>None</td>\n",
       "      <td>2532966.0</td>\n",
       "      <td>Bobby Wagner</td>\n",
       "      <td>54.0</td>\n",
       "      <td>MLB</td>\n",
       "      <td>1</td>\n",
       "      <td>home</td>\n",
       "      <td>2018111500</td>\n",
       "      <td>90</td>\n",
       "      <td>right</td>\n",
       "      <td>NaN</td>\n",
       "    </tr>\n",
       "    <tr>\n",
       "      <th>3</th>\n",
       "      <td>01:24:15.799000</td>\n",
       "      <td>84.81</td>\n",
       "      <td>17.84</td>\n",
       "      <td>0.01</td>\n",
       "      <td>0.01</td>\n",
       "      <td>0.01</td>\n",
       "      <td>283.13</td>\n",
       "      <td>295.48</td>\n",
       "      <td>None</td>\n",
       "      <td>2539243.0</td>\n",
       "      <td>Bradley McDougald</td>\n",
       "      <td>30.0</td>\n",
       "      <td>SS</td>\n",
       "      <td>1</td>\n",
       "      <td>home</td>\n",
       "      <td>2018111500</td>\n",
       "      <td>90</td>\n",
       "      <td>right</td>\n",
       "      <td>NaN</td>\n",
       "    </tr>\n",
       "    <tr>\n",
       "      <th>4</th>\n",
       "      <td>01:24:15.799000</td>\n",
       "      <td>85.35</td>\n",
       "      <td>27.05</td>\n",
       "      <td>0.00</td>\n",
       "      <td>0.00</td>\n",
       "      <td>0.00</td>\n",
       "      <td>251.12</td>\n",
       "      <td>350.19</td>\n",
       "      <td>None</td>\n",
       "      <td>2540140.0</td>\n",
       "      <td>Barkevious Mingo</td>\n",
       "      <td>51.0</td>\n",
       "      <td>OLB</td>\n",
       "      <td>1</td>\n",
       "      <td>home</td>\n",
       "      <td>2018111500</td>\n",
       "      <td>90</td>\n",
       "      <td>right</td>\n",
       "      <td>NaN</td>\n",
       "    </tr>\n",
       "  </tbody>\n",
       "</table>\n",
       "</div>"
      ],
      "text/plain": [
       "              time      x      y     s     a   dis       o     dir event  \\\n",
       "0  01:24:15.799000  77.97  18.61  0.00  0.00  0.00  109.88  289.98  None   \n",
       "1  01:24:15.799000  79.41  23.71  0.00  0.00  0.00   90.31  159.68  None   \n",
       "2  01:24:15.799000  85.05  22.71  0.00  0.00  0.00  288.53  141.92  None   \n",
       "3  01:24:15.799000  84.81  17.84  0.01  0.01  0.01  283.13  295.48  None   \n",
       "4  01:24:15.799000  85.35  27.05  0.00  0.00  0.00  251.12  350.19  None   \n",
       "\n",
       "       nflId        displayName  jerseyNumber position  frameId  team  \\\n",
       "0   497236.0       Jimmy Graham          80.0       TE        1  away   \n",
       "1  2506363.0      Aaron Rodgers          12.0       QB        1  away   \n",
       "2  2532966.0       Bobby Wagner          54.0      MLB        1  home   \n",
       "3  2539243.0  Bradley McDougald          30.0       SS        1  home   \n",
       "4  2540140.0   Barkevious Mingo          51.0      OLB        1  home   \n",
       "\n",
       "       gameId  playId playDirection  route  \n",
       "0  2018111500      90         right  CROSS  \n",
       "1  2018111500      90         right    NaN  \n",
       "2  2018111500      90         right    NaN  \n",
       "3  2018111500      90         right    NaN  \n",
       "4  2018111500      90         right    NaN  "
      ]
     },
     "execution_count": 50,
     "metadata": {},
     "output_type": "execute_result"
    }
   ],
   "source": [
    "df['time'] = pd.to_datetime(df['time']).dt.time\n",
    "df.head()"
   ]
  },
  {
   "cell_type": "markdown",
   "id": "dbb1dbbf",
   "metadata": {
    "papermill": {
     "duration": 0.09864,
     "end_time": "2021-07-15T14:55:47.606507",
     "exception": false,
     "start_time": "2021-07-15T14:55:47.507867",
     "status": "completed"
    },
    "tags": []
   },
   "source": [
    "**We would want to analyze each game by the passage of time, so let us sort the values to be ascending.**"
   ]
  },
  {
   "cell_type": "code",
   "execution_count": 51,
   "id": "d474b202",
   "metadata": {
    "execution": {
     "iopub.execute_input": "2021-07-15T14:55:47.897859Z",
     "iopub.status.busy": "2021-07-15T14:55:47.896036Z",
     "iopub.status.idle": "2021-07-15T14:55:49.580059Z",
     "shell.execute_reply": "2021-07-15T14:55:49.579418Z",
     "shell.execute_reply.started": "2021-07-15T14:48:53.007069Z"
    },
    "papermill": {
     "duration": 1.875063,
     "end_time": "2021-07-15T14:55:49.580222",
     "exception": false,
     "start_time": "2021-07-15T14:55:47.705159",
     "status": "completed"
    },
    "tags": []
   },
   "outputs": [
    {
     "data": {
      "text/html": [
       "<div>\n",
       "<style scoped>\n",
       "    .dataframe tbody tr th:only-of-type {\n",
       "        vertical-align: middle;\n",
       "    }\n",
       "\n",
       "    .dataframe tbody tr th {\n",
       "        vertical-align: top;\n",
       "    }\n",
       "\n",
       "    .dataframe thead th {\n",
       "        text-align: right;\n",
       "    }\n",
       "</style>\n",
       "<table border=\"1\" class=\"dataframe\">\n",
       "  <thead>\n",
       "    <tr style=\"text-align: right;\">\n",
       "      <th></th>\n",
       "      <th>time</th>\n",
       "      <th>x</th>\n",
       "      <th>y</th>\n",
       "      <th>s</th>\n",
       "      <th>a</th>\n",
       "      <th>dis</th>\n",
       "      <th>o</th>\n",
       "      <th>dir</th>\n",
       "      <th>event</th>\n",
       "      <th>nflId</th>\n",
       "      <th>displayName</th>\n",
       "      <th>jerseyNumber</th>\n",
       "      <th>position</th>\n",
       "      <th>frameId</th>\n",
       "      <th>team</th>\n",
       "      <th>gameId</th>\n",
       "      <th>playId</th>\n",
       "      <th>playDirection</th>\n",
       "      <th>route</th>\n",
       "    </tr>\n",
       "  </thead>\n",
       "  <tbody>\n",
       "    <tr>\n",
       "      <th>0</th>\n",
       "      <td>00:00:38.500000</td>\n",
       "      <td>86.80</td>\n",
       "      <td>44.97</td>\n",
       "      <td>0.01</td>\n",
       "      <td>0.01</td>\n",
       "      <td>0.01</td>\n",
       "      <td>265.98</td>\n",
       "      <td>318.85</td>\n",
       "      <td>None</td>\n",
       "      <td>2552600.0</td>\n",
       "      <td>Nelson Agholor</td>\n",
       "      <td>13.0</td>\n",
       "      <td>WR</td>\n",
       "      <td>1</td>\n",
       "      <td>away</td>\n",
       "      <td>2018111809</td>\n",
       "      <td>3294</td>\n",
       "      <td>left</td>\n",
       "      <td>GO</td>\n",
       "    </tr>\n",
       "    <tr>\n",
       "      <th>1</th>\n",
       "      <td>00:00:38.500000</td>\n",
       "      <td>80.39</td>\n",
       "      <td>37.16</td>\n",
       "      <td>0.08</td>\n",
       "      <td>0.23</td>\n",
       "      <td>0.01</td>\n",
       "      <td>89.72</td>\n",
       "      <td>339.97</td>\n",
       "      <td>None</td>\n",
       "      <td>2552484.0</td>\n",
       "      <td>P.J. Williams</td>\n",
       "      <td>26.0</td>\n",
       "      <td>CB</td>\n",
       "      <td>1</td>\n",
       "      <td>home</td>\n",
       "      <td>2018111809</td>\n",
       "      <td>3294</td>\n",
       "      <td>left</td>\n",
       "      <td>NaN</td>\n",
       "    </tr>\n",
       "    <tr>\n",
       "      <th>2</th>\n",
       "      <td>00:00:38.500000</td>\n",
       "      <td>86.34</td>\n",
       "      <td>36.31</td>\n",
       "      <td>0.00</td>\n",
       "      <td>0.00</td>\n",
       "      <td>0.00</td>\n",
       "      <td>285.81</td>\n",
       "      <td>269.36</td>\n",
       "      <td>None</td>\n",
       "      <td>497326.0</td>\n",
       "      <td>Golden Tate</td>\n",
       "      <td>19.0</td>\n",
       "      <td>WR</td>\n",
       "      <td>1</td>\n",
       "      <td>away</td>\n",
       "      <td>2018111809</td>\n",
       "      <td>3294</td>\n",
       "      <td>left</td>\n",
       "      <td>SCREEN</td>\n",
       "    </tr>\n",
       "    <tr>\n",
       "      <th>3</th>\n",
       "      <td>00:00:38.500000</td>\n",
       "      <td>85.10</td>\n",
       "      <td>23.74</td>\n",
       "      <td>0.00</td>\n",
       "      <td>0.00</td>\n",
       "      <td>0.00</td>\n",
       "      <td>NaN</td>\n",
       "      <td>NaN</td>\n",
       "      <td>None</td>\n",
       "      <td>NaN</td>\n",
       "      <td>Football</td>\n",
       "      <td>NaN</td>\n",
       "      <td>NaN</td>\n",
       "      <td>1</td>\n",
       "      <td>football</td>\n",
       "      <td>2018111809</td>\n",
       "      <td>3294</td>\n",
       "      <td>left</td>\n",
       "      <td>NaN</td>\n",
       "    </tr>\n",
       "    <tr>\n",
       "      <th>4</th>\n",
       "      <td>00:00:38.500000</td>\n",
       "      <td>86.82</td>\n",
       "      <td>7.17</td>\n",
       "      <td>0.03</td>\n",
       "      <td>0.02</td>\n",
       "      <td>0.01</td>\n",
       "      <td>263.02</td>\n",
       "      <td>288.96</td>\n",
       "      <td>None</td>\n",
       "      <td>2560949.0</td>\n",
       "      <td>Josh Adams</td>\n",
       "      <td>33.0</td>\n",
       "      <td>RB</td>\n",
       "      <td>1</td>\n",
       "      <td>away</td>\n",
       "      <td>2018111809</td>\n",
       "      <td>3294</td>\n",
       "      <td>left</td>\n",
       "      <td>GO</td>\n",
       "    </tr>\n",
       "  </tbody>\n",
       "</table>\n",
       "</div>"
      ],
      "text/plain": [
       "              time      x      y     s     a   dis       o     dir event  \\\n",
       "0  00:00:38.500000  86.80  44.97  0.01  0.01  0.01  265.98  318.85  None   \n",
       "1  00:00:38.500000  80.39  37.16  0.08  0.23  0.01   89.72  339.97  None   \n",
       "2  00:00:38.500000  86.34  36.31  0.00  0.00  0.00  285.81  269.36  None   \n",
       "3  00:00:38.500000  85.10  23.74  0.00  0.00  0.00     NaN     NaN  None   \n",
       "4  00:00:38.500000  86.82   7.17  0.03  0.02  0.01  263.02  288.96  None   \n",
       "\n",
       "       nflId     displayName  jerseyNumber position  frameId      team  \\\n",
       "0  2552600.0  Nelson Agholor          13.0       WR        1      away   \n",
       "1  2552484.0   P.J. Williams          26.0       CB        1      home   \n",
       "2   497326.0     Golden Tate          19.0       WR        1      away   \n",
       "3        NaN        Football           NaN      NaN        1  football   \n",
       "4  2560949.0      Josh Adams          33.0       RB        1      away   \n",
       "\n",
       "       gameId  playId playDirection   route  \n",
       "0  2018111809    3294          left      GO  \n",
       "1  2018111809    3294          left     NaN  \n",
       "2  2018111809    3294          left  SCREEN  \n",
       "3  2018111809    3294          left     NaN  \n",
       "4  2018111809    3294          left      GO  "
      ]
     },
     "execution_count": 51,
     "metadata": {},
     "output_type": "execute_result"
    }
   ],
   "source": [
    "df = df.sort_values(by='time', ascending=True).reset_index(drop=True)\n",
    "df.head()"
   ]
  },
  {
   "cell_type": "markdown",
   "id": "c6a24968",
   "metadata": {
    "papermill": {
     "duration": 0.09877,
     "end_time": "2021-07-15T14:55:49.776846",
     "exception": false,
     "start_time": "2021-07-15T14:55:49.678076",
     "status": "completed"
    },
    "tags": []
   },
   "source": [
    "**Let us select a specific gameId and playID to visualize the player positions within a specific game and play.**"
   ]
  },
  {
   "cell_type": "code",
   "execution_count": 52,
   "id": "1781bc3f",
   "metadata": {
    "execution": {
     "iopub.execute_input": "2021-07-15T14:55:49.975956Z",
     "iopub.status.busy": "2021-07-15T14:55:49.975331Z",
     "iopub.status.idle": "2021-07-15T14:55:50.035023Z",
     "shell.execute_reply": "2021-07-15T14:55:50.035565Z",
     "shell.execute_reply.started": "2021-07-15T14:49:16.456277Z"
    },
    "papermill": {
     "duration": 0.161796,
     "end_time": "2021-07-15T14:55:50.035746",
     "exception": false,
     "start_time": "2021-07-15T14:55:49.873950",
     "status": "completed"
    },
    "tags": []
   },
   "outputs": [
    {
     "name": "stdout",
     "output_type": "stream",
     "text": [
      "The shape of the DataFrame is: (1770, 19)\n"
     ]
    },
    {
     "data": {
      "text/html": [
       "<div>\n",
       "<style scoped>\n",
       "    .dataframe tbody tr th:only-of-type {\n",
       "        vertical-align: middle;\n",
       "    }\n",
       "\n",
       "    .dataframe tbody tr th {\n",
       "        vertical-align: top;\n",
       "    }\n",
       "\n",
       "    .dataframe thead th {\n",
       "        text-align: right;\n",
       "    }\n",
       "</style>\n",
       "<table border=\"1\" class=\"dataframe\">\n",
       "  <thead>\n",
       "    <tr style=\"text-align: right;\">\n",
       "      <th></th>\n",
       "      <th>time</th>\n",
       "      <th>x</th>\n",
       "      <th>y</th>\n",
       "      <th>s</th>\n",
       "      <th>a</th>\n",
       "      <th>dis</th>\n",
       "      <th>o</th>\n",
       "      <th>dir</th>\n",
       "      <th>event</th>\n",
       "      <th>nflId</th>\n",
       "      <th>displayName</th>\n",
       "      <th>jerseyNumber</th>\n",
       "      <th>position</th>\n",
       "      <th>frameId</th>\n",
       "      <th>team</th>\n",
       "      <th>gameId</th>\n",
       "      <th>playId</th>\n",
       "      <th>playDirection</th>\n",
       "      <th>route</th>\n",
       "    </tr>\n",
       "  </thead>\n",
       "  <tbody>\n",
       "    <tr>\n",
       "      <th>282518</th>\n",
       "      <td>04:57:48</td>\n",
       "      <td>84.26</td>\n",
       "      <td>23.74</td>\n",
       "      <td>0.00</td>\n",
       "      <td>0.00</td>\n",
       "      <td>0.00</td>\n",
       "      <td>NaN</td>\n",
       "      <td>NaN</td>\n",
       "      <td>None</td>\n",
       "      <td>NaN</td>\n",
       "      <td>Football</td>\n",
       "      <td>NaN</td>\n",
       "      <td>NaN</td>\n",
       "      <td>1</td>\n",
       "      <td>football</td>\n",
       "      <td>2018111900</td>\n",
       "      <td>5577</td>\n",
       "      <td>left</td>\n",
       "      <td>NaN</td>\n",
       "    </tr>\n",
       "    <tr>\n",
       "      <th>282519</th>\n",
       "      <td>04:57:48</td>\n",
       "      <td>83.26</td>\n",
       "      <td>29.86</td>\n",
       "      <td>0.00</td>\n",
       "      <td>0.00</td>\n",
       "      <td>0.00</td>\n",
       "      <td>64.10</td>\n",
       "      <td>79.64</td>\n",
       "      <td>None</td>\n",
       "      <td>2558830.0</td>\n",
       "      <td>Samson Ebukam</td>\n",
       "      <td>50.0</td>\n",
       "      <td>OLB</td>\n",
       "      <td>1</td>\n",
       "      <td>home</td>\n",
       "      <td>2018111900</td>\n",
       "      <td>5577</td>\n",
       "      <td>left</td>\n",
       "      <td>NaN</td>\n",
       "    </tr>\n",
       "    <tr>\n",
       "      <th>282520</th>\n",
       "      <td>04:57:48</td>\n",
       "      <td>63.54</td>\n",
       "      <td>18.25</td>\n",
       "      <td>0.07</td>\n",
       "      <td>0.76</td>\n",
       "      <td>0.01</td>\n",
       "      <td>67.33</td>\n",
       "      <td>3.53</td>\n",
       "      <td>None</td>\n",
       "      <td>2558183.0</td>\n",
       "      <td>John Johnson</td>\n",
       "      <td>43.0</td>\n",
       "      <td>SS</td>\n",
       "      <td>1</td>\n",
       "      <td>home</td>\n",
       "      <td>2018111900</td>\n",
       "      <td>5577</td>\n",
       "      <td>left</td>\n",
       "      <td>NaN</td>\n",
       "    </tr>\n",
       "    <tr>\n",
       "      <th>282521</th>\n",
       "      <td>04:57:48</td>\n",
       "      <td>88.42</td>\n",
       "      <td>23.54</td>\n",
       "      <td>0.11</td>\n",
       "      <td>0.04</td>\n",
       "      <td>0.01</td>\n",
       "      <td>272.66</td>\n",
       "      <td>325.11</td>\n",
       "      <td>None</td>\n",
       "      <td>2558125.0</td>\n",
       "      <td>Patrick Mahomes</td>\n",
       "      <td>15.0</td>\n",
       "      <td>QB</td>\n",
       "      <td>1</td>\n",
       "      <td>away</td>\n",
       "      <td>2018111900</td>\n",
       "      <td>5577</td>\n",
       "      <td>left</td>\n",
       "      <td>NaN</td>\n",
       "    </tr>\n",
       "    <tr>\n",
       "      <th>282522</th>\n",
       "      <td>04:57:48</td>\n",
       "      <td>79.76</td>\n",
       "      <td>26.36</td>\n",
       "      <td>0.01</td>\n",
       "      <td>0.01</td>\n",
       "      <td>0.00</td>\n",
       "      <td>105.22</td>\n",
       "      <td>4.91</td>\n",
       "      <td>None</td>\n",
       "      <td>2556593.0</td>\n",
       "      <td>Cory Littleton</td>\n",
       "      <td>58.0</td>\n",
       "      <td>ILB</td>\n",
       "      <td>1</td>\n",
       "      <td>home</td>\n",
       "      <td>2018111900</td>\n",
       "      <td>5577</td>\n",
       "      <td>left</td>\n",
       "      <td>NaN</td>\n",
       "    </tr>\n",
       "    <tr>\n",
       "      <th>...</th>\n",
       "      <td>...</td>\n",
       "      <td>...</td>\n",
       "      <td>...</td>\n",
       "      <td>...</td>\n",
       "      <td>...</td>\n",
       "      <td>...</td>\n",
       "      <td>...</td>\n",
       "      <td>...</td>\n",
       "      <td>...</td>\n",
       "      <td>...</td>\n",
       "      <td>...</td>\n",
       "      <td>...</td>\n",
       "      <td>...</td>\n",
       "      <td>...</td>\n",
       "      <td>...</td>\n",
       "      <td>...</td>\n",
       "      <td>...</td>\n",
       "      <td>...</td>\n",
       "      <td>...</td>\n",
       "    </tr>\n",
       "    <tr>\n",
       "      <th>284283</th>\n",
       "      <td>04:57:59.700000</td>\n",
       "      <td>60.25</td>\n",
       "      <td>29.51</td>\n",
       "      <td>6.40</td>\n",
       "      <td>2.21</td>\n",
       "      <td>0.65</td>\n",
       "      <td>314.31</td>\n",
       "      <td>294.95</td>\n",
       "      <td>None</td>\n",
       "      <td>2540204.0</td>\n",
       "      <td>Spencer Ware</td>\n",
       "      <td>32.0</td>\n",
       "      <td>RB</td>\n",
       "      <td>118</td>\n",
       "      <td>away</td>\n",
       "      <td>2018111900</td>\n",
       "      <td>5577</td>\n",
       "      <td>left</td>\n",
       "      <td>FLAT</td>\n",
       "    </tr>\n",
       "    <tr>\n",
       "      <th>284284</th>\n",
       "      <td>04:57:59.700000</td>\n",
       "      <td>63.23</td>\n",
       "      <td>45.92</td>\n",
       "      <td>3.81</td>\n",
       "      <td>1.20</td>\n",
       "      <td>0.37</td>\n",
       "      <td>257.27</td>\n",
       "      <td>262.77</td>\n",
       "      <td>None</td>\n",
       "      <td>1037374.0</td>\n",
       "      <td>Sam Shields</td>\n",
       "      <td>37.0</td>\n",
       "      <td>CB</td>\n",
       "      <td>118</td>\n",
       "      <td>home</td>\n",
       "      <td>2018111900</td>\n",
       "      <td>5577</td>\n",
       "      <td>left</td>\n",
       "      <td>NaN</td>\n",
       "    </tr>\n",
       "    <tr>\n",
       "      <th>284285</th>\n",
       "      <td>04:57:59.700000</td>\n",
       "      <td>52.42</td>\n",
       "      <td>49.74</td>\n",
       "      <td>3.74</td>\n",
       "      <td>1.48</td>\n",
       "      <td>0.38</td>\n",
       "      <td>12.75</td>\n",
       "      <td>290.79</td>\n",
       "      <td>None</td>\n",
       "      <td>2553536.0</td>\n",
       "      <td>Troy Hill</td>\n",
       "      <td>32.0</td>\n",
       "      <td>CB</td>\n",
       "      <td>118</td>\n",
       "      <td>home</td>\n",
       "      <td>2018111900</td>\n",
       "      <td>5577</td>\n",
       "      <td>left</td>\n",
       "      <td>NaN</td>\n",
       "    </tr>\n",
       "    <tr>\n",
       "      <th>284286</th>\n",
       "      <td>04:57:59.700000</td>\n",
       "      <td>84.26</td>\n",
       "      <td>28.11</td>\n",
       "      <td>1.73</td>\n",
       "      <td>0.54</td>\n",
       "      <td>0.17</td>\n",
       "      <td>260.29</td>\n",
       "      <td>249.13</td>\n",
       "      <td>None</td>\n",
       "      <td>2558830.0</td>\n",
       "      <td>Samson Ebukam</td>\n",
       "      <td>50.0</td>\n",
       "      <td>OLB</td>\n",
       "      <td>118</td>\n",
       "      <td>home</td>\n",
       "      <td>2018111900</td>\n",
       "      <td>5577</td>\n",
       "      <td>left</td>\n",
       "      <td>NaN</td>\n",
       "    </tr>\n",
       "    <tr>\n",
       "      <th>284287</th>\n",
       "      <td>04:57:59.700000</td>\n",
       "      <td>42.19</td>\n",
       "      <td>41.24</td>\n",
       "      <td>2.05</td>\n",
       "      <td>4.00</td>\n",
       "      <td>0.23</td>\n",
       "      <td>NaN</td>\n",
       "      <td>NaN</td>\n",
       "      <td>None</td>\n",
       "      <td>NaN</td>\n",
       "      <td>Football</td>\n",
       "      <td>NaN</td>\n",
       "      <td>NaN</td>\n",
       "      <td>118</td>\n",
       "      <td>football</td>\n",
       "      <td>2018111900</td>\n",
       "      <td>5577</td>\n",
       "      <td>left</td>\n",
       "      <td>NaN</td>\n",
       "    </tr>\n",
       "  </tbody>\n",
       "</table>\n",
       "<p>1770 rows × 19 columns</p>\n",
       "</div>"
      ],
      "text/plain": [
       "                   time      x      y     s     a   dis       o     dir event  \\\n",
       "282518         04:57:48  84.26  23.74  0.00  0.00  0.00     NaN     NaN  None   \n",
       "282519         04:57:48  83.26  29.86  0.00  0.00  0.00   64.10   79.64  None   \n",
       "282520         04:57:48  63.54  18.25  0.07  0.76  0.01   67.33    3.53  None   \n",
       "282521         04:57:48  88.42  23.54  0.11  0.04  0.01  272.66  325.11  None   \n",
       "282522         04:57:48  79.76  26.36  0.01  0.01  0.00  105.22    4.91  None   \n",
       "...                 ...    ...    ...   ...   ...   ...     ...     ...   ...   \n",
       "284283  04:57:59.700000  60.25  29.51  6.40  2.21  0.65  314.31  294.95  None   \n",
       "284284  04:57:59.700000  63.23  45.92  3.81  1.20  0.37  257.27  262.77  None   \n",
       "284285  04:57:59.700000  52.42  49.74  3.74  1.48  0.38   12.75  290.79  None   \n",
       "284286  04:57:59.700000  84.26  28.11  1.73  0.54  0.17  260.29  249.13  None   \n",
       "284287  04:57:59.700000  42.19  41.24  2.05  4.00  0.23     NaN     NaN  None   \n",
       "\n",
       "            nflId      displayName  jerseyNumber position  frameId      team  \\\n",
       "282518        NaN         Football           NaN      NaN        1  football   \n",
       "282519  2558830.0    Samson Ebukam          50.0      OLB        1      home   \n",
       "282520  2558183.0     John Johnson          43.0       SS        1      home   \n",
       "282521  2558125.0  Patrick Mahomes          15.0       QB        1      away   \n",
       "282522  2556593.0   Cory Littleton          58.0      ILB        1      home   \n",
       "...           ...              ...           ...      ...      ...       ...   \n",
       "284283  2540204.0     Spencer Ware          32.0       RB      118      away   \n",
       "284284  1037374.0      Sam Shields          37.0       CB      118      home   \n",
       "284285  2553536.0        Troy Hill          32.0       CB      118      home   \n",
       "284286  2558830.0    Samson Ebukam          50.0      OLB      118      home   \n",
       "284287        NaN         Football           NaN      NaN      118  football   \n",
       "\n",
       "            gameId  playId playDirection route  \n",
       "282518  2018111900    5577          left   NaN  \n",
       "282519  2018111900    5577          left   NaN  \n",
       "282520  2018111900    5577          left   NaN  \n",
       "282521  2018111900    5577          left   NaN  \n",
       "282522  2018111900    5577          left   NaN  \n",
       "...            ...     ...           ...   ...  \n",
       "284283  2018111900    5577          left  FLAT  \n",
       "284284  2018111900    5577          left   NaN  \n",
       "284285  2018111900    5577          left   NaN  \n",
       "284286  2018111900    5577          left   NaN  \n",
       "284287  2018111900    5577          left   NaN  \n",
       "\n",
       "[1770 rows x 19 columns]"
      ]
     },
     "execution_count": 52,
     "metadata": {},
     "output_type": "execute_result"
    }
   ],
   "source": [
    "sel_df = df.query('gameId == 2018111900 and playId == 5577')\n",
    "print(f'The shape of the DataFrame is: {sel_df.shape}')\n",
    "sel_df"
   ]
  },
  {
   "cell_type": "markdown",
   "id": "c8b7e1dd",
   "metadata": {
    "papermill": {
     "duration": 0.099801,
     "end_time": "2021-07-15T14:55:50.235952",
     "exception": false,
     "start_time": "2021-07-15T14:55:50.136151",
     "status": "completed"
    },
    "tags": []
   },
   "source": [
    "**Now, let us seperate out the teams as well as the football in the data for plotting.**"
   ]
  },
  {
   "cell_type": "code",
   "execution_count": 53,
   "id": "2b89f81a",
   "metadata": {
    "execution": {
     "iopub.execute_input": "2021-07-15T14:55:50.446807Z",
     "iopub.status.busy": "2021-07-15T14:55:50.443030Z",
     "iopub.status.idle": "2021-07-15T14:55:50.453723Z",
     "shell.execute_reply": "2021-07-15T14:55:50.454273Z",
     "shell.execute_reply.started": "2021-07-15T14:49:40.020016Z"
    },
    "papermill": {
     "duration": 0.119373,
     "end_time": "2021-07-15T14:55:50.454489",
     "exception": false,
     "start_time": "2021-07-15T14:55:50.335116",
     "status": "completed"
    },
    "tags": []
   },
   "outputs": [],
   "source": [
    "home_team = sel_df.query('team == \"home\"')\n",
    "away_team = sel_df.query('team == \"away\"')\n",
    "football = sel_df.query('team == \"football\"')"
   ]
  },
  {
   "cell_type": "code",
   "execution_count": 54,
   "id": "82dfda8d",
   "metadata": {
    "execution": {
     "iopub.execute_input": "2021-07-15T14:55:50.663042Z",
     "iopub.status.busy": "2021-07-15T14:55:50.662122Z",
     "iopub.status.idle": "2021-07-15T14:55:51.382866Z",
     "shell.execute_reply": "2021-07-15T14:55:51.383407Z",
     "shell.execute_reply.started": "2021-07-15T14:49:52.819411Z"
    },
    "papermill": {
     "duration": 0.825725,
     "end_time": "2021-07-15T14:55:51.383595",
     "exception": false,
     "start_time": "2021-07-15T14:55:50.557870",
     "status": "completed"
    },
    "tags": []
   },
   "outputs": [
    {
     "data": {
      "image/png": "[encoded data removed]",
      "text/plain": [
       "<Figure size 864x455.76 with 1 Axes>"
      ]
     },
     "metadata": {
      "needs_background": "light"
     },
     "output_type": "display_data"
    }
   ],
   "source": [
    "fig, ax = create_football_field()\n",
    "home_team.plot(x='x', y='y', kind='scatter', ax=ax, color='blue', s=20, zorder=2)\n",
    "away_team.plot(x='x', y='y', kind='scatter', ax=ax, color='orange', s=20, zorder=2)\n",
    "football.plot(x='x', y='y', kind='scatter', ax=ax, color='brown', s=20, zorder=2)\n",
    "plt.show()"
   ]
  },
  {
   "cell_type": "markdown",
   "id": "ace56d99",
   "metadata": {
    "papermill": {
     "duration": 0.12654,
     "end_time": "2021-07-15T14:55:51.610881",
     "exception": false,
     "start_time": "2021-07-15T14:55:51.484341",
     "status": "completed"
    },
    "tags": []
   },
   "source": [
    "**We can also visualize a specific event by just selecting the event.**"
   ]
  },
  {
   "cell_type": "code",
   "execution_count": 55,
   "id": "8da8f437",
   "metadata": {
    "execution": {
     "iopub.execute_input": "2021-07-15T14:55:51.819527Z",
     "iopub.status.busy": "2021-07-15T14:55:51.818893Z",
     "iopub.status.idle": "2021-07-15T14:55:51.825655Z",
     "shell.execute_reply": "2021-07-15T14:55:51.825075Z",
     "shell.execute_reply.started": "2021-07-15T14:50:19.448784Z"
    },
    "papermill": {
     "duration": 0.110703,
     "end_time": "2021-07-15T14:55:51.825797",
     "exception": false,
     "start_time": "2021-07-15T14:55:51.715094",
     "status": "completed"
    },
    "tags": []
   },
   "outputs": [
    {
     "data": {
      "text/plain": [
       "array(['None', 'ball_snap', 'first_contact', 'pass_forward',\n",
       "       'pass_outcome_interception', 'tackle'], dtype=object)"
      ]
     },
     "execution_count": 55,
     "metadata": {},
     "output_type": "execute_result"
    }
   ],
   "source": [
    "sel_df['event'].unique()"
   ]
  },
  {
   "cell_type": "markdown",
   "id": "4848c1d3",
   "metadata": {
    "papermill": {
     "duration": 0.101788,
     "end_time": "2021-07-15T14:55:52.030592",
     "exception": false,
     "start_time": "2021-07-15T14:55:51.928804",
     "status": "completed"
    },
    "tags": []
   },
   "source": [
    "**Plotting the data for the event of ball_snap, that is, when the quarterback first receives the football**"
   ]
  },
  {
   "cell_type": "code",
   "execution_count": 56,
   "id": "1a102eff",
   "metadata": {
    "execution": {
     "iopub.execute_input": "2021-07-15T14:55:52.258890Z",
     "iopub.status.busy": "2021-07-15T14:55:52.258063Z",
     "iopub.status.idle": "2021-07-15T14:55:52.966312Z",
     "shell.execute_reply": "2021-07-15T14:55:52.965660Z",
     "shell.execute_reply.started": "2021-07-15T14:50:37.877072Z"
    },
    "papermill": {
     "duration": 0.83297,
     "end_time": "2021-07-15T14:55:52.966462",
     "exception": false,
     "start_time": "2021-07-15T14:55:52.133492",
     "status": "completed"
    },
    "tags": []
   },
   "outputs": [
    {
     "data": {
      "image/png": "[encoded data removed]",
      "text/plain": [
       "<Figure size 864x455.76 with 1 Axes>"
      ]
     },
     "metadata": {
      "needs_background": "light"
     },
     "output_type": "display_data"
    }
   ],
   "source": [
    "fig, ax = create_football_field()\n",
    "home_team.query('event == \"ball_snap\"').plot(x='x', y='y', kind='scatter', ax=ax, color='blue', s=20, zorder=2)\n",
    "away_team.query('event == \"ball_snap\"').plot(x='x', y='y', kind='scatter', ax=ax, color='orange', s=20, zorder=2)\n",
    "football.query('event == \"ball_snap\"').plot(x='x', y='y', kind='scatter', ax=ax, color='brown', s=20, zorder=2)\n",
    "plt.show()"
   ]
  }
 ],
 "metadata": {
  "kernelspec": {
   "display_name": "Python 3 (ipykernel)",
   "language": "python",
   "name": "python3"
  },
  "language_info": {
   "codemirror_mode": {
    "name": "ipython",
    "version": 3
   },
   "file_extension": ".py",
   "mimetype": "text/x-python",
   "name": "python",
   "nbconvert_exporter": "python",
   "pygments_lexer": "ipython3",
   "version": "3.11.3"
  },
  "papermill": {
   "default_parameters": {},
   "duration": 45.084938,
   "end_time": "2021-07-15T14:55:54.687964",
   "environment_variables": {},
   "exception": null,
   "input_path": "__notebook__.ipynb",
   "output_path": "__notebook__.ipynb",
   "parameters": {},
   "start_time": "2021-07-15T14:55:09.603026",
   "version": "2.3.3"
  }
 },
 "nbformat": 4,
 "nbformat_minor": 5
}
